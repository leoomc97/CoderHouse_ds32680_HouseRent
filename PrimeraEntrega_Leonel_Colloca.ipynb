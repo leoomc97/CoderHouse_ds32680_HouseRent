{
  "nbformat": 4,
  "nbformat_minor": 0,
  "metadata": {
    "colab": {
      "provenance": [],
      "collapsed_sections": []
    },
    "kernelspec": {
      "name": "python3",
      "display_name": "Python 3"
    },
    "language_info": {
      "name": "python"
    }
  },
  "cells": [
    {
      "cell_type": "markdown",
      "metadata": {
        "id": "6C4lQmgER2YP"
      },
      "source": [
        "\n",
        "\n",
        "#      **Primera pre entrega - Análisis de datos con Python**\n",
        "\n",
        "\n",
        "\n",
        "\n",
        "\n",
        "\n"
      ]
    },
    {
      "cell_type": "markdown",
      "source": [
        "#***Introducción***"
      ],
      "metadata": {
        "id": "9X8cfaGINDgO"
      }
    },
    {
      "cell_type": "markdown",
      "source": [
        "# Contexto\n",
        "La vivienda en la India varía desde los palacios de los antiguos maharajás hasta los modernos edificios de apartamentos en las grandes ciudades y las pequeñas cabañas en las aldeas remotas. Ha habido un enorme crecimiento en el sector de la vivienda de la India a medida que han aumentado los ingresos. La Iniciativa de Medición de Derechos Humanos encuentra que India está haciendo el 60,9% de lo que debería ser posible en su nivel de ingresos por el derecho a la vivienda.\n",
        "\n",
        "El arrendamiento, también conocido como alquiler o alquiler, es un acuerdo en el que se realiza un pago por el uso temporal de un bien, servicio o propiedad de otra persona. Un contrato de arrendamiento bruto es cuando el inquilino paga una cantidad fija de alquiler y el propietario paga todos los cargos de la propiedad en los que incurre regularmente el propietario. El alquiler puede ser un ejemplo de la economía colaborativa.\n",
        "\n",
        "# Contenido\n",
        "En este conjunto de datos, tenemos información sobre casi 4700+ casas/apartamentos/pisos disponibles para alquiler con diferentes parámetros como BHK, alquiler, tamaño, cantidad de pisos, tipo de área, localidad del área, ciudad, estado de mobiliario, tipo de inquilino preferido, N. de Baños, Contacto o tipo de rentador.\n",
        "\n",
        "# Objetivo.\n",
        "Trataremos de comprender cuales son los tipos de variantes que son determinantes para el precio de la vivienda ofertada, podremos seccionarlos y poder diferenciar cuales son las cualidades que seccionan cada vivienda y cuales son las mas conveniente en cuando precio-calidad.\n",
        "\n",
        "\n",
        "# Glosario de conjuntos de datos (por columnas)\n",
        "\n",
        "- BHK : Número de Dormitorios, Salón, Cocina.\n",
        "- Renta : Renta de las Casas/Apartamentos/Piso.\n",
        "- Tamaño : Tamaño de las Casas/Apartamentos/Piso en Pies Cuadrados.\n",
        "- Planta : Casas/Apartamentos/Pisos situados en los que Planta y Número Total de Plantas (Ejemplo: Planta de 2, 3 de 5, etc.)\n",
        "- Tipo de área : Tamaño de las casas/apartamentos/pisos calculado en Superárea o Área alfombrada o Área construida.\n",
        "- Zona Localidad : Localidad de las Casas/Apartamentos/Pisos.\n",
        "- Ciudad : Ciudad donde se ubican las Casas/Apartamentos/Pisos.\n",
        "- Estado de Amueblamiento : Estado de Amueblamiento de las Casas/Apartamentos/Piso, ya sea Amueblado o Semi-Amoblado o Sin Amueblar.\n",
        "- Inquilino Preferido : Tipo de Inquilino Preferido por el Propietario o Agente.\n",
        "- Baño : Número de Baños.\n",
        "- Punto de contacto : ¿A quién debe contactar para obtener más información sobre las casas/apartamentos/pisos?\n",
        "\n"
      ],
      "metadata": {
        "id": "Jomilj71NOyI"
      }
    },
    {
      "cell_type": "markdown",
      "source": [
        "# ***Data Wrangling.***"
      ],
      "metadata": {
        "id": "eu-WeArVi1bf"
      }
    },
    {
      "cell_type": "markdown",
      "metadata": {
        "id": "4Keft47CRhMq"
      },
      "source": [
        "Llamo a las librerias potenciales a utilizar."
      ]
    },
    {
      "cell_type": "code",
      "source": [
        "import matplotlib.pyplot as plt\n",
        "import numpy as np\n",
        "import pandas as pd\n",
        "import seaborn as sns\n",
        "sns.set_theme(style=\"whitegrid\", palette=\"rocket\")\n",
        "%matplotlib inline"
      ],
      "metadata": {
        "id": "e8qUC_aQsE8n"
      },
      "execution_count": 259,
      "outputs": []
    },
    {
      "cell_type": "code",
      "source": [
        "## Cargamos los datos y guardamos en un data frame...\n",
        "from google.colab import drive\n",
        "drive.mount(\"/content/drive\", force_remount=True)\n",
        "\n",
        "df = pd.read_csv('/content/drive/MyDrive/House_Rent_Dataset.csv',index_col=0,sep=';')\n",
        "df.head(5)"
      ],
      "metadata": {
        "colab": {
          "base_uri": "https://localhost:8080/",
          "height": 255
        },
        "id": "5Up4sZHqsG1q",
        "outputId": "4164bc80-0d44-4163-f99d-2a2b7f7358a6"
      },
      "execution_count": 260,
      "outputs": [
        {
          "output_type": "stream",
          "name": "stdout",
          "text": [
            "Mounted at /content/drive\n"
          ]
        },
        {
          "output_type": "execute_result",
          "data": {
            "text/plain": [
              "            BHK   Rent  Size            Floor    Area Type  \\\n",
              "Posted On                                                    \n",
              "18/05/2022    2  10000  1100  Ground out of 2   Super Area   \n",
              "13/05/2022    2  20000   800       1 out of 3   Super Area   \n",
              "16/05/2022    2  17000  1000       1 out of 3   Super Area   \n",
              "04/07/2022    2  10000   800       1 out of 2   Super Area   \n",
              "09/05/2022    2   7500   850       1 out of 2  Carpet Area   \n",
              "\n",
              "                       Area Locality     City Furnishing Status  \\\n",
              "Posted On                                                         \n",
              "18/05/2022                    Bandel  Kolkata       Unfurnished   \n",
              "13/05/2022  Phool Bagan, Kankurgachi  Kolkata    Semi-Furnished   \n",
              "16/05/2022   Salt Lake City Sector 2  Kolkata    Semi-Furnished   \n",
              "04/07/2022               Dumdum Park  Kolkata       Unfurnished   \n",
              "09/05/2022             South Dum Dum  Kolkata       Unfurnished   \n",
              "\n",
              "            Tenant Preferred  Bathroom Point of Contact  \n",
              "Posted On                                                \n",
              "18/05/2022  Bachelors/Family         2    Contact Owner  \n",
              "13/05/2022  Bachelors/Family         1    Contact Owner  \n",
              "16/05/2022  Bachelors/Family         1    Contact Owner  \n",
              "04/07/2022  Bachelors/Family         1    Contact Owner  \n",
              "09/05/2022         Bachelors         1    Contact Owner  "
            ],
            "text/html": [
              "\n",
              "  <div id=\"df-a76f1b4f-3482-4f81-9e2e-7e1a6aa2a9b2\">\n",
              "    <div class=\"colab-df-container\">\n",
              "      <div>\n",
              "<style scoped>\n",
              "    .dataframe tbody tr th:only-of-type {\n",
              "        vertical-align: middle;\n",
              "    }\n",
              "\n",
              "    .dataframe tbody tr th {\n",
              "        vertical-align: top;\n",
              "    }\n",
              "\n",
              "    .dataframe thead th {\n",
              "        text-align: right;\n",
              "    }\n",
              "</style>\n",
              "<table border=\"1\" class=\"dataframe\">\n",
              "  <thead>\n",
              "    <tr style=\"text-align: right;\">\n",
              "      <th></th>\n",
              "      <th>BHK</th>\n",
              "      <th>Rent</th>\n",
              "      <th>Size</th>\n",
              "      <th>Floor</th>\n",
              "      <th>Area Type</th>\n",
              "      <th>Area Locality</th>\n",
              "      <th>City</th>\n",
              "      <th>Furnishing Status</th>\n",
              "      <th>Tenant Preferred</th>\n",
              "      <th>Bathroom</th>\n",
              "      <th>Point of Contact</th>\n",
              "    </tr>\n",
              "    <tr>\n",
              "      <th>Posted On</th>\n",
              "      <th></th>\n",
              "      <th></th>\n",
              "      <th></th>\n",
              "      <th></th>\n",
              "      <th></th>\n",
              "      <th></th>\n",
              "      <th></th>\n",
              "      <th></th>\n",
              "      <th></th>\n",
              "      <th></th>\n",
              "      <th></th>\n",
              "    </tr>\n",
              "  </thead>\n",
              "  <tbody>\n",
              "    <tr>\n",
              "      <th>18/05/2022</th>\n",
              "      <td>2</td>\n",
              "      <td>10000</td>\n",
              "      <td>1100</td>\n",
              "      <td>Ground out of 2</td>\n",
              "      <td>Super Area</td>\n",
              "      <td>Bandel</td>\n",
              "      <td>Kolkata</td>\n",
              "      <td>Unfurnished</td>\n",
              "      <td>Bachelors/Family</td>\n",
              "      <td>2</td>\n",
              "      <td>Contact Owner</td>\n",
              "    </tr>\n",
              "    <tr>\n",
              "      <th>13/05/2022</th>\n",
              "      <td>2</td>\n",
              "      <td>20000</td>\n",
              "      <td>800</td>\n",
              "      <td>1 out of 3</td>\n",
              "      <td>Super Area</td>\n",
              "      <td>Phool Bagan, Kankurgachi</td>\n",
              "      <td>Kolkata</td>\n",
              "      <td>Semi-Furnished</td>\n",
              "      <td>Bachelors/Family</td>\n",
              "      <td>1</td>\n",
              "      <td>Contact Owner</td>\n",
              "    </tr>\n",
              "    <tr>\n",
              "      <th>16/05/2022</th>\n",
              "      <td>2</td>\n",
              "      <td>17000</td>\n",
              "      <td>1000</td>\n",
              "      <td>1 out of 3</td>\n",
              "      <td>Super Area</td>\n",
              "      <td>Salt Lake City Sector 2</td>\n",
              "      <td>Kolkata</td>\n",
              "      <td>Semi-Furnished</td>\n",
              "      <td>Bachelors/Family</td>\n",
              "      <td>1</td>\n",
              "      <td>Contact Owner</td>\n",
              "    </tr>\n",
              "    <tr>\n",
              "      <th>04/07/2022</th>\n",
              "      <td>2</td>\n",
              "      <td>10000</td>\n",
              "      <td>800</td>\n",
              "      <td>1 out of 2</td>\n",
              "      <td>Super Area</td>\n",
              "      <td>Dumdum Park</td>\n",
              "      <td>Kolkata</td>\n",
              "      <td>Unfurnished</td>\n",
              "      <td>Bachelors/Family</td>\n",
              "      <td>1</td>\n",
              "      <td>Contact Owner</td>\n",
              "    </tr>\n",
              "    <tr>\n",
              "      <th>09/05/2022</th>\n",
              "      <td>2</td>\n",
              "      <td>7500</td>\n",
              "      <td>850</td>\n",
              "      <td>1 out of 2</td>\n",
              "      <td>Carpet Area</td>\n",
              "      <td>South Dum Dum</td>\n",
              "      <td>Kolkata</td>\n",
              "      <td>Unfurnished</td>\n",
              "      <td>Bachelors</td>\n",
              "      <td>1</td>\n",
              "      <td>Contact Owner</td>\n",
              "    </tr>\n",
              "  </tbody>\n",
              "</table>\n",
              "</div>\n",
              "      <button class=\"colab-df-convert\" onclick=\"convertToInteractive('df-a76f1b4f-3482-4f81-9e2e-7e1a6aa2a9b2')\"\n",
              "              title=\"Convert this dataframe to an interactive table.\"\n",
              "              style=\"display:none;\">\n",
              "        \n",
              "  <svg xmlns=\"http://www.w3.org/2000/svg\" height=\"24px\"viewBox=\"0 0 24 24\"\n",
              "       width=\"24px\">\n",
              "    <path d=\"M0 0h24v24H0V0z\" fill=\"none\"/>\n",
              "    <path d=\"M18.56 5.44l.94 2.06.94-2.06 2.06-.94-2.06-.94-.94-2.06-.94 2.06-2.06.94zm-11 1L8.5 8.5l.94-2.06 2.06-.94-2.06-.94L8.5 2.5l-.94 2.06-2.06.94zm10 10l.94 2.06.94-2.06 2.06-.94-2.06-.94-.94-2.06-.94 2.06-2.06.94z\"/><path d=\"M17.41 7.96l-1.37-1.37c-.4-.4-.92-.59-1.43-.59-.52 0-1.04.2-1.43.59L10.3 9.45l-7.72 7.72c-.78.78-.78 2.05 0 2.83L4 21.41c.39.39.9.59 1.41.59.51 0 1.02-.2 1.41-.59l7.78-7.78 2.81-2.81c.8-.78.8-2.07 0-2.86zM5.41 20L4 18.59l7.72-7.72 1.47 1.35L5.41 20z\"/>\n",
              "  </svg>\n",
              "      </button>\n",
              "      \n",
              "  <style>\n",
              "    .colab-df-container {\n",
              "      display:flex;\n",
              "      flex-wrap:wrap;\n",
              "      gap: 12px;\n",
              "    }\n",
              "\n",
              "    .colab-df-convert {\n",
              "      background-color: #E8F0FE;\n",
              "      border: none;\n",
              "      border-radius: 50%;\n",
              "      cursor: pointer;\n",
              "      display: none;\n",
              "      fill: #1967D2;\n",
              "      height: 32px;\n",
              "      padding: 0 0 0 0;\n",
              "      width: 32px;\n",
              "    }\n",
              "\n",
              "    .colab-df-convert:hover {\n",
              "      background-color: #E2EBFA;\n",
              "      box-shadow: 0px 1px 2px rgba(60, 64, 67, 0.3), 0px 1px 3px 1px rgba(60, 64, 67, 0.15);\n",
              "      fill: #174EA6;\n",
              "    }\n",
              "\n",
              "    [theme=dark] .colab-df-convert {\n",
              "      background-color: #3B4455;\n",
              "      fill: #D2E3FC;\n",
              "    }\n",
              "\n",
              "    [theme=dark] .colab-df-convert:hover {\n",
              "      background-color: #434B5C;\n",
              "      box-shadow: 0px 1px 3px 1px rgba(0, 0, 0, 0.15);\n",
              "      filter: drop-shadow(0px 1px 2px rgba(0, 0, 0, 0.3));\n",
              "      fill: #FFFFFF;\n",
              "    }\n",
              "  </style>\n",
              "\n",
              "      <script>\n",
              "        const buttonEl =\n",
              "          document.querySelector('#df-a76f1b4f-3482-4f81-9e2e-7e1a6aa2a9b2 button.colab-df-convert');\n",
              "        buttonEl.style.display =\n",
              "          google.colab.kernel.accessAllowed ? 'block' : 'none';\n",
              "\n",
              "        async function convertToInteractive(key) {\n",
              "          const element = document.querySelector('#df-a76f1b4f-3482-4f81-9e2e-7e1a6aa2a9b2');\n",
              "          const dataTable =\n",
              "            await google.colab.kernel.invokeFunction('convertToInteractive',\n",
              "                                                     [key], {});\n",
              "          if (!dataTable) return;\n",
              "\n",
              "          const docLinkHtml = 'Like what you see? Visit the ' +\n",
              "            '<a target=\"_blank\" href=https://colab.research.google.com/notebooks/data_table.ipynb>data table notebook</a>'\n",
              "            + ' to learn more about interactive tables.';\n",
              "          element.innerHTML = '';\n",
              "          dataTable['output_type'] = 'display_data';\n",
              "          await google.colab.output.renderOutput(dataTable, element);\n",
              "          const docLink = document.createElement('div');\n",
              "          docLink.innerHTML = docLinkHtml;\n",
              "          element.appendChild(docLink);\n",
              "        }\n",
              "      </script>\n",
              "    </div>\n",
              "  </div>\n",
              "  "
            ]
          },
          "metadata": {},
          "execution_count": 260
        }
      ]
    },
    {
      "cell_type": "code",
      "source": [
        "df.info()"
      ],
      "metadata": {
        "id": "AXR1LolP5sdq",
        "colab": {
          "base_uri": "https://localhost:8080/"
        },
        "outputId": "96abc4e9-07fb-4d0a-bf70-b31153719ef2"
      },
      "execution_count": 261,
      "outputs": [
        {
          "output_type": "stream",
          "name": "stdout",
          "text": [
            "<class 'pandas.core.frame.DataFrame'>\n",
            "Index: 4746 entries, 18/05/2022 to 04/05/2022\n",
            "Data columns (total 11 columns):\n",
            " #   Column             Non-Null Count  Dtype \n",
            "---  ------             --------------  ----- \n",
            " 0   BHK                4746 non-null   int64 \n",
            " 1   Rent               4746 non-null   int64 \n",
            " 2   Size               4746 non-null   int64 \n",
            " 3   Floor              4746 non-null   object\n",
            " 4   Area Type          4746 non-null   object\n",
            " 5   Area Locality      4746 non-null   object\n",
            " 6   City               4746 non-null   object\n",
            " 7   Furnishing Status  4746 non-null   object\n",
            " 8   Tenant Preferred   4746 non-null   object\n",
            " 9   Bathroom           4746 non-null   int64 \n",
            " 10  Point of Contact   4746 non-null   object\n",
            "dtypes: int64(4), object(7)\n",
            "memory usage: 444.9+ KB\n"
          ]
        }
      ]
    },
    {
      "cell_type": "markdown",
      "source": [
        "Podemos visualizar una tabla que indica el indice de numeros de columnas a la izquierda, nombre de todas la columnas, el numero de datos non-null y ademas el tipo de dato de cada columna. Ademas en la parte final se representa la memoria utilizada."
      ],
      "metadata": {
        "id": "wc-IDOmt5z7r"
      }
    },
    {
      "cell_type": "code",
      "source": [
        "df.columns"
      ],
      "metadata": {
        "id": "brYJ2_z38s-Y",
        "colab": {
          "base_uri": "https://localhost:8080/"
        },
        "outputId": "affba2ce-1624-4a06-ae8f-6a11287a42de"
      },
      "execution_count": 262,
      "outputs": [
        {
          "output_type": "execute_result",
          "data": {
            "text/plain": [
              "Index(['BHK', 'Rent', 'Size', 'Floor', 'Area Type', 'Area Locality', 'City',\n",
              "       'Furnishing Status', 'Tenant Preferred', 'Bathroom',\n",
              "       'Point of Contact'],\n",
              "      dtype='object')"
            ]
          },
          "metadata": {},
          "execution_count": 262
        }
      ]
    },
    {
      "cell_type": "markdown",
      "source": [
        "Podemos visualizar las respectivas columnas del dataset."
      ],
      "metadata": {
        "id": "qaPQEKd98vk2"
      }
    },
    {
      "cell_type": "code",
      "source": [
        "columnas_nulos = df.columns[df.isnull().any()]\n",
        "df[columnas_nulos].isnull().sum()"
      ],
      "metadata": {
        "id": "acPb7TtT6h_1",
        "colab": {
          "base_uri": "https://localhost:8080/"
        },
        "outputId": "f3e2d51c-a41f-4474-e8b7-df8c5419d301"
      },
      "execution_count": 263,
      "outputs": [
        {
          "output_type": "execute_result",
          "data": {
            "text/plain": [
              "Series([], dtype: float64)"
            ]
          },
          "metadata": {},
          "execution_count": 263
        }
      ]
    },
    {
      "cell_type": "code",
      "source": [
        "df.isnull().any()"
      ],
      "metadata": {
        "id": "SMYkAOKa6A_g",
        "colab": {
          "base_uri": "https://localhost:8080/"
        },
        "outputId": "2ce9e1ab-0a93-4421-b600-22310cedba60"
      },
      "execution_count": 264,
      "outputs": [
        {
          "output_type": "execute_result",
          "data": {
            "text/plain": [
              "BHK                  False\n",
              "Rent                 False\n",
              "Size                 False\n",
              "Floor                False\n",
              "Area Type            False\n",
              "Area Locality        False\n",
              "City                 False\n",
              "Furnishing Status    False\n",
              "Tenant Preferred     False\n",
              "Bathroom             False\n",
              "Point of Contact     False\n",
              "dtype: bool"
            ]
          },
          "metadata": {},
          "execution_count": 264
        }
      ]
    },
    {
      "cell_type": "code",
      "source": [
        "df.isna().sum()"
      ],
      "metadata": {
        "id": "HGln1M5n7QdY",
        "colab": {
          "base_uri": "https://localhost:8080/"
        },
        "outputId": "7277c425-e9f7-4441-c8f8-668a6a9119fe"
      },
      "execution_count": 265,
      "outputs": [
        {
          "output_type": "execute_result",
          "data": {
            "text/plain": [
              "BHK                  0\n",
              "Rent                 0\n",
              "Size                 0\n",
              "Floor                0\n",
              "Area Type            0\n",
              "Area Locality        0\n",
              "City                 0\n",
              "Furnishing Status    0\n",
              "Tenant Preferred     0\n",
              "Bathroom             0\n",
              "Point of Contact     0\n",
              "dtype: int64"
            ]
          },
          "metadata": {},
          "execution_count": 265
        }
      ]
    },
    {
      "cell_type": "code",
      "source": [
        "import missingno as msno\n",
        "msno.matrix(df)\n",
        "plt.figure(figsize = (12,6))\n",
        "plt.show()"
      ],
      "metadata": {
        "id": "cNAhzD6988MZ",
        "colab": {
          "base_uri": "https://localhost:8080/",
          "height": 722
        },
        "outputId": "e7114146-986e-47df-dd0c-2793245c1927"
      },
      "execution_count": 266,
      "outputs": [
        {
          "output_type": "display_data",
          "data": {
            "text/plain": [
              "<Figure size 1800x720 with 2 Axes>"
            ],
            "image/png": "[encoded data removed]"
          },
          "metadata": {
            "needs_background": "light"
          }
        },
        {
          "output_type": "display_data",
          "data": {
            "text/plain": [
              "<Figure size 864x432 with 0 Axes>"
            ]
          },
          "metadata": {}
        }
      ]
    },
    {
      "cell_type": "markdown",
      "source": [
        "Con diferentes metodos visualizamos que efectivamente no contamos con valores nulos o faltantes."
      ],
      "metadata": {
        "id": "5e2D0Hzz6oOr"
      }
    },
    {
      "cell_type": "code",
      "source": [
        "df.City.unique()"
      ],
      "metadata": {
        "id": "tVhhBbDx66ZH",
        "colab": {
          "base_uri": "https://localhost:8080/"
        },
        "outputId": "da086045-bd94-4539-8631-e89324cab736"
      },
      "execution_count": 267,
      "outputs": [
        {
          "output_type": "execute_result",
          "data": {
            "text/plain": [
              "array(['Kolkata', 'Mumbai', 'Bangalore', 'Delhi', 'Chennai', 'Hyderabad'],\n",
              "      dtype=object)"
            ]
          },
          "metadata": {},
          "execution_count": 267
        }
      ]
    },
    {
      "cell_type": "markdown",
      "source": [
        "Me parecio interesante visualizar todas las ciudades con ofertas del Dataset."
      ],
      "metadata": {
        "id": "rDDFOhvJ7CSo"
      }
    },
    {
      "cell_type": "markdown",
      "source": [
        "# Limpieza de los datos\n"
      ],
      "metadata": {
        "id": "W-Hj6RwxxgR4"
      }
    },
    {
      "cell_type": "markdown",
      "source": [
        "Durante esta etapa realizaremos distintas operaciones de limpieza de datos sobre el dataset original para adecuar la información y poder realizar el análisis deseado.\n",
        "\n",
        "Se eliminaron las características irrelevantes como la \"Area Locality\", \"Furnishing Status\" y\t\"Tenant Preferred\",\t y se limpiaron los posibles outliers existentes en \"Rent\" y \"Size\" para facilitar nuestro análisis."
      ],
      "metadata": {
        "id": "A6ohoA8Gpdxs"
      }
    },
    {
      "cell_type": "code",
      "source": [
        "df.describe()"
      ],
      "metadata": {
        "colab": {
          "base_uri": "https://localhost:8080/",
          "height": 300
        },
        "id": "t1oqw1fByMoI",
        "outputId": "c8a53149-f26f-401f-fcf9-519d201d8e60"
      },
      "execution_count": 268,
      "outputs": [
        {
          "output_type": "execute_result",
          "data": {
            "text/plain": [
              "               BHK          Rent         Size     Bathroom\n",
              "count  4746.000000  4.746000e+03  4746.000000  4746.000000\n",
              "mean      2.083860  3.499345e+04   967.490729     1.965866\n",
              "std       0.832256  7.810641e+04   634.202328     0.884532\n",
              "min       1.000000  1.200000e+03    10.000000     1.000000\n",
              "25%       2.000000  1.000000e+04   550.000000     1.000000\n",
              "50%       2.000000  1.600000e+04   850.000000     2.000000\n",
              "75%       3.000000  3.300000e+04  1200.000000     2.000000\n",
              "max       6.000000  3.500000e+06  8000.000000    10.000000"
            ],
            "text/html": [
              "\n",
              "  <div id=\"df-2543382b-9df5-4824-bd98-70b1df7e662a\">\n",
              "    <div class=\"colab-df-container\">\n",
              "      <div>\n",
              "<style scoped>\n",
              "    .dataframe tbody tr th:only-of-type {\n",
              "        vertical-align: middle;\n",
              "    }\n",
              "\n",
              "    .dataframe tbody tr th {\n",
              "        vertical-align: top;\n",
              "    }\n",
              "\n",
              "    .dataframe thead th {\n",
              "        text-align: right;\n",
              "    }\n",
              "</style>\n",
              "<table border=\"1\" class=\"dataframe\">\n",
              "  <thead>\n",
              "    <tr style=\"text-align: right;\">\n",
              "      <th></th>\n",
              "      <th>BHK</th>\n",
              "      <th>Rent</th>\n",
              "      <th>Size</th>\n",
              "      <th>Bathroom</th>\n",
              "    </tr>\n",
              "  </thead>\n",
              "  <tbody>\n",
              "    <tr>\n",
              "      <th>count</th>\n",
              "      <td>4746.000000</td>\n",
              "      <td>4.746000e+03</td>\n",
              "      <td>4746.000000</td>\n",
              "      <td>4746.000000</td>\n",
              "    </tr>\n",
              "    <tr>\n",
              "      <th>mean</th>\n",
              "      <td>2.083860</td>\n",
              "      <td>3.499345e+04</td>\n",
              "      <td>967.490729</td>\n",
              "      <td>1.965866</td>\n",
              "    </tr>\n",
              "    <tr>\n",
              "      <th>std</th>\n",
              "      <td>0.832256</td>\n",
              "      <td>7.810641e+04</td>\n",
              "      <td>634.202328</td>\n",
              "      <td>0.884532</td>\n",
              "    </tr>\n",
              "    <tr>\n",
              "      <th>min</th>\n",
              "      <td>1.000000</td>\n",
              "      <td>1.200000e+03</td>\n",
              "      <td>10.000000</td>\n",
              "      <td>1.000000</td>\n",
              "    </tr>\n",
              "    <tr>\n",
              "      <th>25%</th>\n",
              "      <td>2.000000</td>\n",
              "      <td>1.000000e+04</td>\n",
              "      <td>550.000000</td>\n",
              "      <td>1.000000</td>\n",
              "    </tr>\n",
              "    <tr>\n",
              "      <th>50%</th>\n",
              "      <td>2.000000</td>\n",
              "      <td>1.600000e+04</td>\n",
              "      <td>850.000000</td>\n",
              "      <td>2.000000</td>\n",
              "    </tr>\n",
              "    <tr>\n",
              "      <th>75%</th>\n",
              "      <td>3.000000</td>\n",
              "      <td>3.300000e+04</td>\n",
              "      <td>1200.000000</td>\n",
              "      <td>2.000000</td>\n",
              "    </tr>\n",
              "    <tr>\n",
              "      <th>max</th>\n",
              "      <td>6.000000</td>\n",
              "      <td>3.500000e+06</td>\n",
              "      <td>8000.000000</td>\n",
              "      <td>10.000000</td>\n",
              "    </tr>\n",
              "  </tbody>\n",
              "</table>\n",
              "</div>\n",
              "      <button class=\"colab-df-convert\" onclick=\"convertToInteractive('df-2543382b-9df5-4824-bd98-70b1df7e662a')\"\n",
              "              title=\"Convert this dataframe to an interactive table.\"\n",
              "              style=\"display:none;\">\n",
              "        \n",
              "  <svg xmlns=\"http://www.w3.org/2000/svg\" height=\"24px\"viewBox=\"0 0 24 24\"\n",
              "       width=\"24px\">\n",
              "    <path d=\"M0 0h24v24H0V0z\" fill=\"none\"/>\n",
              "    <path d=\"M18.56 5.44l.94 2.06.94-2.06 2.06-.94-2.06-.94-.94-2.06-.94 2.06-2.06.94zm-11 1L8.5 8.5l.94-2.06 2.06-.94-2.06-.94L8.5 2.5l-.94 2.06-2.06.94zm10 10l.94 2.06.94-2.06 2.06-.94-2.06-.94-.94-2.06-.94 2.06-2.06.94z\"/><path d=\"M17.41 7.96l-1.37-1.37c-.4-.4-.92-.59-1.43-.59-.52 0-1.04.2-1.43.59L10.3 9.45l-7.72 7.72c-.78.78-.78 2.05 0 2.83L4 21.41c.39.39.9.59 1.41.59.51 0 1.02-.2 1.41-.59l7.78-7.78 2.81-2.81c.8-.78.8-2.07 0-2.86zM5.41 20L4 18.59l7.72-7.72 1.47 1.35L5.41 20z\"/>\n",
              "  </svg>\n",
              "      </button>\n",
              "      \n",
              "  <style>\n",
              "    .colab-df-container {\n",
              "      display:flex;\n",
              "      flex-wrap:wrap;\n",
              "      gap: 12px;\n",
              "    }\n",
              "\n",
              "    .colab-df-convert {\n",
              "      background-color: #E8F0FE;\n",
              "      border: none;\n",
              "      border-radius: 50%;\n",
              "      cursor: pointer;\n",
              "      display: none;\n",
              "      fill: #1967D2;\n",
              "      height: 32px;\n",
              "      padding: 0 0 0 0;\n",
              "      width: 32px;\n",
              "    }\n",
              "\n",
              "    .colab-df-convert:hover {\n",
              "      background-color: #E2EBFA;\n",
              "      box-shadow: 0px 1px 2px rgba(60, 64, 67, 0.3), 0px 1px 3px 1px rgba(60, 64, 67, 0.15);\n",
              "      fill: #174EA6;\n",
              "    }\n",
              "\n",
              "    [theme=dark] .colab-df-convert {\n",
              "      background-color: #3B4455;\n",
              "      fill: #D2E3FC;\n",
              "    }\n",
              "\n",
              "    [theme=dark] .colab-df-convert:hover {\n",
              "      background-color: #434B5C;\n",
              "      box-shadow: 0px 1px 3px 1px rgba(0, 0, 0, 0.15);\n",
              "      filter: drop-shadow(0px 1px 2px rgba(0, 0, 0, 0.3));\n",
              "      fill: #FFFFFF;\n",
              "    }\n",
              "  </style>\n",
              "\n",
              "      <script>\n",
              "        const buttonEl =\n",
              "          document.querySelector('#df-2543382b-9df5-4824-bd98-70b1df7e662a button.colab-df-convert');\n",
              "        buttonEl.style.display =\n",
              "          google.colab.kernel.accessAllowed ? 'block' : 'none';\n",
              "\n",
              "        async function convertToInteractive(key) {\n",
              "          const element = document.querySelector('#df-2543382b-9df5-4824-bd98-70b1df7e662a');\n",
              "          const dataTable =\n",
              "            await google.colab.kernel.invokeFunction('convertToInteractive',\n",
              "                                                     [key], {});\n",
              "          if (!dataTable) return;\n",
              "\n",
              "          const docLinkHtml = 'Like what you see? Visit the ' +\n",
              "            '<a target=\"_blank\" href=https://colab.research.google.com/notebooks/data_table.ipynb>data table notebook</a>'\n",
              "            + ' to learn more about interactive tables.';\n",
              "          element.innerHTML = '';\n",
              "          dataTable['output_type'] = 'display_data';\n",
              "          await google.colab.output.renderOutput(dataTable, element);\n",
              "          const docLink = document.createElement('div');\n",
              "          docLink.innerHTML = docLinkHtml;\n",
              "          element.appendChild(docLink);\n",
              "        }\n",
              "      </script>\n",
              "    </div>\n",
              "  </div>\n",
              "  "
            ]
          },
          "metadata": {},
          "execution_count": 268
        }
      ]
    },
    {
      "cell_type": "markdown",
      "source": [
        "Analizaremos la variable \"Rent\":\n",
        "\n"
      ],
      "metadata": {
        "id": "k0CRrO35Q5tA"
      }
    },
    {
      "cell_type": "code",
      "source": [
        "df['Rent'].isna().value_counts()"
      ],
      "metadata": {
        "colab": {
          "base_uri": "https://localhost:8080/"
        },
        "id": "mvDqJZ4wsG90",
        "outputId": "c757a370-a698-4fe5-a98c-32bbfb992cea"
      },
      "execution_count": 269,
      "outputs": [
        {
          "output_type": "execute_result",
          "data": {
            "text/plain": [
              "False    4746\n",
              "Name: Rent, dtype: int64"
            ]
          },
          "metadata": {},
          "execution_count": 269
        }
      ]
    },
    {
      "cell_type": "code",
      "source": [
        "df['Rent'].describe()"
      ],
      "metadata": {
        "id": "48vVDUuoPkhQ",
        "outputId": "6759213d-13cd-4967-ca66-fe6a2ade847d",
        "colab": {
          "base_uri": "https://localhost:8080/"
        }
      },
      "execution_count": 270,
      "outputs": [
        {
          "output_type": "execute_result",
          "data": {
            "text/plain": [
              "count    4.746000e+03\n",
              "mean     3.499345e+04\n",
              "std      7.810641e+04\n",
              "min      1.200000e+03\n",
              "25%      1.000000e+04\n",
              "50%      1.600000e+04\n",
              "75%      3.300000e+04\n",
              "max      3.500000e+06\n",
              "Name: Rent, dtype: float64"
            ]
          },
          "metadata": {},
          "execution_count": 270
        }
      ]
    },
    {
      "cell_type": "code",
      "source": [
        "#Se grafica la variable \"Rent\" para detectar outliers porque se observó, con el método describe, que existe un valor outlier de 3500000 muy alejado del resto de valores.\n",
        "fig, ax = plt.subplots(figsize=(12, 4))\n",
        "ax = sns.boxplot(x=\"Rent\", data=df,color='green')               \n",
        "ax.set_ylabel('Valor de vivienda')\n",
        "plt.title('Boxplot de la varible Renta')\n",
        "plt.show()"
      ],
      "metadata": {
        "colab": {
          "base_uri": "https://localhost:8080/",
          "height": 301
        },
        "id": "vOSMLoCltcKl",
        "outputId": "24b8c482-756a-4388-8d58-2da627c1bbbf"
      },
      "execution_count": 271,
      "outputs": [
        {
          "output_type": "display_data",
          "data": {
            "text/plain": [
              "<Figure size 864x288 with 1 Axes>"
            ],
            "image/png": "[encoded data removed]"
          },
          "metadata": {
            "needs_background": "light"
          }
        }
      ]
    },
    {
      "cell_type": "markdown",
      "source": [
        "Podemos observar que en los percentiles superiores hay outliers y los datos no son congruentes, por lo que es necesario realizar alguna corrección."
      ],
      "metadata": {
        "id": "-pjobDzNCCMA"
      }
    },
    {
      "cell_type": "code",
      "source": [
        "#Veremos los Outliers y los analizaremos. Principalmente veremos los percentiles 10 y 90 e iremos cambiando para encontrar los outlier más distorsivos \n",
        "p10 = np.percentile(df['Rent'], 55)\n",
        "p90 = np.percentile(df['Rent'], 90)"
      ],
      "metadata": {
        "id": "fLseKJw2PCzE"
      },
      "execution_count": 272,
      "outputs": []
    },
    {
      "cell_type": "code",
      "source": [
        "dfp10=df[(df['Rent'] <= p10)]\n",
        "dfp10['Rent'].describe()"
      ],
      "metadata": {
        "id": "AGeRFMVCPCoq",
        "outputId": "1047a062-4db0-4553-adbf-8fce03536b6a",
        "colab": {
          "base_uri": "https://localhost:8080/"
        }
      },
      "execution_count": 273,
      "outputs": [
        {
          "output_type": "execute_result",
          "data": {
            "text/plain": [
              "count     2687.000000\n",
              "mean     10938.249721\n",
              "std       3831.458048\n",
              "min       1200.000000\n",
              "25%       8000.000000\n",
              "50%      10500.000000\n",
              "75%      14000.000000\n",
              "max      18000.000000\n",
              "Name: Rent, dtype: float64"
            ]
          },
          "metadata": {},
          "execution_count": 273
        }
      ]
    },
    {
      "cell_type": "code",
      "source": [
        "#Histograma de ingresos del percentil 55\n",
        "sns.histplot(dfp10['Rent'], color='blue',kde=True).set(title='Percentil 55 de \"Rent\" por Cantidad')\n",
        "plt.show()"
      ],
      "metadata": {
        "id": "RNdT4c5hU8kZ",
        "outputId": "1e3ff343-e22c-457d-ec1a-dfe4899ccbf1",
        "colab": {
          "base_uri": "https://localhost:8080/",
          "height": 301
        }
      },
      "execution_count": 274,
      "outputs": [
        {
          "output_type": "display_data",
          "data": {
            "text/plain": [
              "<Figure size 432x288 with 1 Axes>"
            ],
            "image/png": "[encoded data removed]"
          },
          "metadata": {
            "needs_background": "light"
          }
        }
      ]
    },
    {
      "cell_type": "code",
      "source": [
        "dfp90=df[(df['Rent'] >= p90)]\n",
        "dfp90['Rent'].describe()"
      ],
      "metadata": {
        "id": "hSVIIXADQcJQ",
        "outputId": "d0cbf9ec-b3d2-42eb-c6c4-84a99aec56c0",
        "colab": {
          "base_uri": "https://localhost:8080/"
        }
      },
      "execution_count": 275,
      "outputs": [
        {
          "output_type": "execute_result",
          "data": {
            "text/plain": [
              "count    4.790000e+02\n",
              "mean     1.705983e+05\n",
              "std      1.953407e+05\n",
              "min      7.200000e+04\n",
              "25%      9.000000e+04\n",
              "50%      1.300000e+05\n",
              "75%      1.900000e+05\n",
              "max      3.500000e+06\n",
              "Name: Rent, dtype: float64"
            ]
          },
          "metadata": {},
          "execution_count": 275
        }
      ]
    },
    {
      "cell_type": "code",
      "source": [
        "#Histograma de ingresos del percentil 90\n",
        "sns.histplot(dfp90['Rent'],color='blue',kde=True).set(title='Percentil 90 de \"Rent\" por Cantidad')\n",
        "plt.show()"
      ],
      "metadata": {
        "id": "Cs_nal5xWacP",
        "outputId": "6ba5468b-ee30-4b5a-ab0b-bc129095814f",
        "colab": {
          "base_uri": "https://localhost:8080/",
          "height": 301
        }
      },
      "execution_count": 276,
      "outputs": [
        {
          "output_type": "display_data",
          "data": {
            "text/plain": [
              "<Figure size 432x288 with 1 Axes>"
            ],
            "image/png": "[encoded data removed]"
          },
          "metadata": {
            "needs_background": "light"
          }
        }
      ]
    },
    {
      "cell_type": "markdown",
      "source": [
        "Se eliminan los outliers más distorsivos para nuestro analisis"
      ],
      "metadata": {
        "id": "1IecwNJMiN4n"
      }
    },
    {
      "cell_type": "code",
      "source": [
        "df= df[(df['Rent'] >= p10) & (df['Rent'] <= p90)]"
      ],
      "metadata": {
        "id": "5DOv0bAXW5mD"
      },
      "execution_count": 277,
      "outputs": []
    },
    {
      "cell_type": "code",
      "source": [
        "df['Rent'].describe()"
      ],
      "metadata": {
        "colab": {
          "base_uri": "https://localhost:8080/"
        },
        "id": "pfqWySoXtyy3",
        "outputId": "e232f2e1-f093-40c4-c808-3628500f626d"
      },
      "execution_count": 278,
      "outputs": [
        {
          "output_type": "execute_result",
          "data": {
            "text/plain": [
              "count     1713.000000\n",
              "mean     33645.793345\n",
              "std      14218.979397\n",
              "min      18000.000000\n",
              "25%      22000.000000\n",
              "50%      30000.000000\n",
              "75%      42000.000000\n",
              "max      72000.000000\n",
              "Name: Rent, dtype: float64"
            ]
          },
          "metadata": {},
          "execution_count": 278
        }
      ]
    },
    {
      "cell_type": "code",
      "source": [
        "ax = sns.boxplot(y='Rent', data=df,color='green')"
      ],
      "metadata": {
        "id": "linXyiWLQKE0",
        "outputId": "40e195ee-89e1-4e28-ba75-44fc8c143aa7",
        "colab": {
          "base_uri": "https://localhost:8080/",
          "height": 248
        }
      },
      "execution_count": 279,
      "outputs": [
        {
          "output_type": "display_data",
          "data": {
            "text/plain": [
              "<Figure size 432x288 with 1 Axes>"
            ],
            "image/png": "[encoded data removed]"
          },
          "metadata": {
            "needs_background": "light"
          }
        }
      ]
    },
    {
      "cell_type": "code",
      "source": [
        "ax = sns.histplot(df['Rent'],color='blue',kde=True)\n",
        "plt.show()"
      ],
      "metadata": {
        "colab": {
          "base_uri": "https://localhost:8080/",
          "height": 285
        },
        "id": "-6JdpOZ8jN0N",
        "outputId": "e95eeea8-862a-43cb-f036-c871b3aaff93"
      },
      "execution_count": 280,
      "outputs": [
        {
          "output_type": "display_data",
          "data": {
            "text/plain": [
              "<Figure size 432x288 with 1 Axes>"
            ],
            "image/png": "[encoded data removed]"
          },
          "metadata": {
            "needs_background": "light"
          }
        }
      ]
    },
    {
      "cell_type": "markdown",
      "source": [
        "En los gráficos anteriores se observa que se logró obtener un histograma y un boxplot asimétricos que muestran que quedaron limpios de outliers.\n"
      ],
      "metadata": {
        "id": "FFNZolv1_0ti"
      }
    },
    {
      "cell_type": "markdown",
      "source": [
        "Ahora realizaremos un análisis sobre la variable \"Size\":"
      ],
      "metadata": {
        "id": "lMmlieZ8_la3"
      }
    },
    {
      "cell_type": "code",
      "source": [
        "df['Size'].describe()"
      ],
      "metadata": {
        "colab": {
          "base_uri": "https://localhost:8080/"
        },
        "id": "-rO2eLxgZnKR",
        "outputId": "0c9c21e0-63bd-4dfc-adea-281e39e4b733"
      },
      "execution_count": 281,
      "outputs": [
        {
          "output_type": "execute_result",
          "data": {
            "text/plain": [
              "count    1713.000000\n",
              "mean     1099.967309\n",
              "std       580.423262\n",
              "min        25.000000\n",
              "25%       680.000000\n",
              "50%      1000.000000\n",
              "75%      1465.000000\n",
              "max      4200.000000\n",
              "Name: Size, dtype: float64"
            ]
          },
          "metadata": {},
          "execution_count": 281
        }
      ]
    },
    {
      "cell_type": "code",
      "source": [
        "fig, ax = plt.subplots(figsize=(12, 4))\n",
        "ax = sns.boxplot(x=\"Size\", data=df,color='green')               \n",
        "ax.set_ylabel('Tamaño de vivienda')\n",
        "plt.title('Boxplot de la varible \"Size')\n",
        "plt.show()"
      ],
      "metadata": {
        "colab": {
          "base_uri": "https://localhost:8080/",
          "height": 301
        },
        "id": "SaqvFNf6Zx93",
        "outputId": "fc54840e-66c9-4277-ddbf-edaf19c2d6ce"
      },
      "execution_count": 282,
      "outputs": [
        {
          "output_type": "display_data",
          "data": {
            "text/plain": [
              "<Figure size 864x288 with 1 Axes>"
            ],
            "image/png": "[encoded data removed]"
          },
          "metadata": {
            "needs_background": "light"
          }
        }
      ]
    },
    {
      "cell_type": "markdown",
      "source": [
        "Podemos observar que en los percentiles superiores hay outliers y los datos no son congruentes, por lo que es necesario realizar alguna corrección."
      ],
      "metadata": {
        "id": "o4NtWSKfCS1W"
      }
    },
    {
      "cell_type": "code",
      "source": [
        "#Veremos los Outliers y los analizaremos. Principalmente veremos los percentiles 10 y 90 e iremos cambiando para encontrar los outlier más distorsivos \n",
        "p10 = np.percentile(df['Size'], 40)\n",
        "p90 = np.percentile(df['Size'], 60)"
      ],
      "metadata": {
        "id": "jsNNOh14Zr_z"
      },
      "execution_count": 283,
      "outputs": []
    },
    {
      "cell_type": "code",
      "source": [
        "dfp10=df[(df['Size'] <= p10)]\n",
        "dfp10['Size'].describe()"
      ],
      "metadata": {
        "colab": {
          "base_uri": "https://localhost:8080/"
        },
        "id": "kmQkxVzCaHAQ",
        "outputId": "ac305114-9f53-4610-8e36-119c5d95b62b"
      },
      "execution_count": 284,
      "outputs": [
        {
          "output_type": "execute_result",
          "data": {
            "text/plain": [
              "count    732.000000\n",
              "mean     595.852459\n",
              "std      212.975654\n",
              "min       25.000000\n",
              "25%      450.000000\n",
              "50%      645.000000\n",
              "75%      750.000000\n",
              "max      900.000000\n",
              "Name: Size, dtype: float64"
            ]
          },
          "metadata": {},
          "execution_count": 284
        }
      ]
    },
    {
      "cell_type": "code",
      "source": [
        "#Histograma de ingresos del percentil 40\n",
        "sns.histplot(dfp10['Size'], color='blue',kde=True).set(title='Percentil 40 de \"Size\" por Cantidad')\n",
        "plt.show()"
      ],
      "metadata": {
        "outputId": "aa36354c-c97c-4fcb-92f2-c863b372d157",
        "colab": {
          "base_uri": "https://localhost:8080/",
          "height": 301
        },
        "id": "-2djVJECpBmy"
      },
      "execution_count": 285,
      "outputs": [
        {
          "output_type": "display_data",
          "data": {
            "text/plain": [
              "<Figure size 432x288 with 1 Axes>"
            ],
            "image/png": "[encoded data removed]"
          },
          "metadata": {
            "needs_background": "light"
          }
        }
      ]
    },
    {
      "cell_type": "code",
      "source": [
        "dfp90=df[(df['Size'] >= p90)]\n",
        "dfp90['Size'].describe()"
      ],
      "metadata": {
        "colab": {
          "base_uri": "https://localhost:8080/"
        },
        "id": "OL_ggbLgaG9o",
        "outputId": "605aca9c-6bf8-4c9d-e96d-35ea590d0654"
      },
      "execution_count": 286,
      "outputs": [
        {
          "output_type": "execute_result",
          "data": {
            "text/plain": [
              "count     705.000000\n",
              "mean     1648.053901\n",
              "std       451.704446\n",
              "min      1150.000000\n",
              "25%      1300.000000\n",
              "50%      1550.000000\n",
              "75%      1800.000000\n",
              "max      4200.000000\n",
              "Name: Size, dtype: float64"
            ]
          },
          "metadata": {},
          "execution_count": 286
        }
      ]
    },
    {
      "cell_type": "code",
      "source": [
        "#Histograma de ingresos del percentil 60\n",
        "sns.histplot(dfp90['Size'],color='blue',kde=True).set(title='Percentil 60 de \"Size\" por Cantidad')\n",
        "plt.show()"
      ],
      "metadata": {
        "outputId": "87b62b8d-3595-4d8a-f329-55b8d190d600",
        "colab": {
          "base_uri": "https://localhost:8080/",
          "height": 301
        },
        "id": "GszAkmVlpBmy"
      },
      "execution_count": 287,
      "outputs": [
        {
          "output_type": "display_data",
          "data": {
            "text/plain": [
              "<Figure size 432x288 with 1 Axes>"
            ],
            "image/png": "[encoded data removed]"
          },
          "metadata": {
            "needs_background": "light"
          }
        }
      ]
    },
    {
      "cell_type": "code",
      "source": [
        "df= df[(df['Size'] >= p10) & (df['Size'] <= p90)]"
      ],
      "metadata": {
        "id": "hgvNgUuookER"
      },
      "execution_count": 288,
      "outputs": []
    },
    {
      "cell_type": "code",
      "source": [
        "df['Size'].describe()"
      ],
      "metadata": {
        "colab": {
          "base_uri": "https://localhost:8080/"
        },
        "id": "SFA4B3k6cNc3",
        "outputId": "60be8db4-cdce-44cd-8599-87f5f6db1f9c"
      },
      "execution_count": 289,
      "outputs": [
        {
          "output_type": "execute_result",
          "data": {
            "text/plain": [
              "count     353.000000\n",
              "mean     1022.668555\n",
              "std        80.798188\n",
              "min       900.000000\n",
              "25%       950.000000\n",
              "50%      1000.000000\n",
              "75%      1100.000000\n",
              "max      1150.000000\n",
              "Name: Size, dtype: float64"
            ]
          },
          "metadata": {},
          "execution_count": 289
        }
      ]
    },
    {
      "cell_type": "markdown",
      "source": [
        "Se eliminan los outliers más distorsivos para nuestro analisis"
      ],
      "metadata": {
        "id": "dQqeXYXLBp9Y"
      }
    },
    {
      "cell_type": "code",
      "source": [
        "ax = sns.boxplot(y='Size', data=df,color='green')"
      ],
      "metadata": {
        "id": "eVlb9J3aaGSZ",
        "colab": {
          "base_uri": "https://localhost:8080/",
          "height": 248
        },
        "outputId": "814c00d7-ec9f-4c35-b2fc-9d0e3a19474b"
      },
      "execution_count": 290,
      "outputs": [
        {
          "output_type": "display_data",
          "data": {
            "text/plain": [
              "<Figure size 432x288 with 1 Axes>"
            ],
            "image/png": "[encoded data removed]"
          },
          "metadata": {
            "needs_background": "light"
          }
        }
      ]
    },
    {
      "cell_type": "code",
      "source": [
        "ax = sns.histplot(df['Size'],color='blue',kde=True)\n",
        "plt.show()"
      ],
      "metadata": {
        "colab": {
          "base_uri": "https://localhost:8080/",
          "height": 285
        },
        "outputId": "88400666-f8f6-4031-e5c4-f0b95d1eea63",
        "id": "RLzRsWCkokER"
      },
      "execution_count": 291,
      "outputs": [
        {
          "output_type": "display_data",
          "data": {
            "text/plain": [
              "<Figure size 432x288 with 1 Axes>"
            ],
            "image/png": "[encoded data removed]"
          },
          "metadata": {
            "needs_background": "light"
          }
        }
      ]
    },
    {
      "cell_type": "markdown",
      "source": [
        "En los gráficos anteriores se observa que se logró obtener un histograma y un boxplot simétricos que muestran que quedaron limpios de outliers.\n"
      ],
      "metadata": {
        "id": "XytnnviaBp9Z"
      }
    },
    {
      "cell_type": "markdown",
      "source": [
        "Se observa que las características 'Posted On', 'Area Locality' y 'Tenant Preferred' no se cuentan con información relevante que influya en el precio de la vivienda. Por este motivo se procede a eliminarlos del dataset.\n",
        "\n",
        "Se procedió a resetear el índice del dataset para luego eliminar la columna 'Posted On."
      ],
      "metadata": {
        "id": "71MImnIICsi5"
      }
    },
    {
      "cell_type": "code",
      "source": [
        "df=df.reset_index()\n",
        "df.drop(['Posted On','Area Locality','Tenant Preferred'], axis = 1,  inplace = True)"
      ],
      "metadata": {
        "id": "9MTALsYyTBPZ"
      },
      "execution_count": 292,
      "outputs": []
    },
    {
      "cell_type": "code",
      "source": [
        "df.head(5)"
      ],
      "metadata": {
        "colab": {
          "base_uri": "https://localhost:8080/",
          "height": 206
        },
        "id": "9tOE8Em7afAy",
        "outputId": "198e97bd-8993-4508-95ff-a65f18c6ad5a"
      },
      "execution_count": 293,
      "outputs": [
        {
          "output_type": "execute_result",
          "data": {
            "text/plain": [
              "   BHK   Rent  Size       Floor    Area Type     City Furnishing Status  \\\n",
              "0    3  22000  1100  2 out of 3  Carpet Area  Kolkata       Unfurnished   \n",
              "1    2  21000   900  1 out of 2  Carpet Area  Kolkata    Semi-Furnished   \n",
              "2    6  20000  1000  1 out of 1   Super Area  Kolkata    Semi-Furnished   \n",
              "3    2  20000  1000  1 out of 2   Super Area  Kolkata         Furnished   \n",
              "4    2  25000  1100  2 out of 2   Super Area  Kolkata         Furnished   \n",
              "\n",
              "   Bathroom Point of Contact  \n",
              "0         1    Contact Owner  \n",
              "1         2    Contact Owner  \n",
              "2         2    Contact Owner  \n",
              "3         2    Contact Owner  \n",
              "4         2    Contact Agent  "
            ],
            "text/html": [
              "\n",
              "  <div id=\"df-ee6cf3f8-2d58-4fd1-b9e2-c8318a349fd0\">\n",
              "    <div class=\"colab-df-container\">\n",
              "      <div>\n",
              "<style scoped>\n",
              "    .dataframe tbody tr th:only-of-type {\n",
              "        vertical-align: middle;\n",
              "    }\n",
              "\n",
              "    .dataframe tbody tr th {\n",
              "        vertical-align: top;\n",
              "    }\n",
              "\n",
              "    .dataframe thead th {\n",
              "        text-align: right;\n",
              "    }\n",
              "</style>\n",
              "<table border=\"1\" class=\"dataframe\">\n",
              "  <thead>\n",
              "    <tr style=\"text-align: right;\">\n",
              "      <th></th>\n",
              "      <th>BHK</th>\n",
              "      <th>Rent</th>\n",
              "      <th>Size</th>\n",
              "      <th>Floor</th>\n",
              "      <th>Area Type</th>\n",
              "      <th>City</th>\n",
              "      <th>Furnishing Status</th>\n",
              "      <th>Bathroom</th>\n",
              "      <th>Point of Contact</th>\n",
              "    </tr>\n",
              "  </thead>\n",
              "  <tbody>\n",
              "    <tr>\n",
              "      <th>0</th>\n",
              "      <td>3</td>\n",
              "      <td>22000</td>\n",
              "      <td>1100</td>\n",
              "      <td>2 out of 3</td>\n",
              "      <td>Carpet Area</td>\n",
              "      <td>Kolkata</td>\n",
              "      <td>Unfurnished</td>\n",
              "      <td>1</td>\n",
              "      <td>Contact Owner</td>\n",
              "    </tr>\n",
              "    <tr>\n",
              "      <th>1</th>\n",
              "      <td>2</td>\n",
              "      <td>21000</td>\n",
              "      <td>900</td>\n",
              "      <td>1 out of 2</td>\n",
              "      <td>Carpet Area</td>\n",
              "      <td>Kolkata</td>\n",
              "      <td>Semi-Furnished</td>\n",
              "      <td>2</td>\n",
              "      <td>Contact Owner</td>\n",
              "    </tr>\n",
              "    <tr>\n",
              "      <th>2</th>\n",
              "      <td>6</td>\n",
              "      <td>20000</td>\n",
              "      <td>1000</td>\n",
              "      <td>1 out of 1</td>\n",
              "      <td>Super Area</td>\n",
              "      <td>Kolkata</td>\n",
              "      <td>Semi-Furnished</td>\n",
              "      <td>2</td>\n",
              "      <td>Contact Owner</td>\n",
              "    </tr>\n",
              "    <tr>\n",
              "      <th>3</th>\n",
              "      <td>2</td>\n",
              "      <td>20000</td>\n",
              "      <td>1000</td>\n",
              "      <td>1 out of 2</td>\n",
              "      <td>Super Area</td>\n",
              "      <td>Kolkata</td>\n",
              "      <td>Furnished</td>\n",
              "      <td>2</td>\n",
              "      <td>Contact Owner</td>\n",
              "    </tr>\n",
              "    <tr>\n",
              "      <th>4</th>\n",
              "      <td>2</td>\n",
              "      <td>25000</td>\n",
              "      <td>1100</td>\n",
              "      <td>2 out of 2</td>\n",
              "      <td>Super Area</td>\n",
              "      <td>Kolkata</td>\n",
              "      <td>Furnished</td>\n",
              "      <td>2</td>\n",
              "      <td>Contact Agent</td>\n",
              "    </tr>\n",
              "  </tbody>\n",
              "</table>\n",
              "</div>\n",
              "      <button class=\"colab-df-convert\" onclick=\"convertToInteractive('df-ee6cf3f8-2d58-4fd1-b9e2-c8318a349fd0')\"\n",
              "              title=\"Convert this dataframe to an interactive table.\"\n",
              "              style=\"display:none;\">\n",
              "        \n",
              "  <svg xmlns=\"http://www.w3.org/2000/svg\" height=\"24px\"viewBox=\"0 0 24 24\"\n",
              "       width=\"24px\">\n",
              "    <path d=\"M0 0h24v24H0V0z\" fill=\"none\"/>\n",
              "    <path d=\"M18.56 5.44l.94 2.06.94-2.06 2.06-.94-2.06-.94-.94-2.06-.94 2.06-2.06.94zm-11 1L8.5 8.5l.94-2.06 2.06-.94-2.06-.94L8.5 2.5l-.94 2.06-2.06.94zm10 10l.94 2.06.94-2.06 2.06-.94-2.06-.94-.94-2.06-.94 2.06-2.06.94z\"/><path d=\"M17.41 7.96l-1.37-1.37c-.4-.4-.92-.59-1.43-.59-.52 0-1.04.2-1.43.59L10.3 9.45l-7.72 7.72c-.78.78-.78 2.05 0 2.83L4 21.41c.39.39.9.59 1.41.59.51 0 1.02-.2 1.41-.59l7.78-7.78 2.81-2.81c.8-.78.8-2.07 0-2.86zM5.41 20L4 18.59l7.72-7.72 1.47 1.35L5.41 20z\"/>\n",
              "  </svg>\n",
              "      </button>\n",
              "      \n",
              "  <style>\n",
              "    .colab-df-container {\n",
              "      display:flex;\n",
              "      flex-wrap:wrap;\n",
              "      gap: 12px;\n",
              "    }\n",
              "\n",
              "    .colab-df-convert {\n",
              "      background-color: #E8F0FE;\n",
              "      border: none;\n",
              "      border-radius: 50%;\n",
              "      cursor: pointer;\n",
              "      display: none;\n",
              "      fill: #1967D2;\n",
              "      height: 32px;\n",
              "      padding: 0 0 0 0;\n",
              "      width: 32px;\n",
              "    }\n",
              "\n",
              "    .colab-df-convert:hover {\n",
              "      background-color: #E2EBFA;\n",
              "      box-shadow: 0px 1px 2px rgba(60, 64, 67, 0.3), 0px 1px 3px 1px rgba(60, 64, 67, 0.15);\n",
              "      fill: #174EA6;\n",
              "    }\n",
              "\n",
              "    [theme=dark] .colab-df-convert {\n",
              "      background-color: #3B4455;\n",
              "      fill: #D2E3FC;\n",
              "    }\n",
              "\n",
              "    [theme=dark] .colab-df-convert:hover {\n",
              "      background-color: #434B5C;\n",
              "      box-shadow: 0px 1px 3px 1px rgba(0, 0, 0, 0.15);\n",
              "      filter: drop-shadow(0px 1px 2px rgba(0, 0, 0, 0.3));\n",
              "      fill: #FFFFFF;\n",
              "    }\n",
              "  </style>\n",
              "\n",
              "      <script>\n",
              "        const buttonEl =\n",
              "          document.querySelector('#df-ee6cf3f8-2d58-4fd1-b9e2-c8318a349fd0 button.colab-df-convert');\n",
              "        buttonEl.style.display =\n",
              "          google.colab.kernel.accessAllowed ? 'block' : 'none';\n",
              "\n",
              "        async function convertToInteractive(key) {\n",
              "          const element = document.querySelector('#df-ee6cf3f8-2d58-4fd1-b9e2-c8318a349fd0');\n",
              "          const dataTable =\n",
              "            await google.colab.kernel.invokeFunction('convertToInteractive',\n",
              "                                                     [key], {});\n",
              "          if (!dataTable) return;\n",
              "\n",
              "          const docLinkHtml = 'Like what you see? Visit the ' +\n",
              "            '<a target=\"_blank\" href=https://colab.research.google.com/notebooks/data_table.ipynb>data table notebook</a>'\n",
              "            + ' to learn more about interactive tables.';\n",
              "          element.innerHTML = '';\n",
              "          dataTable['output_type'] = 'display_data';\n",
              "          await google.colab.output.renderOutput(dataTable, element);\n",
              "          const docLink = document.createElement('div');\n",
              "          docLink.innerHTML = docLinkHtml;\n",
              "          element.appendChild(docLink);\n",
              "        }\n",
              "      </script>\n",
              "    </div>\n",
              "  </div>\n",
              "  "
            ]
          },
          "metadata": {},
          "execution_count": 293
        }
      ]
    },
    {
      "cell_type": "code",
      "source": [
        "df.shape"
      ],
      "metadata": {
        "colab": {
          "base_uri": "https://localhost:8080/"
        },
        "id": "bQcGetuSa65c",
        "outputId": "84793e0b-ed18-4644-c7b9-8080f0adc3a4"
      },
      "execution_count": 294,
      "outputs": [
        {
          "output_type": "execute_result",
          "data": {
            "text/plain": [
              "(353, 9)"
            ]
          },
          "metadata": {},
          "execution_count": 294
        }
      ]
    },
    {
      "cell_type": "code",
      "source": [
        "data=pd.get_dummies(df, columns=None)"
      ],
      "metadata": {
        "id": "3W08dkpvZAaS"
      },
      "execution_count": 295,
      "outputs": []
    },
    {
      "cell_type": "markdown",
      "source": [
        "Finalmente obtenemos el dataset con información relevante que utilizaremos para nuestro analisis.\n",
        "Se puede aprecinar una notable reducción de datos y características en comparación con el dataset original."
      ],
      "metadata": {
        "id": "uDpJ3zWuIsOe"
      }
    },
    {
      "cell_type": "code",
      "source": [
        "data"
      ],
      "metadata": {
        "colab": {
          "base_uri": "https://localhost:8080/",
          "height": 522
        },
        "id": "OlfzhITfbfEu",
        "outputId": "35186c9b-af24-4da0-d544-b350987095cb"
      },
      "execution_count": 296,
      "outputs": [
        {
          "output_type": "execute_result",
          "data": {
            "text/plain": [
              "     BHK   Rent  Size  Bathroom  Floor_1 out of 1  Floor_1 out of 10  \\\n",
              "0      3  22000  1100         1                 0                  0   \n",
              "1      2  21000   900         2                 0                  0   \n",
              "2      6  20000  1000         2                 1                  0   \n",
              "3      2  20000  1000         2                 0                  0   \n",
              "4      2  25000  1100         2                 0                  0   \n",
              "..   ...    ...   ...       ...               ...                ...   \n",
              "348    2  18000  1150         2                 0                  0   \n",
              "349    2  19000  1124         2                 0                  0   \n",
              "350    2  30000  1140         2                 0                  0   \n",
              "351    3  20000  1100         3                 0                  0   \n",
              "352    2  25000  1040         2                 0                  0   \n",
              "\n",
              "     Floor_1 out of 11  Floor_1 out of 12  Floor_1 out of 2  \\\n",
              "0                    0                  0                 0   \n",
              "1                    0                  0                 1   \n",
              "2                    0                  0                 0   \n",
              "3                    0                  0                 1   \n",
              "4                    0                  0                 0   \n",
              "..                 ...                ...               ...   \n",
              "348                  0                  0                 0   \n",
              "349                  0                  0                 0   \n",
              "350                  0                  0                 0   \n",
              "351                  0                  0                 0   \n",
              "352                  0                  0                 0   \n",
              "\n",
              "     Floor_1 out of 24  ...  City_Chennai  City_Delhi  City_Hyderabad  \\\n",
              "0                    0  ...             0           0               0   \n",
              "1                    0  ...             0           0               0   \n",
              "2                    0  ...             0           0               0   \n",
              "3                    0  ...             0           0               0   \n",
              "4                    0  ...             0           0               0   \n",
              "..                 ...  ...           ...         ...             ...   \n",
              "348                  0  ...             0           0               1   \n",
              "349                  0  ...             0           0               1   \n",
              "350                  0  ...             0           0               1   \n",
              "351                  0  ...             0           0               1   \n",
              "352                  0  ...             0           0               1   \n",
              "\n",
              "     City_Kolkata  City_Mumbai  Furnishing Status_Furnished  \\\n",
              "0               1            0                            0   \n",
              "1               1            0                            0   \n",
              "2               1            0                            0   \n",
              "3               1            0                            1   \n",
              "4               1            0                            1   \n",
              "..            ...          ...                          ...   \n",
              "348             0            0                            0   \n",
              "349             0            0                            1   \n",
              "350             0            0                            1   \n",
              "351             0            0                            0   \n",
              "352             0            0                            0   \n",
              "\n",
              "     Furnishing Status_Semi-Furnished  Furnishing Status_Unfurnished  \\\n",
              "0                                   0                              1   \n",
              "1                                   1                              0   \n",
              "2                                   1                              0   \n",
              "3                                   0                              0   \n",
              "4                                   0                              0   \n",
              "..                                ...                            ...   \n",
              "348                                 1                              0   \n",
              "349                                 0                              0   \n",
              "350                                 0                              0   \n",
              "351                                 1                              0   \n",
              "352                                 0                              1   \n",
              "\n",
              "     Point of Contact_Contact Agent  Point of Contact_Contact Owner  \n",
              "0                                 0                               1  \n",
              "1                                 0                               1  \n",
              "2                                 0                               1  \n",
              "3                                 0                               1  \n",
              "4                                 1                               0  \n",
              "..                              ...                             ...  \n",
              "348                               0                               1  \n",
              "349                               0                               1  \n",
              "350                               0                               1  \n",
              "351                               0                               1  \n",
              "352                               0                               1  \n",
              "\n",
              "[353 rows x 132 columns]"
            ],
            "text/html": [
              "\n",
              "  <div id=\"df-456fb6ad-412b-4450-b2a8-94fa9a685d89\">\n",
              "    <div class=\"colab-df-container\">\n",
              "      <div>\n",
              "<style scoped>\n",
              "    .dataframe tbody tr th:only-of-type {\n",
              "        vertical-align: middle;\n",
              "    }\n",
              "\n",
              "    .dataframe tbody tr th {\n",
              "        vertical-align: top;\n",
              "    }\n",
              "\n",
              "    .dataframe thead th {\n",
              "        text-align: right;\n",
              "    }\n",
              "</style>\n",
              "<table border=\"1\" class=\"dataframe\">\n",
              "  <thead>\n",
              "    <tr style=\"text-align: right;\">\n",
              "      <th></th>\n",
              "      <th>BHK</th>\n",
              "      <th>Rent</th>\n",
              "      <th>Size</th>\n",
              "      <th>Bathroom</th>\n",
              "      <th>Floor_1 out of 1</th>\n",
              "      <th>Floor_1 out of 10</th>\n",
              "      <th>Floor_1 out of 11</th>\n",
              "      <th>Floor_1 out of 12</th>\n",
              "      <th>Floor_1 out of 2</th>\n",
              "      <th>Floor_1 out of 24</th>\n",
              "      <th>...</th>\n",
              "      <th>City_Chennai</th>\n",
              "      <th>City_Delhi</th>\n",
              "      <th>City_Hyderabad</th>\n",
              "      <th>City_Kolkata</th>\n",
              "      <th>City_Mumbai</th>\n",
              "      <th>Furnishing Status_Furnished</th>\n",
              "      <th>Furnishing Status_Semi-Furnished</th>\n",
              "      <th>Furnishing Status_Unfurnished</th>\n",
              "      <th>Point of Contact_Contact Agent</th>\n",
              "      <th>Point of Contact_Contact Owner</th>\n",
              "    </tr>\n",
              "  </thead>\n",
              "  <tbody>\n",
              "    <tr>\n",
              "      <th>0</th>\n",
              "      <td>3</td>\n",
              "      <td>22000</td>\n",
              "      <td>1100</td>\n",
              "      <td>1</td>\n",
              "      <td>0</td>\n",
              "      <td>0</td>\n",
              "      <td>0</td>\n",
              "      <td>0</td>\n",
              "      <td>0</td>\n",
              "      <td>0</td>\n",
              "      <td>...</td>\n",
              "      <td>0</td>\n",
              "      <td>0</td>\n",
              "      <td>0</td>\n",
              "      <td>1</td>\n",
              "      <td>0</td>\n",
              "      <td>0</td>\n",
              "      <td>0</td>\n",
              "      <td>1</td>\n",
              "      <td>0</td>\n",
              "      <td>1</td>\n",
              "    </tr>\n",
              "    <tr>\n",
              "      <th>1</th>\n",
              "      <td>2</td>\n",
              "      <td>21000</td>\n",
              "      <td>900</td>\n",
              "      <td>2</td>\n",
              "      <td>0</td>\n",
              "      <td>0</td>\n",
              "      <td>0</td>\n",
              "      <td>0</td>\n",
              "      <td>1</td>\n",
              "      <td>0</td>\n",
              "      <td>...</td>\n",
              "      <td>0</td>\n",
              "      <td>0</td>\n",
              "      <td>0</td>\n",
              "      <td>1</td>\n",
              "      <td>0</td>\n",
              "      <td>0</td>\n",
              "      <td>1</td>\n",
              "      <td>0</td>\n",
              "      <td>0</td>\n",
              "      <td>1</td>\n",
              "    </tr>\n",
              "    <tr>\n",
              "      <th>2</th>\n",
              "      <td>6</td>\n",
              "      <td>20000</td>\n",
              "      <td>1000</td>\n",
              "      <td>2</td>\n",
              "      <td>1</td>\n",
              "      <td>0</td>\n",
              "      <td>0</td>\n",
              "      <td>0</td>\n",
              "      <td>0</td>\n",
              "      <td>0</td>\n",
              "      <td>...</td>\n",
              "      <td>0</td>\n",
              "      <td>0</td>\n",
              "      <td>0</td>\n",
              "      <td>1</td>\n",
              "      <td>0</td>\n",
              "      <td>0</td>\n",
              "      <td>1</td>\n",
              "      <td>0</td>\n",
              "      <td>0</td>\n",
              "      <td>1</td>\n",
              "    </tr>\n",
              "    <tr>\n",
              "      <th>3</th>\n",
              "      <td>2</td>\n",
              "      <td>20000</td>\n",
              "      <td>1000</td>\n",
              "      <td>2</td>\n",
              "      <td>0</td>\n",
              "      <td>0</td>\n",
              "      <td>0</td>\n",
              "      <td>0</td>\n",
              "      <td>1</td>\n",
              "      <td>0</td>\n",
              "      <td>...</td>\n",
              "      <td>0</td>\n",
              "      <td>0</td>\n",
              "      <td>0</td>\n",
              "      <td>1</td>\n",
              "      <td>0</td>\n",
              "      <td>1</td>\n",
              "      <td>0</td>\n",
              "      <td>0</td>\n",
              "      <td>0</td>\n",
              "      <td>1</td>\n",
              "    </tr>\n",
              "    <tr>\n",
              "      <th>4</th>\n",
              "      <td>2</td>\n",
              "      <td>25000</td>\n",
              "      <td>1100</td>\n",
              "      <td>2</td>\n",
              "      <td>0</td>\n",
              "      <td>0</td>\n",
              "      <td>0</td>\n",
              "      <td>0</td>\n",
              "      <td>0</td>\n",
              "      <td>0</td>\n",
              "      <td>...</td>\n",
              "      <td>0</td>\n",
              "      <td>0</td>\n",
              "      <td>0</td>\n",
              "      <td>1</td>\n",
              "      <td>0</td>\n",
              "      <td>1</td>\n",
              "      <td>0</td>\n",
              "      <td>0</td>\n",
              "      <td>1</td>\n",
              "      <td>0</td>\n",
              "    </tr>\n",
              "    <tr>\n",
              "      <th>...</th>\n",
              "      <td>...</td>\n",
              "      <td>...</td>\n",
              "      <td>...</td>\n",
              "      <td>...</td>\n",
              "      <td>...</td>\n",
              "      <td>...</td>\n",
              "      <td>...</td>\n",
              "      <td>...</td>\n",
              "      <td>...</td>\n",
              "      <td>...</td>\n",
              "      <td>...</td>\n",
              "      <td>...</td>\n",
              "      <td>...</td>\n",
              "      <td>...</td>\n",
              "      <td>...</td>\n",
              "      <td>...</td>\n",
              "      <td>...</td>\n",
              "      <td>...</td>\n",
              "      <td>...</td>\n",
              "      <td>...</td>\n",
              "      <td>...</td>\n",
              "    </tr>\n",
              "    <tr>\n",
              "      <th>348</th>\n",
              "      <td>2</td>\n",
              "      <td>18000</td>\n",
              "      <td>1150</td>\n",
              "      <td>2</td>\n",
              "      <td>0</td>\n",
              "      <td>0</td>\n",
              "      <td>0</td>\n",
              "      <td>0</td>\n",
              "      <td>0</td>\n",
              "      <td>0</td>\n",
              "      <td>...</td>\n",
              "      <td>0</td>\n",
              "      <td>0</td>\n",
              "      <td>1</td>\n",
              "      <td>0</td>\n",
              "      <td>0</td>\n",
              "      <td>0</td>\n",
              "      <td>1</td>\n",
              "      <td>0</td>\n",
              "      <td>0</td>\n",
              "      <td>1</td>\n",
              "    </tr>\n",
              "    <tr>\n",
              "      <th>349</th>\n",
              "      <td>2</td>\n",
              "      <td>19000</td>\n",
              "      <td>1124</td>\n",
              "      <td>2</td>\n",
              "      <td>0</td>\n",
              "      <td>0</td>\n",
              "      <td>0</td>\n",
              "      <td>0</td>\n",
              "      <td>0</td>\n",
              "      <td>0</td>\n",
              "      <td>...</td>\n",
              "      <td>0</td>\n",
              "      <td>0</td>\n",
              "      <td>1</td>\n",
              "      <td>0</td>\n",
              "      <td>0</td>\n",
              "      <td>1</td>\n",
              "      <td>0</td>\n",
              "      <td>0</td>\n",
              "      <td>0</td>\n",
              "      <td>1</td>\n",
              "    </tr>\n",
              "    <tr>\n",
              "      <th>350</th>\n",
              "      <td>2</td>\n",
              "      <td>30000</td>\n",
              "      <td>1140</td>\n",
              "      <td>2</td>\n",
              "      <td>0</td>\n",
              "      <td>0</td>\n",
              "      <td>0</td>\n",
              "      <td>0</td>\n",
              "      <td>0</td>\n",
              "      <td>0</td>\n",
              "      <td>...</td>\n",
              "      <td>0</td>\n",
              "      <td>0</td>\n",
              "      <td>1</td>\n",
              "      <td>0</td>\n",
              "      <td>0</td>\n",
              "      <td>1</td>\n",
              "      <td>0</td>\n",
              "      <td>0</td>\n",
              "      <td>0</td>\n",
              "      <td>1</td>\n",
              "    </tr>\n",
              "    <tr>\n",
              "      <th>351</th>\n",
              "      <td>3</td>\n",
              "      <td>20000</td>\n",
              "      <td>1100</td>\n",
              "      <td>3</td>\n",
              "      <td>0</td>\n",
              "      <td>0</td>\n",
              "      <td>0</td>\n",
              "      <td>0</td>\n",
              "      <td>0</td>\n",
              "      <td>0</td>\n",
              "      <td>...</td>\n",
              "      <td>0</td>\n",
              "      <td>0</td>\n",
              "      <td>1</td>\n",
              "      <td>0</td>\n",
              "      <td>0</td>\n",
              "      <td>0</td>\n",
              "      <td>1</td>\n",
              "      <td>0</td>\n",
              "      <td>0</td>\n",
              "      <td>1</td>\n",
              "    </tr>\n",
              "    <tr>\n",
              "      <th>352</th>\n",
              "      <td>2</td>\n",
              "      <td>25000</td>\n",
              "      <td>1040</td>\n",
              "      <td>2</td>\n",
              "      <td>0</td>\n",
              "      <td>0</td>\n",
              "      <td>0</td>\n",
              "      <td>0</td>\n",
              "      <td>0</td>\n",
              "      <td>0</td>\n",
              "      <td>...</td>\n",
              "      <td>0</td>\n",
              "      <td>0</td>\n",
              "      <td>1</td>\n",
              "      <td>0</td>\n",
              "      <td>0</td>\n",
              "      <td>0</td>\n",
              "      <td>0</td>\n",
              "      <td>1</td>\n",
              "      <td>0</td>\n",
              "      <td>1</td>\n",
              "    </tr>\n",
              "  </tbody>\n",
              "</table>\n",
              "<p>353 rows × 132 columns</p>\n",
              "</div>\n",
              "      <button class=\"colab-df-convert\" onclick=\"convertToInteractive('df-456fb6ad-412b-4450-b2a8-94fa9a685d89')\"\n",
              "              title=\"Convert this dataframe to an interactive table.\"\n",
              "              style=\"display:none;\">\n",
              "        \n",
              "  <svg xmlns=\"http://www.w3.org/2000/svg\" height=\"24px\"viewBox=\"0 0 24 24\"\n",
              "       width=\"24px\">\n",
              "    <path d=\"M0 0h24v24H0V0z\" fill=\"none\"/>\n",
              "    <path d=\"M18.56 5.44l.94 2.06.94-2.06 2.06-.94-2.06-.94-.94-2.06-.94 2.06-2.06.94zm-11 1L8.5 8.5l.94-2.06 2.06-.94-2.06-.94L8.5 2.5l-.94 2.06-2.06.94zm10 10l.94 2.06.94-2.06 2.06-.94-2.06-.94-.94-2.06-.94 2.06-2.06.94z\"/><path d=\"M17.41 7.96l-1.37-1.37c-.4-.4-.92-.59-1.43-.59-.52 0-1.04.2-1.43.59L10.3 9.45l-7.72 7.72c-.78.78-.78 2.05 0 2.83L4 21.41c.39.39.9.59 1.41.59.51 0 1.02-.2 1.41-.59l7.78-7.78 2.81-2.81c.8-.78.8-2.07 0-2.86zM5.41 20L4 18.59l7.72-7.72 1.47 1.35L5.41 20z\"/>\n",
              "  </svg>\n",
              "      </button>\n",
              "      \n",
              "  <style>\n",
              "    .colab-df-container {\n",
              "      display:flex;\n",
              "      flex-wrap:wrap;\n",
              "      gap: 12px;\n",
              "    }\n",
              "\n",
              "    .colab-df-convert {\n",
              "      background-color: #E8F0FE;\n",
              "      border: none;\n",
              "      border-radius: 50%;\n",
              "      cursor: pointer;\n",
              "      display: none;\n",
              "      fill: #1967D2;\n",
              "      height: 32px;\n",
              "      padding: 0 0 0 0;\n",
              "      width: 32px;\n",
              "    }\n",
              "\n",
              "    .colab-df-convert:hover {\n",
              "      background-color: #E2EBFA;\n",
              "      box-shadow: 0px 1px 2px rgba(60, 64, 67, 0.3), 0px 1px 3px 1px rgba(60, 64, 67, 0.15);\n",
              "      fill: #174EA6;\n",
              "    }\n",
              "\n",
              "    [theme=dark] .colab-df-convert {\n",
              "      background-color: #3B4455;\n",
              "      fill: #D2E3FC;\n",
              "    }\n",
              "\n",
              "    [theme=dark] .colab-df-convert:hover {\n",
              "      background-color: #434B5C;\n",
              "      box-shadow: 0px 1px 3px 1px rgba(0, 0, 0, 0.15);\n",
              "      filter: drop-shadow(0px 1px 2px rgba(0, 0, 0, 0.3));\n",
              "      fill: #FFFFFF;\n",
              "    }\n",
              "  </style>\n",
              "\n",
              "      <script>\n",
              "        const buttonEl =\n",
              "          document.querySelector('#df-456fb6ad-412b-4450-b2a8-94fa9a685d89 button.colab-df-convert');\n",
              "        buttonEl.style.display =\n",
              "          google.colab.kernel.accessAllowed ? 'block' : 'none';\n",
              "\n",
              "        async function convertToInteractive(key) {\n",
              "          const element = document.querySelector('#df-456fb6ad-412b-4450-b2a8-94fa9a685d89');\n",
              "          const dataTable =\n",
              "            await google.colab.kernel.invokeFunction('convertToInteractive',\n",
              "                                                     [key], {});\n",
              "          if (!dataTable) return;\n",
              "\n",
              "          const docLinkHtml = 'Like what you see? Visit the ' +\n",
              "            '<a target=\"_blank\" href=https://colab.research.google.com/notebooks/data_table.ipynb>data table notebook</a>'\n",
              "            + ' to learn more about interactive tables.';\n",
              "          element.innerHTML = '';\n",
              "          dataTable['output_type'] = 'display_data';\n",
              "          await google.colab.output.renderOutput(dataTable, element);\n",
              "          const docLink = document.createElement('div');\n",
              "          docLink.innerHTML = docLinkHtml;\n",
              "          element.appendChild(docLink);\n",
              "        }\n",
              "      </script>\n",
              "    </div>\n",
              "  </div>\n",
              "  "
            ]
          },
          "metadata": {},
          "execution_count": 296
        }
      ]
    },
    {
      "cell_type": "markdown",
      "source": [
        "# ***EDA - Exploratory Data Analysis 📊***"
      ],
      "metadata": {
        "id": "hltl0bWJApoE"
      }
    },
    {
      "cell_type": "markdown",
      "source": [
        "## ***Serie de preguntas***"
      ],
      "metadata": {
        "id": "ZJa3iVzKPPv4"
      }
    },
    {
      "cell_type": "markdown",
      "source": [
        "*   ¿La cantidad de oferta-demanda en una ciudad afecta el precio de las viviendas? \n",
        "*   ¿Qué tan variante para el precio la Zona/Ciudad en la que se encuentra?\n",
        "*   ¿Qué tanto afecta el precio la cantidad de baños que posee una vivienda?\n",
        "*   ¿Qué tanto afecta al precio el tamaño de la vivienda?\n",
        "*   ¿El hecho del contacto de la vivienda sea dueño directo o inmobiliaria cambia el precio?"
      ],
      "metadata": {
        "id": "pY348dLsPizM"
      }
    },
    {
      "cell_type": "markdown",
      "source": [
        "##Análisis descriptivo e inferencial de las variables"
      ],
      "metadata": {
        "id": "71ljOVhnKESb"
      }
    },
    {
      "cell_type": "markdown",
      "source": [
        "Realizaremos una serie de preguntas e hipotesis sobre el dataset que intentaremos responder a traves de visualizaciones e interpretaciones de las mismas"
      ],
      "metadata": {
        "id": "IDsZX5_aWrAn"
      }
    },
    {
      "cell_type": "markdown",
      "source": [
        "###Feature: \"Point of Contact\""
      ],
      "metadata": {
        "id": "ZxV-oOZY9vIB"
      }
    },
    {
      "cell_type": "markdown",
      "source": [
        "Proporción de puntos de contacto encargados de las ventas de las viviendas:"
      ],
      "metadata": {
        "id": "1Ua1imJeZZu8"
      }
    },
    {
      "cell_type": "code",
      "source": [
        "x=df[\"Point of Contact\"].unique()\n",
        "y=df[\"Point of Contact\"].value_counts()/df[\"Point of Contact\"].value_counts().sum()\n",
        "ax=sns.barplot(x=x, y=y)\n",
        "ax.set_title('Distribucion por Punto de Contacto')\n",
        "plt.show()"
      ],
      "metadata": {
        "colab": {
          "base_uri": "https://localhost:8080/",
          "height": 284
        },
        "id": "3n6X1uYfRTta",
        "outputId": "19141306-a124-4876-8950-d07cd38a5c69"
      },
      "execution_count": 297,
      "outputs": [
        {
          "output_type": "display_data",
          "data": {
            "text/plain": [
              "<Figure size 432x288 with 1 Axes>"
            ],
            "image/png": "[encoded data removed]"
          },
          "metadata": {
            "needs_background": "light"
          }
        }
      ]
    },
    {
      "cell_type": "markdown",
      "source": [
        "Se puede observar que la mayoría de las viviendas (60% aproximadamente) son vendidas por su dueño directo, mientras que el resto (alrededor del 40%) son vendidas por algún agente inmobiliario. Más adelante veremos si esto tiene alguna relación con el precio de las viviendas."
      ],
      "metadata": {
        "id": "e6wCeKoLJLBG"
      }
    },
    {
      "cell_type": "markdown",
      "source": [
        "###Feature: \"Area Type\""
      ],
      "metadata": {
        "id": "QjqkgyBK8v8x"
      }
    },
    {
      "cell_type": "markdown",
      "source": [
        "Proporción de tipos de áreas relevantes que determinan la variación en el precio de las viviendas:"
      ],
      "metadata": {
        "id": "gm6Hq4GcJLBG"
      }
    },
    {
      "cell_type": "code",
      "source": [
        "x=df[\"Area Type\"].unique()\n",
        "y=df[\"Area Type\"].value_counts()/df[\"Area Type\"].value_counts().sum()\n",
        "ax=sns.barplot(x=x, y=y)\n",
        "ax.set_title('Distribucion por Tipo de Área')\n",
        "plt.show()"
      ],
      "metadata": {
        "colab": {
          "base_uri": "https://localhost:8080/",
          "height": 285
        },
        "id": "yn7NAFqwZZIr",
        "outputId": "595b834c-0b4f-4946-d681-dc7f70b6c560"
      },
      "execution_count": 298,
      "outputs": [
        {
          "output_type": "display_data",
          "data": {
            "text/plain": [
              "<Figure size 432x288 with 1 Axes>"
            ],
            "image/png": "[encoded data removed]"
          },
          "metadata": {
            "needs_background": "light"
          }
        }
      ]
    },
    {
      "cell_type": "markdown",
      "source": [
        "Se puede observar que en general existen dos tipos de área superficial relevantes en el precio de las viviendas, y que existe una distribución similar en ambos.\n"
      ],
      "metadata": {
        "id": "TS_ENv_LnU__"
      }
    },
    {
      "cell_type": "markdown",
      "source": [
        "###Feature: \"City\""
      ],
      "metadata": {
        "id": "AoFZxT4ZLzuh"
      }
    },
    {
      "cell_type": "markdown",
      "source": [
        "Proporción de la oferta de viviendas por ciudad:"
      ],
      "metadata": {
        "id": "q1Rqcn7ZLzui"
      }
    },
    {
      "cell_type": "code",
      "source": [
        "x=df[\"City\"].unique()\n",
        "y=df[\"City\"].value_counts()/df[\"City\"].value_counts().sum()\n",
        "ax=sns.barplot(x=x, y=y)\n",
        "ax.set_title('Distribucion por Educacion')\n",
        "plt.show()"
      ],
      "metadata": {
        "colab": {
          "base_uri": "https://localhost:8080/",
          "height": 284
        },
        "id": "n9NLZwwdgdkg",
        "outputId": "31d1afec-b8ef-4aa7-cedc-2b6ecb43fed7"
      },
      "execution_count": 299,
      "outputs": [
        {
          "output_type": "display_data",
          "data": {
            "text/plain": [
              "<Figure size 432x288 with 1 Axes>"
            ],
            "image/png": "[encoded data removed]"
          },
          "metadata": {
            "needs_background": "light"
          }
        }
      ]
    },
    {
      "cell_type": "markdown",
      "source": [
        "Podemos observar que existen ciudades con una importante oferta de viviendas, tales como Kolkata, Mumbai, Bangalore y Delhi, mientras que en otras ciudades como Hyderabad hay una notable reducción de la oferta de viviendas. Más adelante veremos si esta oferta tiene alguna relación con el precio de las viviendas."
      ],
      "metadata": {
        "id": "8YTvMLMg1N2V"
      }
    },
    {
      "cell_type": "markdown",
      "source": [
        "###Feature: \"Rent\""
      ],
      "metadata": {
        "id": "-IV-5IQoXvqy"
      }
    },
    {
      "cell_type": "markdown",
      "source": [
        "Proporción de la oferta de viviendas según sus valores:"
      ],
      "metadata": {
        "id": "tpwKiQ1oPhYH"
      }
    },
    {
      "cell_type": "code",
      "source": [
        "f, axs = plt.subplots(figsize=(10, 5))\n",
        "ax = sns.histplot(x=\"Rent\", data=df,kde=True)\n",
        "plt.show()"
      ],
      "metadata": {
        "colab": {
          "base_uri": "https://localhost:8080/",
          "height": 339
        },
        "id": "i0whfIe7XtA-",
        "outputId": "17f90b2e-d4ac-4472-ddc4-dff6b7db1f51"
      },
      "execution_count": 300,
      "outputs": [
        {
          "output_type": "display_data",
          "data": {
            "text/plain": [
              "<Figure size 720x360 with 1 Axes>"
            ],
            "image/png": "[encoded data removed]"
          },
          "metadata": {
            "needs_background": "light"
          }
        }
      ]
    },
    {
      "cell_type": "markdown",
      "source": [
        "Podemos observar que la cantidad de viviendas poseen un comportamiento bastante normalizado, con una asimetria izquierda. Se logra visualizar que existe un rango precios predominante en las vivendas de menor costo."
      ],
      "metadata": {
        "id": "XL3rU3lhYyX0"
      }
    },
    {
      "cell_type": "markdown",
      "source": [
        "###Feature: \"Furnishing Status\""
      ],
      "metadata": {
        "id": "Zvyx0bGj9BdW"
      }
    },
    {
      "cell_type": "markdown",
      "source": [
        "Proporción de la oferta de viviendas según su amoblamiento:"
      ],
      "metadata": {
        "id": "uhsR43iKQEXu"
      }
    },
    {
      "cell_type": "code",
      "source": [
        "x=df[\"Furnishing Status\"].unique()\n",
        "y=df[\"Furnishing Status\"].value_counts()/df[\"Furnishing Status\"].value_counts().sum()\n",
        "ax=sns.barplot(x=x, y=y)\n",
        "ax.set_title('Distribucion por Amoblamiento')\n",
        "plt.show()"
      ],
      "metadata": {
        "colab": {
          "base_uri": "https://localhost:8080/",
          "height": 284
        },
        "id": "e4nbPTjOgrON",
        "outputId": "a43f0efa-573b-434a-a939-0af6365b6e1a"
      },
      "execution_count": 301,
      "outputs": [
        {
          "output_type": "display_data",
          "data": {
            "text/plain": [
              "<Figure size 432x288 with 1 Axes>"
            ],
            "image/png": "[encoded data removed]"
          },
          "metadata": {
            "needs_background": "light"
          }
        }
      ]
    },
    {
      "cell_type": "markdown",
      "source": [
        "Podemos observar que existen una importante oferta de viviendas sin amueblar (50% aproximadamente), mientras que el resto de viviendas existentes en el mercado estan ofrecidas amuebladas o semi-amuebladas."
      ],
      "metadata": {
        "id": "8m1As1XhQYZc"
      }
    },
    {
      "cell_type": "markdown",
      "source": [
        "###Feature: \"BHK\""
      ],
      "metadata": {
        "id": "kHtQDNGFRq3o"
      }
    },
    {
      "cell_type": "markdown",
      "source": [
        "Proporción de la oferta de viviendas según la cantidad de ambientes:"
      ],
      "metadata": {
        "id": "1g3CO2PzRq3p"
      }
    },
    {
      "cell_type": "code",
      "source": [
        "f, axs = plt.subplots(figsize=(10, 5))\n",
        "ax = sns.boxplot(y=\"BHK\", data=df)\n",
        "plt.show()"
      ],
      "metadata": {
        "colab": {
          "base_uri": "https://localhost:8080/",
          "height": 303
        },
        "id": "g84wxE2y457i",
        "outputId": "b09db9b5-86f0-4c30-e539-ee26a9fc1a86"
      },
      "execution_count": 302,
      "outputs": [
        {
          "output_type": "display_data",
          "data": {
            "text/plain": [
              "<Figure size 720x360 with 1 Axes>"
            ],
            "image/png": "[encoded data removed]"
          },
          "metadata": {
            "needs_background": "light"
          }
        }
      ]
    },
    {
      "cell_type": "markdown",
      "source": [
        "Podemos observar que predominan la oferta de viviendas que poseen entre 2 y 3 ambientes, con algunos extremos como 5 y 6 ambientes."
      ],
      "metadata": {
        "id": "61Vet5iwR2wk"
      }
    },
    {
      "cell_type": "markdown",
      "source": [
        "###Analisis bivariado/trivariado\n"
      ],
      "metadata": {
        "id": "cLyl4tX29ZYd"
      }
    },
    {
      "cell_type": "markdown",
      "source": [
        "####Relación entre las ciudades y el valor de las viviendas:"
      ],
      "metadata": {
        "id": "m9TrHKgbDYHJ"
      }
    },
    {
      "cell_type": "code",
      "source": [
        "f, axs = plt.subplots(figsize=(15, 10))\n",
        "sns.histplot(data=df, x=\"Rent\", hue=\"City\", multiple=\"stack\").set(title='Relación entre las ciudades y el valor de las viviendas')\n",
        "plt.show()"
      ],
      "metadata": {
        "colab": {
          "base_uri": "https://localhost:8080/",
          "height": 627
        },
        "id": "iFfISE0dFrGO",
        "outputId": "eba6265d-9e24-450b-f7cf-7ef36ae22cb7"
      },
      "execution_count": 303,
      "outputs": [
        {
          "output_type": "display_data",
          "data": {
            "text/plain": [
              "<Figure size 1080x720 with 1 Axes>"
            ],
            "image/png": "[encoded data removed]"
          },
          "metadata": {
            "needs_background": "light"
          }
        }
      ]
    },
    {
      "cell_type": "markdown",
      "source": [
        "¿La cantidad de oferta-demanda en una ciudad afecta el precio de las viviendas? \n",
        "¿Qué tan variante para el precio la Zona/Ciudad en la que se encuentra?\n",
        "\n",
        "En los graficos podemos visualizar una gran cantidad de ofertas de viviendas en las ciudades como Delhi, Chennai, Bangalore y Hyderabad.\n",
        "Sin embargo, al visualizar el precio de la renta podemos notar que hay una dominancia en la parte alta de precio de renta en la ciudad de Mumbai, y en menor medida sucede lo mismo en la ciudad de Delhi. Por lo tanto, podemos concluir que la comparativa de oferta-demanda no es un factor razonable para este dataset debido a que efectivamente Mumbai no es la zona con mas ofertas pero si es la zona con la renta mas alta, consecuentemente nos lleva a indagar mas otros factores comparables para buscar razones del precio.\n",
        "\n",
        "El gráfico de los precios de renta tambien nos ayuda tener una noción de los precios puntuales de cada ciudad, la cual nos genera mas cuestionamientos de la causalidad de los precios, tales como si en una zona céntrica (efectivamente Mumbai lo es), los precios de renta son mayores a comparación de las demas ciudades del dataset. Habría que investigar mas razones por la cuales el precio se eleva mucho o no en cada una de las ciudades."
      ],
      "metadata": {
        "id": "qDSAIseoduNv"
      }
    },
    {
      "cell_type": "markdown",
      "source": [
        "####Relación entre el punto de contacto y el valor de las viviendas:"
      ],
      "metadata": {
        "id": "UmT46OtGngIu"
      }
    },
    {
      "cell_type": "code",
      "source": [
        "f, axs = plt.subplots(figsize=(12, 6))\n",
        "sns.boxplot(data=df, x=\"Point of Contact\", y=\"Rent\").set(title='Relacion entre punto de contacto y el valor de las viviendas')\n",
        "plt.show()"
      ],
      "metadata": {
        "colab": {
          "base_uri": "https://localhost:8080/",
          "height": 410
        },
        "id": "_E1evVCTnbOg",
        "outputId": "983a82e9-8692-44a7-81d5-25a660717d7f"
      },
      "execution_count": 304,
      "outputs": [
        {
          "output_type": "display_data",
          "data": {
            "text/plain": [
              "<Figure size 864x432 with 1 Axes>"
            ],
            "image/png": "[encoded data removed]"
          },
          "metadata": {
            "needs_background": "light"
          }
        }
      ]
    },
    {
      "cell_type": "markdown",
      "source": [
        "Se puede notar una tendencia creciente en el valor de las viviendas cuando son ofrecidas por algún agente inmobiliario, mientras que si la venta es por dueño directo el valor de la vivienda suele ser menor, excepto en algunos casos aislados. Es fácil afirmar al punto de contacto como determinante del precio de las viviendas."
      ],
      "metadata": {
        "id": "DsB8a882n4y3"
      }
    },
    {
      "cell_type": "code",
      "source": [
        "plt.figure(figsize=(12,6))\n",
        "sns.barplot(x='City',y='Rent',hue='Point of Contact',data=df)\n",
        "plt.legend()\n",
        "plt.grid()"
      ],
      "metadata": {
        "id": "e-pvKiqcpSxZ",
        "colab": {
          "base_uri": "https://localhost:8080/",
          "height": 394
        },
        "outputId": "b25e711d-b1a0-41a4-8718-9bf2c9adf514"
      },
      "execution_count": 305,
      "outputs": [
        {
          "output_type": "display_data",
          "data": {
            "text/plain": [
              "<Figure size 864x432 with 1 Axes>"
            ],
            "image/png": "[encoded data removed]"
          },
          "metadata": {
            "needs_background": "light"
          }
        }
      ]
    },
    {
      "cell_type": "markdown",
      "source": [
        "¿El hecho del contacto de la vivienda sea dueño directo o inmobiliaria cambia el precio?\n",
        "\n",
        "Efectivamente a través del gráfico podemos visualizar el hecho de que si la vivienda es ofrecida por el agente inmobiliario, el precio se vuelve mas elevado, y confirmamos que suele ser mas barato contactar con el dueño directo de la vivienda para ahorrarse dinero.\n",
        "\n",
        "En este gráfico encontramos un inusual en Kolkata y Hyderabad, en el cual el precio de la vivienda puede llegar a valores más elevados aún cuando es ofrecida por el dueño directo."
      ],
      "metadata": {
        "id": "zaDbhG1-ptpT"
      }
    },
    {
      "cell_type": "markdown",
      "source": [
        "####Relacion entre cantidad de baños y el valor de las viviendas:"
      ],
      "metadata": {
        "id": "Albmj7pl-DJM"
      }
    },
    {
      "cell_type": "code",
      "source": [
        "plt.figure(figsize=(12,6))\n",
        "sns.barplot(x='City',y='Rent',hue='Bathroom',data=df).set(title='Relacion entre cantidad de baños y el valor de las viviendas')\n",
        "plt.legend()\n",
        "plt.grid()"
      ],
      "metadata": {
        "id": "OtWStfcMbUZE",
        "colab": {
          "base_uri": "https://localhost:8080/",
          "height": 410
        },
        "outputId": "9f4bbe0b-6a55-4546-8f12-d7d9fa140168"
      },
      "execution_count": 306,
      "outputs": [
        {
          "output_type": "display_data",
          "data": {
            "text/plain": [
              "<Figure size 864x432 with 1 Axes>"
            ],
            "image/png": "[encoded data removed]"
          },
          "metadata": {
            "needs_background": "light"
          }
        }
      ]
    },
    {
      "cell_type": "markdown",
      "source": [
        "¿Qué tanto afecta el precio la cantidad de baños que posee una vivienda?\n",
        "\n",
        "En este gráfico podemos visualizar algo muy llamativo. La comparativa de las ciudades con la cantidad de baños y su relacion con los precios, en el que concluimos en cómo los precios de las viviendas se disparan en determinadas ciudades como Mumbai y Delhi, sin embargo, lo llamativo es que no necesariamente las viviendas con mayor cantidad de baños son aquellas que tienen un valor más elevado. \n",
        "Afirmamos que los baños son un factor que hacen variar los precios de las viviendas y los mismos se diferencian notoriamente a partir de los 2/3 baños por vivienda, pero no son un factor relevante que determinan que a mayor cantidad de baños aumenta el precio de la vivienda."
      ],
      "metadata": {
        "id": "xWB8xexTinW9"
      }
    },
    {
      "cell_type": "markdown",
      "source": [
        "####Relacion entre tamaño y el valor de las viviendas:"
      ],
      "metadata": {
        "id": "bxw_nseLkb97"
      }
    },
    {
      "cell_type": "code",
      "source": [
        "f, axs = plt.subplots(figsize=(12, 6))\n",
        "sns.scatterplot(data=df, x=\"Size\", y=\"Rent\", hue='City').set(title='Relacion entre el tamaño de la vivienda y su valor')\n",
        "plt.show()"
      ],
      "metadata": {
        "colab": {
          "base_uri": "https://localhost:8080/",
          "height": 410
        },
        "id": "f7jaZJG1-C2j",
        "outputId": "35f749e6-a11f-45b5-f4b1-3d10a1381d71"
      },
      "execution_count": 307,
      "outputs": [
        {
          "output_type": "display_data",
          "data": {
            "text/plain": [
              "<Figure size 864x432 with 1 Axes>"
            ],
            "image/png": "[encoded data removed]"
          },
          "metadata": {
            "needs_background": "light"
          }
        }
      ]
    },
    {
      "cell_type": "markdown",
      "source": [
        "¿Qué tanto afecta al precio el tamaño de la vivienda?\n",
        "\n",
        "En el siguiente grafico vemos la relación entre el tamaño y el precio de las viviendas diferenciado por las ciudades. Podemos notar que los precios mas alejados corresponden a las ciudades mas caras, donde existen los tamaños de casas mas espaciosas. Se permite ver preponderancia de Mumbai donde cuentan con una tendencia de viviendas mas espaciosas, por ende es razonable que notemos cierta tendencia alcista en cuanto a los precios de las viviendas, y podemos afirmar que efectivamente el tamaño de la  vivienda es un factor determinante para el precio de la misma y permitiendo justificar la incógnita previa del por qué Mumbai presenta dominancia, en efecto una de las causalidades es que cuenta con las viviendas de mayor tamaño en potecial demanda de la misma."
      ],
      "metadata": {
        "id": "O2bWYhVZnbfa"
      }
    },
    {
      "cell_type": "markdown",
      "source": [
        "#***Reducción de dimensionalidad***"
      ],
      "metadata": {
        "id": "FK0m7y0ENiju"
      }
    },
    {
      "cell_type": "markdown",
      "metadata": {
        "id": "6Bm_BqDQOGRC"
      },
      "source": [
        "## Implementacion usando funciones de Python\n"
      ]
    },
    {
      "cell_type": "code",
      "source": [
        "!pip install mlxtend "
      ],
      "metadata": {
        "colab": {
          "base_uri": "https://localhost:8080/"
        },
        "id": "fYNIm7knrwDm",
        "outputId": "f28d8aad-d204-40b4-ec51-134d285de1ec"
      },
      "execution_count": 308,
      "outputs": [
        {
          "output_type": "stream",
          "name": "stdout",
          "text": [
            "Looking in indexes: https://pypi.org/simple, https://us-python.pkg.dev/colab-wheels/public/simple/\n",
            "Requirement already satisfied: mlxtend in /usr/local/lib/python3.7/dist-packages (0.14.0)\n",
            "Requirement already satisfied: pandas>=0.17.1 in /usr/local/lib/python3.7/dist-packages (from mlxtend) (1.3.5)\n",
            "Requirement already satisfied: scikit-learn>=0.18 in /usr/local/lib/python3.7/dist-packages (from mlxtend) (1.0.2)\n",
            "Requirement already satisfied: matplotlib>=1.5.1 in /usr/local/lib/python3.7/dist-packages (from mlxtend) (3.2.2)\n",
            "Requirement already satisfied: numpy>=1.10.4 in /usr/local/lib/python3.7/dist-packages (from mlxtend) (1.21.6)\n",
            "Requirement already satisfied: scipy>=0.17 in /usr/local/lib/python3.7/dist-packages (from mlxtend) (1.7.3)\n",
            "Requirement already satisfied: setuptools in /usr/local/lib/python3.7/dist-packages (from mlxtend) (57.4.0)\n",
            "Requirement already satisfied: pyparsing!=2.0.4,!=2.1.2,!=2.1.6,>=2.0.1 in /usr/local/lib/python3.7/dist-packages (from matplotlib>=1.5.1->mlxtend) (3.0.9)\n",
            "Requirement already satisfied: cycler>=0.10 in /usr/local/lib/python3.7/dist-packages (from matplotlib>=1.5.1->mlxtend) (0.11.0)\n",
            "Requirement already satisfied: python-dateutil>=2.1 in /usr/local/lib/python3.7/dist-packages (from matplotlib>=1.5.1->mlxtend) (2.8.2)\n",
            "Requirement already satisfied: kiwisolver>=1.0.1 in /usr/local/lib/python3.7/dist-packages (from matplotlib>=1.5.1->mlxtend) (1.4.4)\n",
            "Requirement already satisfied: typing-extensions in /usr/local/lib/python3.7/dist-packages (from kiwisolver>=1.0.1->matplotlib>=1.5.1->mlxtend) (4.1.1)\n",
            "Requirement already satisfied: pytz>=2017.3 in /usr/local/lib/python3.7/dist-packages (from pandas>=0.17.1->mlxtend) (2022.2.1)\n",
            "Requirement already satisfied: six>=1.5 in /usr/local/lib/python3.7/dist-packages (from python-dateutil>=2.1->matplotlib>=1.5.1->mlxtend) (1.15.0)\n",
            "Requirement already satisfied: joblib>=0.11 in /usr/local/lib/python3.7/dist-packages (from scikit-learn>=0.18->mlxtend) (1.1.0)\n",
            "Requirement already satisfied: threadpoolctl>=2.0.0 in /usr/local/lib/python3.7/dist-packages (from scikit-learn>=0.18->mlxtend) (3.1.0)\n"
          ]
        }
      ]
    },
    {
      "cell_type": "code",
      "source": [
        "import statsmodels.api as sm\n",
        "import sys\n",
        "import joblib\n",
        "sys.modules['sklearn.externals.joblib'] = joblib"
      ],
      "metadata": {
        "id": "bgUwEH80rwgL"
      },
      "execution_count": 309,
      "outputs": []
    },
    {
      "cell_type": "code",
      "source": [
        "#Librerias\n",
        "from mlxtend.feature_selection import SequentialFeatureSelector as SFS\n",
        "from sklearn.linear_model import LinearRegression\n",
        "# Sequential Forward Selection(sfs)\n",
        "sfs = SFS(LinearRegression(),\n",
        "          k_features=10,\n",
        "          forward=True,\n",
        "          floating=False,\n",
        "          scoring = 'r2',\n",
        "          cv = 0)"
      ],
      "metadata": {
        "id": "ZhNtiWdzr1fB"
      },
      "execution_count": 310,
      "outputs": []
    },
    {
      "cell_type": "markdown",
      "source": [
        "La función SequentialFeatureSelector() acepta los siguientes argumentos principales:\n",
        "\n",
        "LinearRegression() es un estimador de todo el proceso. Del mismo modo, puede ser cualquier algoritmo basado en clasificación.\n",
        "\n",
        "k_features indica el número de características que se seleccionarán. Puede ser cualquier valor aleatorio, pero el valor óptimo se puede encontrar analizando y visualizando las puntuaciones para diferentes números de características.\n",
        "\n",
        "argumentos hacia adelante y flotantes forward = Verdadero y floating = Falso son para la técnica de selección hacia adelante.\n",
        "\n",
        "El argumento de puntuación especifica el criterio de evaluación que se utilizará. Para problemas de regresión, solo hay una puntuación  r2  en la implementación predeterminada. De manera similar, para la clasificación, puede ser exactitud, precisión, recuperación, puntaje f1, etc.\n",
        "\n",
        "El argumento cv es para la validación cruzada usando k-fold."
      ],
      "metadata": {
        "id": "PoJUNq8t5M0W"
      }
    },
    {
      "cell_type": "markdown",
      "source": [
        "##Features Selection"
      ],
      "metadata": {
        "id": "wQwEoEn14AH3"
      }
    },
    {
      "cell_type": "markdown",
      "source": [
        "Realizaremos un forward selection para la selección de características más relevantes para nuestra regresión."
      ],
      "metadata": {
        "id": "KapJj-ulgqoV"
      }
    },
    {
      "cell_type": "markdown",
      "metadata": {
        "id": "VZHZMmqozVXV"
      },
      "source": [
        "Primero convertimos estos datos en un marco de datos que incluya la variable de destino y los datos reales junto con los nombres de las funciones."
      ]
    },
    {
      "cell_type": "code",
      "source": [
        "df.columns"
      ],
      "metadata": {
        "colab": {
          "base_uri": "https://localhost:8080/"
        },
        "id": "Hbmx5MpMoRYh",
        "outputId": "1c8ad703-1a4a-4bd5-9ca5-0c18d3a6f1d5"
      },
      "execution_count": 311,
      "outputs": [
        {
          "output_type": "execute_result",
          "data": {
            "text/plain": [
              "Index(['BHK', 'Rent', 'Size', 'Floor', 'Area Type', 'City',\n",
              "       'Furnishing Status', 'Bathroom', 'Point of Contact'],\n",
              "      dtype='object')"
            ]
          },
          "metadata": {},
          "execution_count": 311
        }
      ]
    },
    {
      "cell_type": "code",
      "source": [
        "df2=df[['BHK', 'Rent', 'Size', 'Floor', 'Area Type', 'City',\n",
        "       'Furnishing Status', 'Bathroom', 'Point of Contact']]"
      ],
      "metadata": {
        "id": "Jf29UK0IsXV6"
      },
      "execution_count": 312,
      "outputs": []
    },
    {
      "cell_type": "code",
      "source": [
        "#Reemplazamos las letras por 0 y 1 para luego poder aplicar correctamente nuestra regresión. \n",
        "df2[\"Point of Contact\"]=df2[\"Point of Contact\"].replace(\"Contact Owner\",1)\n",
        "df2[\"Point of Contact\"]=df2[\"Point of Contact\"].replace(\"Contact Agent\",0)\n",
        "df2"
      ],
      "metadata": {
        "colab": {
          "base_uri": "https://localhost:8080/",
          "height": 424
        },
        "id": "0fdS-TbxEWAh",
        "outputId": "5db49a8d-d49f-4f6d-8384-16c2698b2bb5"
      },
      "execution_count": 313,
      "outputs": [
        {
          "output_type": "execute_result",
          "data": {
            "text/plain": [
              "     BHK   Rent  Size       Floor    Area Type       City Furnishing Status  \\\n",
              "0      3  22000  1100  2 out of 3  Carpet Area    Kolkata       Unfurnished   \n",
              "1      2  21000   900  1 out of 2  Carpet Area    Kolkata    Semi-Furnished   \n",
              "2      6  20000  1000  1 out of 1   Super Area    Kolkata    Semi-Furnished   \n",
              "3      2  20000  1000  1 out of 2   Super Area    Kolkata         Furnished   \n",
              "4      2  25000  1100  2 out of 2   Super Area    Kolkata         Furnished   \n",
              "..   ...    ...   ...         ...          ...        ...               ...   \n",
              "348    2  18000  1150  4 out of 5   Super Area  Hyderabad    Semi-Furnished   \n",
              "349    2  19000  1124  1 out of 5   Super Area  Hyderabad         Furnished   \n",
              "350    2  30000  1140  5 out of 5   Super Area  Hyderabad         Furnished   \n",
              "351    3  20000  1100  2 out of 5   Super Area  Hyderabad    Semi-Furnished   \n",
              "352    2  25000  1040  2 out of 4  Carpet Area  Hyderabad       Unfurnished   \n",
              "\n",
              "     Bathroom  Point of Contact  \n",
              "0           1                 1  \n",
              "1           2                 1  \n",
              "2           2                 1  \n",
              "3           2                 1  \n",
              "4           2                 0  \n",
              "..        ...               ...  \n",
              "348         2                 1  \n",
              "349         2                 1  \n",
              "350         2                 1  \n",
              "351         3                 1  \n",
              "352         2                 1  \n",
              "\n",
              "[353 rows x 9 columns]"
            ],
            "text/html": [
              "\n",
              "  <div id=\"df-87f7bb0d-9247-4446-83ba-72a79103cfdf\">\n",
              "    <div class=\"colab-df-container\">\n",
              "      <div>\n",
              "<style scoped>\n",
              "    .dataframe tbody tr th:only-of-type {\n",
              "        vertical-align: middle;\n",
              "    }\n",
              "\n",
              "    .dataframe tbody tr th {\n",
              "        vertical-align: top;\n",
              "    }\n",
              "\n",
              "    .dataframe thead th {\n",
              "        text-align: right;\n",
              "    }\n",
              "</style>\n",
              "<table border=\"1\" class=\"dataframe\">\n",
              "  <thead>\n",
              "    <tr style=\"text-align: right;\">\n",
              "      <th></th>\n",
              "      <th>BHK</th>\n",
              "      <th>Rent</th>\n",
              "      <th>Size</th>\n",
              "      <th>Floor</th>\n",
              "      <th>Area Type</th>\n",
              "      <th>City</th>\n",
              "      <th>Furnishing Status</th>\n",
              "      <th>Bathroom</th>\n",
              "      <th>Point of Contact</th>\n",
              "    </tr>\n",
              "  </thead>\n",
              "  <tbody>\n",
              "    <tr>\n",
              "      <th>0</th>\n",
              "      <td>3</td>\n",
              "      <td>22000</td>\n",
              "      <td>1100</td>\n",
              "      <td>2 out of 3</td>\n",
              "      <td>Carpet Area</td>\n",
              "      <td>Kolkata</td>\n",
              "      <td>Unfurnished</td>\n",
              "      <td>1</td>\n",
              "      <td>1</td>\n",
              "    </tr>\n",
              "    <tr>\n",
              "      <th>1</th>\n",
              "      <td>2</td>\n",
              "      <td>21000</td>\n",
              "      <td>900</td>\n",
              "      <td>1 out of 2</td>\n",
              "      <td>Carpet Area</td>\n",
              "      <td>Kolkata</td>\n",
              "      <td>Semi-Furnished</td>\n",
              "      <td>2</td>\n",
              "      <td>1</td>\n",
              "    </tr>\n",
              "    <tr>\n",
              "      <th>2</th>\n",
              "      <td>6</td>\n",
              "      <td>20000</td>\n",
              "      <td>1000</td>\n",
              "      <td>1 out of 1</td>\n",
              "      <td>Super Area</td>\n",
              "      <td>Kolkata</td>\n",
              "      <td>Semi-Furnished</td>\n",
              "      <td>2</td>\n",
              "      <td>1</td>\n",
              "    </tr>\n",
              "    <tr>\n",
              "      <th>3</th>\n",
              "      <td>2</td>\n",
              "      <td>20000</td>\n",
              "      <td>1000</td>\n",
              "      <td>1 out of 2</td>\n",
              "      <td>Super Area</td>\n",
              "      <td>Kolkata</td>\n",
              "      <td>Furnished</td>\n",
              "      <td>2</td>\n",
              "      <td>1</td>\n",
              "    </tr>\n",
              "    <tr>\n",
              "      <th>4</th>\n",
              "      <td>2</td>\n",
              "      <td>25000</td>\n",
              "      <td>1100</td>\n",
              "      <td>2 out of 2</td>\n",
              "      <td>Super Area</td>\n",
              "      <td>Kolkata</td>\n",
              "      <td>Furnished</td>\n",
              "      <td>2</td>\n",
              "      <td>0</td>\n",
              "    </tr>\n",
              "    <tr>\n",
              "      <th>...</th>\n",
              "      <td>...</td>\n",
              "      <td>...</td>\n",
              "      <td>...</td>\n",
              "      <td>...</td>\n",
              "      <td>...</td>\n",
              "      <td>...</td>\n",
              "      <td>...</td>\n",
              "      <td>...</td>\n",
              "      <td>...</td>\n",
              "    </tr>\n",
              "    <tr>\n",
              "      <th>348</th>\n",
              "      <td>2</td>\n",
              "      <td>18000</td>\n",
              "      <td>1150</td>\n",
              "      <td>4 out of 5</td>\n",
              "      <td>Super Area</td>\n",
              "      <td>Hyderabad</td>\n",
              "      <td>Semi-Furnished</td>\n",
              "      <td>2</td>\n",
              "      <td>1</td>\n",
              "    </tr>\n",
              "    <tr>\n",
              "      <th>349</th>\n",
              "      <td>2</td>\n",
              "      <td>19000</td>\n",
              "      <td>1124</td>\n",
              "      <td>1 out of 5</td>\n",
              "      <td>Super Area</td>\n",
              "      <td>Hyderabad</td>\n",
              "      <td>Furnished</td>\n",
              "      <td>2</td>\n",
              "      <td>1</td>\n",
              "    </tr>\n",
              "    <tr>\n",
              "      <th>350</th>\n",
              "      <td>2</td>\n",
              "      <td>30000</td>\n",
              "      <td>1140</td>\n",
              "      <td>5 out of 5</td>\n",
              "      <td>Super Area</td>\n",
              "      <td>Hyderabad</td>\n",
              "      <td>Furnished</td>\n",
              "      <td>2</td>\n",
              "      <td>1</td>\n",
              "    </tr>\n",
              "    <tr>\n",
              "      <th>351</th>\n",
              "      <td>3</td>\n",
              "      <td>20000</td>\n",
              "      <td>1100</td>\n",
              "      <td>2 out of 5</td>\n",
              "      <td>Super Area</td>\n",
              "      <td>Hyderabad</td>\n",
              "      <td>Semi-Furnished</td>\n",
              "      <td>3</td>\n",
              "      <td>1</td>\n",
              "    </tr>\n",
              "    <tr>\n",
              "      <th>352</th>\n",
              "      <td>2</td>\n",
              "      <td>25000</td>\n",
              "      <td>1040</td>\n",
              "      <td>2 out of 4</td>\n",
              "      <td>Carpet Area</td>\n",
              "      <td>Hyderabad</td>\n",
              "      <td>Unfurnished</td>\n",
              "      <td>2</td>\n",
              "      <td>1</td>\n",
              "    </tr>\n",
              "  </tbody>\n",
              "</table>\n",
              "<p>353 rows × 9 columns</p>\n",
              "</div>\n",
              "      <button class=\"colab-df-convert\" onclick=\"convertToInteractive('df-87f7bb0d-9247-4446-83ba-72a79103cfdf')\"\n",
              "              title=\"Convert this dataframe to an interactive table.\"\n",
              "              style=\"display:none;\">\n",
              "        \n",
              "  <svg xmlns=\"http://www.w3.org/2000/svg\" height=\"24px\"viewBox=\"0 0 24 24\"\n",
              "       width=\"24px\">\n",
              "    <path d=\"M0 0h24v24H0V0z\" fill=\"none\"/>\n",
              "    <path d=\"M18.56 5.44l.94 2.06.94-2.06 2.06-.94-2.06-.94-.94-2.06-.94 2.06-2.06.94zm-11 1L8.5 8.5l.94-2.06 2.06-.94-2.06-.94L8.5 2.5l-.94 2.06-2.06.94zm10 10l.94 2.06.94-2.06 2.06-.94-2.06-.94-.94-2.06-.94 2.06-2.06.94z\"/><path d=\"M17.41 7.96l-1.37-1.37c-.4-.4-.92-.59-1.43-.59-.52 0-1.04.2-1.43.59L10.3 9.45l-7.72 7.72c-.78.78-.78 2.05 0 2.83L4 21.41c.39.39.9.59 1.41.59.51 0 1.02-.2 1.41-.59l7.78-7.78 2.81-2.81c.8-.78.8-2.07 0-2.86zM5.41 20L4 18.59l7.72-7.72 1.47 1.35L5.41 20z\"/>\n",
              "  </svg>\n",
              "      </button>\n",
              "      \n",
              "  <style>\n",
              "    .colab-df-container {\n",
              "      display:flex;\n",
              "      flex-wrap:wrap;\n",
              "      gap: 12px;\n",
              "    }\n",
              "\n",
              "    .colab-df-convert {\n",
              "      background-color: #E8F0FE;\n",
              "      border: none;\n",
              "      border-radius: 50%;\n",
              "      cursor: pointer;\n",
              "      display: none;\n",
              "      fill: #1967D2;\n",
              "      height: 32px;\n",
              "      padding: 0 0 0 0;\n",
              "      width: 32px;\n",
              "    }\n",
              "\n",
              "    .colab-df-convert:hover {\n",
              "      background-color: #E2EBFA;\n",
              "      box-shadow: 0px 1px 2px rgba(60, 64, 67, 0.3), 0px 1px 3px 1px rgba(60, 64, 67, 0.15);\n",
              "      fill: #174EA6;\n",
              "    }\n",
              "\n",
              "    [theme=dark] .colab-df-convert {\n",
              "      background-color: #3B4455;\n",
              "      fill: #D2E3FC;\n",
              "    }\n",
              "\n",
              "    [theme=dark] .colab-df-convert:hover {\n",
              "      background-color: #434B5C;\n",
              "      box-shadow: 0px 1px 3px 1px rgba(0, 0, 0, 0.15);\n",
              "      filter: drop-shadow(0px 1px 2px rgba(0, 0, 0, 0.3));\n",
              "      fill: #FFFFFF;\n",
              "    }\n",
              "  </style>\n",
              "\n",
              "      <script>\n",
              "        const buttonEl =\n",
              "          document.querySelector('#df-87f7bb0d-9247-4446-83ba-72a79103cfdf button.colab-df-convert');\n",
              "        buttonEl.style.display =\n",
              "          google.colab.kernel.accessAllowed ? 'block' : 'none';\n",
              "\n",
              "        async function convertToInteractive(key) {\n",
              "          const element = document.querySelector('#df-87f7bb0d-9247-4446-83ba-72a79103cfdf');\n",
              "          const dataTable =\n",
              "            await google.colab.kernel.invokeFunction('convertToInteractive',\n",
              "                                                     [key], {});\n",
              "          if (!dataTable) return;\n",
              "\n",
              "          const docLinkHtml = 'Like what you see? Visit the ' +\n",
              "            '<a target=\"_blank\" href=https://colab.research.google.com/notebooks/data_table.ipynb>data table notebook</a>'\n",
              "            + ' to learn more about interactive tables.';\n",
              "          element.innerHTML = '';\n",
              "          dataTable['output_type'] = 'display_data';\n",
              "          await google.colab.output.renderOutput(dataTable, element);\n",
              "          const docLink = document.createElement('div');\n",
              "          docLink.innerHTML = docLinkHtml;\n",
              "          element.appendChild(docLink);\n",
              "        }\n",
              "      </script>\n",
              "    </div>\n",
              "  </div>\n",
              "  "
            ]
          },
          "metadata": {},
          "execution_count": 313
        }
      ]
    },
    {
      "cell_type": "code",
      "source": [
        "#Convertimos a variables numéricas aquellas características que son categóricas para aplicar correctamente nuestra regresión.\n",
        "df3 = pd.get_dummies(df2, columns=[ 'Area Type','Floor', 'City', 'Furnishing Status'], drop_first = True)\n",
        "df3"
      ],
      "metadata": {
        "colab": {
          "base_uri": "https://localhost:8080/",
          "height": 502
        },
        "id": "PBlxU8PEoP6H",
        "outputId": "77082084-9937-4c72-b727-d848a4951405"
      },
      "execution_count": 314,
      "outputs": [
        {
          "output_type": "execute_result",
          "data": {
            "text/plain": [
              "     BHK   Rent  Size  Bathroom  Point of Contact  Area Type_Super Area  \\\n",
              "0      3  22000  1100         1                 1                     0   \n",
              "1      2  21000   900         2                 1                     0   \n",
              "2      6  20000  1000         2                 1                     1   \n",
              "3      2  20000  1000         2                 1                     1   \n",
              "4      2  25000  1100         2                 0                     1   \n",
              "..   ...    ...   ...       ...               ...                   ...   \n",
              "348    2  18000  1150         2                 1                     1   \n",
              "349    2  19000  1124         2                 1                     1   \n",
              "350    2  30000  1140         2                 1                     1   \n",
              "351    3  20000  1100         3                 1                     1   \n",
              "352    2  25000  1040         2                 1                     0   \n",
              "\n",
              "     Floor_1 out of 10  Floor_1 out of 11  Floor_1 out of 12  \\\n",
              "0                    0                  0                  0   \n",
              "1                    0                  0                  0   \n",
              "2                    0                  0                  0   \n",
              "3                    0                  0                  0   \n",
              "4                    0                  0                  0   \n",
              "..                 ...                ...                ...   \n",
              "348                  0                  0                  0   \n",
              "349                  0                  0                  0   \n",
              "350                  0                  0                  0   \n",
              "351                  0                  0                  0   \n",
              "352                  0                  0                  0   \n",
              "\n",
              "     Floor_1 out of 2  ...  Floor_Upper Basement out of 10  \\\n",
              "0                   0  ...                               0   \n",
              "1                   1  ...                               0   \n",
              "2                   0  ...                               0   \n",
              "3                   1  ...                               0   \n",
              "4                   0  ...                               0   \n",
              "..                ...  ...                             ...   \n",
              "348                 0  ...                               0   \n",
              "349                 0  ...                               0   \n",
              "350                 0  ...                               0   \n",
              "351                 0  ...                               0   \n",
              "352                 0  ...                               0   \n",
              "\n",
              "     Floor_Upper Basement out of 3  Floor_Upper Basement out of 9  \\\n",
              "0                                0                              0   \n",
              "1                                0                              0   \n",
              "2                                0                              0   \n",
              "3                                0                              0   \n",
              "4                                0                              0   \n",
              "..                             ...                            ...   \n",
              "348                              0                              0   \n",
              "349                              0                              0   \n",
              "350                              0                              0   \n",
              "351                              0                              0   \n",
              "352                              0                              0   \n",
              "\n",
              "     City_Chennai  City_Delhi  City_Hyderabad  City_Kolkata  City_Mumbai  \\\n",
              "0               0           0               0             1            0   \n",
              "1               0           0               0             1            0   \n",
              "2               0           0               0             1            0   \n",
              "3               0           0               0             1            0   \n",
              "4               0           0               0             1            0   \n",
              "..            ...         ...             ...           ...          ...   \n",
              "348             0           0               1             0            0   \n",
              "349             0           0               1             0            0   \n",
              "350             0           0               1             0            0   \n",
              "351             0           0               1             0            0   \n",
              "352             0           0               1             0            0   \n",
              "\n",
              "     Furnishing Status_Semi-Furnished  Furnishing Status_Unfurnished  \n",
              "0                                   0                              1  \n",
              "1                                   1                              0  \n",
              "2                                   1                              0  \n",
              "3                                   0                              0  \n",
              "4                                   0                              0  \n",
              "..                                ...                            ...  \n",
              "348                                 1                              0  \n",
              "349                                 0                              0  \n",
              "350                                 0                              0  \n",
              "351                                 1                              0  \n",
              "352                                 0                              1  \n",
              "\n",
              "[353 rows x 127 columns]"
            ],
            "text/html": [
              "\n",
              "  <div id=\"df-b153693e-aa7e-48a8-9f45-478e9382e240\">\n",
              "    <div class=\"colab-df-container\">\n",
              "      <div>\n",
              "<style scoped>\n",
              "    .dataframe tbody tr th:only-of-type {\n",
              "        vertical-align: middle;\n",
              "    }\n",
              "\n",
              "    .dataframe tbody tr th {\n",
              "        vertical-align: top;\n",
              "    }\n",
              "\n",
              "    .dataframe thead th {\n",
              "        text-align: right;\n",
              "    }\n",
              "</style>\n",
              "<table border=\"1\" class=\"dataframe\">\n",
              "  <thead>\n",
              "    <tr style=\"text-align: right;\">\n",
              "      <th></th>\n",
              "      <th>BHK</th>\n",
              "      <th>Rent</th>\n",
              "      <th>Size</th>\n",
              "      <th>Bathroom</th>\n",
              "      <th>Point of Contact</th>\n",
              "      <th>Area Type_Super Area</th>\n",
              "      <th>Floor_1 out of 10</th>\n",
              "      <th>Floor_1 out of 11</th>\n",
              "      <th>Floor_1 out of 12</th>\n",
              "      <th>Floor_1 out of 2</th>\n",
              "      <th>...</th>\n",
              "      <th>Floor_Upper Basement out of 10</th>\n",
              "      <th>Floor_Upper Basement out of 3</th>\n",
              "      <th>Floor_Upper Basement out of 9</th>\n",
              "      <th>City_Chennai</th>\n",
              "      <th>City_Delhi</th>\n",
              "      <th>City_Hyderabad</th>\n",
              "      <th>City_Kolkata</th>\n",
              "      <th>City_Mumbai</th>\n",
              "      <th>Furnishing Status_Semi-Furnished</th>\n",
              "      <th>Furnishing Status_Unfurnished</th>\n",
              "    </tr>\n",
              "  </thead>\n",
              "  <tbody>\n",
              "    <tr>\n",
              "      <th>0</th>\n",
              "      <td>3</td>\n",
              "      <td>22000</td>\n",
              "      <td>1100</td>\n",
              "      <td>1</td>\n",
              "      <td>1</td>\n",
              "      <td>0</td>\n",
              "      <td>0</td>\n",
              "      <td>0</td>\n",
              "      <td>0</td>\n",
              "      <td>0</td>\n",
              "      <td>...</td>\n",
              "      <td>0</td>\n",
              "      <td>0</td>\n",
              "      <td>0</td>\n",
              "      <td>0</td>\n",
              "      <td>0</td>\n",
              "      <td>0</td>\n",
              "      <td>1</td>\n",
              "      <td>0</td>\n",
              "      <td>0</td>\n",
              "      <td>1</td>\n",
              "    </tr>\n",
              "    <tr>\n",
              "      <th>1</th>\n",
              "      <td>2</td>\n",
              "      <td>21000</td>\n",
              "      <td>900</td>\n",
              "      <td>2</td>\n",
              "      <td>1</td>\n",
              "      <td>0</td>\n",
              "      <td>0</td>\n",
              "      <td>0</td>\n",
              "      <td>0</td>\n",
              "      <td>1</td>\n",
              "      <td>...</td>\n",
              "      <td>0</td>\n",
              "      <td>0</td>\n",
              "      <td>0</td>\n",
              "      <td>0</td>\n",
              "      <td>0</td>\n",
              "      <td>0</td>\n",
              "      <td>1</td>\n",
              "      <td>0</td>\n",
              "      <td>1</td>\n",
              "      <td>0</td>\n",
              "    </tr>\n",
              "    <tr>\n",
              "      <th>2</th>\n",
              "      <td>6</td>\n",
              "      <td>20000</td>\n",
              "      <td>1000</td>\n",
              "      <td>2</td>\n",
              "      <td>1</td>\n",
              "      <td>1</td>\n",
              "      <td>0</td>\n",
              "      <td>0</td>\n",
              "      <td>0</td>\n",
              "      <td>0</td>\n",
              "      <td>...</td>\n",
              "      <td>0</td>\n",
              "      <td>0</td>\n",
              "      <td>0</td>\n",
              "      <td>0</td>\n",
              "      <td>0</td>\n",
              "      <td>0</td>\n",
              "      <td>1</td>\n",
              "      <td>0</td>\n",
              "      <td>1</td>\n",
              "      <td>0</td>\n",
              "    </tr>\n",
              "    <tr>\n",
              "      <th>3</th>\n",
              "      <td>2</td>\n",
              "      <td>20000</td>\n",
              "      <td>1000</td>\n",
              "      <td>2</td>\n",
              "      <td>1</td>\n",
              "      <td>1</td>\n",
              "      <td>0</td>\n",
              "      <td>0</td>\n",
              "      <td>0</td>\n",
              "      <td>1</td>\n",
              "      <td>...</td>\n",
              "      <td>0</td>\n",
              "      <td>0</td>\n",
              "      <td>0</td>\n",
              "      <td>0</td>\n",
              "      <td>0</td>\n",
              "      <td>0</td>\n",
              "      <td>1</td>\n",
              "      <td>0</td>\n",
              "      <td>0</td>\n",
              "      <td>0</td>\n",
              "    </tr>\n",
              "    <tr>\n",
              "      <th>4</th>\n",
              "      <td>2</td>\n",
              "      <td>25000</td>\n",
              "      <td>1100</td>\n",
              "      <td>2</td>\n",
              "      <td>0</td>\n",
              "      <td>1</td>\n",
              "      <td>0</td>\n",
              "      <td>0</td>\n",
              "      <td>0</td>\n",
              "      <td>0</td>\n",
              "      <td>...</td>\n",
              "      <td>0</td>\n",
              "      <td>0</td>\n",
              "      <td>0</td>\n",
              "      <td>0</td>\n",
              "      <td>0</td>\n",
              "      <td>0</td>\n",
              "      <td>1</td>\n",
              "      <td>0</td>\n",
              "      <td>0</td>\n",
              "      <td>0</td>\n",
              "    </tr>\n",
              "    <tr>\n",
              "      <th>...</th>\n",
              "      <td>...</td>\n",
              "      <td>...</td>\n",
              "      <td>...</td>\n",
              "      <td>...</td>\n",
              "      <td>...</td>\n",
              "      <td>...</td>\n",
              "      <td>...</td>\n",
              "      <td>...</td>\n",
              "      <td>...</td>\n",
              "      <td>...</td>\n",
              "      <td>...</td>\n",
              "      <td>...</td>\n",
              "      <td>...</td>\n",
              "      <td>...</td>\n",
              "      <td>...</td>\n",
              "      <td>...</td>\n",
              "      <td>...</td>\n",
              "      <td>...</td>\n",
              "      <td>...</td>\n",
              "      <td>...</td>\n",
              "      <td>...</td>\n",
              "    </tr>\n",
              "    <tr>\n",
              "      <th>348</th>\n",
              "      <td>2</td>\n",
              "      <td>18000</td>\n",
              "      <td>1150</td>\n",
              "      <td>2</td>\n",
              "      <td>1</td>\n",
              "      <td>1</td>\n",
              "      <td>0</td>\n",
              "      <td>0</td>\n",
              "      <td>0</td>\n",
              "      <td>0</td>\n",
              "      <td>...</td>\n",
              "      <td>0</td>\n",
              "      <td>0</td>\n",
              "      <td>0</td>\n",
              "      <td>0</td>\n",
              "      <td>0</td>\n",
              "      <td>1</td>\n",
              "      <td>0</td>\n",
              "      <td>0</td>\n",
              "      <td>1</td>\n",
              "      <td>0</td>\n",
              "    </tr>\n",
              "    <tr>\n",
              "      <th>349</th>\n",
              "      <td>2</td>\n",
              "      <td>19000</td>\n",
              "      <td>1124</td>\n",
              "      <td>2</td>\n",
              "      <td>1</td>\n",
              "      <td>1</td>\n",
              "      <td>0</td>\n",
              "      <td>0</td>\n",
              "      <td>0</td>\n",
              "      <td>0</td>\n",
              "      <td>...</td>\n",
              "      <td>0</td>\n",
              "      <td>0</td>\n",
              "      <td>0</td>\n",
              "      <td>0</td>\n",
              "      <td>0</td>\n",
              "      <td>1</td>\n",
              "      <td>0</td>\n",
              "      <td>0</td>\n",
              "      <td>0</td>\n",
              "      <td>0</td>\n",
              "    </tr>\n",
              "    <tr>\n",
              "      <th>350</th>\n",
              "      <td>2</td>\n",
              "      <td>30000</td>\n",
              "      <td>1140</td>\n",
              "      <td>2</td>\n",
              "      <td>1</td>\n",
              "      <td>1</td>\n",
              "      <td>0</td>\n",
              "      <td>0</td>\n",
              "      <td>0</td>\n",
              "      <td>0</td>\n",
              "      <td>...</td>\n",
              "      <td>0</td>\n",
              "      <td>0</td>\n",
              "      <td>0</td>\n",
              "      <td>0</td>\n",
              "      <td>0</td>\n",
              "      <td>1</td>\n",
              "      <td>0</td>\n",
              "      <td>0</td>\n",
              "      <td>0</td>\n",
              "      <td>0</td>\n",
              "    </tr>\n",
              "    <tr>\n",
              "      <th>351</th>\n",
              "      <td>3</td>\n",
              "      <td>20000</td>\n",
              "      <td>1100</td>\n",
              "      <td>3</td>\n",
              "      <td>1</td>\n",
              "      <td>1</td>\n",
              "      <td>0</td>\n",
              "      <td>0</td>\n",
              "      <td>0</td>\n",
              "      <td>0</td>\n",
              "      <td>...</td>\n",
              "      <td>0</td>\n",
              "      <td>0</td>\n",
              "      <td>0</td>\n",
              "      <td>0</td>\n",
              "      <td>0</td>\n",
              "      <td>1</td>\n",
              "      <td>0</td>\n",
              "      <td>0</td>\n",
              "      <td>1</td>\n",
              "      <td>0</td>\n",
              "    </tr>\n",
              "    <tr>\n",
              "      <th>352</th>\n",
              "      <td>2</td>\n",
              "      <td>25000</td>\n",
              "      <td>1040</td>\n",
              "      <td>2</td>\n",
              "      <td>1</td>\n",
              "      <td>0</td>\n",
              "      <td>0</td>\n",
              "      <td>0</td>\n",
              "      <td>0</td>\n",
              "      <td>0</td>\n",
              "      <td>...</td>\n",
              "      <td>0</td>\n",
              "      <td>0</td>\n",
              "      <td>0</td>\n",
              "      <td>0</td>\n",
              "      <td>0</td>\n",
              "      <td>1</td>\n",
              "      <td>0</td>\n",
              "      <td>0</td>\n",
              "      <td>0</td>\n",
              "      <td>1</td>\n",
              "    </tr>\n",
              "  </tbody>\n",
              "</table>\n",
              "<p>353 rows × 127 columns</p>\n",
              "</div>\n",
              "      <button class=\"colab-df-convert\" onclick=\"convertToInteractive('df-b153693e-aa7e-48a8-9f45-478e9382e240')\"\n",
              "              title=\"Convert this dataframe to an interactive table.\"\n",
              "              style=\"display:none;\">\n",
              "        \n",
              "  <svg xmlns=\"http://www.w3.org/2000/svg\" height=\"24px\"viewBox=\"0 0 24 24\"\n",
              "       width=\"24px\">\n",
              "    <path d=\"M0 0h24v24H0V0z\" fill=\"none\"/>\n",
              "    <path d=\"M18.56 5.44l.94 2.06.94-2.06 2.06-.94-2.06-.94-.94-2.06-.94 2.06-2.06.94zm-11 1L8.5 8.5l.94-2.06 2.06-.94-2.06-.94L8.5 2.5l-.94 2.06-2.06.94zm10 10l.94 2.06.94-2.06 2.06-.94-2.06-.94-.94-2.06-.94 2.06-2.06.94z\"/><path d=\"M17.41 7.96l-1.37-1.37c-.4-.4-.92-.59-1.43-.59-.52 0-1.04.2-1.43.59L10.3 9.45l-7.72 7.72c-.78.78-.78 2.05 0 2.83L4 21.41c.39.39.9.59 1.41.59.51 0 1.02-.2 1.41-.59l7.78-7.78 2.81-2.81c.8-.78.8-2.07 0-2.86zM5.41 20L4 18.59l7.72-7.72 1.47 1.35L5.41 20z\"/>\n",
              "  </svg>\n",
              "      </button>\n",
              "      \n",
              "  <style>\n",
              "    .colab-df-container {\n",
              "      display:flex;\n",
              "      flex-wrap:wrap;\n",
              "      gap: 12px;\n",
              "    }\n",
              "\n",
              "    .colab-df-convert {\n",
              "      background-color: #E8F0FE;\n",
              "      border: none;\n",
              "      border-radius: 50%;\n",
              "      cursor: pointer;\n",
              "      display: none;\n",
              "      fill: #1967D2;\n",
              "      height: 32px;\n",
              "      padding: 0 0 0 0;\n",
              "      width: 32px;\n",
              "    }\n",
              "\n",
              "    .colab-df-convert:hover {\n",
              "      background-color: #E2EBFA;\n",
              "      box-shadow: 0px 1px 2px rgba(60, 64, 67, 0.3), 0px 1px 3px 1px rgba(60, 64, 67, 0.15);\n",
              "      fill: #174EA6;\n",
              "    }\n",
              "\n",
              "    [theme=dark] .colab-df-convert {\n",
              "      background-color: #3B4455;\n",
              "      fill: #D2E3FC;\n",
              "    }\n",
              "\n",
              "    [theme=dark] .colab-df-convert:hover {\n",
              "      background-color: #434B5C;\n",
              "      box-shadow: 0px 1px 3px 1px rgba(0, 0, 0, 0.15);\n",
              "      filter: drop-shadow(0px 1px 2px rgba(0, 0, 0, 0.3));\n",
              "      fill: #FFFFFF;\n",
              "    }\n",
              "  </style>\n",
              "\n",
              "      <script>\n",
              "        const buttonEl =\n",
              "          document.querySelector('#df-b153693e-aa7e-48a8-9f45-478e9382e240 button.colab-df-convert');\n",
              "        buttonEl.style.display =\n",
              "          google.colab.kernel.accessAllowed ? 'block' : 'none';\n",
              "\n",
              "        async function convertToInteractive(key) {\n",
              "          const element = document.querySelector('#df-b153693e-aa7e-48a8-9f45-478e9382e240');\n",
              "          const dataTable =\n",
              "            await google.colab.kernel.invokeFunction('convertToInteractive',\n",
              "                                                     [key], {});\n",
              "          if (!dataTable) return;\n",
              "\n",
              "          const docLinkHtml = 'Like what you see? Visit the ' +\n",
              "            '<a target=\"_blank\" href=https://colab.research.google.com/notebooks/data_table.ipynb>data table notebook</a>'\n",
              "            + ' to learn more about interactive tables.';\n",
              "          element.innerHTML = '';\n",
              "          dataTable['output_type'] = 'display_data';\n",
              "          await google.colab.output.renderOutput(dataTable, element);\n",
              "          const docLink = document.createElement('div');\n",
              "          docLink.innerHTML = docLinkHtml;\n",
              "          element.appendChild(docLink);\n",
              "        }\n",
              "      </script>\n",
              "    </div>\n",
              "  </div>\n",
              "  "
            ]
          },
          "metadata": {},
          "execution_count": 314
        }
      ]
    },
    {
      "cell_type": "code",
      "source": [
        "X = df3.drop('Rent', 1)       # feature matrix\n",
        "y = df3['Rent']               # target feature\n",
        "y.head()"
      ],
      "metadata": {
        "colab": {
          "base_uri": "https://localhost:8080/"
        },
        "id": "TOh9Gi-_oas2",
        "outputId": "e979aadc-348a-4a65-f16b-39d937fd8797"
      },
      "execution_count": 315,
      "outputs": [
        {
          "output_type": "execute_result",
          "data": {
            "text/plain": [
              "0    22000\n",
              "1    21000\n",
              "2    20000\n",
              "3    20000\n",
              "4    25000\n",
              "Name: Rent, dtype: int64"
            ]
          },
          "metadata": {},
          "execution_count": 315
        }
      ]
    },
    {
      "cell_type": "markdown",
      "source": [
        "Realizamos una evaluación en donde podemos observar qué tan bien explican las características seleccionadas los datos del modelo. Para ello, podemos observar los valores del r2."
      ],
      "metadata": {
        "id": "Gk15plk9tkND"
      }
    },
    {
      "cell_type": "code",
      "source": [
        "sfs.fit(X, y)\n",
        "sfs.k_feature_names_    #Lista final de features"
      ],
      "metadata": {
        "colab": {
          "base_uri": "https://localhost:8080/"
        },
        "id": "AEa90byfsBDO",
        "outputId": "dc3e21ed-2f16-46c3-89b4-81b041817575"
      },
      "execution_count": 316,
      "outputs": [
        {
          "output_type": "execute_result",
          "data": {
            "text/plain": [
              "('Size',\n",
              " 'Point of Contact',\n",
              " 'Floor_10 out of 14',\n",
              " 'Floor_12 out of 25',\n",
              " 'Floor_14 out of 40',\n",
              " 'Floor_15 out of 15',\n",
              " 'Floor_16 out of 32',\n",
              " 'Floor_7 out of 7',\n",
              " 'City_Delhi',\n",
              " 'City_Mumbai')"
            ]
          },
          "metadata": {},
          "execution_count": 316
        }
      ]
    },
    {
      "cell_type": "code",
      "source": [
        "model1 = sm.OLS(y, sm.add_constant(df3[['Size',\n",
        " 'Point of Contact',\n",
        " 'Floor_10 out of 14',\n",
        " 'Floor_12 out of 25',\n",
        " 'Floor_14 out of 40',\n",
        " 'Floor_15 out of 15',\n",
        " 'Floor_16 out of 32',\n",
        " 'Floor_7 out of 7',\n",
        " 'City_Delhi',\n",
        " 'City_Mumbai']])).fit()\n",
        "print(model1.pvalues)"
      ],
      "metadata": {
        "colab": {
          "base_uri": "https://localhost:8080/"
        },
        "id": "kQyVeA5OromB",
        "outputId": "eb43be5f-c623-48ca-a404-969af919f759"
      },
      "execution_count": 317,
      "outputs": [
        {
          "output_type": "stream",
          "name": "stdout",
          "text": [
            "const                 4.145358e-01\n",
            "Size                  3.437525e-05\n",
            "Point of Contact      2.099660e-05\n",
            "Floor_10 out of 14    6.183256e-03\n",
            "Floor_12 out of 25    1.339021e-03\n",
            "Floor_14 out of 40    8.186121e-03\n",
            "Floor_15 out of 15    1.011798e-05\n",
            "Floor_16 out of 32    1.008153e-04\n",
            "Floor_7 out of 7      3.432608e-06\n",
            "City_Delhi            6.420783e-10\n",
            "City_Mumbai           1.046399e-99\n",
            "dtype: float64\n"
          ]
        }
      ]
    },
    {
      "cell_type": "code",
      "source": [
        "model1.rsquared_adj"
      ],
      "metadata": {
        "id": "Gq0aq3EPsAAV",
        "colab": {
          "base_uri": "https://localhost:8080/"
        },
        "outputId": "a668adfa-8870-44c3-a38e-1fbfdfc0d35f"
      },
      "execution_count": 318,
      "outputs": [
        {
          "output_type": "execute_result",
          "data": {
            "text/plain": [
              "0.7896463517507564"
            ]
          },
          "metadata": {},
          "execution_count": 318
        }
      ]
    },
    {
      "cell_type": "markdown",
      "source": [
        "##Forward Selection"
      ],
      "metadata": {
        "id": "pE2xETTRtPWe"
      }
    },
    {
      "cell_type": "code",
      "metadata": {
        "id": "4Cao21O30FF1"
      },
      "source": [
        "import warnings\n",
        "warnings.filterwarnings(\"ignore\")\n",
        "\n",
        "def forward_selection(data, target, significance_level=0.01):\n",
        "    initial_features = data.columns.tolist()\n",
        "    best_features = []\n",
        "    while (len(initial_features)>0):\n",
        "        remaining_features = list(set(initial_features)-set(best_features))\n",
        "        new_pval = pd.Series(index=remaining_features)\n",
        "        for new_column in remaining_features:\n",
        "            model = sm.OLS(target, sm.add_constant(data[best_features+[new_column]])).fit()\n",
        "            new_pval[new_column] = model.pvalues[new_column]\n",
        "        min_p_value = new_pval.min()\n",
        "        if(min_p_value<significance_level):\n",
        "            best_features.append(new_pval.idxmin())\n",
        "        else:\n",
        "            break\n",
        "    return best_features"
      ],
      "execution_count": 319,
      "outputs": []
    },
    {
      "cell_type": "code",
      "metadata": {
        "id": "grZpRRre1tnT",
        "colab": {
          "base_uri": "https://localhost:8080/"
        },
        "outputId": "30dbab65-6421-4177-e85a-f76f42ba194c"
      },
      "source": [
        "forward_selection(X,y)"
      ],
      "execution_count": 320,
      "outputs": [
        {
          "output_type": "execute_result",
          "data": {
            "text/plain": [
              "['City_Mumbai',\n",
              " 'Point of Contact',\n",
              " 'City_Delhi',\n",
              " 'Floor_7 out of 7',\n",
              " 'Size',\n",
              " 'Floor_15 out of 15',\n",
              " 'Floor_16 out of 32',\n",
              " 'Floor_12 out of 25',\n",
              " 'Floor_10 out of 14',\n",
              " 'Floor_14 out of 40',\n",
              " 'Furnishing Status_Semi-Furnished',\n",
              " 'Furnishing Status_Unfurnished',\n",
              " 'BHK',\n",
              " 'Floor_3 out of 4']"
            ]
          },
          "metadata": {},
          "execution_count": 320
        }
      ]
    },
    {
      "cell_type": "markdown",
      "source": [
        "Realizamos una evaluación en donde podemos observar qué tan bien explican las características seleccionadas por la selección hacia adelante de los datos del modelo. Para ello, podemos observar los valores del r2."
      ],
      "metadata": {
        "id": "EF6jPjWNsq5r"
      }
    },
    {
      "cell_type": "code",
      "source": [
        "model2 = sm.OLS(y, sm.add_constant(df3[['City_Mumbai',\n",
        " 'Point of Contact',\n",
        " 'City_Delhi',\n",
        " 'Floor_7 out of 7',\n",
        " 'Size',\n",
        " 'Floor_15 out of 15',\n",
        " 'Floor_16 out of 32',\n",
        " 'Floor_12 out of 25',\n",
        " 'Floor_10 out of 14',\n",
        " 'Floor_14 out of 40',\n",
        " 'Furnishing Status_Semi-Furnished',\n",
        " 'Furnishing Status_Unfurnished',\n",
        " 'BHK',\n",
        " 'Floor_3 out of 4']])).fit()\n",
        "print(model2.pvalues)"
      ],
      "metadata": {
        "id": "atY4kYb0OlPm",
        "colab": {
          "base_uri": "https://localhost:8080/"
        },
        "outputId": "f48f6283-2af8-4f1e-99b2-53b283c5bfa4"
      },
      "execution_count": 321,
      "outputs": [
        {
          "output_type": "stream",
          "name": "stdout",
          "text": [
            "const                               2.142793e-01\n",
            "City_Mumbai                         2.112620e-96\n",
            "Point of Contact                    2.550445e-06\n",
            "City_Delhi                          4.966932e-11\n",
            "Floor_7 out of 7                    5.615478e-06\n",
            "Size                                2.232212e-04\n",
            "Floor_15 out of 15                  1.193535e-06\n",
            "Floor_16 out of 32                  1.251394e-04\n",
            "Floor_12 out of 25                  2.085337e-03\n",
            "Floor_10 out of 14                  5.074216e-04\n",
            "Floor_14 out of 40                  1.711393e-02\n",
            "Furnishing Status_Semi-Furnished    4.545873e-06\n",
            "Furnishing Status_Unfurnished       6.938967e-05\n",
            "BHK                                 2.857741e-03\n",
            "Floor_3 out of 4                    4.820455e-03\n",
            "dtype: float64\n"
          ]
        }
      ]
    },
    {
      "cell_type": "code",
      "source": [
        "model2.rsquared_adj"
      ],
      "metadata": {
        "id": "nB_UGgR7OlPn",
        "colab": {
          "base_uri": "https://localhost:8080/"
        },
        "outputId": "28e91960-14b0-4f03-c077-6f8ea43da168"
      },
      "execution_count": 322,
      "outputs": [
        {
          "output_type": "execute_result",
          "data": {
            "text/plain": [
              "0.8072760074068519"
            ]
          },
          "metadata": {},
          "execution_count": 322
        }
      ]
    },
    {
      "cell_type": "markdown",
      "source": [
        "Podemos concluir al observar el r2 ajustado que utilizando las características más relevantes obtenidas con la reducción de dimensionalidad pudimos obtener un r2 del 81% aproximadamente."
      ],
      "metadata": {
        "id": "kWvZ_w6BuI0g"
      }
    },
    {
      "cell_type": "markdown",
      "source": [
        "#Metricas algoritmos de clasificación"
      ],
      "metadata": {
        "id": "ZS3grJlaHYN1"
      }
    },
    {
      "cell_type": "markdown",
      "source": [
        "Realizamos el entrenamiento de nuestros datos y luego obetnemos las prediciones del modelo. Utilizamos un gráfico de confusión para visualizar el desempeño del algoritmo."
      ],
      "metadata": {
        "id": "m6L2aTjExgFL"
      }
    },
    {
      "cell_type": "code",
      "source": [
        "X=df3[['City_Mumbai',\n",
        " 'City_Delhi',\n",
        " 'Floor_7 out of 7',\n",
        " 'Size',\n",
        " 'Floor_15 out of 15',\n",
        " 'Floor_16 out of 32',\n",
        " 'Floor_12 out of 25',\n",
        " 'Floor_10 out of 14',\n",
        " 'Floor_14 out of 40',\n",
        " 'Furnishing Status_Semi-Furnished',\n",
        " 'Furnishing Status_Unfurnished',\n",
        " 'BHK',\n",
        " 'Floor_3 out of 4']]"
      ],
      "metadata": {
        "id": "bGOYCazB2NBM"
      },
      "execution_count": 323,
      "outputs": []
    },
    {
      "cell_type": "code",
      "source": [
        " y=df3['Point of Contact']  "
      ],
      "metadata": {
        "id": "snRNZj859i8T"
      },
      "execution_count": 324,
      "outputs": []
    },
    {
      "cell_type": "code",
      "source": [
        "X"
      ],
      "metadata": {
        "id": "SfF6xWN56XmD",
        "colab": {
          "base_uri": "https://localhost:8080/",
          "height": 485
        },
        "outputId": "743d1842-9238-431c-ee1d-ba0615f6811c"
      },
      "execution_count": 325,
      "outputs": [
        {
          "output_type": "execute_result",
          "data": {
            "text/plain": [
              "     City_Mumbai  City_Delhi  Floor_7 out of 7  Size  Floor_15 out of 15  \\\n",
              "0              0           0                 0  1100                   0   \n",
              "1              0           0                 0   900                   0   \n",
              "2              0           0                 0  1000                   0   \n",
              "3              0           0                 0  1000                   0   \n",
              "4              0           0                 0  1100                   0   \n",
              "..           ...         ...               ...   ...                 ...   \n",
              "348            0           0                 0  1150                   0   \n",
              "349            0           0                 0  1124                   0   \n",
              "350            0           0                 0  1140                   0   \n",
              "351            0           0                 0  1100                   0   \n",
              "352            0           0                 0  1040                   0   \n",
              "\n",
              "     Floor_16 out of 32  Floor_12 out of 25  Floor_10 out of 14  \\\n",
              "0                     0                   0                   0   \n",
              "1                     0                   0                   0   \n",
              "2                     0                   0                   0   \n",
              "3                     0                   0                   0   \n",
              "4                     0                   0                   0   \n",
              "..                  ...                 ...                 ...   \n",
              "348                   0                   0                   0   \n",
              "349                   0                   0                   0   \n",
              "350                   0                   0                   0   \n",
              "351                   0                   0                   0   \n",
              "352                   0                   0                   0   \n",
              "\n",
              "     Floor_14 out of 40  Furnishing Status_Semi-Furnished  \\\n",
              "0                     0                                 0   \n",
              "1                     0                                 1   \n",
              "2                     0                                 1   \n",
              "3                     0                                 0   \n",
              "4                     0                                 0   \n",
              "..                  ...                               ...   \n",
              "348                   0                                 1   \n",
              "349                   0                                 0   \n",
              "350                   0                                 0   \n",
              "351                   0                                 1   \n",
              "352                   0                                 0   \n",
              "\n",
              "     Furnishing Status_Unfurnished  BHK  Floor_3 out of 4  \n",
              "0                                1    3                 0  \n",
              "1                                0    2                 0  \n",
              "2                                0    6                 0  \n",
              "3                                0    2                 0  \n",
              "4                                0    2                 0  \n",
              "..                             ...  ...               ...  \n",
              "348                              0    2                 0  \n",
              "349                              0    2                 0  \n",
              "350                              0    2                 0  \n",
              "351                              0    3                 0  \n",
              "352                              1    2                 0  \n",
              "\n",
              "[353 rows x 13 columns]"
            ],
            "text/html": [
              "\n",
              "  <div id=\"df-59da461b-0c2c-4641-8b4b-e9f9c7809c07\">\n",
              "    <div class=\"colab-df-container\">\n",
              "      <div>\n",
              "<style scoped>\n",
              "    .dataframe tbody tr th:only-of-type {\n",
              "        vertical-align: middle;\n",
              "    }\n",
              "\n",
              "    .dataframe tbody tr th {\n",
              "        vertical-align: top;\n",
              "    }\n",
              "\n",
              "    .dataframe thead th {\n",
              "        text-align: right;\n",
              "    }\n",
              "</style>\n",
              "<table border=\"1\" class=\"dataframe\">\n",
              "  <thead>\n",
              "    <tr style=\"text-align: right;\">\n",
              "      <th></th>\n",
              "      <th>City_Mumbai</th>\n",
              "      <th>City_Delhi</th>\n",
              "      <th>Floor_7 out of 7</th>\n",
              "      <th>Size</th>\n",
              "      <th>Floor_15 out of 15</th>\n",
              "      <th>Floor_16 out of 32</th>\n",
              "      <th>Floor_12 out of 25</th>\n",
              "      <th>Floor_10 out of 14</th>\n",
              "      <th>Floor_14 out of 40</th>\n",
              "      <th>Furnishing Status_Semi-Furnished</th>\n",
              "      <th>Furnishing Status_Unfurnished</th>\n",
              "      <th>BHK</th>\n",
              "      <th>Floor_3 out of 4</th>\n",
              "    </tr>\n",
              "  </thead>\n",
              "  <tbody>\n",
              "    <tr>\n",
              "      <th>0</th>\n",
              "      <td>0</td>\n",
              "      <td>0</td>\n",
              "      <td>0</td>\n",
              "      <td>1100</td>\n",
              "      <td>0</td>\n",
              "      <td>0</td>\n",
              "      <td>0</td>\n",
              "      <td>0</td>\n",
              "      <td>0</td>\n",
              "      <td>0</td>\n",
              "      <td>1</td>\n",
              "      <td>3</td>\n",
              "      <td>0</td>\n",
              "    </tr>\n",
              "    <tr>\n",
              "      <th>1</th>\n",
              "      <td>0</td>\n",
              "      <td>0</td>\n",
              "      <td>0</td>\n",
              "      <td>900</td>\n",
              "      <td>0</td>\n",
              "      <td>0</td>\n",
              "      <td>0</td>\n",
              "      <td>0</td>\n",
              "      <td>0</td>\n",
              "      <td>1</td>\n",
              "      <td>0</td>\n",
              "      <td>2</td>\n",
              "      <td>0</td>\n",
              "    </tr>\n",
              "    <tr>\n",
              "      <th>2</th>\n",
              "      <td>0</td>\n",
              "      <td>0</td>\n",
              "      <td>0</td>\n",
              "      <td>1000</td>\n",
              "      <td>0</td>\n",
              "      <td>0</td>\n",
              "      <td>0</td>\n",
              "      <td>0</td>\n",
              "      <td>0</td>\n",
              "      <td>1</td>\n",
              "      <td>0</td>\n",
              "      <td>6</td>\n",
              "      <td>0</td>\n",
              "    </tr>\n",
              "    <tr>\n",
              "      <th>3</th>\n",
              "      <td>0</td>\n",
              "      <td>0</td>\n",
              "      <td>0</td>\n",
              "      <td>1000</td>\n",
              "      <td>0</td>\n",
              "      <td>0</td>\n",
              "      <td>0</td>\n",
              "      <td>0</td>\n",
              "      <td>0</td>\n",
              "      <td>0</td>\n",
              "      <td>0</td>\n",
              "      <td>2</td>\n",
              "      <td>0</td>\n",
              "    </tr>\n",
              "    <tr>\n",
              "      <th>4</th>\n",
              "      <td>0</td>\n",
              "      <td>0</td>\n",
              "      <td>0</td>\n",
              "      <td>1100</td>\n",
              "      <td>0</td>\n",
              "      <td>0</td>\n",
              "      <td>0</td>\n",
              "      <td>0</td>\n",
              "      <td>0</td>\n",
              "      <td>0</td>\n",
              "      <td>0</td>\n",
              "      <td>2</td>\n",
              "      <td>0</td>\n",
              "    </tr>\n",
              "    <tr>\n",
              "      <th>...</th>\n",
              "      <td>...</td>\n",
              "      <td>...</td>\n",
              "      <td>...</td>\n",
              "      <td>...</td>\n",
              "      <td>...</td>\n",
              "      <td>...</td>\n",
              "      <td>...</td>\n",
              "      <td>...</td>\n",
              "      <td>...</td>\n",
              "      <td>...</td>\n",
              "      <td>...</td>\n",
              "      <td>...</td>\n",
              "      <td>...</td>\n",
              "    </tr>\n",
              "    <tr>\n",
              "      <th>348</th>\n",
              "      <td>0</td>\n",
              "      <td>0</td>\n",
              "      <td>0</td>\n",
              "      <td>1150</td>\n",
              "      <td>0</td>\n",
              "      <td>0</td>\n",
              "      <td>0</td>\n",
              "      <td>0</td>\n",
              "      <td>0</td>\n",
              "      <td>1</td>\n",
              "      <td>0</td>\n",
              "      <td>2</td>\n",
              "      <td>0</td>\n",
              "    </tr>\n",
              "    <tr>\n",
              "      <th>349</th>\n",
              "      <td>0</td>\n",
              "      <td>0</td>\n",
              "      <td>0</td>\n",
              "      <td>1124</td>\n",
              "      <td>0</td>\n",
              "      <td>0</td>\n",
              "      <td>0</td>\n",
              "      <td>0</td>\n",
              "      <td>0</td>\n",
              "      <td>0</td>\n",
              "      <td>0</td>\n",
              "      <td>2</td>\n",
              "      <td>0</td>\n",
              "    </tr>\n",
              "    <tr>\n",
              "      <th>350</th>\n",
              "      <td>0</td>\n",
              "      <td>0</td>\n",
              "      <td>0</td>\n",
              "      <td>1140</td>\n",
              "      <td>0</td>\n",
              "      <td>0</td>\n",
              "      <td>0</td>\n",
              "      <td>0</td>\n",
              "      <td>0</td>\n",
              "      <td>0</td>\n",
              "      <td>0</td>\n",
              "      <td>2</td>\n",
              "      <td>0</td>\n",
              "    </tr>\n",
              "    <tr>\n",
              "      <th>351</th>\n",
              "      <td>0</td>\n",
              "      <td>0</td>\n",
              "      <td>0</td>\n",
              "      <td>1100</td>\n",
              "      <td>0</td>\n",
              "      <td>0</td>\n",
              "      <td>0</td>\n",
              "      <td>0</td>\n",
              "      <td>0</td>\n",
              "      <td>1</td>\n",
              "      <td>0</td>\n",
              "      <td>3</td>\n",
              "      <td>0</td>\n",
              "    </tr>\n",
              "    <tr>\n",
              "      <th>352</th>\n",
              "      <td>0</td>\n",
              "      <td>0</td>\n",
              "      <td>0</td>\n",
              "      <td>1040</td>\n",
              "      <td>0</td>\n",
              "      <td>0</td>\n",
              "      <td>0</td>\n",
              "      <td>0</td>\n",
              "      <td>0</td>\n",
              "      <td>0</td>\n",
              "      <td>1</td>\n",
              "      <td>2</td>\n",
              "      <td>0</td>\n",
              "    </tr>\n",
              "  </tbody>\n",
              "</table>\n",
              "<p>353 rows × 13 columns</p>\n",
              "</div>\n",
              "      <button class=\"colab-df-convert\" onclick=\"convertToInteractive('df-59da461b-0c2c-4641-8b4b-e9f9c7809c07')\"\n",
              "              title=\"Convert this dataframe to an interactive table.\"\n",
              "              style=\"display:none;\">\n",
              "        \n",
              "  <svg xmlns=\"http://www.w3.org/2000/svg\" height=\"24px\"viewBox=\"0 0 24 24\"\n",
              "       width=\"24px\">\n",
              "    <path d=\"M0 0h24v24H0V0z\" fill=\"none\"/>\n",
              "    <path d=\"M18.56 5.44l.94 2.06.94-2.06 2.06-.94-2.06-.94-.94-2.06-.94 2.06-2.06.94zm-11 1L8.5 8.5l.94-2.06 2.06-.94-2.06-.94L8.5 2.5l-.94 2.06-2.06.94zm10 10l.94 2.06.94-2.06 2.06-.94-2.06-.94-.94-2.06-.94 2.06-2.06.94z\"/><path d=\"M17.41 7.96l-1.37-1.37c-.4-.4-.92-.59-1.43-.59-.52 0-1.04.2-1.43.59L10.3 9.45l-7.72 7.72c-.78.78-.78 2.05 0 2.83L4 21.41c.39.39.9.59 1.41.59.51 0 1.02-.2 1.41-.59l7.78-7.78 2.81-2.81c.8-.78.8-2.07 0-2.86zM5.41 20L4 18.59l7.72-7.72 1.47 1.35L5.41 20z\"/>\n",
              "  </svg>\n",
              "      </button>\n",
              "      \n",
              "  <style>\n",
              "    .colab-df-container {\n",
              "      display:flex;\n",
              "      flex-wrap:wrap;\n",
              "      gap: 12px;\n",
              "    }\n",
              "\n",
              "    .colab-df-convert {\n",
              "      background-color: #E8F0FE;\n",
              "      border: none;\n",
              "      border-radius: 50%;\n",
              "      cursor: pointer;\n",
              "      display: none;\n",
              "      fill: #1967D2;\n",
              "      height: 32px;\n",
              "      padding: 0 0 0 0;\n",
              "      width: 32px;\n",
              "    }\n",
              "\n",
              "    .colab-df-convert:hover {\n",
              "      background-color: #E2EBFA;\n",
              "      box-shadow: 0px 1px 2px rgba(60, 64, 67, 0.3), 0px 1px 3px 1px rgba(60, 64, 67, 0.15);\n",
              "      fill: #174EA6;\n",
              "    }\n",
              "\n",
              "    [theme=dark] .colab-df-convert {\n",
              "      background-color: #3B4455;\n",
              "      fill: #D2E3FC;\n",
              "    }\n",
              "\n",
              "    [theme=dark] .colab-df-convert:hover {\n",
              "      background-color: #434B5C;\n",
              "      box-shadow: 0px 1px 3px 1px rgba(0, 0, 0, 0.15);\n",
              "      filter: drop-shadow(0px 1px 2px rgba(0, 0, 0, 0.3));\n",
              "      fill: #FFFFFF;\n",
              "    }\n",
              "  </style>\n",
              "\n",
              "      <script>\n",
              "        const buttonEl =\n",
              "          document.querySelector('#df-59da461b-0c2c-4641-8b4b-e9f9c7809c07 button.colab-df-convert');\n",
              "        buttonEl.style.display =\n",
              "          google.colab.kernel.accessAllowed ? 'block' : 'none';\n",
              "\n",
              "        async function convertToInteractive(key) {\n",
              "          const element = document.querySelector('#df-59da461b-0c2c-4641-8b4b-e9f9c7809c07');\n",
              "          const dataTable =\n",
              "            await google.colab.kernel.invokeFunction('convertToInteractive',\n",
              "                                                     [key], {});\n",
              "          if (!dataTable) return;\n",
              "\n",
              "          const docLinkHtml = 'Like what you see? Visit the ' +\n",
              "            '<a target=\"_blank\" href=https://colab.research.google.com/notebooks/data_table.ipynb>data table notebook</a>'\n",
              "            + ' to learn more about interactive tables.';\n",
              "          element.innerHTML = '';\n",
              "          dataTable['output_type'] = 'display_data';\n",
              "          await google.colab.output.renderOutput(dataTable, element);\n",
              "          const docLink = document.createElement('div');\n",
              "          docLink.innerHTML = docLinkHtml;\n",
              "          element.appendChild(docLink);\n",
              "        }\n",
              "      </script>\n",
              "    </div>\n",
              "  </div>\n",
              "  "
            ]
          },
          "metadata": {},
          "execution_count": 325
        }
      ]
    },
    {
      "cell_type": "code",
      "source": [
        "from sklearn import metrics\n",
        "from sklearn.metrics import confusion_matrix\n",
        "from sklearn.model_selection import train_test_split\n",
        "from sklearn.ensemble import RandomForestClassifier\n",
        "\n",
        "# Separamos en entrenamiento/test en razon 70/30 %\n",
        "X_train, X_test, y_train, y_test = train_test_split(X,y,test_size=0.3, random_state=1)\n",
        "\n",
        "# Creamos un modelo Random Forest con parametros por defecto\n",
        "modelo = RandomForestClassifier(random_state=1)\n",
        "modelo.fit(X_train, y_train)\n",
        "\n",
        "# Obtenemos las predicciones del modelo con X_test\n",
        "y_pred = modelo.predict(X_test) \n",
        "\n",
        "plt.figure(figsize=(12,6))\n",
        "metrics.plot_confusion_matrix(modelo, X_test, y_test, display_labels=['Negative', 'Positive'],cmap=\"rocket\")"
      ],
      "metadata": {
        "id": "38mkB56hIs1x",
        "colab": {
          "base_uri": "https://localhost:8080/",
          "height": 324
        },
        "outputId": "a9bf028e-b470-45d2-9e9e-a0c52a705040"
      },
      "execution_count": 326,
      "outputs": [
        {
          "output_type": "execute_result",
          "data": {
            "text/plain": [
              "<sklearn.metrics._plot.confusion_matrix.ConfusionMatrixDisplay at 0x7f98fbe52cd0>"
            ]
          },
          "metadata": {},
          "execution_count": 326
        },
        {
          "output_type": "display_data",
          "data": {
            "text/plain": [
              "<Figure size 864x432 with 0 Axes>"
            ]
          },
          "metadata": {}
        },
        {
          "output_type": "display_data",
          "data": {
            "text/plain": [
              "<Figure size 432x288 with 2 Axes>"
            ],
            "image/png": "[encoded data removed]"
          },
          "metadata": {
            "needs_background": "light"
          }
        }
      ]
    },
    {
      "cell_type": "code",
      "source": [
        "# Exactitud se puede evaluar para cada categoria\n",
        "accuracy = metrics.accuracy_score(y_test, y_pred)\n",
        "accuracy "
      ],
      "metadata": {
        "id": "1wNfcUUaq3ce",
        "colab": {
          "base_uri": "https://localhost:8080/"
        },
        "outputId": "8a67bf0d-1444-41ce-9515-d96161f30326"
      },
      "execution_count": 327,
      "outputs": [
        {
          "output_type": "execute_result",
          "data": {
            "text/plain": [
              "0.6981132075471698"
            ]
          },
          "metadata": {},
          "execution_count": 327
        }
      ]
    },
    {
      "cell_type": "code",
      "source": [
        "# Precision se puede evaluar para cada categoria\n",
        "precision_positiva = metrics.precision_score(y_test, y_pred, pos_label=1)\n",
        "precision_negativa = metrics.precision_score(y_test, y_pred, pos_label=0)\n",
        "precision_positiva, precision_negativa "
      ],
      "metadata": {
        "id": "m5SUP2wc3vDj",
        "colab": {
          "base_uri": "https://localhost:8080/"
        },
        "outputId": "c7d8a9fe-1e02-4bf9-82d8-514079ba25ff"
      },
      "execution_count": 328,
      "outputs": [
        {
          "output_type": "execute_result",
          "data": {
            "text/plain": [
              "(0.7333333333333333, 0.6129032258064516)"
            ]
          },
          "metadata": {},
          "execution_count": 328
        }
      ]
    },
    {
      "cell_type": "code",
      "source": [
        "# Recall se puede evaluar para cada categoria\n",
        "recall_sensibilidad = metrics.recall_score(y_test, y_pred, pos_label=1)\n",
        "recall_especificidad= metrics.recall_score(y_test, y_pred, pos_label=0)\n",
        "recall_sensibilidad, recall_especificidad"
      ],
      "metadata": {
        "id": "oCMxTEyJ35cd",
        "colab": {
          "base_uri": "https://localhost:8080/"
        },
        "outputId": "d666270b-fb9b-4da4-a013-0ab8b29f1e33"
      },
      "execution_count": 329,
      "outputs": [
        {
          "output_type": "execute_result",
          "data": {
            "text/plain": [
              "(0.8208955223880597, 0.48717948717948717)"
            ]
          },
          "metadata": {},
          "execution_count": 329
        }
      ]
    },
    {
      "cell_type": "code",
      "source": [
        "# F1 se puede evaluar para cada categoria\n",
        "f1_positivo = metrics.f1_score(y_test, y_pred, pos_label=1)\n",
        "f1_negativo = metrics.f1_score(y_test, y_pred, pos_label=0)\n",
        "f1_positivo, f1_negativo "
      ],
      "metadata": {
        "id": "xHGJQGQt4EED",
        "colab": {
          "base_uri": "https://localhost:8080/"
        },
        "outputId": "c45628f0-411e-4224-9401-24e1747aee08"
      },
      "execution_count": 330,
      "outputs": [
        {
          "output_type": "execute_result",
          "data": {
            "text/plain": [
              "(0.7746478873239437, 0.5428571428571428)"
            ]
          },
          "metadata": {},
          "execution_count": 330
        }
      ]
    },
    {
      "cell_type": "code",
      "source": [
        "# Todas las metricas en uno\n",
        "print(metrics.classification_report(y_test, y_pred))"
      ],
      "metadata": {
        "id": "W6kWKLxy4JMs",
        "colab": {
          "base_uri": "https://localhost:8080/"
        },
        "outputId": "c9156c77-2a5c-4274-d5d4-8adce66d1483"
      },
      "execution_count": 331,
      "outputs": [
        {
          "output_type": "stream",
          "name": "stdout",
          "text": [
            "              precision    recall  f1-score   support\n",
            "\n",
            "           0       0.61      0.49      0.54        39\n",
            "           1       0.73      0.82      0.77        67\n",
            "\n",
            "    accuracy                           0.70       106\n",
            "   macro avg       0.67      0.65      0.66       106\n",
            "weighted avg       0.69      0.70      0.69       106\n",
            "\n"
          ]
        }
      ]
    },
    {
      "cell_type": "code",
      "source": [
        "confusion = metrics.confusion_matrix(y_test, y_pred)\n",
        "confusion.ravel()"
      ],
      "metadata": {
        "colab": {
          "base_uri": "https://localhost:8080/"
        },
        "id": "ZXpzbem33oOw",
        "outputId": "b1f71d11-3454-4168-c6a4-b42d12fbb018"
      },
      "execution_count": 332,
      "outputs": [
        {
          "output_type": "execute_result",
          "data": {
            "text/plain": [
              "array([19, 20, 12, 55])"
            ]
          },
          "metadata": {},
          "execution_count": 332
        }
      ]
    },
    {
      "cell_type": "code",
      "source": [
        "#Resumen de metricas con formulas a partir de la matriz obtenida\n",
        "VN=confusion[0,0]\n",
        "VP=confusion[1,1]\n",
        "FN=confusion[1,0]\n",
        "FP=confusion[0,1]\n",
        "\n",
        "sensibilidad=VP/float(VP+FN)\n",
        "especificidad=VN/float(VN+FP)\n",
        "Precision=VP/float(VP+FP)\n",
        "Accuracy=(VP+VN)/float(VP+FP+FN+VN)\n",
        "\n",
        "print('Sensibilidad:', sensibilidad)\n",
        "print('Especificidad:', especificidad)\n",
        "print('Precision:', Precision)\n",
        "print('Accuracy:', Accuracy)"
      ],
      "metadata": {
        "colab": {
          "base_uri": "https://localhost:8080/"
        },
        "id": "UZGsNvyMxZ6i",
        "outputId": "f2070046-f3e1-463e-8fc4-e4220b67016e"
      },
      "execution_count": 333,
      "outputs": [
        {
          "output_type": "stream",
          "name": "stdout",
          "text": [
            "Sensibilidad: 0.8208955223880597\n",
            "Especificidad: 0.48717948717948717\n",
            "Precision: 0.7333333333333333\n",
            "Accuracy: 0.6981132075471698\n"
          ]
        }
      ]
    },
    {
      "cell_type": "markdown",
      "source": [
        "Nuestra matriz de confusión nos muestra que el modelo clasifica bien la no ocurrencia, lo que se ve reflejado con una precisión del modelo del 73%. En cambio, no es buen predictor de los casos negativos, ya que tiene una especificidad del 49%, o sea que solo clasifica bien los casos negativos en la mitad de las veces.\n",
        "Ademas el total de elementos clasificados correctamente es del 70%. \n",
        "\n",
        "Podemos concluir al observar los valores de precisión y recall (sensibilidad) que el modelo en general maneja muy bien la clasificación de los distintos casos."
      ],
      "metadata": {
        "id": "yzXV6ZvWMNr5"
      }
    },
    {
      "cell_type": "markdown",
      "source": [
        "Al realizar una evaluación del desempeño de nuestro algoritmo pudimos ver qué tipos de aciertos y errores tuvo nuestro modelo, logrando una exactitud (accuracy) del 91% total de elementos clasificados correctamente.\n",
        "En términos de aciertos y errores, el algoritmo apenas obtuvo 24 falsos positivos, y 60 falsos negativos, mientras que logró alcanzar 615 verdaderos positivos y 251 verdaderos negativos.\n",
        "\n",
        "Podemos concluir al observar el F1-Score, y los altos valores de precisión y recall que el modelo maneja muy bien esa clase.\n"
      ],
      "metadata": {
        "id": "bGSL_2SDwCPQ"
      }
    }
  ]
}
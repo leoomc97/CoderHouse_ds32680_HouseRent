{
  "cells": [
    {
      "cell_type": "markdown",
      "metadata": {
        "id": "6C4lQmgER2YP"
      },
      "source": [
        "\n",
        "\n",
        "#      **Trabajo Nº 5. Estructurando proyecto DS lll **\n",
        "\n",
        "\n",
        "\n",
        "\n",
        "\n",
        "\n"
      ]
    },
    {
      "cell_type": "markdown",
      "metadata": {
        "id": "0Za1JcXVSKiP"
      },
      "source": [
        "Enlace a archivo guardado en drive."
      ]
    },
    {
      "cell_type": "code",
      "execution_count": null,
      "metadata": {
        "colab": {
          "base_uri": "https://localhost:8080/"
        },
        "id": "exIoRMwuQoqV",
        "outputId": "45788849-15ca-488b-cead-79cdf0e97f62"
      },
      "outputs": [
        {
          "output_type": "stream",
          "name": "stdout",
          "text": [
            "Mounted at /content/drive\n"
          ]
        }
      ],
      "source": [
        "from google.colab import drive\n",
        "drive.mount(\"/content/drive\", force_remount=True)"
      ]
    },
    {
      "cell_type": "markdown",
      "metadata": {
        "id": "4Keft47CRhMq"
      },
      "source": [
        "Llamo a las librerias potenciales a utilizar."
      ]
    },
    {
      "cell_type": "code",
      "execution_count": null,
      "metadata": {
        "id": "N6oMbL-FSq9W"
      },
      "outputs": [],
      "source": [
        "import pandas as pd\n",
        "import numpy as np\n",
        "import matplotlib as mpl\n",
        "import matplotlib.pyplot as plt\n",
        "import seaborn as sns\n",
        "import missingno as msno"
      ]
    },
    {
      "cell_type": "markdown",
      "source": [
        "# ***Introducción***"
      ],
      "metadata": {
        "id": "9X8cfaGINDgO"
      }
    },
    {
      "cell_type": "markdown",
      "source": [
        "# Contexto\n",
        "La vivienda en la India varía desde los palacios de los antiguos maharajás hasta los modernos edificios de apartamentos en las grandes ciudades y las pequeñas cabañas en las aldeas remotas. Ha habido un enorme crecimiento en el sector de la vivienda de la India a medida que han aumentado los ingresos. La Iniciativa de Medición de Derechos Humanos encuentra que India está haciendo el 60,9% de lo que debería ser posible en su nivel de ingresos por el derecho a la vivienda.\n",
        "\n",
        "El arrendamiento, también conocido como alquiler o alquiler, es un acuerdo en el que se realiza un pago por el uso temporal de un bien, servicio o propiedad de otra persona. Un contrato de arrendamiento bruto es cuando el inquilino paga una cantidad fija de alquiler y el propietario paga todos los cargos de la propiedad en los que incurre regularmente el propietario. El alquiler puede ser un ejemplo de la economía colaborativa.\n",
        "\n",
        "# Contenido\n",
        "En este conjunto de datos, tenemos información sobre casi 4700+ casas/apartamentos/pisos disponibles para alquiler con diferentes parámetros como BHK, alquiler, tamaño, cantidad de pisos, tipo de área, localidad del área, ciudad, estado de mobiliario, tipo de inquilino preferido, N. de Baños, Contacto o tipo de rentador.\n",
        "\n",
        "# Objetivo.\n",
        "Trataremos de comprender cuales son los tipos de variantes que son determinantes para el precio de la vivienda ofertada, podremos seccionarlos y poder diferenciar cuales son las cualidades que seccionan cada vivienda y cuales son las mas conveniente en cuando precio-calidad.\n",
        "\n",
        "\n",
        "# Glosario de conjuntos de datos (por columnas)\n",
        "\n",
        "- BHK : Número de Dormitorios, Salón, Cocina.\n",
        "- Renta : Renta de las Casas/Apartamentos/Piso.\n",
        "- Tamaño : Tamaño de las Casas/Apartamentos/Piso en Pies Cuadrados.\n",
        "- Planta : Casas/Apartamentos/Pisos situados en los que Planta y Número Total de Plantas (Ejemplo: Planta de 2, 3 de 5, etc.)\n",
        "- Tipo de área : Tamaño de las casas/apartamentos/pisos calculado en Superárea o Área alfombrada o Área construida.\n",
        "- Zona Localidad : Localidad de las Casas/Apartamentos/Pisos.\n",
        "- Ciudad : Ciudad donde se ubican las Casas/Apartamentos/Pisos.\n",
        "- Estado de Amueblamiento : Estado de Amueblamiento de las Casas/Apartamentos/Piso, ya sea Amueblado o Semi-Amoblado o Sin Amueblar.\n",
        "- Inquilino Preferido : Tipo de Inquilino Preferido por el Propietario o Agente.\n",
        "- Baño : Número de Baños.\n",
        "- Punto de contacto : ¿A quién debe contactar para obtener más información sobre las casas/apartamentos/pisos?\n",
        "\n"
      ],
      "metadata": {
        "id": "Jomilj71NOyI"
      }
    },
    {
      "cell_type": "markdown",
      "source": [
        "# ***Data Wrangling.***"
      ],
      "metadata": {
        "id": "eu-WeArVi1bf"
      }
    },
    {
      "cell_type": "code",
      "execution_count": null,
      "metadata": {
        "id": "uQ9cS_3Cx21r",
        "colab": {
          "base_uri": "https://localhost:8080/",
          "height": 237
        },
        "outputId": "658636ac-b436-4a52-c78e-7d302bd4681c"
      },
      "outputs": [
        {
          "output_type": "execute_result",
          "data": {
            "text/plain": [
              "            BHK   Rent  Size            Floor    Area Type  \\\n",
              "Posted On                                                    \n",
              "18/05/2022    2  10000  1100  Ground out of 2   Super Area   \n",
              "13/05/2022    2  20000   800       1 out of 3   Super Area   \n",
              "16/05/2022    2  17000  1000       1 out of 3   Super Area   \n",
              "04/07/2022    2  10000   800       1 out of 2   Super Area   \n",
              "09/05/2022    2   7500   850       1 out of 2  Carpet Area   \n",
              "\n",
              "                       Area Locality     City Furnishing Status  \\\n",
              "Posted On                                                         \n",
              "18/05/2022                    Bandel  Kolkata       Unfurnished   \n",
              "13/05/2022  Phool Bagan, Kankurgachi  Kolkata    Semi-Furnished   \n",
              "16/05/2022   Salt Lake City Sector 2  Kolkata    Semi-Furnished   \n",
              "04/07/2022               Dumdum Park  Kolkata       Unfurnished   \n",
              "09/05/2022             South Dum Dum  Kolkata       Unfurnished   \n",
              "\n",
              "            Tenant Preferred  Bathroom Point of Contact  \n",
              "Posted On                                                \n",
              "18/05/2022  Bachelors/Family         2    Contact Owner  \n",
              "13/05/2022  Bachelors/Family         1    Contact Owner  \n",
              "16/05/2022  Bachelors/Family         1    Contact Owner  \n",
              "04/07/2022  Bachelors/Family         1    Contact Owner  \n",
              "09/05/2022         Bachelors         1    Contact Owner  "
            ],
            "text/html": [
              "\n",
              "  <div id=\"df-3a316412-228a-4ac5-b0e3-64632db11d4d\">\n",
              "    <div class=\"colab-df-container\">\n",
              "      <div>\n",
              "<style scoped>\n",
              "    .dataframe tbody tr th:only-of-type {\n",
              "        vertical-align: middle;\n",
              "    }\n",
              "\n",
              "    .dataframe tbody tr th {\n",
              "        vertical-align: top;\n",
              "    }\n",
              "\n",
              "    .dataframe thead th {\n",
              "        text-align: right;\n",
              "    }\n",
              "</style>\n",
              "<table border=\"1\" class=\"dataframe\">\n",
              "  <thead>\n",
              "    <tr style=\"text-align: right;\">\n",
              "      <th></th>\n",
              "      <th>BHK</th>\n",
              "      <th>Rent</th>\n",
              "      <th>Size</th>\n",
              "      <th>Floor</th>\n",
              "      <th>Area Type</th>\n",
              "      <th>Area Locality</th>\n",
              "      <th>City</th>\n",
              "      <th>Furnishing Status</th>\n",
              "      <th>Tenant Preferred</th>\n",
              "      <th>Bathroom</th>\n",
              "      <th>Point of Contact</th>\n",
              "    </tr>\n",
              "    <tr>\n",
              "      <th>Posted On</th>\n",
              "      <th></th>\n",
              "      <th></th>\n",
              "      <th></th>\n",
              "      <th></th>\n",
              "      <th></th>\n",
              "      <th></th>\n",
              "      <th></th>\n",
              "      <th></th>\n",
              "      <th></th>\n",
              "      <th></th>\n",
              "      <th></th>\n",
              "    </tr>\n",
              "  </thead>\n",
              "  <tbody>\n",
              "    <tr>\n",
              "      <th>18/05/2022</th>\n",
              "      <td>2</td>\n",
              "      <td>10000</td>\n",
              "      <td>1100</td>\n",
              "      <td>Ground out of 2</td>\n",
              "      <td>Super Area</td>\n",
              "      <td>Bandel</td>\n",
              "      <td>Kolkata</td>\n",
              "      <td>Unfurnished</td>\n",
              "      <td>Bachelors/Family</td>\n",
              "      <td>2</td>\n",
              "      <td>Contact Owner</td>\n",
              "    </tr>\n",
              "    <tr>\n",
              "      <th>13/05/2022</th>\n",
              "      <td>2</td>\n",
              "      <td>20000</td>\n",
              "      <td>800</td>\n",
              "      <td>1 out of 3</td>\n",
              "      <td>Super Area</td>\n",
              "      <td>Phool Bagan, Kankurgachi</td>\n",
              "      <td>Kolkata</td>\n",
              "      <td>Semi-Furnished</td>\n",
              "      <td>Bachelors/Family</td>\n",
              "      <td>1</td>\n",
              "      <td>Contact Owner</td>\n",
              "    </tr>\n",
              "    <tr>\n",
              "      <th>16/05/2022</th>\n",
              "      <td>2</td>\n",
              "      <td>17000</td>\n",
              "      <td>1000</td>\n",
              "      <td>1 out of 3</td>\n",
              "      <td>Super Area</td>\n",
              "      <td>Salt Lake City Sector 2</td>\n",
              "      <td>Kolkata</td>\n",
              "      <td>Semi-Furnished</td>\n",
              "      <td>Bachelors/Family</td>\n",
              "      <td>1</td>\n",
              "      <td>Contact Owner</td>\n",
              "    </tr>\n",
              "    <tr>\n",
              "      <th>04/07/2022</th>\n",
              "      <td>2</td>\n",
              "      <td>10000</td>\n",
              "      <td>800</td>\n",
              "      <td>1 out of 2</td>\n",
              "      <td>Super Area</td>\n",
              "      <td>Dumdum Park</td>\n",
              "      <td>Kolkata</td>\n",
              "      <td>Unfurnished</td>\n",
              "      <td>Bachelors/Family</td>\n",
              "      <td>1</td>\n",
              "      <td>Contact Owner</td>\n",
              "    </tr>\n",
              "    <tr>\n",
              "      <th>09/05/2022</th>\n",
              "      <td>2</td>\n",
              "      <td>7500</td>\n",
              "      <td>850</td>\n",
              "      <td>1 out of 2</td>\n",
              "      <td>Carpet Area</td>\n",
              "      <td>South Dum Dum</td>\n",
              "      <td>Kolkata</td>\n",
              "      <td>Unfurnished</td>\n",
              "      <td>Bachelors</td>\n",
              "      <td>1</td>\n",
              "      <td>Contact Owner</td>\n",
              "    </tr>\n",
              "  </tbody>\n",
              "</table>\n",
              "</div>\n",
              "      <button class=\"colab-df-convert\" onclick=\"convertToInteractive('df-3a316412-228a-4ac5-b0e3-64632db11d4d')\"\n",
              "              title=\"Convert this dataframe to an interactive table.\"\n",
              "              style=\"display:none;\">\n",
              "        \n",
              "  <svg xmlns=\"http://www.w3.org/2000/svg\" height=\"24px\"viewBox=\"0 0 24 24\"\n",
              "       width=\"24px\">\n",
              "    <path d=\"M0 0h24v24H0V0z\" fill=\"none\"/>\n",
              "    <path d=\"M18.56 5.44l.94 2.06.94-2.06 2.06-.94-2.06-.94-.94-2.06-.94 2.06-2.06.94zm-11 1L8.5 8.5l.94-2.06 2.06-.94-2.06-.94L8.5 2.5l-.94 2.06-2.06.94zm10 10l.94 2.06.94-2.06 2.06-.94-2.06-.94-.94-2.06-.94 2.06-2.06.94z\"/><path d=\"M17.41 7.96l-1.37-1.37c-.4-.4-.92-.59-1.43-.59-.52 0-1.04.2-1.43.59L10.3 9.45l-7.72 7.72c-.78.78-.78 2.05 0 2.83L4 21.41c.39.39.9.59 1.41.59.51 0 1.02-.2 1.41-.59l7.78-7.78 2.81-2.81c.8-.78.8-2.07 0-2.86zM5.41 20L4 18.59l7.72-7.72 1.47 1.35L5.41 20z\"/>\n",
              "  </svg>\n",
              "      </button>\n",
              "      \n",
              "  <style>\n",
              "    .colab-df-container {\n",
              "      display:flex;\n",
              "      flex-wrap:wrap;\n",
              "      gap: 12px;\n",
              "    }\n",
              "\n",
              "    .colab-df-convert {\n",
              "      background-color: #E8F0FE;\n",
              "      border: none;\n",
              "      border-radius: 50%;\n",
              "      cursor: pointer;\n",
              "      display: none;\n",
              "      fill: #1967D2;\n",
              "      height: 32px;\n",
              "      padding: 0 0 0 0;\n",
              "      width: 32px;\n",
              "    }\n",
              "\n",
              "    .colab-df-convert:hover {\n",
              "      background-color: #E2EBFA;\n",
              "      box-shadow: 0px 1px 2px rgba(60, 64, 67, 0.3), 0px 1px 3px 1px rgba(60, 64, 67, 0.15);\n",
              "      fill: #174EA6;\n",
              "    }\n",
              "\n",
              "    [theme=dark] .colab-df-convert {\n",
              "      background-color: #3B4455;\n",
              "      fill: #D2E3FC;\n",
              "    }\n",
              "\n",
              "    [theme=dark] .colab-df-convert:hover {\n",
              "      background-color: #434B5C;\n",
              "      box-shadow: 0px 1px 3px 1px rgba(0, 0, 0, 0.15);\n",
              "      filter: drop-shadow(0px 1px 2px rgba(0, 0, 0, 0.3));\n",
              "      fill: #FFFFFF;\n",
              "    }\n",
              "  </style>\n",
              "\n",
              "      <script>\n",
              "        const buttonEl =\n",
              "          document.querySelector('#df-3a316412-228a-4ac5-b0e3-64632db11d4d button.colab-df-convert');\n",
              "        buttonEl.style.display =\n",
              "          google.colab.kernel.accessAllowed ? 'block' : 'none';\n",
              "\n",
              "        async function convertToInteractive(key) {\n",
              "          const element = document.querySelector('#df-3a316412-228a-4ac5-b0e3-64632db11d4d');\n",
              "          const dataTable =\n",
              "            await google.colab.kernel.invokeFunction('convertToInteractive',\n",
              "                                                     [key], {});\n",
              "          if (!dataTable) return;\n",
              "\n",
              "          const docLinkHtml = 'Like what you see? Visit the ' +\n",
              "            '<a target=\"_blank\" href=https://colab.research.google.com/notebooks/data_table.ipynb>data table notebook</a>'\n",
              "            + ' to learn more about interactive tables.';\n",
              "          element.innerHTML = '';\n",
              "          dataTable['output_type'] = 'display_data';\n",
              "          await google.colab.output.renderOutput(dataTable, element);\n",
              "          const docLink = document.createElement('div');\n",
              "          docLink.innerHTML = docLinkHtml;\n",
              "          element.appendChild(docLink);\n",
              "        }\n",
              "      </script>\n",
              "    </div>\n",
              "  </div>\n",
              "  "
            ]
          },
          "metadata": {},
          "execution_count": 22
        }
      ],
      "source": [
        "df = pd.read_csv('/content/drive/MyDrive/Data science- Datasets/House rent dataset/House_Rent_Dataset.csv',index_col=0,sep=';')\n",
        "df.head(5)"
      ]
    },
    {
      "cell_type": "code",
      "source": [
        "from google.colab import drive\n",
        "drive.mount('/content/drive')"
      ],
      "metadata": {
        "colab": {
          "base_uri": "https://localhost:8080/"
        },
        "id": "DBjx1iPVI-kl",
        "outputId": "1a6fe689-bb4c-4dd1-d786-14340850d9c6"
      },
      "execution_count": null,
      "outputs": [
        {
          "output_type": "stream",
          "name": "stdout",
          "text": [
            "Drive already mounted at /content/drive; to attempt to forcibly remount, call drive.mount(\"/content/drive\", force_remount=True).\n"
          ]
        }
      ]
    },
    {
      "cell_type": "code",
      "source": [
        "df.shape"
      ],
      "metadata": {
        "id": "S9EcWCYw5lew",
        "colab": {
          "base_uri": "https://localhost:8080/"
        },
        "outputId": "bc41eb8e-b7d8-4f2c-ce4c-e174f869f8ac"
      },
      "execution_count": null,
      "outputs": [
        {
          "output_type": "execute_result",
          "data": {
            "text/plain": [
              "(4746, 11)"
            ]
          },
          "metadata": {},
          "execution_count": 24
        }
      ]
    },
    {
      "cell_type": "code",
      "source": [
        "print(df.shape)\n",
        "print(df.duplicated().sum())\n",
        "\n",
        "tabela = pd.DataFrame({\n",
        "    'Unique':df.nunique(),\n",
        "    'Null':df.isna().sum(),\n",
        "    'NullPercent':df.isna().sum() / len(df),\n",
        "    'Type':df.dtypes.values\n",
        "})\n",
        "\n",
        "display(tabela)\n",
        "display(df.head())"
      ],
      "metadata": {
        "colab": {
          "base_uri": "https://localhost:8080/",
          "height": 652
        },
        "id": "I0S7Hy8DRCVg",
        "outputId": "bdd1cddb-0613-44e9-8d52-8af8292ba01d"
      },
      "execution_count": null,
      "outputs": [
        {
          "output_type": "stream",
          "name": "stdout",
          "text": [
            "(4746, 11)\n",
            "8\n"
          ]
        },
        {
          "output_type": "display_data",
          "data": {
            "text/plain": [
              "                   Unique  Null  NullPercent    Type\n",
              "BHK                     6     0          0.0   int64\n",
              "Rent                  243     0          0.0   int64\n",
              "Size                  615     0          0.0   int64\n",
              "Floor                 480     0          0.0  object\n",
              "Area Type               3     0          0.0  object\n",
              "Area Locality        2235     0          0.0  object\n",
              "City                    6     0          0.0  object\n",
              "Furnishing Status       3     0          0.0  object\n",
              "Tenant Preferred        3     0          0.0  object\n",
              "Bathroom                8     0          0.0   int64\n",
              "Point of Contact        3     0          0.0  object"
            ],
            "text/html": [
              "\n",
              "  <div id=\"df-bb47fef9-7ea9-4160-ab64-668295268645\">\n",
              "    <div class=\"colab-df-container\">\n",
              "      <div>\n",
              "<style scoped>\n",
              "    .dataframe tbody tr th:only-of-type {\n",
              "        vertical-align: middle;\n",
              "    }\n",
              "\n",
              "    .dataframe tbody tr th {\n",
              "        vertical-align: top;\n",
              "    }\n",
              "\n",
              "    .dataframe thead th {\n",
              "        text-align: right;\n",
              "    }\n",
              "</style>\n",
              "<table border=\"1\" class=\"dataframe\">\n",
              "  <thead>\n",
              "    <tr style=\"text-align: right;\">\n",
              "      <th></th>\n",
              "      <th>Unique</th>\n",
              "      <th>Null</th>\n",
              "      <th>NullPercent</th>\n",
              "      <th>Type</th>\n",
              "    </tr>\n",
              "  </thead>\n",
              "  <tbody>\n",
              "    <tr>\n",
              "      <th>BHK</th>\n",
              "      <td>6</td>\n",
              "      <td>0</td>\n",
              "      <td>0.0</td>\n",
              "      <td>int64</td>\n",
              "    </tr>\n",
              "    <tr>\n",
              "      <th>Rent</th>\n",
              "      <td>243</td>\n",
              "      <td>0</td>\n",
              "      <td>0.0</td>\n",
              "      <td>int64</td>\n",
              "    </tr>\n",
              "    <tr>\n",
              "      <th>Size</th>\n",
              "      <td>615</td>\n",
              "      <td>0</td>\n",
              "      <td>0.0</td>\n",
              "      <td>int64</td>\n",
              "    </tr>\n",
              "    <tr>\n",
              "      <th>Floor</th>\n",
              "      <td>480</td>\n",
              "      <td>0</td>\n",
              "      <td>0.0</td>\n",
              "      <td>object</td>\n",
              "    </tr>\n",
              "    <tr>\n",
              "      <th>Area Type</th>\n",
              "      <td>3</td>\n",
              "      <td>0</td>\n",
              "      <td>0.0</td>\n",
              "      <td>object</td>\n",
              "    </tr>\n",
              "    <tr>\n",
              "      <th>Area Locality</th>\n",
              "      <td>2235</td>\n",
              "      <td>0</td>\n",
              "      <td>0.0</td>\n",
              "      <td>object</td>\n",
              "    </tr>\n",
              "    <tr>\n",
              "      <th>City</th>\n",
              "      <td>6</td>\n",
              "      <td>0</td>\n",
              "      <td>0.0</td>\n",
              "      <td>object</td>\n",
              "    </tr>\n",
              "    <tr>\n",
              "      <th>Furnishing Status</th>\n",
              "      <td>3</td>\n",
              "      <td>0</td>\n",
              "      <td>0.0</td>\n",
              "      <td>object</td>\n",
              "    </tr>\n",
              "    <tr>\n",
              "      <th>Tenant Preferred</th>\n",
              "      <td>3</td>\n",
              "      <td>0</td>\n",
              "      <td>0.0</td>\n",
              "      <td>object</td>\n",
              "    </tr>\n",
              "    <tr>\n",
              "      <th>Bathroom</th>\n",
              "      <td>8</td>\n",
              "      <td>0</td>\n",
              "      <td>0.0</td>\n",
              "      <td>int64</td>\n",
              "    </tr>\n",
              "    <tr>\n",
              "      <th>Point of Contact</th>\n",
              "      <td>3</td>\n",
              "      <td>0</td>\n",
              "      <td>0.0</td>\n",
              "      <td>object</td>\n",
              "    </tr>\n",
              "  </tbody>\n",
              "</table>\n",
              "</div>\n",
              "      <button class=\"colab-df-convert\" onclick=\"convertToInteractive('df-bb47fef9-7ea9-4160-ab64-668295268645')\"\n",
              "              title=\"Convert this dataframe to an interactive table.\"\n",
              "              style=\"display:none;\">\n",
              "        \n",
              "  <svg xmlns=\"http://www.w3.org/2000/svg\" height=\"24px\"viewBox=\"0 0 24 24\"\n",
              "       width=\"24px\">\n",
              "    <path d=\"M0 0h24v24H0V0z\" fill=\"none\"/>\n",
              "    <path d=\"M18.56 5.44l.94 2.06.94-2.06 2.06-.94-2.06-.94-.94-2.06-.94 2.06-2.06.94zm-11 1L8.5 8.5l.94-2.06 2.06-.94-2.06-.94L8.5 2.5l-.94 2.06-2.06.94zm10 10l.94 2.06.94-2.06 2.06-.94-2.06-.94-.94-2.06-.94 2.06-2.06.94z\"/><path d=\"M17.41 7.96l-1.37-1.37c-.4-.4-.92-.59-1.43-.59-.52 0-1.04.2-1.43.59L10.3 9.45l-7.72 7.72c-.78.78-.78 2.05 0 2.83L4 21.41c.39.39.9.59 1.41.59.51 0 1.02-.2 1.41-.59l7.78-7.78 2.81-2.81c.8-.78.8-2.07 0-2.86zM5.41 20L4 18.59l7.72-7.72 1.47 1.35L5.41 20z\"/>\n",
              "  </svg>\n",
              "      </button>\n",
              "      \n",
              "  <style>\n",
              "    .colab-df-container {\n",
              "      display:flex;\n",
              "      flex-wrap:wrap;\n",
              "      gap: 12px;\n",
              "    }\n",
              "\n",
              "    .colab-df-convert {\n",
              "      background-color: #E8F0FE;\n",
              "      border: none;\n",
              "      border-radius: 50%;\n",
              "      cursor: pointer;\n",
              "      display: none;\n",
              "      fill: #1967D2;\n",
              "      height: 32px;\n",
              "      padding: 0 0 0 0;\n",
              "      width: 32px;\n",
              "    }\n",
              "\n",
              "    .colab-df-convert:hover {\n",
              "      background-color: #E2EBFA;\n",
              "      box-shadow: 0px 1px 2px rgba(60, 64, 67, 0.3), 0px 1px 3px 1px rgba(60, 64, 67, 0.15);\n",
              "      fill: #174EA6;\n",
              "    }\n",
              "\n",
              "    [theme=dark] .colab-df-convert {\n",
              "      background-color: #3B4455;\n",
              "      fill: #D2E3FC;\n",
              "    }\n",
              "\n",
              "    [theme=dark] .colab-df-convert:hover {\n",
              "      background-color: #434B5C;\n",
              "      box-shadow: 0px 1px 3px 1px rgba(0, 0, 0, 0.15);\n",
              "      filter: drop-shadow(0px 1px 2px rgba(0, 0, 0, 0.3));\n",
              "      fill: #FFFFFF;\n",
              "    }\n",
              "  </style>\n",
              "\n",
              "      <script>\n",
              "        const buttonEl =\n",
              "          document.querySelector('#df-bb47fef9-7ea9-4160-ab64-668295268645 button.colab-df-convert');\n",
              "        buttonEl.style.display =\n",
              "          google.colab.kernel.accessAllowed ? 'block' : 'none';\n",
              "\n",
              "        async function convertToInteractive(key) {\n",
              "          const element = document.querySelector('#df-bb47fef9-7ea9-4160-ab64-668295268645');\n",
              "          const dataTable =\n",
              "            await google.colab.kernel.invokeFunction('convertToInteractive',\n",
              "                                                     [key], {});\n",
              "          if (!dataTable) return;\n",
              "\n",
              "          const docLinkHtml = 'Like what you see? Visit the ' +\n",
              "            '<a target=\"_blank\" href=https://colab.research.google.com/notebooks/data_table.ipynb>data table notebook</a>'\n",
              "            + ' to learn more about interactive tables.';\n",
              "          element.innerHTML = '';\n",
              "          dataTable['output_type'] = 'display_data';\n",
              "          await google.colab.output.renderOutput(dataTable, element);\n",
              "          const docLink = document.createElement('div');\n",
              "          docLink.innerHTML = docLinkHtml;\n",
              "          element.appendChild(docLink);\n",
              "        }\n",
              "      </script>\n",
              "    </div>\n",
              "  </div>\n",
              "  "
            ]
          },
          "metadata": {}
        },
        {
          "output_type": "display_data",
          "data": {
            "text/plain": [
              "            BHK   Rent  Size            Floor    Area Type  \\\n",
              "Posted On                                                    \n",
              "18/05/2022    2  10000  1100  Ground out of 2   Super Area   \n",
              "13/05/2022    2  20000   800       1 out of 3   Super Area   \n",
              "16/05/2022    2  17000  1000       1 out of 3   Super Area   \n",
              "04/07/2022    2  10000   800       1 out of 2   Super Area   \n",
              "09/05/2022    2   7500   850       1 out of 2  Carpet Area   \n",
              "\n",
              "                       Area Locality     City Furnishing Status  \\\n",
              "Posted On                                                         \n",
              "18/05/2022                    Bandel  Kolkata       Unfurnished   \n",
              "13/05/2022  Phool Bagan, Kankurgachi  Kolkata    Semi-Furnished   \n",
              "16/05/2022   Salt Lake City Sector 2  Kolkata    Semi-Furnished   \n",
              "04/07/2022               Dumdum Park  Kolkata       Unfurnished   \n",
              "09/05/2022             South Dum Dum  Kolkata       Unfurnished   \n",
              "\n",
              "            Tenant Preferred  Bathroom Point of Contact  \n",
              "Posted On                                                \n",
              "18/05/2022  Bachelors/Family         2    Contact Owner  \n",
              "13/05/2022  Bachelors/Family         1    Contact Owner  \n",
              "16/05/2022  Bachelors/Family         1    Contact Owner  \n",
              "04/07/2022  Bachelors/Family         1    Contact Owner  \n",
              "09/05/2022         Bachelors         1    Contact Owner  "
            ],
            "text/html": [
              "\n",
              "  <div id=\"df-23c5edbb-4226-409c-a06d-cf2dae5792de\">\n",
              "    <div class=\"colab-df-container\">\n",
              "      <div>\n",
              "<style scoped>\n",
              "    .dataframe tbody tr th:only-of-type {\n",
              "        vertical-align: middle;\n",
              "    }\n",
              "\n",
              "    .dataframe tbody tr th {\n",
              "        vertical-align: top;\n",
              "    }\n",
              "\n",
              "    .dataframe thead th {\n",
              "        text-align: right;\n",
              "    }\n",
              "</style>\n",
              "<table border=\"1\" class=\"dataframe\">\n",
              "  <thead>\n",
              "    <tr style=\"text-align: right;\">\n",
              "      <th></th>\n",
              "      <th>BHK</th>\n",
              "      <th>Rent</th>\n",
              "      <th>Size</th>\n",
              "      <th>Floor</th>\n",
              "      <th>Area Type</th>\n",
              "      <th>Area Locality</th>\n",
              "      <th>City</th>\n",
              "      <th>Furnishing Status</th>\n",
              "      <th>Tenant Preferred</th>\n",
              "      <th>Bathroom</th>\n",
              "      <th>Point of Contact</th>\n",
              "    </tr>\n",
              "    <tr>\n",
              "      <th>Posted On</th>\n",
              "      <th></th>\n",
              "      <th></th>\n",
              "      <th></th>\n",
              "      <th></th>\n",
              "      <th></th>\n",
              "      <th></th>\n",
              "      <th></th>\n",
              "      <th></th>\n",
              "      <th></th>\n",
              "      <th></th>\n",
              "      <th></th>\n",
              "    </tr>\n",
              "  </thead>\n",
              "  <tbody>\n",
              "    <tr>\n",
              "      <th>18/05/2022</th>\n",
              "      <td>2</td>\n",
              "      <td>10000</td>\n",
              "      <td>1100</td>\n",
              "      <td>Ground out of 2</td>\n",
              "      <td>Super Area</td>\n",
              "      <td>Bandel</td>\n",
              "      <td>Kolkata</td>\n",
              "      <td>Unfurnished</td>\n",
              "      <td>Bachelors/Family</td>\n",
              "      <td>2</td>\n",
              "      <td>Contact Owner</td>\n",
              "    </tr>\n",
              "    <tr>\n",
              "      <th>13/05/2022</th>\n",
              "      <td>2</td>\n",
              "      <td>20000</td>\n",
              "      <td>800</td>\n",
              "      <td>1 out of 3</td>\n",
              "      <td>Super Area</td>\n",
              "      <td>Phool Bagan, Kankurgachi</td>\n",
              "      <td>Kolkata</td>\n",
              "      <td>Semi-Furnished</td>\n",
              "      <td>Bachelors/Family</td>\n",
              "      <td>1</td>\n",
              "      <td>Contact Owner</td>\n",
              "    </tr>\n",
              "    <tr>\n",
              "      <th>16/05/2022</th>\n",
              "      <td>2</td>\n",
              "      <td>17000</td>\n",
              "      <td>1000</td>\n",
              "      <td>1 out of 3</td>\n",
              "      <td>Super Area</td>\n",
              "      <td>Salt Lake City Sector 2</td>\n",
              "      <td>Kolkata</td>\n",
              "      <td>Semi-Furnished</td>\n",
              "      <td>Bachelors/Family</td>\n",
              "      <td>1</td>\n",
              "      <td>Contact Owner</td>\n",
              "    </tr>\n",
              "    <tr>\n",
              "      <th>04/07/2022</th>\n",
              "      <td>2</td>\n",
              "      <td>10000</td>\n",
              "      <td>800</td>\n",
              "      <td>1 out of 2</td>\n",
              "      <td>Super Area</td>\n",
              "      <td>Dumdum Park</td>\n",
              "      <td>Kolkata</td>\n",
              "      <td>Unfurnished</td>\n",
              "      <td>Bachelors/Family</td>\n",
              "      <td>1</td>\n",
              "      <td>Contact Owner</td>\n",
              "    </tr>\n",
              "    <tr>\n",
              "      <th>09/05/2022</th>\n",
              "      <td>2</td>\n",
              "      <td>7500</td>\n",
              "      <td>850</td>\n",
              "      <td>1 out of 2</td>\n",
              "      <td>Carpet Area</td>\n",
              "      <td>South Dum Dum</td>\n",
              "      <td>Kolkata</td>\n",
              "      <td>Unfurnished</td>\n",
              "      <td>Bachelors</td>\n",
              "      <td>1</td>\n",
              "      <td>Contact Owner</td>\n",
              "    </tr>\n",
              "  </tbody>\n",
              "</table>\n",
              "</div>\n",
              "      <button class=\"colab-df-convert\" onclick=\"convertToInteractive('df-23c5edbb-4226-409c-a06d-cf2dae5792de')\"\n",
              "              title=\"Convert this dataframe to an interactive table.\"\n",
              "              style=\"display:none;\">\n",
              "        \n",
              "  <svg xmlns=\"http://www.w3.org/2000/svg\" height=\"24px\"viewBox=\"0 0 24 24\"\n",
              "       width=\"24px\">\n",
              "    <path d=\"M0 0h24v24H0V0z\" fill=\"none\"/>\n",
              "    <path d=\"M18.56 5.44l.94 2.06.94-2.06 2.06-.94-2.06-.94-.94-2.06-.94 2.06-2.06.94zm-11 1L8.5 8.5l.94-2.06 2.06-.94-2.06-.94L8.5 2.5l-.94 2.06-2.06.94zm10 10l.94 2.06.94-2.06 2.06-.94-2.06-.94-.94-2.06-.94 2.06-2.06.94z\"/><path d=\"M17.41 7.96l-1.37-1.37c-.4-.4-.92-.59-1.43-.59-.52 0-1.04.2-1.43.59L10.3 9.45l-7.72 7.72c-.78.78-.78 2.05 0 2.83L4 21.41c.39.39.9.59 1.41.59.51 0 1.02-.2 1.41-.59l7.78-7.78 2.81-2.81c.8-.78.8-2.07 0-2.86zM5.41 20L4 18.59l7.72-7.72 1.47 1.35L5.41 20z\"/>\n",
              "  </svg>\n",
              "      </button>\n",
              "      \n",
              "  <style>\n",
              "    .colab-df-container {\n",
              "      display:flex;\n",
              "      flex-wrap:wrap;\n",
              "      gap: 12px;\n",
              "    }\n",
              "\n",
              "    .colab-df-convert {\n",
              "      background-color: #E8F0FE;\n",
              "      border: none;\n",
              "      border-radius: 50%;\n",
              "      cursor: pointer;\n",
              "      display: none;\n",
              "      fill: #1967D2;\n",
              "      height: 32px;\n",
              "      padding: 0 0 0 0;\n",
              "      width: 32px;\n",
              "    }\n",
              "\n",
              "    .colab-df-convert:hover {\n",
              "      background-color: #E2EBFA;\n",
              "      box-shadow: 0px 1px 2px rgba(60, 64, 67, 0.3), 0px 1px 3px 1px rgba(60, 64, 67, 0.15);\n",
              "      fill: #174EA6;\n",
              "    }\n",
              "\n",
              "    [theme=dark] .colab-df-convert {\n",
              "      background-color: #3B4455;\n",
              "      fill: #D2E3FC;\n",
              "    }\n",
              "\n",
              "    [theme=dark] .colab-df-convert:hover {\n",
              "      background-color: #434B5C;\n",
              "      box-shadow: 0px 1px 3px 1px rgba(0, 0, 0, 0.15);\n",
              "      filter: drop-shadow(0px 1px 2px rgba(0, 0, 0, 0.3));\n",
              "      fill: #FFFFFF;\n",
              "    }\n",
              "  </style>\n",
              "\n",
              "      <script>\n",
              "        const buttonEl =\n",
              "          document.querySelector('#df-23c5edbb-4226-409c-a06d-cf2dae5792de button.colab-df-convert');\n",
              "        buttonEl.style.display =\n",
              "          google.colab.kernel.accessAllowed ? 'block' : 'none';\n",
              "\n",
              "        async function convertToInteractive(key) {\n",
              "          const element = document.querySelector('#df-23c5edbb-4226-409c-a06d-cf2dae5792de');\n",
              "          const dataTable =\n",
              "            await google.colab.kernel.invokeFunction('convertToInteractive',\n",
              "                                                     [key], {});\n",
              "          if (!dataTable) return;\n",
              "\n",
              "          const docLinkHtml = 'Like what you see? Visit the ' +\n",
              "            '<a target=\"_blank\" href=https://colab.research.google.com/notebooks/data_table.ipynb>data table notebook</a>'\n",
              "            + ' to learn more about interactive tables.';\n",
              "          element.innerHTML = '';\n",
              "          dataTable['output_type'] = 'display_data';\n",
              "          await google.colab.output.renderOutput(dataTable, element);\n",
              "          const docLink = document.createElement('div');\n",
              "          docLink.innerHTML = docLinkHtml;\n",
              "          element.appendChild(docLink);\n",
              "        }\n",
              "      </script>\n",
              "    </div>\n",
              "  </div>\n",
              "  "
            ]
          },
          "metadata": {}
        }
      ]
    },
    {
      "cell_type": "markdown",
      "source": [
        "Podemos visualizar 4746 filas y 11 columnas"
      ],
      "metadata": {
        "id": "FGuSof3s52P2"
      }
    },
    {
      "cell_type": "code",
      "source": [
        "df.info()"
      ],
      "metadata": {
        "id": "AXR1LolP5sdq",
        "colab": {
          "base_uri": "https://localhost:8080/"
        },
        "outputId": "3d0c0bfe-9b14-4bbc-c5ba-ebcfe32f180d"
      },
      "execution_count": null,
      "outputs": [
        {
          "output_type": "stream",
          "name": "stdout",
          "text": [
            "<class 'pandas.core.frame.DataFrame'>\n",
            "Index: 4746 entries, 18/05/2022 to 04/05/2022\n",
            "Data columns (total 11 columns):\n",
            " #   Column             Non-Null Count  Dtype \n",
            "---  ------             --------------  ----- \n",
            " 0   BHK                4746 non-null   int64 \n",
            " 1   Rent               4746 non-null   int64 \n",
            " 2   Size               4746 non-null   int64 \n",
            " 3   Floor              4746 non-null   object\n",
            " 4   Area Type          4746 non-null   object\n",
            " 5   Area Locality      4746 non-null   object\n",
            " 6   City               4746 non-null   object\n",
            " 7   Furnishing Status  4746 non-null   object\n",
            " 8   Tenant Preferred   4746 non-null   object\n",
            " 9   Bathroom           4746 non-null   int64 \n",
            " 10  Point of Contact   4746 non-null   object\n",
            "dtypes: int64(4), object(7)\n",
            "memory usage: 444.9+ KB\n"
          ]
        }
      ]
    },
    {
      "cell_type": "markdown",
      "source": [
        "Podemos visualizar una tabla que indica el indice de numeros de columnas a la izquierda, nombre de todas la columnas en la seguna columna vertical, el numero de datos non-null y ademas el tipo de dato en la ultima columna de la derecha. Ademas en la parte final la memoria utilizada."
      ],
      "metadata": {
        "id": "wc-IDOmt5z7r"
      }
    },
    {
      "cell_type": "code",
      "source": [
        "Informacion_general = df.select_dtypes(include='O')\n",
        "\n",
        "for i in cat:\n",
        "    if df[i].nunique() < 10:\n",
        "        print(df[i].value_counts())\n",
        "        print()"
      ],
      "metadata": {
        "colab": {
          "base_uri": "https://localhost:8080/"
        },
        "id": "m-YCDYg_Odi4",
        "outputId": "21489513-240f-48a0-ee9a-9bb17fc7d4e3"
      },
      "execution_count": null,
      "outputs": [
        {
          "output_type": "stream",
          "name": "stdout",
          "text": [
            "Super Area     2446\n",
            "Carpet Area    2298\n",
            "Built Area        2\n",
            "Name: Area Type, dtype: int64\n",
            "\n",
            "Mumbai       972\n",
            "Chennai      891\n",
            "Bangalore    886\n",
            "Hyderabad    868\n",
            "Delhi        605\n",
            "Kolkata      524\n",
            "Name: City, dtype: int64\n",
            "\n",
            "Semi-Furnished    2251\n",
            "Unfurnished       1815\n",
            "Furnished          680\n",
            "Name: Furnishing Status, dtype: int64\n",
            "\n",
            "Bachelors/Family    3444\n",
            "Bachelors            830\n",
            "Family               472\n",
            "Name: Tenant Preferred, dtype: int64\n",
            "\n",
            "Contact Owner      3216\n",
            "Contact Agent      1529\n",
            "Contact Builder       1\n",
            "Name: Point of Contact, dtype: int64\n",
            "\n"
          ]
        }
      ]
    },
    {
      "cell_type": "markdown",
      "source": [
        "Podewmos visualizar la cantidad de datos dentro de cada variable."
      ],
      "metadata": {
        "id": "tAtp-IOoOmMQ"
      }
    },
    {
      "cell_type": "code",
      "source": [
        "df.columns"
      ],
      "metadata": {
        "id": "brYJ2_z38s-Y",
        "colab": {
          "base_uri": "https://localhost:8080/"
        },
        "outputId": "6d316b98-6e1a-4f5c-8130-3e92ad72c569"
      },
      "execution_count": null,
      "outputs": [
        {
          "output_type": "execute_result",
          "data": {
            "text/plain": [
              "Index(['BHK', 'Rent', 'Size', 'Floor', 'Area Type', 'Area Locality', 'City',\n",
              "       'Furnishing Status', 'Tenant Preferred', 'Bathroom',\n",
              "       'Point of Contact'],\n",
              "      dtype='object')"
            ]
          },
          "metadata": {},
          "execution_count": 7
        }
      ]
    },
    {
      "cell_type": "markdown",
      "source": [
        "Podemos visualizar las respectivas columnas del dataset."
      ],
      "metadata": {
        "id": "qaPQEKd98vk2"
      }
    },
    {
      "cell_type": "code",
      "source": [
        "df.describe()"
      ],
      "metadata": {
        "id": "x50-GVZo57F2",
        "colab": {
          "base_uri": "https://localhost:8080/"
        },
        "outputId": "adcd3f80-5635-4760-8e4b-91378685f9ea"
      },
      "execution_count": null,
      "outputs": [
        {
          "output_type": "execute_result",
          "data": {
            "text/plain": [
              "               BHK          Rent         Size     Bathroom\n",
              "count  4746.000000  4.746000e+03  4746.000000  4746.000000\n",
              "mean      2.083860  3.499345e+04   967.490729     1.965866\n",
              "std       0.832256  7.810641e+04   634.202328     0.884532\n",
              "min       1.000000  1.200000e+03    10.000000     1.000000\n",
              "25%       2.000000  1.000000e+04   550.000000     1.000000\n",
              "50%       2.000000  1.600000e+04   850.000000     2.000000\n",
              "75%       3.000000  3.300000e+04  1200.000000     2.000000\n",
              "max       6.000000  3.500000e+06  8000.000000    10.000000"
            ],
            "text/html": [
              "\n",
              "  <div id=\"df-765eefa9-0437-4eb3-bd14-1d34df15f88c\">\n",
              "    <div class=\"colab-df-container\">\n",
              "      <div>\n",
              "<style scoped>\n",
              "    .dataframe tbody tr th:only-of-type {\n",
              "        vertical-align: middle;\n",
              "    }\n",
              "\n",
              "    .dataframe tbody tr th {\n",
              "        vertical-align: top;\n",
              "    }\n",
              "\n",
              "    .dataframe thead th {\n",
              "        text-align: right;\n",
              "    }\n",
              "</style>\n",
              "<table border=\"1\" class=\"dataframe\">\n",
              "  <thead>\n",
              "    <tr style=\"text-align: right;\">\n",
              "      <th></th>\n",
              "      <th>BHK</th>\n",
              "      <th>Rent</th>\n",
              "      <th>Size</th>\n",
              "      <th>Bathroom</th>\n",
              "    </tr>\n",
              "  </thead>\n",
              "  <tbody>\n",
              "    <tr>\n",
              "      <th>count</th>\n",
              "      <td>4746.000000</td>\n",
              "      <td>4.746000e+03</td>\n",
              "      <td>4746.000000</td>\n",
              "      <td>4746.000000</td>\n",
              "    </tr>\n",
              "    <tr>\n",
              "      <th>mean</th>\n",
              "      <td>2.083860</td>\n",
              "      <td>3.499345e+04</td>\n",
              "      <td>967.490729</td>\n",
              "      <td>1.965866</td>\n",
              "    </tr>\n",
              "    <tr>\n",
              "      <th>std</th>\n",
              "      <td>0.832256</td>\n",
              "      <td>7.810641e+04</td>\n",
              "      <td>634.202328</td>\n",
              "      <td>0.884532</td>\n",
              "    </tr>\n",
              "    <tr>\n",
              "      <th>min</th>\n",
              "      <td>1.000000</td>\n",
              "      <td>1.200000e+03</td>\n",
              "      <td>10.000000</td>\n",
              "      <td>1.000000</td>\n",
              "    </tr>\n",
              "    <tr>\n",
              "      <th>25%</th>\n",
              "      <td>2.000000</td>\n",
              "      <td>1.000000e+04</td>\n",
              "      <td>550.000000</td>\n",
              "      <td>1.000000</td>\n",
              "    </tr>\n",
              "    <tr>\n",
              "      <th>50%</th>\n",
              "      <td>2.000000</td>\n",
              "      <td>1.600000e+04</td>\n",
              "      <td>850.000000</td>\n",
              "      <td>2.000000</td>\n",
              "    </tr>\n",
              "    <tr>\n",
              "      <th>75%</th>\n",
              "      <td>3.000000</td>\n",
              "      <td>3.300000e+04</td>\n",
              "      <td>1200.000000</td>\n",
              "      <td>2.000000</td>\n",
              "    </tr>\n",
              "    <tr>\n",
              "      <th>max</th>\n",
              "      <td>6.000000</td>\n",
              "      <td>3.500000e+06</td>\n",
              "      <td>8000.000000</td>\n",
              "      <td>10.000000</td>\n",
              "    </tr>\n",
              "  </tbody>\n",
              "</table>\n",
              "</div>\n",
              "      <button class=\"colab-df-convert\" onclick=\"convertToInteractive('df-765eefa9-0437-4eb3-bd14-1d34df15f88c')\"\n",
              "              title=\"Convert this dataframe to an interactive table.\"\n",
              "              style=\"display:none;\">\n",
              "        \n",
              "  <svg xmlns=\"http://www.w3.org/2000/svg\" height=\"24px\"viewBox=\"0 0 24 24\"\n",
              "       width=\"24px\">\n",
              "    <path d=\"M0 0h24v24H0V0z\" fill=\"none\"/>\n",
              "    <path d=\"M18.56 5.44l.94 2.06.94-2.06 2.06-.94-2.06-.94-.94-2.06-.94 2.06-2.06.94zm-11 1L8.5 8.5l.94-2.06 2.06-.94-2.06-.94L8.5 2.5l-.94 2.06-2.06.94zm10 10l.94 2.06.94-2.06 2.06-.94-2.06-.94-.94-2.06-.94 2.06-2.06.94z\"/><path d=\"M17.41 7.96l-1.37-1.37c-.4-.4-.92-.59-1.43-.59-.52 0-1.04.2-1.43.59L10.3 9.45l-7.72 7.72c-.78.78-.78 2.05 0 2.83L4 21.41c.39.39.9.59 1.41.59.51 0 1.02-.2 1.41-.59l7.78-7.78 2.81-2.81c.8-.78.8-2.07 0-2.86zM5.41 20L4 18.59l7.72-7.72 1.47 1.35L5.41 20z\"/>\n",
              "  </svg>\n",
              "      </button>\n",
              "      \n",
              "  <style>\n",
              "    .colab-df-container {\n",
              "      display:flex;\n",
              "      flex-wrap:wrap;\n",
              "      gap: 12px;\n",
              "    }\n",
              "\n",
              "    .colab-df-convert {\n",
              "      background-color: #E8F0FE;\n",
              "      border: none;\n",
              "      border-radius: 50%;\n",
              "      cursor: pointer;\n",
              "      display: none;\n",
              "      fill: #1967D2;\n",
              "      height: 32px;\n",
              "      padding: 0 0 0 0;\n",
              "      width: 32px;\n",
              "    }\n",
              "\n",
              "    .colab-df-convert:hover {\n",
              "      background-color: #E2EBFA;\n",
              "      box-shadow: 0px 1px 2px rgba(60, 64, 67, 0.3), 0px 1px 3px 1px rgba(60, 64, 67, 0.15);\n",
              "      fill: #174EA6;\n",
              "    }\n",
              "\n",
              "    [theme=dark] .colab-df-convert {\n",
              "      background-color: #3B4455;\n",
              "      fill: #D2E3FC;\n",
              "    }\n",
              "\n",
              "    [theme=dark] .colab-df-convert:hover {\n",
              "      background-color: #434B5C;\n",
              "      box-shadow: 0px 1px 3px 1px rgba(0, 0, 0, 0.15);\n",
              "      filter: drop-shadow(0px 1px 2px rgba(0, 0, 0, 0.3));\n",
              "      fill: #FFFFFF;\n",
              "    }\n",
              "  </style>\n",
              "\n",
              "      <script>\n",
              "        const buttonEl =\n",
              "          document.querySelector('#df-765eefa9-0437-4eb3-bd14-1d34df15f88c button.colab-df-convert');\n",
              "        buttonEl.style.display =\n",
              "          google.colab.kernel.accessAllowed ? 'block' : 'none';\n",
              "\n",
              "        async function convertToInteractive(key) {\n",
              "          const element = document.querySelector('#df-765eefa9-0437-4eb3-bd14-1d34df15f88c');\n",
              "          const dataTable =\n",
              "            await google.colab.kernel.invokeFunction('convertToInteractive',\n",
              "                                                     [key], {});\n",
              "          if (!dataTable) return;\n",
              "\n",
              "          const docLinkHtml = 'Like what you see? Visit the ' +\n",
              "            '<a target=\"_blank\" href=https://colab.research.google.com/notebooks/data_table.ipynb>data table notebook</a>'\n",
              "            + ' to learn more about interactive tables.';\n",
              "          element.innerHTML = '';\n",
              "          dataTable['output_type'] = 'display_data';\n",
              "          await google.colab.output.renderOutput(dataTable, element);\n",
              "          const docLink = document.createElement('div');\n",
              "          docLink.innerHTML = docLinkHtml;\n",
              "          element.appendChild(docLink);\n",
              "        }\n",
              "      </script>\n",
              "    </div>\n",
              "  </div>\n",
              "  "
            ]
          },
          "metadata": {},
          "execution_count": 8
        }
      ]
    },
    {
      "cell_type": "markdown",
      "source": [
        "Podemos ver lista de de columnas correscpondientes. Donde vemos cantidad de valores no nulos, la media, la desviacion, el valor minimo, lo que hay debajo del 25%, 50%, 75% y ademas el numero maximo."
      ],
      "metadata": {
        "id": "eQ8Ysp1k5_8G"
      }
    },
    {
      "cell_type": "code",
      "source": [
        "columnas_nulos = df.columns[df.isnull().any()]\n",
        "df[columnas_nulos].isnull().sum()"
      ],
      "metadata": {
        "id": "acPb7TtT6h_1",
        "colab": {
          "base_uri": "https://localhost:8080/"
        },
        "outputId": "d492de1c-e47d-4e78-f0da-5e299b1a7019"
      },
      "execution_count": null,
      "outputs": [
        {
          "output_type": "execute_result",
          "data": {
            "text/plain": [
              "Series([], dtype: float64)"
            ]
          },
          "metadata": {},
          "execution_count": 9
        }
      ]
    },
    {
      "cell_type": "code",
      "source": [
        "df.isnull().any()"
      ],
      "metadata": {
        "id": "SMYkAOKa6A_g",
        "colab": {
          "base_uri": "https://localhost:8080/"
        },
        "outputId": "387e6157-e9af-49ce-b638-1fc69cd7b51a"
      },
      "execution_count": null,
      "outputs": [
        {
          "output_type": "execute_result",
          "data": {
            "text/plain": [
              "BHK                  False\n",
              "Rent                 False\n",
              "Size                 False\n",
              "Floor                False\n",
              "Area Type            False\n",
              "Area Locality        False\n",
              "City                 False\n",
              "Furnishing Status    False\n",
              "Tenant Preferred     False\n",
              "Bathroom             False\n",
              "Point of Contact     False\n",
              "dtype: bool"
            ]
          },
          "metadata": {},
          "execution_count": 10
        }
      ]
    },
    {
      "cell_type": "code",
      "source": [
        "df.isna().sum()"
      ],
      "metadata": {
        "id": "HGln1M5n7QdY",
        "colab": {
          "base_uri": "https://localhost:8080/"
        },
        "outputId": "a2c13d4d-7ee2-43ea-a385-c356a5847e94"
      },
      "execution_count": null,
      "outputs": [
        {
          "output_type": "execute_result",
          "data": {
            "text/plain": [
              "BHK                  0\n",
              "Rent                 0\n",
              "Size                 0\n",
              "Floor                0\n",
              "Area Type            0\n",
              "Area Locality        0\n",
              "City                 0\n",
              "Furnishing Status    0\n",
              "Tenant Preferred     0\n",
              "Bathroom             0\n",
              "Point of Contact     0\n",
              "dtype: int64"
            ]
          },
          "metadata": {},
          "execution_count": 11
        }
      ]
    },
    {
      "cell_type": "code",
      "source": [
        "import missingno as msno\n",
        "msno.matrix(df)\n",
        "plt.figure(figsize = (15,9))\n",
        "plt.show()"
      ],
      "metadata": {
        "id": "cNAhzD6988MZ",
        "colab": {
          "base_uri": "https://localhost:8080/"
        },
        "outputId": "93884c59-95b8-492a-e7f5-a661383847c1"
      },
      "execution_count": null,
      "outputs": [
        {
          "output_type": "display_data",
          "data": {
            "text/plain": [
              "<Figure size 1800x720 with 2 Axes>"
            ],
            "image/png": "[encoded data removed]"
          },
          "metadata": {
            "needs_background": "light"
          }
        },
        {
          "output_type": "display_data",
          "data": {
            "text/plain": [
              "<Figure size 1080x648 with 0 Axes>"
            ]
          },
          "metadata": {}
        }
      ]
    },
    {
      "cell_type": "markdown",
      "source": [
        "Con diferentes metodos visualizamos que efectivamente no contamos con valores nulos o faltantes."
      ],
      "metadata": {
        "id": "5e2D0Hzz6oOr"
      }
    },
    {
      "cell_type": "code",
      "source": [
        "df.City.unique()"
      ],
      "metadata": {
        "id": "tVhhBbDx66ZH",
        "colab": {
          "base_uri": "https://localhost:8080/"
        },
        "outputId": "30d322a1-0506-4bc9-a7ab-b77acb143548"
      },
      "execution_count": null,
      "outputs": [
        {
          "output_type": "execute_result",
          "data": {
            "text/plain": [
              "array(['Kolkata', 'Mumbai', 'Bangalore', 'Delhi', 'Chennai', 'Hyderabad'],\n",
              "      dtype=object)"
            ]
          },
          "metadata": {},
          "execution_count": 13
        }
      ]
    },
    {
      "cell_type": "markdown",
      "source": [
        "Me parecio interesante visualizar todas las ciudades con ofertas del Dataset."
      ],
      "metadata": {
        "id": "rDDFOhvJ7CSo"
      }
    },
    {
      "cell_type": "markdown",
      "source": [
        "# ***EDA - Exploratory Data Analysis 📊***"
      ],
      "metadata": {
        "id": "hltl0bWJApoE"
      }
    },
    {
      "cell_type": "code",
      "source": [
        "df.shape"
      ],
      "metadata": {
        "id": "j7foQ6jvA3Bt",
        "colab": {
          "base_uri": "https://localhost:8080/"
        },
        "outputId": "fdc662c6-524d-4938-ec48-0f73663c65f6"
      },
      "execution_count": null,
      "outputs": [
        {
          "output_type": "execute_result",
          "data": {
            "text/plain": [
              "(4746, 11)"
            ]
          },
          "metadata": {},
          "execution_count": 14
        }
      ]
    },
    {
      "cell_type": "code",
      "source": [
        "df.describe().T\n"
      ],
      "metadata": {
        "id": "8fG-kLGpA5Zn",
        "colab": {
          "base_uri": "https://localhost:8080/"
        },
        "outputId": "5f44b954-88d8-4bac-b74e-ad6982a1e554"
      },
      "execution_count": null,
      "outputs": [
        {
          "output_type": "execute_result",
          "data": {
            "text/plain": [
              "           count          mean           std     min      25%      50%  \\\n",
              "BHK       4746.0      2.083860      0.832256     1.0      2.0      2.0   \n",
              "Rent      4746.0  34993.451327  78106.412937  1200.0  10000.0  16000.0   \n",
              "Size      4746.0    967.490729    634.202328    10.0    550.0    850.0   \n",
              "Bathroom  4746.0      1.965866      0.884532     1.0      1.0      2.0   \n",
              "\n",
              "              75%        max  \n",
              "BHK           3.0        6.0  \n",
              "Rent      33000.0  3500000.0  \n",
              "Size       1200.0     8000.0  \n",
              "Bathroom      2.0       10.0  "
            ],
            "text/html": [
              "\n",
              "  <div id=\"df-3cff902e-d691-4244-8e27-20e0e2f83729\">\n",
              "    <div class=\"colab-df-container\">\n",
              "      <div>\n",
              "<style scoped>\n",
              "    .dataframe tbody tr th:only-of-type {\n",
              "        vertical-align: middle;\n",
              "    }\n",
              "\n",
              "    .dataframe tbody tr th {\n",
              "        vertical-align: top;\n",
              "    }\n",
              "\n",
              "    .dataframe thead th {\n",
              "        text-align: right;\n",
              "    }\n",
              "</style>\n",
              "<table border=\"1\" class=\"dataframe\">\n",
              "  <thead>\n",
              "    <tr style=\"text-align: right;\">\n",
              "      <th></th>\n",
              "      <th>count</th>\n",
              "      <th>mean</th>\n",
              "      <th>std</th>\n",
              "      <th>min</th>\n",
              "      <th>25%</th>\n",
              "      <th>50%</th>\n",
              "      <th>75%</th>\n",
              "      <th>max</th>\n",
              "    </tr>\n",
              "  </thead>\n",
              "  <tbody>\n",
              "    <tr>\n",
              "      <th>BHK</th>\n",
              "      <td>4746.0</td>\n",
              "      <td>2.083860</td>\n",
              "      <td>0.832256</td>\n",
              "      <td>1.0</td>\n",
              "      <td>2.0</td>\n",
              "      <td>2.0</td>\n",
              "      <td>3.0</td>\n",
              "      <td>6.0</td>\n",
              "    </tr>\n",
              "    <tr>\n",
              "      <th>Rent</th>\n",
              "      <td>4746.0</td>\n",
              "      <td>34993.451327</td>\n",
              "      <td>78106.412937</td>\n",
              "      <td>1200.0</td>\n",
              "      <td>10000.0</td>\n",
              "      <td>16000.0</td>\n",
              "      <td>33000.0</td>\n",
              "      <td>3500000.0</td>\n",
              "    </tr>\n",
              "    <tr>\n",
              "      <th>Size</th>\n",
              "      <td>4746.0</td>\n",
              "      <td>967.490729</td>\n",
              "      <td>634.202328</td>\n",
              "      <td>10.0</td>\n",
              "      <td>550.0</td>\n",
              "      <td>850.0</td>\n",
              "      <td>1200.0</td>\n",
              "      <td>8000.0</td>\n",
              "    </tr>\n",
              "    <tr>\n",
              "      <th>Bathroom</th>\n",
              "      <td>4746.0</td>\n",
              "      <td>1.965866</td>\n",
              "      <td>0.884532</td>\n",
              "      <td>1.0</td>\n",
              "      <td>1.0</td>\n",
              "      <td>2.0</td>\n",
              "      <td>2.0</td>\n",
              "      <td>10.0</td>\n",
              "    </tr>\n",
              "  </tbody>\n",
              "</table>\n",
              "</div>\n",
              "      <button class=\"colab-df-convert\" onclick=\"convertToInteractive('df-3cff902e-d691-4244-8e27-20e0e2f83729')\"\n",
              "              title=\"Convert this dataframe to an interactive table.\"\n",
              "              style=\"display:none;\">\n",
              "        \n",
              "  <svg xmlns=\"http://www.w3.org/2000/svg\" height=\"24px\"viewBox=\"0 0 24 24\"\n",
              "       width=\"24px\">\n",
              "    <path d=\"M0 0h24v24H0V0z\" fill=\"none\"/>\n",
              "    <path d=\"M18.56 5.44l.94 2.06.94-2.06 2.06-.94-2.06-.94-.94-2.06-.94 2.06-2.06.94zm-11 1L8.5 8.5l.94-2.06 2.06-.94-2.06-.94L8.5 2.5l-.94 2.06-2.06.94zm10 10l.94 2.06.94-2.06 2.06-.94-2.06-.94-.94-2.06-.94 2.06-2.06.94z\"/><path d=\"M17.41 7.96l-1.37-1.37c-.4-.4-.92-.59-1.43-.59-.52 0-1.04.2-1.43.59L10.3 9.45l-7.72 7.72c-.78.78-.78 2.05 0 2.83L4 21.41c.39.39.9.59 1.41.59.51 0 1.02-.2 1.41-.59l7.78-7.78 2.81-2.81c.8-.78.8-2.07 0-2.86zM5.41 20L4 18.59l7.72-7.72 1.47 1.35L5.41 20z\"/>\n",
              "  </svg>\n",
              "      </button>\n",
              "      \n",
              "  <style>\n",
              "    .colab-df-container {\n",
              "      display:flex;\n",
              "      flex-wrap:wrap;\n",
              "      gap: 12px;\n",
              "    }\n",
              "\n",
              "    .colab-df-convert {\n",
              "      background-color: #E8F0FE;\n",
              "      border: none;\n",
              "      border-radius: 50%;\n",
              "      cursor: pointer;\n",
              "      display: none;\n",
              "      fill: #1967D2;\n",
              "      height: 32px;\n",
              "      padding: 0 0 0 0;\n",
              "      width: 32px;\n",
              "    }\n",
              "\n",
              "    .colab-df-convert:hover {\n",
              "      background-color: #E2EBFA;\n",
              "      box-shadow: 0px 1px 2px rgba(60, 64, 67, 0.3), 0px 1px 3px 1px rgba(60, 64, 67, 0.15);\n",
              "      fill: #174EA6;\n",
              "    }\n",
              "\n",
              "    [theme=dark] .colab-df-convert {\n",
              "      background-color: #3B4455;\n",
              "      fill: #D2E3FC;\n",
              "    }\n",
              "\n",
              "    [theme=dark] .colab-df-convert:hover {\n",
              "      background-color: #434B5C;\n",
              "      box-shadow: 0px 1px 3px 1px rgba(0, 0, 0, 0.15);\n",
              "      filter: drop-shadow(0px 1px 2px rgba(0, 0, 0, 0.3));\n",
              "      fill: #FFFFFF;\n",
              "    }\n",
              "  </style>\n",
              "\n",
              "      <script>\n",
              "        const buttonEl =\n",
              "          document.querySelector('#df-3cff902e-d691-4244-8e27-20e0e2f83729 button.colab-df-convert');\n",
              "        buttonEl.style.display =\n",
              "          google.colab.kernel.accessAllowed ? 'block' : 'none';\n",
              "\n",
              "        async function convertToInteractive(key) {\n",
              "          const element = document.querySelector('#df-3cff902e-d691-4244-8e27-20e0e2f83729');\n",
              "          const dataTable =\n",
              "            await google.colab.kernel.invokeFunction('convertToInteractive',\n",
              "                                                     [key], {});\n",
              "          if (!dataTable) return;\n",
              "\n",
              "          const docLinkHtml = 'Like what you see? Visit the ' +\n",
              "            '<a target=\"_blank\" href=https://colab.research.google.com/notebooks/data_table.ipynb>data table notebook</a>'\n",
              "            + ' to learn more about interactive tables.';\n",
              "          element.innerHTML = '';\n",
              "          dataTable['output_type'] = 'display_data';\n",
              "          await google.colab.output.renderOutput(dataTable, element);\n",
              "          const docLink = document.createElement('div');\n",
              "          docLink.innerHTML = docLinkHtml;\n",
              "          element.appendChild(docLink);\n",
              "        }\n",
              "      </script>\n",
              "    </div>\n",
              "  </div>\n",
              "  "
            ]
          },
          "metadata": {},
          "execution_count": 15
        }
      ]
    },
    {
      "cell_type": "markdown",
      "source": [
        "Analizaremos los atributos mas determinantes para poder entender,predecir y especular acerca de los precios de los mismos, asi podremos seccionarlos y entender las causas mas contundentes de los precios asentados para cada una de las ofertas de viviendas del Dataset."
      ],
      "metadata": {
        "id": "0rrzdAh-BMlj"
      }
    },
    {
      "cell_type": "markdown",
      "source": [
        "# ***Serie de preguntas***"
      ],
      "metadata": {
        "id": "ZJa3iVzKPPv4"
      }
    },
    {
      "cell_type": "markdown",
      "source": [
        "*   ¿La cantidad de oferta-demanda en una ciudad afecta el precio de las viviendas? \n",
        "*   ¿Qué tan variante para el precio la Zona/Ciudad en la que se encuentra?\n",
        "*   ¿Qué tanto afecta el precio la cantidad de baños que posee una vivienda?\n",
        "*   ¿Qué tanto afecta al precio el tamaño de la vivienda?\n",
        "*   ¿El hecho del contacto de la vivienda sea dueño directo o inmobiliaria cambia el precio?"
      ],
      "metadata": {
        "id": "pY348dLsPizM"
      }
    },
    {
      "cell_type": "markdown",
      "source": [
        "# ***Visualizaciones***"
      ],
      "metadata": {
        "id": "VWGdoKe3Q-5A"
      }
    },
    {
      "cell_type": "code",
      "source": [
        "df['count'] = 1\n",
        "DD = df.groupby(['City']).count()['count']\n",
        "plt.figure(figsize=(12,6))\n",
        "plt.pie(DD.values, labels=DD.index, startangle=90, autopct='%1.1f%%', shadow=True, radius=1.5)\n",
        "plt.title(\"Porcentaje de ofertas por ciudad\")\n",
        "plt.minorticks_on()\n",
        "plt.grid()"
      ],
      "metadata": {
        "id": "CnjLHGRZUVIx",
        "colab": {
          "base_uri": "https://localhost:8080/"
        },
        "outputId": "c62a79e9-f47b-4823-9310-17a9cde61a8f"
      },
      "execution_count": null,
      "outputs": [
        {
          "output_type": "display_data",
          "data": {
            "text/plain": [
              "<Figure size 864x432 with 1 Axes>"
            ],
            "image/png": "[encoded data removed]"
          },
          "metadata": {}
        }
      ]
    },
    {
      "cell_type": "code",
      "source": [
        "df.plot(kind='scatter', x='City', y='Rent')\n",
        "plt.title(\"Precio de renta por Ciudad - India\")\n",
        "plt.legend()\n",
        "plt.minorticks_on()\n",
        "plt.grid()"
      ],
      "metadata": {
        "id": "Q6hgTnN6WvtP",
        "colab": {
          "base_uri": "https://localhost:8080/"
        },
        "outputId": "8797bf95-fc48-4151-b751-c785383ec6eb"
      },
      "execution_count": null,
      "outputs": [
        {
          "output_type": "stream",
          "name": "stderr",
          "text": [
            "WARNING:matplotlib.legend:No handles with labels found to put in legend.\n"
          ]
        },
        {
          "output_type": "display_data",
          "data": {
            "text/plain": [
              "<Figure size 432x288 with 1 Axes>"
            ],
            "image/png": "[encoded data removed]"
          },
          "metadata": {
            "needs_background": "light"
          }
        }
      ]
    },
    {
      "cell_type": "markdown",
      "source": [
        "¿La cantidad de oferta-demanda en una ciudad afecta el precio de las viviendas? \n",
        "¿Qué tan variante para el precio la Zona/Ciudad en la que se encuentra?\n",
        "\n",
        "En los graficos podemos visualizar una gran cantidad de ofertas de viviendas en las ciudades como Mumbai, Chennai, Bangalore y Hyderabad. Las cuales rondan casi por la misma cantidad de ofertas de dichas viviendas.\n",
        "Sin embargo al visualizar el precio de la renta podemos visualizar que hay una dominancia en la parte alta de precio de renta en la ciudad de Mumbai, sacando de lado un inusual en la ciudad de Bangalore, podemos concluir que la comparativa de oferta-demanda no es un factor razonable para este dataset debido a que efectivamente Mumbai es la zona con mas ofertas y, ademas, es la zona con la renta mas alta, consecuentemente nos lleva a indagar mas otros factores comparables para buscar razones del precio.\n",
        "El gráfico de los precios de renta tambien nos ayuda tener una noción de los precios puntuales de cada zona, la cual nos genera mas cuestionamientos de la causalidad de los precios, tales como si en una zona céntrica (efectivamente Mumbai lo es), los precios de renta son mayores a comparación de las demas ciudades del dataset. Habría que investigar mas razones por la cuales el precio se eleva mucho o no en cada una de las ciudades."
      ],
      "metadata": {
        "id": "qDSAIseoduNv"
      }
    },
    {
      "cell_type": "code",
      "source": [
        "plt.figure(figsize=(12,6))\n",
        "sns.barplot(x='City',y='Rent',hue='Bathroom',data=df)\n",
        "plt.legend()\n",
        "plt.minorticks_on()\n",
        "plt.grid()"
      ],
      "metadata": {
        "id": "OtWStfcMbUZE",
        "colab": {
          "base_uri": "https://localhost:8080/"
        },
        "outputId": "cd89775b-3b1c-4afe-a853-e3c753b86642"
      },
      "execution_count": null,
      "outputs": [
        {
          "output_type": "display_data",
          "data": {
            "text/plain": [
              "<Figure size 864x432 with 1 Axes>"
            ],
            "image/png": "[encoded data removed]"
          },
          "metadata": {
            "needs_background": "light"
          }
        }
      ]
    },
    {
      "cell_type": "markdown",
      "source": [
        "¿Qué tanto afecta el precio la cantidad de baños que posee una vivienda?\n",
        "\n",
        "En este gráfico podemos visualizar la comparativa de las Ciudades con la cantidad de baños y su relacion con los precios, en el que concluimos a través de la visualización en cómo los precios de los mismos se disparan en los gráficos de todas las ciudades cuando la vivienda cuenta con mas de 3 baños por vivienda. Lo normal o los precios mas bajos los podemos visualizar en las viviendas con 2 baños o menos.\n",
        "Entonces afirmamos que los baños son un factor que hacen variar los precios de las viviendas y los mismos se diferencian demasiado a partir de los 2/3 baños por vivienda."
      ],
      "metadata": {
        "id": "xWB8xexTinW9"
      }
    },
    {
      "cell_type": "code",
      "source": [
        "import matplotlib.pyplot as plt\n",
        "plt.figure(figsize=(12,6))\n",
        "sns.scatterplot(x='Rent', y='Size',hue='City',data=df)\n",
        "plt.legend()\n",
        "plt.minorticks_on()\n",
        "plt.grid()"
      ],
      "metadata": {
        "id": "1uWc4lpAlIz-",
        "colab": {
          "base_uri": "https://localhost:8080/"
        },
        "outputId": "133e5213-650b-40a4-8ba7-50939d1656d1"
      },
      "execution_count": null,
      "outputs": [
        {
          "output_type": "display_data",
          "data": {
            "text/plain": [
              "<Figure size 864x432 with 1 Axes>"
            ],
            "image/png": "[encoded data removed]"
          },
          "metadata": {
            "needs_background": "light"
          }
        }
      ]
    },
    {
      "cell_type": "markdown",
      "source": [
        "¿Qué tanto afecta al precio el tamaño de la vivienda?\n",
        "\n",
        "En el siguiente grafico vemos la relación entre el tamaño y el precio de la vivienda diferenciado por las ciudades. Podemos visualizar que los precios mas alejados corresponden a las ciudades mas caras y que, ademas, tenemos los tamaños de casas mas espaciosas, que permiten ver preponderancia de Mumbai donde cuentan con una tendencia de viviendas mas espaciosas, por ende es razonable nuevamente que visualizemos cierta tendencia alcista en cuanto a los precios de las viviendas, y podemos afirmar que efectivamente el tamaño de la  vivienda es un factor determinante para el precio de la misma y permitiendo justificar la incógnita previa del por qué Mumbai presenta dominancia, en efecto una de las causalidades es que cuenta con las viviendas de mayor tamaño en potecial demanda de la misma."
      ],
      "metadata": {
        "id": "O2bWYhVZnbfa"
      }
    },
    {
      "cell_type": "code",
      "source": [
        "df['count'] = 1\n",
        "D = df.groupby(['Point of Contact']).count()['count']\n",
        "plt.figure(figsize=(12,6))\n",
        "plt.pie(D.values, labels=D.index, startangle=90, autopct='%1.1f%%', shadow=True, radius=1.5)\n",
        "plt.title(\"Porcentaje de encargados de oferta de viviendas\")\n",
        "plt.minorticks_on()\n",
        "plt.grid()"
      ],
      "metadata": {
        "id": "zlzmXzAGoNkK",
        "colab": {
          "base_uri": "https://localhost:8080/"
        },
        "outputId": "1fd69a10-0471-4cc6-fb26-61764caa62e5"
      },
      "execution_count": null,
      "outputs": [
        {
          "output_type": "display_data",
          "data": {
            "text/plain": [
              "<Figure size 864x432 with 1 Axes>"
            ],
            "image/png": "[encoded data removed]"
          },
          "metadata": {}
        }
      ]
    },
    {
      "cell_type": "code",
      "source": [
        "plt.figure(figsize=(12,6))\n",
        "sns.barplot(x='City',y='Rent',hue='Point of Contact',data=df)\n",
        "plt.legend()\n",
        "plt.minorticks_on()\n",
        "plt.grid()"
      ],
      "metadata": {
        "id": "e-pvKiqcpSxZ",
        "colab": {
          "base_uri": "https://localhost:8080/"
        },
        "outputId": "e5d955df-3008-45ff-eaa1-78f9a2ded779"
      },
      "execution_count": null,
      "outputs": [
        {
          "output_type": "display_data",
          "data": {
            "text/plain": [
              "<Figure size 864x432 with 1 Axes>"
            ],
            "image/png": "[encoded data removed]"
          },
          "metadata": {
            "needs_background": "light"
          }
        }
      ]
    },
    {
      "cell_type": "markdown",
      "source": [
        "¿El hecho del contacto de la vivienda sea dueño directo o inmobiliaria cambia el precio?\n",
        "\n",
        "Efectivamente a través del gráfico podemos visualizar el hecho de que si la vivienda es ofrecida por el agente inmobiliario, el precio se vuelve mas elevado, y confirmamos que siempre es mas barato contactar con el dueño directo de la vivienda para ahorrarse dinero.\n",
        "\n",
        "En este gráfico encontramos un inusual en Hyderabad, el cual se debe a que hay una constructora que ofrece viviendas con terminaciones en proceso, siendo esta una razón para encontrar precios de viviendas aún más bajos que si son ofrecidas por el dueño directo."
      ],
      "metadata": {
        "id": "zaDbhG1-ptpT"
      }
    },
    {
      "cell_type": "markdown",
      "source": [
        "#***Reducción de dimensionalidad***"
      ],
      "metadata": {
        "id": "FK0m7y0ENiju"
      }
    },
    {
      "cell_type": "markdown",
      "metadata": {
        "id": "VZHZMmqozVXV"
      },
      "source": [
        "Convirtamos estos datos sin procesar en un marco de datos que incluya la variable de destino y los datos reales junto con los nombres de las funciones."
      ]
    },
    {
      "cell_type": "code",
      "source": [
        "# Separamos el dataframe en la matriz de características (variables independientes, variables de entrada)\n",
        "# Y en la variable objetivo (variable independiente, variable de salida)\n",
        "\n",
        "X = df.drop([\"Rent\",\"Area Locality\",\"Furnishing Status\",\"Tenant Preferred\", \"count\"], axis = 1)      # feature matrix\n",
        "y = df[\"Rent\"]         # target feature"
      ],
      "metadata": {
        "id": "hLqAnQhP3lpu"
      },
      "execution_count": null,
      "outputs": []
    },
    {
      "cell_type": "code",
      "source": [
        "#Convertimos las variables categóricas a numéricas para poder realizar la reducción de dimensionalidad\n",
        "X=pd.get_dummies(X, columns=None)"
      ],
      "metadata": {
        "id": "iz0eEqvdJH8Q"
      },
      "execution_count": null,
      "outputs": []
    },
    {
      "cell_type": "code",
      "source": [
        "X.head()"
      ],
      "metadata": {
        "id": "nIu05qUlJGfg",
        "colab": {
          "base_uri": "https://localhost:8080/"
        },
        "outputId": "723dbd44-094e-4d72-cac1-393eda9f207b"
      },
      "execution_count": null,
      "outputs": [
        {
          "output_type": "execute_result",
          "data": {
            "text/plain": [
              "            BHK  Size  Bathroom  Floor_1  Floor_1 out of 1  Floor_1 out of 10  \\\n",
              "Posted On                                                                       \n",
              "18/05/2022    2  1100         2        0                 0                  0   \n",
              "13/05/2022    2   800         1        0                 0                  0   \n",
              "16/05/2022    2  1000         1        0                 0                  0   \n",
              "04/07/2022    2   800         1        0                 0                  0   \n",
              "09/05/2022    2   850         1        0                 0                  0   \n",
              "\n",
              "            Floor_1 out of 11  Floor_1 out of 12  Floor_1 out of 13  \\\n",
              "Posted On                                                             \n",
              "18/05/2022                  0                  0                  0   \n",
              "13/05/2022                  0                  0                  0   \n",
              "16/05/2022                  0                  0                  0   \n",
              "04/07/2022                  0                  0                  0   \n",
              "09/05/2022                  0                  0                  0   \n",
              "\n",
              "            Floor_1 out of 14  ...  Area Type_Super Area  City_Bangalore  \\\n",
              "Posted On                      ...                                         \n",
              "18/05/2022                  0  ...                     1               0   \n",
              "13/05/2022                  0  ...                     1               0   \n",
              "16/05/2022                  0  ...                     1               0   \n",
              "04/07/2022                  0  ...                     1               0   \n",
              "09/05/2022                  0  ...                     0               0   \n",
              "\n",
              "            City_Chennai  City_Delhi  City_Hyderabad  City_Kolkata  \\\n",
              "Posted On                                                            \n",
              "18/05/2022             0           0               0             1   \n",
              "13/05/2022             0           0               0             1   \n",
              "16/05/2022             0           0               0             1   \n",
              "04/07/2022             0           0               0             1   \n",
              "09/05/2022             0           0               0             1   \n",
              "\n",
              "            City_Mumbai  Point of Contact_Contact Agent  \\\n",
              "Posted On                                                 \n",
              "18/05/2022            0                               0   \n",
              "13/05/2022            0                               0   \n",
              "16/05/2022            0                               0   \n",
              "04/07/2022            0                               0   \n",
              "09/05/2022            0                               0   \n",
              "\n",
              "            Point of Contact_Contact Builder  Point of Contact_Contact Owner  \n",
              "Posted On                                                                     \n",
              "18/05/2022                                 0                               1  \n",
              "13/05/2022                                 0                               1  \n",
              "16/05/2022                                 0                               1  \n",
              "04/07/2022                                 0                               1  \n",
              "09/05/2022                                 0                               1  \n",
              "\n",
              "[5 rows x 495 columns]"
            ],
            "text/html": [
              "\n",
              "  <div id=\"df-e9007b29-ecbc-4439-bbcd-70f607e0ff3c\">\n",
              "    <div class=\"colab-df-container\">\n",
              "      <div>\n",
              "<style scoped>\n",
              "    .dataframe tbody tr th:only-of-type {\n",
              "        vertical-align: middle;\n",
              "    }\n",
              "\n",
              "    .dataframe tbody tr th {\n",
              "        vertical-align: top;\n",
              "    }\n",
              "\n",
              "    .dataframe thead th {\n",
              "        text-align: right;\n",
              "    }\n",
              "</style>\n",
              "<table border=\"1\" class=\"dataframe\">\n",
              "  <thead>\n",
              "    <tr style=\"text-align: right;\">\n",
              "      <th></th>\n",
              "      <th>BHK</th>\n",
              "      <th>Size</th>\n",
              "      <th>Bathroom</th>\n",
              "      <th>Floor_1</th>\n",
              "      <th>Floor_1 out of 1</th>\n",
              "      <th>Floor_1 out of 10</th>\n",
              "      <th>Floor_1 out of 11</th>\n",
              "      <th>Floor_1 out of 12</th>\n",
              "      <th>Floor_1 out of 13</th>\n",
              "      <th>Floor_1 out of 14</th>\n",
              "      <th>...</th>\n",
              "      <th>Area Type_Super Area</th>\n",
              "      <th>City_Bangalore</th>\n",
              "      <th>City_Chennai</th>\n",
              "      <th>City_Delhi</th>\n",
              "      <th>City_Hyderabad</th>\n",
              "      <th>City_Kolkata</th>\n",
              "      <th>City_Mumbai</th>\n",
              "      <th>Point of Contact_Contact Agent</th>\n",
              "      <th>Point of Contact_Contact Builder</th>\n",
              "      <th>Point of Contact_Contact Owner</th>\n",
              "    </tr>\n",
              "    <tr>\n",
              "      <th>Posted On</th>\n",
              "      <th></th>\n",
              "      <th></th>\n",
              "      <th></th>\n",
              "      <th></th>\n",
              "      <th></th>\n",
              "      <th></th>\n",
              "      <th></th>\n",
              "      <th></th>\n",
              "      <th></th>\n",
              "      <th></th>\n",
              "      <th></th>\n",
              "      <th></th>\n",
              "      <th></th>\n",
              "      <th></th>\n",
              "      <th></th>\n",
              "      <th></th>\n",
              "      <th></th>\n",
              "      <th></th>\n",
              "      <th></th>\n",
              "      <th></th>\n",
              "      <th></th>\n",
              "    </tr>\n",
              "  </thead>\n",
              "  <tbody>\n",
              "    <tr>\n",
              "      <th>18/05/2022</th>\n",
              "      <td>2</td>\n",
              "      <td>1100</td>\n",
              "      <td>2</td>\n",
              "      <td>0</td>\n",
              "      <td>0</td>\n",
              "      <td>0</td>\n",
              "      <td>0</td>\n",
              "      <td>0</td>\n",
              "      <td>0</td>\n",
              "      <td>0</td>\n",
              "      <td>...</td>\n",
              "      <td>1</td>\n",
              "      <td>0</td>\n",
              "      <td>0</td>\n",
              "      <td>0</td>\n",
              "      <td>0</td>\n",
              "      <td>1</td>\n",
              "      <td>0</td>\n",
              "      <td>0</td>\n",
              "      <td>0</td>\n",
              "      <td>1</td>\n",
              "    </tr>\n",
              "    <tr>\n",
              "      <th>13/05/2022</th>\n",
              "      <td>2</td>\n",
              "      <td>800</td>\n",
              "      <td>1</td>\n",
              "      <td>0</td>\n",
              "      <td>0</td>\n",
              "      <td>0</td>\n",
              "      <td>0</td>\n",
              "      <td>0</td>\n",
              "      <td>0</td>\n",
              "      <td>0</td>\n",
              "      <td>...</td>\n",
              "      <td>1</td>\n",
              "      <td>0</td>\n",
              "      <td>0</td>\n",
              "      <td>0</td>\n",
              "      <td>0</td>\n",
              "      <td>1</td>\n",
              "      <td>0</td>\n",
              "      <td>0</td>\n",
              "      <td>0</td>\n",
              "      <td>1</td>\n",
              "    </tr>\n",
              "    <tr>\n",
              "      <th>16/05/2022</th>\n",
              "      <td>2</td>\n",
              "      <td>1000</td>\n",
              "      <td>1</td>\n",
              "      <td>0</td>\n",
              "      <td>0</td>\n",
              "      <td>0</td>\n",
              "      <td>0</td>\n",
              "      <td>0</td>\n",
              "      <td>0</td>\n",
              "      <td>0</td>\n",
              "      <td>...</td>\n",
              "      <td>1</td>\n",
              "      <td>0</td>\n",
              "      <td>0</td>\n",
              "      <td>0</td>\n",
              "      <td>0</td>\n",
              "      <td>1</td>\n",
              "      <td>0</td>\n",
              "      <td>0</td>\n",
              "      <td>0</td>\n",
              "      <td>1</td>\n",
              "    </tr>\n",
              "    <tr>\n",
              "      <th>04/07/2022</th>\n",
              "      <td>2</td>\n",
              "      <td>800</td>\n",
              "      <td>1</td>\n",
              "      <td>0</td>\n",
              "      <td>0</td>\n",
              "      <td>0</td>\n",
              "      <td>0</td>\n",
              "      <td>0</td>\n",
              "      <td>0</td>\n",
              "      <td>0</td>\n",
              "      <td>...</td>\n",
              "      <td>1</td>\n",
              "      <td>0</td>\n",
              "      <td>0</td>\n",
              "      <td>0</td>\n",
              "      <td>0</td>\n",
              "      <td>1</td>\n",
              "      <td>0</td>\n",
              "      <td>0</td>\n",
              "      <td>0</td>\n",
              "      <td>1</td>\n",
              "    </tr>\n",
              "    <tr>\n",
              "      <th>09/05/2022</th>\n",
              "      <td>2</td>\n",
              "      <td>850</td>\n",
              "      <td>1</td>\n",
              "      <td>0</td>\n",
              "      <td>0</td>\n",
              "      <td>0</td>\n",
              "      <td>0</td>\n",
              "      <td>0</td>\n",
              "      <td>0</td>\n",
              "      <td>0</td>\n",
              "      <td>...</td>\n",
              "      <td>0</td>\n",
              "      <td>0</td>\n",
              "      <td>0</td>\n",
              "      <td>0</td>\n",
              "      <td>0</td>\n",
              "      <td>1</td>\n",
              "      <td>0</td>\n",
              "      <td>0</td>\n",
              "      <td>0</td>\n",
              "      <td>1</td>\n",
              "    </tr>\n",
              "  </tbody>\n",
              "</table>\n",
              "<p>5 rows × 495 columns</p>\n",
              "</div>\n",
              "      <button class=\"colab-df-convert\" onclick=\"convertToInteractive('df-e9007b29-ecbc-4439-bbcd-70f607e0ff3c')\"\n",
              "              title=\"Convert this dataframe to an interactive table.\"\n",
              "              style=\"display:none;\">\n",
              "        \n",
              "  <svg xmlns=\"http://www.w3.org/2000/svg\" height=\"24px\"viewBox=\"0 0 24 24\"\n",
              "       width=\"24px\">\n",
              "    <path d=\"M0 0h24v24H0V0z\" fill=\"none\"/>\n",
              "    <path d=\"M18.56 5.44l.94 2.06.94-2.06 2.06-.94-2.06-.94-.94-2.06-.94 2.06-2.06.94zm-11 1L8.5 8.5l.94-2.06 2.06-.94-2.06-.94L8.5 2.5l-.94 2.06-2.06.94zm10 10l.94 2.06.94-2.06 2.06-.94-2.06-.94-.94-2.06-.94 2.06-2.06.94z\"/><path d=\"M17.41 7.96l-1.37-1.37c-.4-.4-.92-.59-1.43-.59-.52 0-1.04.2-1.43.59L10.3 9.45l-7.72 7.72c-.78.78-.78 2.05 0 2.83L4 21.41c.39.39.9.59 1.41.59.51 0 1.02-.2 1.41-.59l7.78-7.78 2.81-2.81c.8-.78.8-2.07 0-2.86zM5.41 20L4 18.59l7.72-7.72 1.47 1.35L5.41 20z\"/>\n",
              "  </svg>\n",
              "      </button>\n",
              "      \n",
              "  <style>\n",
              "    .colab-df-container {\n",
              "      display:flex;\n",
              "      flex-wrap:wrap;\n",
              "      gap: 12px;\n",
              "    }\n",
              "\n",
              "    .colab-df-convert {\n",
              "      background-color: #E8F0FE;\n",
              "      border: none;\n",
              "      border-radius: 50%;\n",
              "      cursor: pointer;\n",
              "      display: none;\n",
              "      fill: #1967D2;\n",
              "      height: 32px;\n",
              "      padding: 0 0 0 0;\n",
              "      width: 32px;\n",
              "    }\n",
              "\n",
              "    .colab-df-convert:hover {\n",
              "      background-color: #E2EBFA;\n",
              "      box-shadow: 0px 1px 2px rgba(60, 64, 67, 0.3), 0px 1px 3px 1px rgba(60, 64, 67, 0.15);\n",
              "      fill: #174EA6;\n",
              "    }\n",
              "\n",
              "    [theme=dark] .colab-df-convert {\n",
              "      background-color: #3B4455;\n",
              "      fill: #D2E3FC;\n",
              "    }\n",
              "\n",
              "    [theme=dark] .colab-df-convert:hover {\n",
              "      background-color: #434B5C;\n",
              "      box-shadow: 0px 1px 3px 1px rgba(0, 0, 0, 0.15);\n",
              "      filter: drop-shadow(0px 1px 2px rgba(0, 0, 0, 0.3));\n",
              "      fill: #FFFFFF;\n",
              "    }\n",
              "  </style>\n",
              "\n",
              "      <script>\n",
              "        const buttonEl =\n",
              "          document.querySelector('#df-e9007b29-ecbc-4439-bbcd-70f607e0ff3c button.colab-df-convert');\n",
              "        buttonEl.style.display =\n",
              "          google.colab.kernel.accessAllowed ? 'block' : 'none';\n",
              "\n",
              "        async function convertToInteractive(key) {\n",
              "          const element = document.querySelector('#df-e9007b29-ecbc-4439-bbcd-70f607e0ff3c');\n",
              "          const dataTable =\n",
              "            await google.colab.kernel.invokeFunction('convertToInteractive',\n",
              "                                                     [key], {});\n",
              "          if (!dataTable) return;\n",
              "\n",
              "          const docLinkHtml = 'Like what you see? Visit the ' +\n",
              "            '<a target=\"_blank\" href=https://colab.research.google.com/notebooks/data_table.ipynb>data table notebook</a>'\n",
              "            + ' to learn more about interactive tables.';\n",
              "          element.innerHTML = '';\n",
              "          dataTable['output_type'] = 'display_data';\n",
              "          await google.colab.output.renderOutput(dataTable, element);\n",
              "          const docLink = document.createElement('div');\n",
              "          docLink.innerHTML = docLinkHtml;\n",
              "          element.appendChild(docLink);\n",
              "        }\n",
              "      </script>\n",
              "    </div>\n",
              "  </div>\n",
              "  "
            ]
          },
          "metadata": {},
          "execution_count": 24
        }
      ]
    },
    {
      "cell_type": "code",
      "metadata": {
        "id": "zhmk4xaP6zV8",
        "colab": {
          "base_uri": "https://localhost:8080/"
        },
        "outputId": "9d2dc8a6-6b36-43e4-a5a6-a5960b4da733"
      },
      "source": [
        "y.head()"
      ],
      "execution_count": null,
      "outputs": [
        {
          "output_type": "execute_result",
          "data": {
            "text/plain": [
              "Posted On\n",
              "18/05/2022    10000\n",
              "13/05/2022    20000\n",
              "16/05/2022    17000\n",
              "04/07/2022    10000\n",
              "09/05/2022     7500\n",
              "Name: Rent, dtype: int64"
            ]
          },
          "metadata": {},
          "execution_count": 25
        }
      ]
    },
    {
      "cell_type": "markdown",
      "metadata": {
        "id": "6Bm_BqDQOGRC"
      },
      "source": [
        "## Implementacion usando funciones de Python\n"
      ]
    },
    {
      "cell_type": "code",
      "source": [
        "!pip install mlxtend"
      ],
      "metadata": {
        "id": "qeF-YcNlJ1vk",
        "colab": {
          "base_uri": "https://localhost:8080/"
        },
        "outputId": "b63940b1-ab96-4abc-d996-26d7c7f44eb1"
      },
      "execution_count": null,
      "outputs": [
        {
          "output_type": "stream",
          "name": "stdout",
          "text": [
            "Looking in indexes: https://pypi.org/simple, https://us-python.pkg.dev/colab-wheels/public/simple/\n",
            "Requirement already satisfied: mlxtend in /usr/local/lib/python3.7/dist-packages (0.14.0)\n",
            "Requirement already satisfied: setuptools in /usr/local/lib/python3.7/dist-packages (from mlxtend) (57.4.0)\n",
            "Requirement already satisfied: scikit-learn>=0.18 in /usr/local/lib/python3.7/dist-packages (from mlxtend) (1.0.2)\n",
            "Requirement already satisfied: pandas>=0.17.1 in /usr/local/lib/python3.7/dist-packages (from mlxtend) (1.3.5)\n",
            "Requirement already satisfied: numpy>=1.10.4 in /usr/local/lib/python3.7/dist-packages (from mlxtend) (1.21.6)\n",
            "Requirement already satisfied: matplotlib>=1.5.1 in /usr/local/lib/python3.7/dist-packages (from mlxtend) (3.2.2)\n",
            "Requirement already satisfied: scipy>=0.17 in /usr/local/lib/python3.7/dist-packages (from mlxtend) (1.7.3)\n",
            "Requirement already satisfied: python-dateutil>=2.1 in /usr/local/lib/python3.7/dist-packages (from matplotlib>=1.5.1->mlxtend) (2.8.2)\n",
            "Requirement already satisfied: pyparsing!=2.0.4,!=2.1.2,!=2.1.6,>=2.0.1 in /usr/local/lib/python3.7/dist-packages (from matplotlib>=1.5.1->mlxtend) (3.0.9)\n",
            "Requirement already satisfied: kiwisolver>=1.0.1 in /usr/local/lib/python3.7/dist-packages (from matplotlib>=1.5.1->mlxtend) (1.4.4)\n",
            "Requirement already satisfied: cycler>=0.10 in /usr/local/lib/python3.7/dist-packages (from matplotlib>=1.5.1->mlxtend) (0.11.0)\n",
            "Requirement already satisfied: typing-extensions in /usr/local/lib/python3.7/dist-packages (from kiwisolver>=1.0.1->matplotlib>=1.5.1->mlxtend) (4.1.1)\n",
            "Requirement already satisfied: pytz>=2017.3 in /usr/local/lib/python3.7/dist-packages (from pandas>=0.17.1->mlxtend) (2022.2.1)\n",
            "Requirement already satisfied: six>=1.5 in /usr/local/lib/python3.7/dist-packages (from python-dateutil>=2.1->matplotlib>=1.5.1->mlxtend) (1.15.0)\n",
            "Requirement already satisfied: joblib>=0.11 in /usr/local/lib/python3.7/dist-packages (from scikit-learn>=0.18->mlxtend) (1.1.0)\n",
            "Requirement already satisfied: threadpoolctl>=2.0.0 in /usr/local/lib/python3.7/dist-packages (from scikit-learn>=0.18->mlxtend) (3.1.0)\n"
          ]
        }
      ]
    },
    {
      "cell_type": "code",
      "source": [
        "import sys\n",
        "import joblib\n",
        "sys.modules['sklearn.externals.joblib'] = joblib"
      ],
      "metadata": {
        "id": "XfDg04ZrKt8G"
      },
      "execution_count": null,
      "outputs": []
    },
    {
      "cell_type": "code",
      "source": [
        "import warnings\n",
        "warnings.filterwarnings(\"ignore\")\n",
        "import statsmodels.api as sm"
      ],
      "metadata": {
        "id": "dG_hIMgQtNMt"
      },
      "execution_count": null,
      "outputs": []
    },
    {
      "cell_type": "code",
      "metadata": {
        "id": "APKIL2fl0enV"
      },
      "source": [
        "#Librerias\n",
        "from mlxtend.feature_selection import SequentialFeatureSelector as SFS\n",
        "from sklearn.manifold import MDS\n",
        "# Sequential Forward Selection(sfs)\n",
        "sfs = SFS (MDS(X),\n",
        "          k_features=5,\n",
        "          forward=True,\n",
        "          floating=False,\n",
        "          scoring='r2',\n",
        "          cv = 2)"
      ],
      "execution_count": null,
      "outputs": []
    },
    {
      "cell_type": "markdown",
      "source": [
        "La función SequentialFeatureSelector() acepta los siguientes argumentos principales:\n",
        "\n",
        "MDS() es un estimador de todo el proceso. El escalado multidimensional (MDS) busca una representación de baja dimensión de los datos en la que las distancias respeten bien las distancias en el espacio original de alta dimensión. \n",
        "\n",
        "k_features indica el número de características que se seleccionarán. Puede ser cualquier valor aleatorio, pero el valor óptimo se puede encontrar analizando y visualizando las puntuaciones para diferentes números de características.\n",
        "\n",
        "argumentos hacia adelante y flotantes forward = Verdadero y floating = Falso son para la técnica de selección hacia adelante.\n",
        "\n",
        "El argumento de puntuación especifica el criterio de evaluación que se utilizará. Para problemas de regresión, solo hay una puntuación  r2  en la implementación predeterminada. De manera similar, para la clasificación, puede ser exactitud, precisión, recuperación, puntaje f1, etc.\n",
        "\n",
        "El argumento cv es para la validación cruzada usando k-fold."
      ],
      "metadata": {
        "id": "PoJUNq8t5M0W"
      }
    },
    {
      "cell_type": "code",
      "metadata": {
        "id": "vXyZUkKR0-0H",
        "colab": {
          "base_uri": "https://localhost:8080/"
        },
        "outputId": "9e5f6402-1eaf-42f8-adcc-db118e6ce4f8"
      },
      "source": [
        "sfs.fit(X,y)\n",
        "sfs.k_feature_names_     #Lista final de features"
      ],
      "execution_count": null,
      "outputs": [
        {
          "output_type": "execute_result",
          "data": {
            "text/plain": [
              "('BHK', 'Size', 'Bathroom', 'Floor_1', 'Floor_1 out of 1')"
            ]
          },
          "metadata": {},
          "execution_count": 30
        }
      ]
    },
    {
      "cell_type": "markdown",
      "metadata": {
        "id": "uNm1qy2apM-g"
      },
      "source": [
        "## Backward selection\n"
      ]
    },
    {
      "cell_type": "markdown",
      "source": [
        "Realizamos el proceso de selección de características basado en un algoritmo de eliminación hacia atrás hasta tener el conjunto final de características importantes."
      ],
      "metadata": {
        "id": "LvujAmoBsOcH"
      }
    },
    {
      "cell_type": "code",
      "metadata": {
        "id": "1G4A-KmQ1mtc"
      },
      "source": [
        "def backward_elimination(data, target,significance_level = 0.05):\n",
        "    features = data.columns.tolist()\n",
        "    while(len(features)>0):\n",
        "        features_with_constant = sm.add_constant(data[features])\n",
        "        p_values = sm.OLS(target, features_with_constant).fit().pvalues[1:]\n",
        "        max_p_value = p_values.max()\n",
        "        if(max_p_value >= significance_level):\n",
        "            excluded_feature = p_values.idxmax()\n",
        "            features.remove(excluded_feature)\n",
        "        else:\n",
        "            break \n",
        "    return features"
      ],
      "execution_count": null,
      "outputs": []
    },
    {
      "cell_type": "code",
      "metadata": {
        "colab": {
          "base_uri": "https://localhost:8080/"
        },
        "outputId": "044f63b0-f0a6-4dbe-d2c1-10429ec9a7a1",
        "id": "tFnnk5F16Jrt"
      },
      "source": [
        "backward_elimination(X,y)"
      ],
      "execution_count": null,
      "outputs": [
        {
          "output_type": "execute_result",
          "data": {
            "text/plain": [
              "['Size',\n",
              " 'Bathroom',\n",
              " 'Floor_10 out of 16',\n",
              " 'Floor_11 out of 11',\n",
              " 'Floor_11 out of 12',\n",
              " 'Floor_11 out of 27',\n",
              " 'Floor_12 out of 13',\n",
              " 'Floor_14 out of 48',\n",
              " 'Floor_15 out of 31',\n",
              " 'Floor_17 out of 31',\n",
              " 'Floor_18 out of 20',\n",
              " 'Floor_18 out of 29',\n",
              " 'Floor_18 out of 45',\n",
              " 'Floor_19 out of 25',\n",
              " 'Floor_19 out of 33',\n",
              " 'Floor_19 out of 85',\n",
              " 'Floor_20 out of 41',\n",
              " 'Floor_24 out of 24',\n",
              " 'Floor_25 out of 48',\n",
              " 'Floor_34 out of 46',\n",
              " 'Floor_36 out of 81',\n",
              " 'Floor_39 out of 60',\n",
              " 'Floor_4 out of 15',\n",
              " 'Floor_4 out of 4',\n",
              " 'Floor_40 out of 50',\n",
              " 'Floor_43 out of 78',\n",
              " 'Floor_44 out of 75',\n",
              " 'Floor_45 out of 60',\n",
              " 'Floor_47 out of 89',\n",
              " 'Floor_5 out of 12',\n",
              " 'Floor_5 out of 13',\n",
              " 'Floor_5 out of 15',\n",
              " 'Floor_50 out of 75',\n",
              " 'Floor_53 out of 78',\n",
              " 'Floor_65 out of 76',\n",
              " 'Floor_65 out of 78',\n",
              " 'Floor_7 out of 20',\n",
              " 'Floor_76 out of 78',\n",
              " 'Floor_8 out of 10',\n",
              " 'Floor_8 out of 23',\n",
              " 'Floor_8 out of 27',\n",
              " 'Floor_9 out of 31',\n",
              " 'Floor_Upper Basement out of 20',\n",
              " 'City_Bangalore',\n",
              " 'City_Chennai',\n",
              " 'City_Hyderabad',\n",
              " 'City_Kolkata',\n",
              " 'City_Mumbai',\n",
              " 'Point of Contact_Contact Owner']"
            ]
          },
          "metadata": {},
          "execution_count": 32
        }
      ]
    },
    {
      "cell_type": "markdown",
      "source": [
        "Realizamos una serie de evaluaciones con distintos modelos en donde podemos observar qué tan bien explican las características seleccionadas los datos del modelo. Para ello, podemos observar los valores del r2."
      ],
      "metadata": {
        "id": "EF6jPjWNsq5r"
      }
    },
    {
      "cell_type": "code",
      "source": [
        "model1 = sm.OLS(y, sm.add_constant(X['Size'])).fit()\n",
        "model2 = sm.OLS(y, sm.add_constant(X['Point of Contact_Contact Owner'])).fit()\n",
        "print(model1.pvalues)\n",
        "print(model2.pvalues)"
      ],
      "metadata": {
        "id": "lsdu5Aq-5hZ_",
        "colab": {
          "base_uri": "https://localhost:8080/"
        },
        "outputId": "7045e792-978f-426a-b85f-271268c83ded"
      },
      "execution_count": null,
      "outputs": [
        {
          "output_type": "stream",
          "name": "stdout",
          "text": [
            "const     4.011535e-14\n",
            "Size     1.690873e-195\n",
            "dtype: float64\n",
            "const                             4.656358e-290\n",
            "Point of Contact_Contact Owner    2.300513e-128\n",
            "dtype: float64\n"
          ]
        }
      ]
    },
    {
      "cell_type": "code",
      "source": [
        "model1 = sm.OLS(y, sm.add_constant(X[['Size', 'Point of Contact_Contact Agent']])).fit()\n",
        "model2 = sm.OLS(y, sm.add_constant(X[['Bathroom', 'Point of Contact_Contact Owner']])).fit()\n",
        "print(model1.pvalues)\n",
        "print(model2.pvalues)"
      ],
      "metadata": {
        "id": "GLPqPjMl6y0T",
        "colab": {
          "base_uri": "https://localhost:8080/"
        },
        "outputId": "9b24756f-f454-4061-a82d-bc2fd40adc41"
      },
      "execution_count": null,
      "outputs": [
        {
          "output_type": "stream",
          "name": "stdout",
          "text": [
            "const                              1.322561e-31\n",
            "Size                              1.301113e-154\n",
            "Point of Contact_Contact Agent     1.218470e-87\n",
            "dtype: float64\n",
            "const                              1.813837e-01\n",
            "Bathroom                          4.380725e-155\n",
            "Point of Contact_Contact Owner     4.882791e-58\n",
            "dtype: float64\n"
          ]
        }
      ]
    },
    {
      "cell_type": "code",
      "source": [
        "model3 = sm.OLS(y, sm.add_constant(X[['Floor_10 out of 16',\n",
        " 'Floor_11 out of 11',\n",
        " 'Floor_11 out of 12',\n",
        " 'Floor_11 out of 27',\n",
        " 'Floor_12 out of 13',\n",
        " 'Floor_14 out of 48',\n",
        " 'Floor_15 out of 31',\n",
        " 'Floor_17 out of 31',\n",
        " 'Floor_18 out of 20',\n",
        " 'Floor_18 out of 29',\n",
        " 'Floor_18 out of 45',\n",
        " 'Floor_19 out of 25',\n",
        " 'Floor_19 out of 33',\n",
        " 'Floor_19 out of 85',\n",
        " 'Floor_20 out of 41',\n",
        " 'Floor_24 out of 24',\n",
        " 'Floor_25 out of 48',\n",
        " 'Floor_34 out of 46',\n",
        " 'Floor_36 out of 81',\n",
        " 'Floor_39 out of 60',\n",
        " 'Floor_4 out of 15',\n",
        " 'Floor_4 out of 4',\n",
        " 'Floor_40 out of 50',\n",
        " 'Floor_43 out of 78',\n",
        " 'Floor_44 out of 75',\n",
        " 'Floor_45 out of 60',\n",
        " 'Floor_47 out of 89',\n",
        " 'Floor_5 out of 12',\n",
        " 'Floor_5 out of 13',\n",
        " 'Floor_5 out of 15',\n",
        " 'Floor_50 out of 75',\n",
        " 'Floor_53 out of 78',\n",
        " 'Floor_65 out of 76',\n",
        " 'Floor_65 out of 78',\n",
        " 'Floor_7 out of 20',\n",
        " 'Floor_76 out of 78',\n",
        " 'Floor_8 out of 10',\n",
        " 'Floor_8 out of 23',\n",
        " 'Floor_8 out of 27',\n",
        " 'Floor_9 out of 31',\n",
        " 'Floor_Upper Basement out of 20']])).fit()\n",
        "print(model3.pvalues)"
      ],
      "metadata": {
        "id": "hC2xs08k_iia",
        "colab": {
          "base_uri": "https://localhost:8080/"
        },
        "outputId": "ccade955-6f03-4011-c628-2ff12c0110b0"
      },
      "execution_count": null,
      "outputs": [
        {
          "output_type": "stream",
          "name": "stdout",
          "text": [
            "const                             1.372507e-173\n",
            "Floor_10 out of 16                 2.763187e-06\n",
            "Floor_11 out of 11                 1.625114e-04\n",
            "Floor_11 out of 12                 3.892031e-03\n",
            "Floor_11 out of 27                 1.463584e-04\n",
            "Floor_12 out of 13                 2.555204e-04\n",
            "Floor_14 out of 48                 1.625114e-04\n",
            "Floor_15 out of 31                 7.811857e-06\n",
            "Floor_17 out of 31                 4.645570e-04\n",
            "Floor_18 out of 20                 1.730858e-10\n",
            "Floor_18 out of 29                 8.041879e-04\n",
            "Floor_18 out of 45                 2.760753e-41\n",
            "Floor_19 out of 25                 2.130640e-03\n",
            "Floor_19 out of 33                 9.191172e-05\n",
            "Floor_19 out of 85                 7.811857e-06\n",
            "Floor_20 out of 41                 2.781019e-05\n",
            "Floor_24 out of 24                 9.733116e-21\n",
            "Floor_25 out of 48                 8.041879e-04\n",
            "Floor_34 out of 46                 2.356912e-07\n",
            "Floor_36 out of 81                 1.011241e-06\n",
            "Floor_39 out of 60                 7.811857e-06\n",
            "Floor_4 out of 15                  2.330743e-14\n",
            "Floor_4 out of 4                   7.077875e-07\n",
            "Floor_40 out of 50                 3.374570e-03\n",
            "Floor_43 out of 78                 1.625114e-04\n",
            "Floor_44 out of 75                 9.191172e-05\n",
            "Floor_45 out of 60                 7.811857e-06\n",
            "Floor_47 out of 89                 1.625114e-04\n",
            "Floor_5 out of 12                  1.418310e-04\n",
            "Floor_5 out of 13                  1.563729e-04\n",
            "Floor_5 out of 15                  3.362817e-03\n",
            "Floor_50 out of 75                 1.011241e-06\n",
            "Floor_53 out of 78                 1.625114e-04\n",
            "Floor_65 out of 76                 3.854213e-04\n",
            "Floor_65 out of 78                 2.130640e-03\n",
            "Floor_7 out of 20                  1.813801e-15\n",
            "Floor_76 out of 78                 4.806806e-04\n",
            "Floor_8 out of 10                  3.836969e-07\n",
            "Floor_8 out of 23                  1.320991e-03\n",
            "Floor_8 out of 27                  2.781019e-05\n",
            "Floor_9 out of 31                  3.424026e-05\n",
            "Floor_Upper Basement out of 20     9.191172e-05\n",
            "dtype: float64\n"
          ]
        }
      ]
    },
    {
      "cell_type": "code",
      "source": [
        "model4 = sm.OLS(y, sm.add_constant(X[['Size',\n",
        " 'Bathroom',\n",
        " 'Floor_10 out of 16',\n",
        " 'Floor_11 out of 11',\n",
        " 'Floor_11 out of 12',\n",
        " 'Floor_11 out of 27',\n",
        " 'Floor_12 out of 13',\n",
        " 'Floor_14 out of 48',\n",
        " 'Floor_15 out of 31',\n",
        " 'Floor_17 out of 31',\n",
        " 'Floor_18 out of 20',\n",
        " 'Floor_18 out of 29',\n",
        " 'Floor_18 out of 45',\n",
        " 'Floor_19 out of 25',\n",
        " 'Floor_19 out of 33',\n",
        " 'Floor_19 out of 85',\n",
        " 'Floor_20 out of 41',\n",
        " 'Floor_24 out of 24',\n",
        " 'Floor_25 out of 48',\n",
        " 'Floor_34 out of 46',\n",
        " 'Floor_36 out of 81',\n",
        " 'Floor_39 out of 60',\n",
        " 'Floor_4 out of 15',\n",
        " 'Floor_4 out of 4',\n",
        " 'Floor_40 out of 50',\n",
        " 'Floor_43 out of 78',\n",
        " 'Floor_44 out of 75',\n",
        " 'Floor_45 out of 60',\n",
        " 'Floor_47 out of 89',\n",
        " 'Floor_5 out of 12',\n",
        " 'Floor_5 out of 13',\n",
        " 'Floor_5 out of 15',\n",
        " 'Floor_50 out of 75',\n",
        " 'Floor_53 out of 78',\n",
        " 'Floor_65 out of 76',\n",
        " 'Floor_65 out of 78',\n",
        " 'Floor_7 out of 20',\n",
        " 'Floor_76 out of 78',\n",
        " 'Floor_8 out of 10',\n",
        " 'Floor_8 out of 23',\n",
        " 'Floor_8 out of 27',\n",
        " 'Floor_9 out of 31',\n",
        " 'Floor_Upper Basement out of 20',\n",
        " 'City_Bangalore',\n",
        " 'City_Chennai',\n",
        " 'City_Hyderabad',\n",
        " 'City_Kolkata',\n",
        " 'City_Mumbai',\n",
        " 'Point of Contact_Contact Owner']])).fit()\n",
        "print(model4.pvalues)"
      ],
      "metadata": {
        "id": "x_KFkMsBFY0k",
        "colab": {
          "base_uri": "https://localhost:8080/"
        },
        "outputId": "60cfcefb-5b78-465c-bd5a-d2e1d4d6d6cb"
      },
      "execution_count": null,
      "outputs": [
        {
          "output_type": "stream",
          "name": "stdout",
          "text": [
            "const                             3.965864e-04\n",
            "Size                              8.539315e-55\n",
            "Bathroom                          1.124434e-10\n",
            "Floor_10 out of 16                1.433366e-03\n",
            "Floor_11 out of 11                4.744963e-03\n",
            "Floor_11 out of 12                3.967037e-02\n",
            "Floor_11 out of 27                4.416607e-03\n",
            "Floor_12 out of 13                9.275375e-03\n",
            "Floor_14 out of 48                1.246991e-02\n",
            "Floor_15 out of 31                6.320086e-04\n",
            "Floor_17 out of 31                5.226008e-03\n",
            "Floor_18 out of 20                7.814782e-09\n",
            "Floor_18 out of 29                9.423562e-03\n",
            "Floor_18 out of 45                5.953168e-41\n",
            "Floor_19 out of 25                2.157240e-02\n",
            "Floor_19 out of 33                2.596300e-02\n",
            "Floor_19 out of 85                4.742903e-05\n",
            "Floor_20 out of 41                1.244158e-04\n",
            "Floor_24 out of 24                1.742726e-17\n",
            "Floor_25 out of 48                1.045131e-02\n",
            "Floor_34 out of 46                3.835959e-05\n",
            "Floor_36 out of 81                7.509876e-04\n",
            "Floor_39 out of 60                5.725656e-03\n",
            "Floor_4 out of 15                 1.076557e-09\n",
            "Floor_4 out of 4                  2.970037e-10\n",
            "Floor_40 out of 50                3.566109e-02\n",
            "Floor_43 out of 78                5.713013e-03\n",
            "Floor_44 out of 75                5.591732e-03\n",
            "Floor_45 out of 60                4.604820e-03\n",
            "Floor_47 out of 89                9.684808e-03\n",
            "Floor_5 out of 12                 3.414606e-02\n",
            "Floor_5 out of 13                 7.767985e-03\n",
            "Floor_5 out of 15                 2.315356e-02\n",
            "Floor_50 out of 75                3.931739e-04\n",
            "Floor_53 out of 78                3.274960e-03\n",
            "Floor_65 out of 76                2.730359e-02\n",
            "Floor_65 out of 78                4.781853e-02\n",
            "Floor_7 out of 20                 2.726205e-09\n",
            "Floor_76 out of 78                1.313237e-02\n",
            "Floor_8 out of 10                 7.031596e-04\n",
            "Floor_8 out of 23                 3.551692e-02\n",
            "Floor_8 out of 27                 6.694215e-04\n",
            "Floor_9 out of 31                 3.045665e-02\n",
            "Floor_Upper Basement out of 20    1.178360e-02\n",
            "City_Bangalore                    1.180567e-02\n",
            "City_Chennai                      3.623397e-06\n",
            "City_Hyderabad                    3.484617e-11\n",
            "City_Kolkata                      1.072245e-02\n",
            "City_Mumbai                       7.231634e-24\n",
            "Point of Contact_Contact Owner    7.572769e-06\n",
            "dtype: float64\n"
          ]
        }
      ]
    },
    {
      "cell_type": "code",
      "source": [
        "model1.rsquared_adj"
      ],
      "metadata": {
        "id": "BYRNvx-w2a3h",
        "colab": {
          "base_uri": "https://localhost:8080/"
        },
        "outputId": "e554dc68-c940-4a6a-b35f-0e9b9d157592"
      },
      "execution_count": null,
      "outputs": [
        {
          "output_type": "execute_result",
          "data": {
            "text/plain": [
              "0.23676075287053433"
            ]
          },
          "metadata": {},
          "execution_count": 37
        }
      ]
    },
    {
      "cell_type": "code",
      "source": [
        "model2.rsquared_adj"
      ],
      "metadata": {
        "id": "u_nkYxR1Gwvr",
        "colab": {
          "base_uri": "https://localhost:8080/"
        },
        "outputId": "cbfb7682-c82f-41ef-e636-d0e5166bcade"
      },
      "execution_count": null,
      "outputs": [
        {
          "output_type": "execute_result",
          "data": {
            "text/plain": [
              "0.23697670302168738"
            ]
          },
          "metadata": {},
          "execution_count": 38
        }
      ]
    },
    {
      "cell_type": "code",
      "source": [
        "model3.rsquared_adj"
      ],
      "metadata": {
        "id": "_sPz5SYy_uzs",
        "colab": {
          "base_uri": "https://localhost:8080/"
        },
        "outputId": "5d27fc18-3c61-40f6-86f5-52766acf1c40"
      },
      "execution_count": null,
      "outputs": [
        {
          "output_type": "execute_result",
          "data": {
            "text/plain": [
              "0.16645367242923192"
            ]
          },
          "metadata": {},
          "execution_count": 39
        }
      ]
    },
    {
      "cell_type": "code",
      "source": [
        "model4.rsquared_adj"
      ],
      "metadata": {
        "id": "K53-FARlB02u",
        "colab": {
          "base_uri": "https://localhost:8080/"
        },
        "outputId": "32f2a4b1-65ef-4be9-9515-dc77065b9b50"
      },
      "execution_count": null,
      "outputs": [
        {
          "output_type": "execute_result",
          "data": {
            "text/plain": [
              "0.3896847067379956"
            ]
          },
          "metadata": {},
          "execution_count": 40
        }
      ]
    },
    {
      "cell_type": "markdown",
      "source": [
        "Podemos concluir al observar el r2 ajustado que a medida que probamos el modelo con más características la fidelidad del mismo mejora, pero en el Modelo 3 podemos notar que a medida que aumentan aún más las características el r2 empeora. Utilizando las características más importantes obtenidas con la reducción de dimensionalidad pudimos obtener un r2 del 39% aproximadamente en el Modelo 4. Seguramente la data utilizada no tiene una distribución lineal, sino una más compleja, y ajustando el modelo de regresión utilizado podríamos llegar a alcanzar mejores resultados de r2 deduciendo que se explican mejor los datos."
      ],
      "metadata": {
        "id": "kWvZ_w6BuI0g"
      }
    },
    {
      "cell_type": "markdown",
      "source": [
        "#***Metricas algoritmos de clasificación***"
      ],
      "metadata": {
        "id": "7E11V-Eb20tN"
      }
    },
    {
      "cell_type": "code",
      "source": [
        " from sklearn.datasets import load_breast_cancer\n",
        " from sklearn.ensemble import RandomForestClassifier\n",
        " from sklearn.model_selection import train_test_split\n",
        " from sklearn import metrics\n",
        " import pandas as pd\n",
        " import numpy as np\n",
        " from matplotlib import pyplot as plt\n",
        " import seaborn as sns\n",
        " sns.set_style('whitegrid')"
      ],
      "metadata": {
        "id": "VLq1HCao22dh"
      },
      "execution_count": null,
      "outputs": []
    },
    {
      "cell_type": "markdown",
      "source": [
        "Realizamos el entrenamiento de nuestros datos y luego obetnemos las prediciones del modelo. Utilizamos un gráfico de confusión para visualizar el desempeño del algoritmo"
      ],
      "metadata": {
        "id": "m6L2aTjExgFL"
      }
    },
    {
      "cell_type": "code",
      "source": [
        "# definimos matriz de diseño X y vector respuesta y\n",
        "X = pd.get_dummies(df.drop([\"Point of Contact\", \"count\"], axis = 1), columns=None)      # feature matrix\n",
        "y = df[\"Point of Contact\"]         # target feature\n",
        "# Separamos en entrenamiento/test en razon 80/20 %\n",
        "X_train, X_test, y_train, y_test = train_test_split(X,y,test_size=0.2, random_state=1)\n",
        "# Creamos un modelo Random Forest con parametros por defect\n",
        "modelo = RandomForestClassifier(random_state=1)\n",
        "modelo.fit(X_train, y_train)\n",
        "# Obtenemos las predicciones del modelo con X_test\n",
        "preds = modelo.predict(X_test) "
      ],
      "metadata": {
        "id": "s878xBS49JYm"
      },
      "execution_count": null,
      "outputs": []
    },
    {
      "cell_type": "code",
      "source": [
        "plt.figure(figsize=(10,6))\n",
        "metrics.plot_confusion_matrix(modelo, X_test, y_test, display_labels=['Negative', 'Positive'])"
      ],
      "metadata": {
        "colab": {
          "base_uri": "https://localhost:8080/",
          "height": 314
        },
        "id": "yZzLOBUf3XUx",
        "outputId": "1e0e5513-f752-4cef-ebac-79fce92c65f1"
      },
      "execution_count": null,
      "outputs": [
        {
          "output_type": "execute_result",
          "data": {
            "text/plain": [
              "<sklearn.metrics._plot.confusion_matrix.ConfusionMatrixDisplay at 0x7f7279e63b50>"
            ]
          },
          "metadata": {},
          "execution_count": 147
        },
        {
          "output_type": "display_data",
          "data": {
            "text/plain": [
              "<Figure size 720x432 with 0 Axes>"
            ]
          },
          "metadata": {}
        },
        {
          "output_type": "display_data",
          "data": {
            "text/plain": [
              "<Figure size 432x288 with 2 Axes>"
            ],
            "image/png": "[encoded data removed]"
          },
          "metadata": {}
        }
      ]
    },
    {
      "cell_type": "code",
      "source": [
        "confusion = metrics.confusion_matrix(y_test, preds)\n",
        "confusion.ravel()"
      ],
      "metadata": {
        "colab": {
          "base_uri": "https://localhost:8080/"
        },
        "id": "ZXpzbem33oOw",
        "outputId": "44f67176-937d-4bbe-b9fd-3ab9819aebef"
      },
      "execution_count": null,
      "outputs": [
        {
          "output_type": "execute_result",
          "data": {
            "text/plain": [
              "array([251,  60,  24, 615])"
            ]
          },
          "metadata": {},
          "execution_count": 148
        }
      ]
    },
    {
      "cell_type": "code",
      "source": [
        "accuracy = metrics.accuracy_score(y_test, preds)\n",
        "accuracy "
      ],
      "metadata": {
        "colab": {
          "base_uri": "https://localhost:8080/"
        },
        "id": "L0DPTTJA3twJ",
        "outputId": "edfece6d-8ca1-47e9-df35-8efaa1fcdab3"
      },
      "execution_count": null,
      "outputs": [
        {
          "output_type": "execute_result",
          "data": {
            "text/plain": [
              "0.911578947368421"
            ]
          },
          "metadata": {},
          "execution_count": 149
        }
      ]
    },
    {
      "cell_type": "code",
      "source": [
        "(615+251) / (615+24+60+251)"
      ],
      "metadata": {
        "colab": {
          "base_uri": "https://localhost:8080/"
        },
        "id": "wrUqVJBK-Epi",
        "outputId": "363a6e53-2520-4975-fb19-ef4fca705677"
      },
      "execution_count": null,
      "outputs": [
        {
          "output_type": "execute_result",
          "data": {
            "text/plain": [
              "0.911578947368421"
            ]
          },
          "metadata": {},
          "execution_count": 150
        }
      ]
    },
    {
      "cell_type": "code",
      "source": [
        "# Precision se puede evaluar para cada categoria\n",
        "precision_positiva = metrics.precision_score(y_test, preds, pos_label='Contact Agent')\n",
        "precision_negativa = metrics.precision_score(y_test, preds, pos_label='Contact Owner')\n",
        "precision_positiva, precision_negativa "
      ],
      "metadata": {
        "colab": {
          "base_uri": "https://localhost:8080/"
        },
        "id": "16iC1xQKykMP",
        "outputId": "04cdd172-241f-4688-c445-4d9caa12c8a6"
      },
      "execution_count": null,
      "outputs": [
        {
          "output_type": "execute_result",
          "data": {
            "text/plain": [
              "(0.9127272727272727, 0.9111111111111111)"
            ]
          },
          "metadata": {},
          "execution_count": 152
        }
      ]
    },
    {
      "cell_type": "code",
      "source": [
        "# Recall se puede evaluar para cada categoria\n",
        "recall_sensibilidad = metrics.recall_score(y_test, preds, pos_label='Contact Agent')\n",
        "recall_especificidad= metrics.recall_score(y_test, preds, pos_label='Contact Owner')\n",
        "recall_sensibilidad, recall_especificidad"
      ],
      "metadata": {
        "colab": {
          "base_uri": "https://localhost:8080/"
        },
        "id": "oCMxTEyJ35cd",
        "outputId": "05b833e3-e05f-433c-b420-d9575f63f4f9"
      },
      "execution_count": null,
      "outputs": [
        {
          "output_type": "execute_result",
          "data": {
            "text/plain": [
              "(0.8070739549839229, 0.9624413145539906)"
            ]
          },
          "metadata": {},
          "execution_count": 154
        }
      ]
    },
    {
      "cell_type": "code",
      "source": [
        "# F1 se puede evaluar para cada categoria\n",
        "f1_positivo = metrics.f1_score(y_test, preds, pos_label='Contact Agent')\n",
        "f1_negativo = metrics.f1_score(y_test, preds, pos_label='Contact Owner')\n",
        "f1_positivo, f1_negativo "
      ],
      "metadata": {
        "colab": {
          "base_uri": "https://localhost:8080/"
        },
        "id": "xHGJQGQt4EED",
        "outputId": "07251bdc-214e-4c4b-f1ad-dc9dc2875289"
      },
      "execution_count": null,
      "outputs": [
        {
          "output_type": "execute_result",
          "data": {
            "text/plain": [
              "(0.856655290102389, 0.9360730593607306)"
            ]
          },
          "metadata": {},
          "execution_count": 153
        }
      ]
    },
    {
      "cell_type": "code",
      "source": [
        "# Todas las metricas en uno\n",
        "print(metrics.classification_report(y_test, preds))"
      ],
      "metadata": {
        "colab": {
          "base_uri": "https://localhost:8080/"
        },
        "id": "W6kWKLxy4JMs",
        "outputId": "9de0f4b9-a546-4632-81b2-336514ed0d79"
      },
      "execution_count": null,
      "outputs": [
        {
          "output_type": "stream",
          "name": "stdout",
          "text": [
            "               precision    recall  f1-score   support\n",
            "\n",
            "Contact Agent       0.91      0.81      0.86       311\n",
            "Contact Owner       0.91      0.96      0.94       639\n",
            "\n",
            "     accuracy                           0.91       950\n",
            "    macro avg       0.91      0.88      0.90       950\n",
            " weighted avg       0.91      0.91      0.91       950\n",
            "\n"
          ]
        }
      ]
    },
    {
      "cell_type": "markdown",
      "source": [
        "Al realizar una evaluación del desempeño de nuestro algoritmo pudimos ver qué tipos de aciertos y errores tuvo nuestro modelo, logrando una exactitud (accuracy) del 91% total de elementos clasificados correctamente.\n",
        "En términos de aciertos y errores, el algoritmo apenas obtuvo 24 falsos positivos, y 60 falsos negativos, mientras que logró alcanzar 615 verdaderos positivos y 251 verdaderos negativos.\n",
        "\n",
        "Podemos concluir al observar el F1-Score, y los altos valores de precisión y recall que el modelo maneja muy bien esa clase.\n"
      ],
      "metadata": {
        "id": "bGSL_2SDwCPQ"
      }
    }
  ],
  "metadata": {
    "colab": {
      "collapsed_sections": [
        "eu-WeArVi1bf",
        "hltl0bWJApoE",
        "ZJa3iVzKPPv4"
      ],
      "provenance": []
    },
    "kernelspec": {
      "display_name": "Python 3",
      "name": "python3"
    },
    "language_info": {
      "name": "python"
    }
  },
  "nbformat": 4,
  "nbformat_minor": 0
}
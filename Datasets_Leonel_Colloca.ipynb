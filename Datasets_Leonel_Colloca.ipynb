{
  "nbformat": 4,
  "nbformat_minor": 0,
  "metadata": {
    "colab": {
      "provenance": [],
      "collapsed_sections": []
    },
    "kernelspec": {
      "name": "python3",
      "display_name": "Python 3"
    },
    "language_info": {
      "name": "python"
    }
  },
  "cells": [
    {
      "cell_type": "markdown",
      "source": [
        "#      **Trabajo Nº 1. Datasets potenciales para el proyecto de Data Science.**\n",
        "\n",
        "\n",
        "\n",
        "\n",
        "\n",
        "\n"
      ],
      "metadata": {
        "id": "6C4lQmgER2YP"
      }
    },
    {
      "cell_type": "markdown",
      "source": [
        "Enlace a archivo guardado en drive."
      ],
      "metadata": {
        "id": "0Za1JcXVSKiP"
      }
    },
    {
      "cell_type": "code",
      "source": [
        "from google.colab import drive\n",
        "drive.mount(\"/content/drive\", force_remount=True)"
      ],
      "metadata": {
        "id": "exIoRMwuQoqV",
        "colab": {
          "base_uri": "https://localhost:8080/"
        },
        "outputId": "89496adb-e291-4f28-c4a6-59bcc03655bc"
      },
      "execution_count": null,
      "outputs": [
        {
          "output_type": "stream",
          "name": "stdout",
          "text": [
            "Mounted at /content/drive\n"
          ]
        }
      ]
    },
    {
      "cell_type": "markdown",
      "source": [
        "Llamo a las librerias potenciales a utilizar."
      ],
      "metadata": {
        "id": "4Keft47CRhMq"
      }
    },
    {
      "cell_type": "code",
      "source": [
        "import pandas as pd\n",
        "import numpy as np"
      ],
      "metadata": {
        "id": "N6oMbL-FSq9W"
      },
      "execution_count": null,
      "outputs": []
    },
    {
      "cell_type": "markdown",
      "source": [
        "***Carga del correspondiente dataset Nº1.***\n",
        "\n",
        "\n",
        "\n"
      ],
      "metadata": {
        "id": "EpHedpVgTAF1"
      }
    },
    {
      "cell_type": "markdown",
      "source": [
        "Introduccion: Este dataset es acerca de Covid19 donde tenemos datos diferenciasdos tanto por continente como por pais donde informa datos importantes por dia de la cantidad de casos nuevos, activos, criticos y curados tambien como la cantidad de testeos y muertes."
      ],
      "metadata": {
        "id": "_OVXtxW5xEkz"
      }
    },
    {
      "cell_type": "code",
      "source": [
        "datos = pd.read_csv('/content/drive/MyDrive/Data science- Datasets/Covid19DB/covid19.csv',index_col=0,sep=';')\n",
        "datos.head(5)"
      ],
      "metadata": {
        "id": "uNJVtgCyTDia",
        "colab": {
          "base_uri": "https://localhost:8080/",
          "height": 357
        },
        "outputId": "311f15d3-9dce-4e5e-b07f-46ee3010c965"
      },
      "execution_count": null,
      "outputs": [
        {
          "output_type": "execute_result",
          "data": {
            "text/plain": [
              "   index continent      country  population        day  \\\n",
              "0      0      Asia  Afghanistan  40418964.0  17/3/2022   \n",
              "1      1      Asia  Afghanistan  40416563.0  17/3/2022   \n",
              "2      2      Asia  Afghanistan  40414161.0  16/3/2022   \n",
              "3      3      Asia  Afghanistan  40411760.0  15/3/2022   \n",
              "4      4      Asia  Afghanistan  40409359.0  14/3/2022   \n",
              "\n",
              "                        time  cases_new  cases_active  cases_critical  \\\n",
              "0  2022-03-17T20:15:03+00:00      128.0        9698.0          1124.0   \n",
              "1  2022-03-17T08:00:04+00:00      126.0        9858.0          1124.0   \n",
              "2  2022-03-16T08:00:04+00:00      108.0       10008.0          1124.0   \n",
              "3  2022-03-15T09:15:03+00:00      180.0       10257.0          1124.0   \n",
              "4  2022-03-14T09:15:03+00:00      118.0       10129.0          1124.0   \n",
              "\n",
              "   cases_recovered  cases_1M_pop  cases_total  deaths_new  deaths_1M_pop  \\\n",
              "0         159569.0        4377.0       176918         NaN          189.0   \n",
              "1         159234.0        4373.0       176743         2.0          189.0   \n",
              "2         158917.0        4369.0       176571         1.0          189.0   \n",
              "3         158507.0        4365.0       176409         2.0          189.0   \n",
              "4         158429.0        4360.0       176201         1.0          189.0   \n",
              "\n",
              "   deaths_total  tests_1M_pop  tests_total  \n",
              "0        7651.0       22496.0     909246.0  \n",
              "1        7651.0       22463.0     907896.0  \n",
              "2        7646.0       22434.0     906639.0  \n",
              "3        7645.0       22410.0     905633.0  \n",
              "4        7643.0       22372.0     904055.0  "
            ],
            "text/html": [
              "\n",
              "  <div id=\"df-7116ee56-20e1-4124-901c-4dfed89259e6\">\n",
              "    <div class=\"colab-df-container\">\n",
              "      <div>\n",
              "<style scoped>\n",
              "    .dataframe tbody tr th:only-of-type {\n",
              "        vertical-align: middle;\n",
              "    }\n",
              "\n",
              "    .dataframe tbody tr th {\n",
              "        vertical-align: top;\n",
              "    }\n",
              "\n",
              "    .dataframe thead th {\n",
              "        text-align: right;\n",
              "    }\n",
              "</style>\n",
              "<table border=\"1\" class=\"dataframe\">\n",
              "  <thead>\n",
              "    <tr style=\"text-align: right;\">\n",
              "      <th></th>\n",
              "      <th>index</th>\n",
              "      <th>continent</th>\n",
              "      <th>country</th>\n",
              "      <th>population</th>\n",
              "      <th>day</th>\n",
              "      <th>time</th>\n",
              "      <th>cases_new</th>\n",
              "      <th>cases_active</th>\n",
              "      <th>cases_critical</th>\n",
              "      <th>cases_recovered</th>\n",
              "      <th>cases_1M_pop</th>\n",
              "      <th>cases_total</th>\n",
              "      <th>deaths_new</th>\n",
              "      <th>deaths_1M_pop</th>\n",
              "      <th>deaths_total</th>\n",
              "      <th>tests_1M_pop</th>\n",
              "      <th>tests_total</th>\n",
              "    </tr>\n",
              "  </thead>\n",
              "  <tbody>\n",
              "    <tr>\n",
              "      <th>0</th>\n",
              "      <td>0</td>\n",
              "      <td>Asia</td>\n",
              "      <td>Afghanistan</td>\n",
              "      <td>40418964.0</td>\n",
              "      <td>17/3/2022</td>\n",
              "      <td>2022-03-17T20:15:03+00:00</td>\n",
              "      <td>128.0</td>\n",
              "      <td>9698.0</td>\n",
              "      <td>1124.0</td>\n",
              "      <td>159569.0</td>\n",
              "      <td>4377.0</td>\n",
              "      <td>176918</td>\n",
              "      <td>NaN</td>\n",
              "      <td>189.0</td>\n",
              "      <td>7651.0</td>\n",
              "      <td>22496.0</td>\n",
              "      <td>909246.0</td>\n",
              "    </tr>\n",
              "    <tr>\n",
              "      <th>1</th>\n",
              "      <td>1</td>\n",
              "      <td>Asia</td>\n",
              "      <td>Afghanistan</td>\n",
              "      <td>40416563.0</td>\n",
              "      <td>17/3/2022</td>\n",
              "      <td>2022-03-17T08:00:04+00:00</td>\n",
              "      <td>126.0</td>\n",
              "      <td>9858.0</td>\n",
              "      <td>1124.0</td>\n",
              "      <td>159234.0</td>\n",
              "      <td>4373.0</td>\n",
              "      <td>176743</td>\n",
              "      <td>2.0</td>\n",
              "      <td>189.0</td>\n",
              "      <td>7651.0</td>\n",
              "      <td>22463.0</td>\n",
              "      <td>907896.0</td>\n",
              "    </tr>\n",
              "    <tr>\n",
              "      <th>2</th>\n",
              "      <td>2</td>\n",
              "      <td>Asia</td>\n",
              "      <td>Afghanistan</td>\n",
              "      <td>40414161.0</td>\n",
              "      <td>16/3/2022</td>\n",
              "      <td>2022-03-16T08:00:04+00:00</td>\n",
              "      <td>108.0</td>\n",
              "      <td>10008.0</td>\n",
              "      <td>1124.0</td>\n",
              "      <td>158917.0</td>\n",
              "      <td>4369.0</td>\n",
              "      <td>176571</td>\n",
              "      <td>1.0</td>\n",
              "      <td>189.0</td>\n",
              "      <td>7646.0</td>\n",
              "      <td>22434.0</td>\n",
              "      <td>906639.0</td>\n",
              "    </tr>\n",
              "    <tr>\n",
              "      <th>3</th>\n",
              "      <td>3</td>\n",
              "      <td>Asia</td>\n",
              "      <td>Afghanistan</td>\n",
              "      <td>40411760.0</td>\n",
              "      <td>15/3/2022</td>\n",
              "      <td>2022-03-15T09:15:03+00:00</td>\n",
              "      <td>180.0</td>\n",
              "      <td>10257.0</td>\n",
              "      <td>1124.0</td>\n",
              "      <td>158507.0</td>\n",
              "      <td>4365.0</td>\n",
              "      <td>176409</td>\n",
              "      <td>2.0</td>\n",
              "      <td>189.0</td>\n",
              "      <td>7645.0</td>\n",
              "      <td>22410.0</td>\n",
              "      <td>905633.0</td>\n",
              "    </tr>\n",
              "    <tr>\n",
              "      <th>4</th>\n",
              "      <td>4</td>\n",
              "      <td>Asia</td>\n",
              "      <td>Afghanistan</td>\n",
              "      <td>40409359.0</td>\n",
              "      <td>14/3/2022</td>\n",
              "      <td>2022-03-14T09:15:03+00:00</td>\n",
              "      <td>118.0</td>\n",
              "      <td>10129.0</td>\n",
              "      <td>1124.0</td>\n",
              "      <td>158429.0</td>\n",
              "      <td>4360.0</td>\n",
              "      <td>176201</td>\n",
              "      <td>1.0</td>\n",
              "      <td>189.0</td>\n",
              "      <td>7643.0</td>\n",
              "      <td>22372.0</td>\n",
              "      <td>904055.0</td>\n",
              "    </tr>\n",
              "  </tbody>\n",
              "</table>\n",
              "</div>\n",
              "      <button class=\"colab-df-convert\" onclick=\"convertToInteractive('df-7116ee56-20e1-4124-901c-4dfed89259e6')\"\n",
              "              title=\"Convert this dataframe to an interactive table.\"\n",
              "              style=\"display:none;\">\n",
              "        \n",
              "  <svg xmlns=\"http://www.w3.org/2000/svg\" height=\"24px\"viewBox=\"0 0 24 24\"\n",
              "       width=\"24px\">\n",
              "    <path d=\"M0 0h24v24H0V0z\" fill=\"none\"/>\n",
              "    <path d=\"M18.56 5.44l.94 2.06.94-2.06 2.06-.94-2.06-.94-.94-2.06-.94 2.06-2.06.94zm-11 1L8.5 8.5l.94-2.06 2.06-.94-2.06-.94L8.5 2.5l-.94 2.06-2.06.94zm10 10l.94 2.06.94-2.06 2.06-.94-2.06-.94-.94-2.06-.94 2.06-2.06.94z\"/><path d=\"M17.41 7.96l-1.37-1.37c-.4-.4-.92-.59-1.43-.59-.52 0-1.04.2-1.43.59L10.3 9.45l-7.72 7.72c-.78.78-.78 2.05 0 2.83L4 21.41c.39.39.9.59 1.41.59.51 0 1.02-.2 1.41-.59l7.78-7.78 2.81-2.81c.8-.78.8-2.07 0-2.86zM5.41 20L4 18.59l7.72-7.72 1.47 1.35L5.41 20z\"/>\n",
              "  </svg>\n",
              "      </button>\n",
              "      \n",
              "  <style>\n",
              "    .colab-df-container {\n",
              "      display:flex;\n",
              "      flex-wrap:wrap;\n",
              "      gap: 12px;\n",
              "    }\n",
              "\n",
              "    .colab-df-convert {\n",
              "      background-color: #E8F0FE;\n",
              "      border: none;\n",
              "      border-radius: 50%;\n",
              "      cursor: pointer;\n",
              "      display: none;\n",
              "      fill: #1967D2;\n",
              "      height: 32px;\n",
              "      padding: 0 0 0 0;\n",
              "      width: 32px;\n",
              "    }\n",
              "\n",
              "    .colab-df-convert:hover {\n",
              "      background-color: #E2EBFA;\n",
              "      box-shadow: 0px 1px 2px rgba(60, 64, 67, 0.3), 0px 1px 3px 1px rgba(60, 64, 67, 0.15);\n",
              "      fill: #174EA6;\n",
              "    }\n",
              "\n",
              "    [theme=dark] .colab-df-convert {\n",
              "      background-color: #3B4455;\n",
              "      fill: #D2E3FC;\n",
              "    }\n",
              "\n",
              "    [theme=dark] .colab-df-convert:hover {\n",
              "      background-color: #434B5C;\n",
              "      box-shadow: 0px 1px 3px 1px rgba(0, 0, 0, 0.15);\n",
              "      filter: drop-shadow(0px 1px 2px rgba(0, 0, 0, 0.3));\n",
              "      fill: #FFFFFF;\n",
              "    }\n",
              "  </style>\n",
              "\n",
              "      <script>\n",
              "        const buttonEl =\n",
              "          document.querySelector('#df-7116ee56-20e1-4124-901c-4dfed89259e6 button.colab-df-convert');\n",
              "        buttonEl.style.display =\n",
              "          google.colab.kernel.accessAllowed ? 'block' : 'none';\n",
              "\n",
              "        async function convertToInteractive(key) {\n",
              "          const element = document.querySelector('#df-7116ee56-20e1-4124-901c-4dfed89259e6');\n",
              "          const dataTable =\n",
              "            await google.colab.kernel.invokeFunction('convertToInteractive',\n",
              "                                                     [key], {});\n",
              "          if (!dataTable) return;\n",
              "\n",
              "          const docLinkHtml = 'Like what you see? Visit the ' +\n",
              "            '<a target=\"_blank\" href=https://colab.research.google.com/notebooks/data_table.ipynb>data table notebook</a>'\n",
              "            + ' to learn more about interactive tables.';\n",
              "          element.innerHTML = '';\n",
              "          dataTable['output_type'] = 'display_data';\n",
              "          await google.colab.output.renderOutput(dataTable, element);\n",
              "          const docLink = document.createElement('div');\n",
              "          docLink.innerHTML = docLinkHtml;\n",
              "          element.appendChild(docLink);\n",
              "        }\n",
              "      </script>\n",
              "    </div>\n",
              "  </div>\n",
              "  "
            ]
          },
          "metadata": {},
          "execution_count": 11
        }
      ]
    },
    {
      "cell_type": "markdown",
      "source": [
        "Informacion acerca de dataset."
      ],
      "metadata": {
        "id": "n33l7ntEZkDh"
      }
    },
    {
      "cell_type": "code",
      "source": [
        "datos.shape"
      ],
      "metadata": {
        "colab": {
          "base_uri": "https://localhost:8080/"
        },
        "id": "sp1Kr1V-ZnR_",
        "outputId": "b00fcba9-5e17-45f5-c6d8-dc21ebc064fb"
      },
      "execution_count": null,
      "outputs": [
        {
          "output_type": "execute_result",
          "data": {
            "text/plain": [
              "(232220, 17)"
            ]
          },
          "metadata": {},
          "execution_count": 20
        }
      ]
    },
    {
      "cell_type": "markdown",
      "source": [
        "Podemos visualizar 232220 filas y 17 columnas"
      ],
      "metadata": {
        "id": "A2sqPLLDZ5uR"
      }
    },
    {
      "cell_type": "code",
      "source": [
        "datos.info()"
      ],
      "metadata": {
        "colab": {
          "base_uri": "https://localhost:8080/"
        },
        "id": "24EcOnfSaCeg",
        "outputId": "1f343577-cc63-4893-da0e-0b786cd6d528"
      },
      "execution_count": null,
      "outputs": [
        {
          "output_type": "stream",
          "name": "stdout",
          "text": [
            "<class 'pandas.core.frame.DataFrame'>\n",
            "Int64Index: 232220 entries, 0 to 232220\n",
            "Data columns (total 17 columns):\n",
            " #   Column           Non-Null Count   Dtype  \n",
            "---  ------           --------------   -----  \n",
            " 0   index            232220 non-null  int64  \n",
            " 1   continent        231156 non-null  object \n",
            " 2   country          232220 non-null  object \n",
            " 3   population       208219 non-null  float64\n",
            " 4   day              232220 non-null  object \n",
            " 5   time             232220 non-null  object \n",
            " 6   cases_new        201739 non-null  float64\n",
            " 7   cases_active     229447 non-null  float64\n",
            " 8   cases_critical   187608 non-null  float64\n",
            " 9   cases_recovered  228498 non-null  float64\n",
            " 10  cases_1M_pop     232198 non-null  float64\n",
            " 11  cases_total      232220 non-null  int64  \n",
            " 12  deaths_new       150552 non-null  float64\n",
            " 13  deaths_1M_pop    204717 non-null  float64\n",
            " 14  deaths_total     226542 non-null  float64\n",
            " 15  tests_1M_pop     204255 non-null  float64\n",
            " 16  tests_total      221566 non-null  float64\n",
            "dtypes: float64(11), int64(2), object(4)\n",
            "memory usage: 31.9+ MB\n"
          ]
        }
      ]
    },
    {
      "cell_type": "markdown",
      "source": [
        "Podemos visualizar una tabla que indica el indice de numeros de columnas a la izquierda, nombre de todas la columnas en la seguna columna vertical, el numero de datos non-null y ademas el tipo de dato en la ultima columna de la derecha. Ademas en la parte final la memoria utilizada."
      ],
      "metadata": {
        "id": "ooUFC0yYaIbB"
      }
    },
    {
      "cell_type": "code",
      "source": [
        "datos.describe()"
      ],
      "metadata": {
        "colab": {
          "base_uri": "https://localhost:8080/",
          "height": 364
        },
        "id": "vmpybdSTancB",
        "outputId": "7037ed02-9e85-4853-f956-65530b7546cb"
      },
      "execution_count": null,
      "outputs": [
        {
          "output_type": "execute_result",
          "data": {
            "text/plain": [
              "               index    population      cases_new  cases_active  \\\n",
              "count  232220.000000  2.082190e+05  201739.000000  2.294470e+05   \n",
              "mean     1902.392895  9.478735e+07   10176.502436  7.478784e+05   \n",
              "std      4254.582970  2.354371e+08   35110.684237  2.726760e+06   \n",
              "min         0.000000  8.010000e+02       1.000000 -1.268120e+06   \n",
              "25%       280.000000  2.973206e+06      66.000000  1.019000e+03   \n",
              "50%       597.000000  1.132082e+07     577.000000  1.112400e+04   \n",
              "75%      1068.000000  6.033582e+07    4302.000000  9.103700e+04   \n",
              "max     24379.000000  1.439324e+09  848502.000000  2.917711e+07   \n",
              "\n",
              "       cases_critical  cases_recovered   cases_1M_pop   cases_total  \\\n",
              "count    1.876080e+05     2.284980e+05  232198.000000  2.322200e+05   \n",
              "mean     2.856007e+03     2.653763e+06   43383.411329  3.421956e+06   \n",
              "std      8.196924e+03     7.685923e+06   59896.446723  1.017720e+07   \n",
              "min      1.000000e+00     1.000000e+00       0.020000  1.000000e+00   \n",
              "25%      1.700000e+01     7.140000e+03    2273.000000  1.139500e+04   \n",
              "50%      1.540000e+02     9.788900e+04   17760.000000  1.405535e+05   \n",
              "75%      1.402000e+03     8.251970e+05   66992.000000  1.046677e+06   \n",
              "max      2.279900e+06     5.663943e+07  696299.000000  8.130004e+07   \n",
              "\n",
              "          deaths_new  deaths_1M_pop   deaths_total  tests_1M_pop   tests_total  \n",
              "count  150552.000000  204717.000000  226542.000000  2.042550e+05  2.215660e+05  \n",
              "mean      180.097441     742.003158   62942.635547  8.415106e+05  4.923285e+07  \n",
              "std       427.608430     862.832704  162014.223727  1.695037e+06  1.423794e+08  \n",
              "min       -22.000000       0.010000       1.000000  4.000000e+00  1.000000e+01  \n",
              "25%         4.000000      78.000000     174.000000  7.828300e+04  2.479310e+05  \n",
              "50%        19.000000     411.000000    2512.000000  2.925840e+05  2.123570e+06  \n",
              "75%       121.000000    1153.000000   21872.000000  9.564425e+05  1.530876e+07  \n",
              "max      6138.000000    6270.000000  995111.000000  2.169926e+07  9.690993e+08  "
            ],
            "text/html": [
              "\n",
              "  <div id=\"df-d2082d53-2e86-407d-a431-4d11d16511b3\">\n",
              "    <div class=\"colab-df-container\">\n",
              "      <div>\n",
              "<style scoped>\n",
              "    .dataframe tbody tr th:only-of-type {\n",
              "        vertical-align: middle;\n",
              "    }\n",
              "\n",
              "    .dataframe tbody tr th {\n",
              "        vertical-align: top;\n",
              "    }\n",
              "\n",
              "    .dataframe thead th {\n",
              "        text-align: right;\n",
              "    }\n",
              "</style>\n",
              "<table border=\"1\" class=\"dataframe\">\n",
              "  <thead>\n",
              "    <tr style=\"text-align: right;\">\n",
              "      <th></th>\n",
              "      <th>index</th>\n",
              "      <th>population</th>\n",
              "      <th>cases_new</th>\n",
              "      <th>cases_active</th>\n",
              "      <th>cases_critical</th>\n",
              "      <th>cases_recovered</th>\n",
              "      <th>cases_1M_pop</th>\n",
              "      <th>cases_total</th>\n",
              "      <th>deaths_new</th>\n",
              "      <th>deaths_1M_pop</th>\n",
              "      <th>deaths_total</th>\n",
              "      <th>tests_1M_pop</th>\n",
              "      <th>tests_total</th>\n",
              "    </tr>\n",
              "  </thead>\n",
              "  <tbody>\n",
              "    <tr>\n",
              "      <th>count</th>\n",
              "      <td>232220.000000</td>\n",
              "      <td>2.082190e+05</td>\n",
              "      <td>201739.000000</td>\n",
              "      <td>2.294470e+05</td>\n",
              "      <td>1.876080e+05</td>\n",
              "      <td>2.284980e+05</td>\n",
              "      <td>232198.000000</td>\n",
              "      <td>2.322200e+05</td>\n",
              "      <td>150552.000000</td>\n",
              "      <td>204717.000000</td>\n",
              "      <td>226542.000000</td>\n",
              "      <td>2.042550e+05</td>\n",
              "      <td>2.215660e+05</td>\n",
              "    </tr>\n",
              "    <tr>\n",
              "      <th>mean</th>\n",
              "      <td>1902.392895</td>\n",
              "      <td>9.478735e+07</td>\n",
              "      <td>10176.502436</td>\n",
              "      <td>7.478784e+05</td>\n",
              "      <td>2.856007e+03</td>\n",
              "      <td>2.653763e+06</td>\n",
              "      <td>43383.411329</td>\n",
              "      <td>3.421956e+06</td>\n",
              "      <td>180.097441</td>\n",
              "      <td>742.003158</td>\n",
              "      <td>62942.635547</td>\n",
              "      <td>8.415106e+05</td>\n",
              "      <td>4.923285e+07</td>\n",
              "    </tr>\n",
              "    <tr>\n",
              "      <th>std</th>\n",
              "      <td>4254.582970</td>\n",
              "      <td>2.354371e+08</td>\n",
              "      <td>35110.684237</td>\n",
              "      <td>2.726760e+06</td>\n",
              "      <td>8.196924e+03</td>\n",
              "      <td>7.685923e+06</td>\n",
              "      <td>59896.446723</td>\n",
              "      <td>1.017720e+07</td>\n",
              "      <td>427.608430</td>\n",
              "      <td>862.832704</td>\n",
              "      <td>162014.223727</td>\n",
              "      <td>1.695037e+06</td>\n",
              "      <td>1.423794e+08</td>\n",
              "    </tr>\n",
              "    <tr>\n",
              "      <th>min</th>\n",
              "      <td>0.000000</td>\n",
              "      <td>8.010000e+02</td>\n",
              "      <td>1.000000</td>\n",
              "      <td>-1.268120e+06</td>\n",
              "      <td>1.000000e+00</td>\n",
              "      <td>1.000000e+00</td>\n",
              "      <td>0.020000</td>\n",
              "      <td>1.000000e+00</td>\n",
              "      <td>-22.000000</td>\n",
              "      <td>0.010000</td>\n",
              "      <td>1.000000</td>\n",
              "      <td>4.000000e+00</td>\n",
              "      <td>1.000000e+01</td>\n",
              "    </tr>\n",
              "    <tr>\n",
              "      <th>25%</th>\n",
              "      <td>280.000000</td>\n",
              "      <td>2.973206e+06</td>\n",
              "      <td>66.000000</td>\n",
              "      <td>1.019000e+03</td>\n",
              "      <td>1.700000e+01</td>\n",
              "      <td>7.140000e+03</td>\n",
              "      <td>2273.000000</td>\n",
              "      <td>1.139500e+04</td>\n",
              "      <td>4.000000</td>\n",
              "      <td>78.000000</td>\n",
              "      <td>174.000000</td>\n",
              "      <td>7.828300e+04</td>\n",
              "      <td>2.479310e+05</td>\n",
              "    </tr>\n",
              "    <tr>\n",
              "      <th>50%</th>\n",
              "      <td>597.000000</td>\n",
              "      <td>1.132082e+07</td>\n",
              "      <td>577.000000</td>\n",
              "      <td>1.112400e+04</td>\n",
              "      <td>1.540000e+02</td>\n",
              "      <td>9.788900e+04</td>\n",
              "      <td>17760.000000</td>\n",
              "      <td>1.405535e+05</td>\n",
              "      <td>19.000000</td>\n",
              "      <td>411.000000</td>\n",
              "      <td>2512.000000</td>\n",
              "      <td>2.925840e+05</td>\n",
              "      <td>2.123570e+06</td>\n",
              "    </tr>\n",
              "    <tr>\n",
              "      <th>75%</th>\n",
              "      <td>1068.000000</td>\n",
              "      <td>6.033582e+07</td>\n",
              "      <td>4302.000000</td>\n",
              "      <td>9.103700e+04</td>\n",
              "      <td>1.402000e+03</td>\n",
              "      <td>8.251970e+05</td>\n",
              "      <td>66992.000000</td>\n",
              "      <td>1.046677e+06</td>\n",
              "      <td>121.000000</td>\n",
              "      <td>1153.000000</td>\n",
              "      <td>21872.000000</td>\n",
              "      <td>9.564425e+05</td>\n",
              "      <td>1.530876e+07</td>\n",
              "    </tr>\n",
              "    <tr>\n",
              "      <th>max</th>\n",
              "      <td>24379.000000</td>\n",
              "      <td>1.439324e+09</td>\n",
              "      <td>848502.000000</td>\n",
              "      <td>2.917711e+07</td>\n",
              "      <td>2.279900e+06</td>\n",
              "      <td>5.663943e+07</td>\n",
              "      <td>696299.000000</td>\n",
              "      <td>8.130004e+07</td>\n",
              "      <td>6138.000000</td>\n",
              "      <td>6270.000000</td>\n",
              "      <td>995111.000000</td>\n",
              "      <td>2.169926e+07</td>\n",
              "      <td>9.690993e+08</td>\n",
              "    </tr>\n",
              "  </tbody>\n",
              "</table>\n",
              "</div>\n",
              "      <button class=\"colab-df-convert\" onclick=\"convertToInteractive('df-d2082d53-2e86-407d-a431-4d11d16511b3')\"\n",
              "              title=\"Convert this dataframe to an interactive table.\"\n",
              "              style=\"display:none;\">\n",
              "        \n",
              "  <svg xmlns=\"http://www.w3.org/2000/svg\" height=\"24px\"viewBox=\"0 0 24 24\"\n",
              "       width=\"24px\">\n",
              "    <path d=\"M0 0h24v24H0V0z\" fill=\"none\"/>\n",
              "    <path d=\"M18.56 5.44l.94 2.06.94-2.06 2.06-.94-2.06-.94-.94-2.06-.94 2.06-2.06.94zm-11 1L8.5 8.5l.94-2.06 2.06-.94-2.06-.94L8.5 2.5l-.94 2.06-2.06.94zm10 10l.94 2.06.94-2.06 2.06-.94-2.06-.94-.94-2.06-.94 2.06-2.06.94z\"/><path d=\"M17.41 7.96l-1.37-1.37c-.4-.4-.92-.59-1.43-.59-.52 0-1.04.2-1.43.59L10.3 9.45l-7.72 7.72c-.78.78-.78 2.05 0 2.83L4 21.41c.39.39.9.59 1.41.59.51 0 1.02-.2 1.41-.59l7.78-7.78 2.81-2.81c.8-.78.8-2.07 0-2.86zM5.41 20L4 18.59l7.72-7.72 1.47 1.35L5.41 20z\"/>\n",
              "  </svg>\n",
              "      </button>\n",
              "      \n",
              "  <style>\n",
              "    .colab-df-container {\n",
              "      display:flex;\n",
              "      flex-wrap:wrap;\n",
              "      gap: 12px;\n",
              "    }\n",
              "\n",
              "    .colab-df-convert {\n",
              "      background-color: #E8F0FE;\n",
              "      border: none;\n",
              "      border-radius: 50%;\n",
              "      cursor: pointer;\n",
              "      display: none;\n",
              "      fill: #1967D2;\n",
              "      height: 32px;\n",
              "      padding: 0 0 0 0;\n",
              "      width: 32px;\n",
              "    }\n",
              "\n",
              "    .colab-df-convert:hover {\n",
              "      background-color: #E2EBFA;\n",
              "      box-shadow: 0px 1px 2px rgba(60, 64, 67, 0.3), 0px 1px 3px 1px rgba(60, 64, 67, 0.15);\n",
              "      fill: #174EA6;\n",
              "    }\n",
              "\n",
              "    [theme=dark] .colab-df-convert {\n",
              "      background-color: #3B4455;\n",
              "      fill: #D2E3FC;\n",
              "    }\n",
              "\n",
              "    [theme=dark] .colab-df-convert:hover {\n",
              "      background-color: #434B5C;\n",
              "      box-shadow: 0px 1px 3px 1px rgba(0, 0, 0, 0.15);\n",
              "      filter: drop-shadow(0px 1px 2px rgba(0, 0, 0, 0.3));\n",
              "      fill: #FFFFFF;\n",
              "    }\n",
              "  </style>\n",
              "\n",
              "      <script>\n",
              "        const buttonEl =\n",
              "          document.querySelector('#df-d2082d53-2e86-407d-a431-4d11d16511b3 button.colab-df-convert');\n",
              "        buttonEl.style.display =\n",
              "          google.colab.kernel.accessAllowed ? 'block' : 'none';\n",
              "\n",
              "        async function convertToInteractive(key) {\n",
              "          const element = document.querySelector('#df-d2082d53-2e86-407d-a431-4d11d16511b3');\n",
              "          const dataTable =\n",
              "            await google.colab.kernel.invokeFunction('convertToInteractive',\n",
              "                                                     [key], {});\n",
              "          if (!dataTable) return;\n",
              "\n",
              "          const docLinkHtml = 'Like what you see? Visit the ' +\n",
              "            '<a target=\"_blank\" href=https://colab.research.google.com/notebooks/data_table.ipynb>data table notebook</a>'\n",
              "            + ' to learn more about interactive tables.';\n",
              "          element.innerHTML = '';\n",
              "          dataTable['output_type'] = 'display_data';\n",
              "          await google.colab.output.renderOutput(dataTable, element);\n",
              "          const docLink = document.createElement('div');\n",
              "          docLink.innerHTML = docLinkHtml;\n",
              "          element.appendChild(docLink);\n",
              "        }\n",
              "      </script>\n",
              "    </div>\n",
              "  </div>\n",
              "  "
            ]
          },
          "metadata": {},
          "execution_count": 22
        }
      ]
    },
    {
      "cell_type": "markdown",
      "source": [
        "Podemos ver lista de de columnas correscpondientes.\n",
        "Donde vemos cantidad de valores no nulos, la media, la desviacion, el valor minimo, lo que hay debajo del 25%, 50%, 75% y ademas el numero maximo.\n"
      ],
      "metadata": {
        "id": "PHA4rarUaqGQ"
      }
    },
    {
      "cell_type": "code",
      "source": [
        "datos.index"
      ],
      "metadata": {
        "colab": {
          "base_uri": "https://localhost:8080/"
        },
        "id": "d_oZphlgc0uS",
        "outputId": "c8432db6-f37a-4e3c-cf3c-1ad16ae385d7"
      },
      "execution_count": null,
      "outputs": [
        {
          "output_type": "execute_result",
          "data": {
            "text/plain": [
              "Int64Index([     0,      1,      2,      3,      4,      5,      6,      7,\n",
              "                 8,      9,\n",
              "            ...\n",
              "            232211, 232212, 232213, 232214, 232215, 232216, 232217, 232218,\n",
              "            232219, 232220],\n",
              "           dtype='int64', length=232220)"
            ]
          },
          "metadata": {},
          "execution_count": 23
        }
      ]
    },
    {
      "cell_type": "markdown",
      "source": [
        "Podemos visualizar el numero de filas que tenemos la cual es 232220"
      ],
      "metadata": {
        "id": "mp56Y3GMc_gH"
      }
    },
    {
      "cell_type": "code",
      "source": [
        "datos.columns"
      ],
      "metadata": {
        "colab": {
          "base_uri": "https://localhost:8080/"
        },
        "id": "Eg61jrVpdGMY",
        "outputId": "498de903-110f-4461-ad5b-b76b5efbe5e6"
      },
      "execution_count": null,
      "outputs": [
        {
          "output_type": "execute_result",
          "data": {
            "text/plain": [
              "Index(['index', 'continent', 'country', 'population', 'day', 'time',\n",
              "       'cases_new', 'cases_active', 'cases_critical', 'cases_recovered',\n",
              "       'cases_1M_pop', 'cases_total', 'deaths_new', 'deaths_1M_pop',\n",
              "       'deaths_total', 'tests_1M_pop', 'tests_total'],\n",
              "      dtype='object')"
            ]
          },
          "metadata": {},
          "execution_count": 24
        }
      ]
    },
    {
      "cell_type": "markdown",
      "source": [
        "Tenemos el nombre de cada columna y su totalidad (17)"
      ],
      "metadata": {
        "id": "Jl5sy2-udIkX"
      }
    },
    {
      "cell_type": "code",
      "source": [
        "columnas = datos.columns\n",
        "columnas"
      ],
      "metadata": {
        "colab": {
          "base_uri": "https://localhost:8080/"
        },
        "id": "dU8kPPbndblP",
        "outputId": "eb4b354a-87c4-4c07-af16-f2d1a6c2c0b9"
      },
      "execution_count": null,
      "outputs": [
        {
          "output_type": "execute_result",
          "data": {
            "text/plain": [
              "Index(['index', 'continent', 'country', 'population', 'day', 'time',\n",
              "       'cases_new', 'cases_active', 'cases_critical', 'cases_recovered',\n",
              "       'cases_1M_pop', 'cases_total', 'deaths_new', 'deaths_1M_pop',\n",
              "       'deaths_total', 'tests_1M_pop', 'tests_total'],\n",
              "      dtype='object')"
            ]
          },
          "metadata": {},
          "execution_count": 25
        }
      ]
    },
    {
      "cell_type": "markdown",
      "source": [
        "Guardo la info de columnas."
      ],
      "metadata": {
        "id": "rlpktv9YeCxg"
      }
    },
    {
      "cell_type": "code",
      "source": [
        "type(columnas)"
      ],
      "metadata": {
        "colab": {
          "base_uri": "https://localhost:8080/"
        },
        "id": "0_FTFQC2eITH",
        "outputId": "9814d063-a92f-466c-b740-e48e6f1ec606"
      },
      "execution_count": null,
      "outputs": [
        {
          "output_type": "execute_result",
          "data": {
            "text/plain": [
              "pandas.core.indexes.base.Index"
            ]
          },
          "metadata": {},
          "execution_count": 27
        }
      ]
    },
    {
      "cell_type": "markdown",
      "source": [
        "Podemos visualizar el tipo de dato de las respectivas columnas."
      ],
      "metadata": {
        "id": "iBTgDGA2e_Yn"
      }
    },
    {
      "cell_type": "code",
      "source": [
        "datos.tail(5)"
      ],
      "metadata": {
        "colab": {
          "base_uri": "https://localhost:8080/",
          "height": 357
        },
        "id": "z5hynKzkekzI",
        "outputId": "c8937704-0c46-4bed-863f-02427c0c1b65"
      },
      "execution_count": null,
      "outputs": [
        {
          "output_type": "execute_result",
          "data": {
            "text/plain": [
              "        index continent   country  population        day  \\\n",
              "232216    876    Africa  Zimbabwe         NaN  15/4/2020   \n",
              "232217    877    Africa  Zimbabwe         NaN  13/4/2020   \n",
              "232218    878    Africa  Zimbabwe         NaN  12/4/2020   \n",
              "232219    879    Africa  Zimbabwe         NaN  11/4/2020   \n",
              "232220    880    Africa  Zimbabwe         NaN  10/4/2020   \n",
              "\n",
              "                             time  cases_new  cases_active  cases_critical  \\\n",
              "232216  2020-04-15T03:00:05+00:00        3.0          14.0             NaN   \n",
              "232217  2020-04-13T20:45:08+00:00        NaN          11.0             NaN   \n",
              "232218  2020-04-12T22:15:06+00:00        1.0          11.0             NaN   \n",
              "232219  2020-04-11T22:00:16+00:00        2.0          10.0             NaN   \n",
              "232220  2020-04-10T20:15:04+00:00        NaN           8.0             NaN   \n",
              "\n",
              "        cases_recovered  cases_1M_pop  cases_total  deaths_new  deaths_1M_pop  \\\n",
              "232216              NaN           1.0           17         NaN            NaN   \n",
              "232217              NaN           0.9           14         NaN            NaN   \n",
              "232218              NaN           0.9           14         NaN            NaN   \n",
              "232219              NaN           0.9           13         NaN            NaN   \n",
              "232220              NaN           0.7           11         NaN            NaN   \n",
              "\n",
              "        deaths_total  tests_1M_pop  tests_total  \n",
              "232216           3.0           NaN        604.0  \n",
              "232217           3.0           NaN        563.0  \n",
              "232218           3.0           NaN        547.0  \n",
              "232219           3.0           NaN        438.0  \n",
              "232220           3.0           NaN        438.0  "
            ],
            "text/html": [
              "\n",
              "  <div id=\"df-c7dde07b-db68-427d-9f7c-cdf0c4b3eb36\">\n",
              "    <div class=\"colab-df-container\">\n",
              "      <div>\n",
              "<style scoped>\n",
              "    .dataframe tbody tr th:only-of-type {\n",
              "        vertical-align: middle;\n",
              "    }\n",
              "\n",
              "    .dataframe tbody tr th {\n",
              "        vertical-align: top;\n",
              "    }\n",
              "\n",
              "    .dataframe thead th {\n",
              "        text-align: right;\n",
              "    }\n",
              "</style>\n",
              "<table border=\"1\" class=\"dataframe\">\n",
              "  <thead>\n",
              "    <tr style=\"text-align: right;\">\n",
              "      <th></th>\n",
              "      <th>index</th>\n",
              "      <th>continent</th>\n",
              "      <th>country</th>\n",
              "      <th>population</th>\n",
              "      <th>day</th>\n",
              "      <th>time</th>\n",
              "      <th>cases_new</th>\n",
              "      <th>cases_active</th>\n",
              "      <th>cases_critical</th>\n",
              "      <th>cases_recovered</th>\n",
              "      <th>cases_1M_pop</th>\n",
              "      <th>cases_total</th>\n",
              "      <th>deaths_new</th>\n",
              "      <th>deaths_1M_pop</th>\n",
              "      <th>deaths_total</th>\n",
              "      <th>tests_1M_pop</th>\n",
              "      <th>tests_total</th>\n",
              "    </tr>\n",
              "  </thead>\n",
              "  <tbody>\n",
              "    <tr>\n",
              "      <th>232216</th>\n",
              "      <td>876</td>\n",
              "      <td>Africa</td>\n",
              "      <td>Zimbabwe</td>\n",
              "      <td>NaN</td>\n",
              "      <td>15/4/2020</td>\n",
              "      <td>2020-04-15T03:00:05+00:00</td>\n",
              "      <td>3.0</td>\n",
              "      <td>14.0</td>\n",
              "      <td>NaN</td>\n",
              "      <td>NaN</td>\n",
              "      <td>1.0</td>\n",
              "      <td>17</td>\n",
              "      <td>NaN</td>\n",
              "      <td>NaN</td>\n",
              "      <td>3.0</td>\n",
              "      <td>NaN</td>\n",
              "      <td>604.0</td>\n",
              "    </tr>\n",
              "    <tr>\n",
              "      <th>232217</th>\n",
              "      <td>877</td>\n",
              "      <td>Africa</td>\n",
              "      <td>Zimbabwe</td>\n",
              "      <td>NaN</td>\n",
              "      <td>13/4/2020</td>\n",
              "      <td>2020-04-13T20:45:08+00:00</td>\n",
              "      <td>NaN</td>\n",
              "      <td>11.0</td>\n",
              "      <td>NaN</td>\n",
              "      <td>NaN</td>\n",
              "      <td>0.9</td>\n",
              "      <td>14</td>\n",
              "      <td>NaN</td>\n",
              "      <td>NaN</td>\n",
              "      <td>3.0</td>\n",
              "      <td>NaN</td>\n",
              "      <td>563.0</td>\n",
              "    </tr>\n",
              "    <tr>\n",
              "      <th>232218</th>\n",
              "      <td>878</td>\n",
              "      <td>Africa</td>\n",
              "      <td>Zimbabwe</td>\n",
              "      <td>NaN</td>\n",
              "      <td>12/4/2020</td>\n",
              "      <td>2020-04-12T22:15:06+00:00</td>\n",
              "      <td>1.0</td>\n",
              "      <td>11.0</td>\n",
              "      <td>NaN</td>\n",
              "      <td>NaN</td>\n",
              "      <td>0.9</td>\n",
              "      <td>14</td>\n",
              "      <td>NaN</td>\n",
              "      <td>NaN</td>\n",
              "      <td>3.0</td>\n",
              "      <td>NaN</td>\n",
              "      <td>547.0</td>\n",
              "    </tr>\n",
              "    <tr>\n",
              "      <th>232219</th>\n",
              "      <td>879</td>\n",
              "      <td>Africa</td>\n",
              "      <td>Zimbabwe</td>\n",
              "      <td>NaN</td>\n",
              "      <td>11/4/2020</td>\n",
              "      <td>2020-04-11T22:00:16+00:00</td>\n",
              "      <td>2.0</td>\n",
              "      <td>10.0</td>\n",
              "      <td>NaN</td>\n",
              "      <td>NaN</td>\n",
              "      <td>0.9</td>\n",
              "      <td>13</td>\n",
              "      <td>NaN</td>\n",
              "      <td>NaN</td>\n",
              "      <td>3.0</td>\n",
              "      <td>NaN</td>\n",
              "      <td>438.0</td>\n",
              "    </tr>\n",
              "    <tr>\n",
              "      <th>232220</th>\n",
              "      <td>880</td>\n",
              "      <td>Africa</td>\n",
              "      <td>Zimbabwe</td>\n",
              "      <td>NaN</td>\n",
              "      <td>10/4/2020</td>\n",
              "      <td>2020-04-10T20:15:04+00:00</td>\n",
              "      <td>NaN</td>\n",
              "      <td>8.0</td>\n",
              "      <td>NaN</td>\n",
              "      <td>NaN</td>\n",
              "      <td>0.7</td>\n",
              "      <td>11</td>\n",
              "      <td>NaN</td>\n",
              "      <td>NaN</td>\n",
              "      <td>3.0</td>\n",
              "      <td>NaN</td>\n",
              "      <td>438.0</td>\n",
              "    </tr>\n",
              "  </tbody>\n",
              "</table>\n",
              "</div>\n",
              "      <button class=\"colab-df-convert\" onclick=\"convertToInteractive('df-c7dde07b-db68-427d-9f7c-cdf0c4b3eb36')\"\n",
              "              title=\"Convert this dataframe to an interactive table.\"\n",
              "              style=\"display:none;\">\n",
              "        \n",
              "  <svg xmlns=\"http://www.w3.org/2000/svg\" height=\"24px\"viewBox=\"0 0 24 24\"\n",
              "       width=\"24px\">\n",
              "    <path d=\"M0 0h24v24H0V0z\" fill=\"none\"/>\n",
              "    <path d=\"M18.56 5.44l.94 2.06.94-2.06 2.06-.94-2.06-.94-.94-2.06-.94 2.06-2.06.94zm-11 1L8.5 8.5l.94-2.06 2.06-.94-2.06-.94L8.5 2.5l-.94 2.06-2.06.94zm10 10l.94 2.06.94-2.06 2.06-.94-2.06-.94-.94-2.06-.94 2.06-2.06.94z\"/><path d=\"M17.41 7.96l-1.37-1.37c-.4-.4-.92-.59-1.43-.59-.52 0-1.04.2-1.43.59L10.3 9.45l-7.72 7.72c-.78.78-.78 2.05 0 2.83L4 21.41c.39.39.9.59 1.41.59.51 0 1.02-.2 1.41-.59l7.78-7.78 2.81-2.81c.8-.78.8-2.07 0-2.86zM5.41 20L4 18.59l7.72-7.72 1.47 1.35L5.41 20z\"/>\n",
              "  </svg>\n",
              "      </button>\n",
              "      \n",
              "  <style>\n",
              "    .colab-df-container {\n",
              "      display:flex;\n",
              "      flex-wrap:wrap;\n",
              "      gap: 12px;\n",
              "    }\n",
              "\n",
              "    .colab-df-convert {\n",
              "      background-color: #E8F0FE;\n",
              "      border: none;\n",
              "      border-radius: 50%;\n",
              "      cursor: pointer;\n",
              "      display: none;\n",
              "      fill: #1967D2;\n",
              "      height: 32px;\n",
              "      padding: 0 0 0 0;\n",
              "      width: 32px;\n",
              "    }\n",
              "\n",
              "    .colab-df-convert:hover {\n",
              "      background-color: #E2EBFA;\n",
              "      box-shadow: 0px 1px 2px rgba(60, 64, 67, 0.3), 0px 1px 3px 1px rgba(60, 64, 67, 0.15);\n",
              "      fill: #174EA6;\n",
              "    }\n",
              "\n",
              "    [theme=dark] .colab-df-convert {\n",
              "      background-color: #3B4455;\n",
              "      fill: #D2E3FC;\n",
              "    }\n",
              "\n",
              "    [theme=dark] .colab-df-convert:hover {\n",
              "      background-color: #434B5C;\n",
              "      box-shadow: 0px 1px 3px 1px rgba(0, 0, 0, 0.15);\n",
              "      filter: drop-shadow(0px 1px 2px rgba(0, 0, 0, 0.3));\n",
              "      fill: #FFFFFF;\n",
              "    }\n",
              "  </style>\n",
              "\n",
              "      <script>\n",
              "        const buttonEl =\n",
              "          document.querySelector('#df-c7dde07b-db68-427d-9f7c-cdf0c4b3eb36 button.colab-df-convert');\n",
              "        buttonEl.style.display =\n",
              "          google.colab.kernel.accessAllowed ? 'block' : 'none';\n",
              "\n",
              "        async function convertToInteractive(key) {\n",
              "          const element = document.querySelector('#df-c7dde07b-db68-427d-9f7c-cdf0c4b3eb36');\n",
              "          const dataTable =\n",
              "            await google.colab.kernel.invokeFunction('convertToInteractive',\n",
              "                                                     [key], {});\n",
              "          if (!dataTable) return;\n",
              "\n",
              "          const docLinkHtml = 'Like what you see? Visit the ' +\n",
              "            '<a target=\"_blank\" href=https://colab.research.google.com/notebooks/data_table.ipynb>data table notebook</a>'\n",
              "            + ' to learn more about interactive tables.';\n",
              "          element.innerHTML = '';\n",
              "          dataTable['output_type'] = 'display_data';\n",
              "          await google.colab.output.renderOutput(dataTable, element);\n",
              "          const docLink = document.createElement('div');\n",
              "          docLink.innerHTML = docLinkHtml;\n",
              "          element.appendChild(docLink);\n",
              "        }\n",
              "      </script>\n",
              "    </div>\n",
              "  </div>\n",
              "  "
            ]
          },
          "metadata": {},
          "execution_count": 28
        }
      ]
    },
    {
      "cell_type": "markdown",
      "source": [
        "Podemos visualizar las ultimas 5 filas."
      ],
      "metadata": {
        "id": "PlmxNGwneo0n"
      }
    },
    {
      "cell_type": "code",
      "source": [
        "datos.country"
      ],
      "metadata": {
        "colab": {
          "base_uri": "https://localhost:8080/"
        },
        "id": "7DU42-p0fUmv",
        "outputId": "d5a96f75-a7d4-44ba-cb23-aa601b2ad8aa"
      },
      "execution_count": null,
      "outputs": [
        {
          "output_type": "execute_result",
          "data": {
            "text/plain": [
              "0         Afghanistan\n",
              "1         Afghanistan\n",
              "2         Afghanistan\n",
              "3         Afghanistan\n",
              "4         Afghanistan\n",
              "             ...     \n",
              "232216       Zimbabwe\n",
              "232217       Zimbabwe\n",
              "232218       Zimbabwe\n",
              "232219       Zimbabwe\n",
              "232220       Zimbabwe\n",
              "Name: country, Length: 232220, dtype: object"
            ]
          },
          "metadata": {},
          "execution_count": 29
        }
      ]
    },
    {
      "cell_type": "markdown",
      "source": [
        "Obtencion de valores de una columa en concreto. Se tomo de ejemplo la columna country.Podemos visualizar los primeros 4 y ultimos 5 datos."
      ],
      "metadata": {
        "id": "uHGg6LhvfSW-"
      }
    },
    {
      "cell_type": "code",
      "source": [
        "datos.iloc[:,0]"
      ],
      "metadata": {
        "colab": {
          "base_uri": "https://localhost:8080/"
        },
        "id": "gGT-g6WgjzGo",
        "outputId": "3ef41d9a-a16d-4366-a2e4-66847eeb8978"
      },
      "execution_count": null,
      "outputs": [
        {
          "output_type": "execute_result",
          "data": {
            "text/plain": [
              "0           0\n",
              "1           1\n",
              "2           2\n",
              "3           3\n",
              "4           4\n",
              "         ... \n",
              "232216    876\n",
              "232217    877\n",
              "232218    878\n",
              "232219    879\n",
              "232220    880\n",
              "Name: index, Length: 232220, dtype: int64"
            ]
          },
          "metadata": {},
          "execution_count": 33
        }
      ]
    },
    {
      "cell_type": "markdown",
      "source": [
        "Obtener los datos por indice - iloc"
      ],
      "metadata": {
        "id": "JgB5Me7Cj0_W"
      }
    },
    {
      "cell_type": "code",
      "source": [
        "datos.loc[datos.country=='Aregtina']"
      ],
      "metadata": {
        "colab": {
          "base_uri": "https://localhost:8080/",
          "height": 113
        },
        "id": "vN9aBSu-meZf",
        "outputId": "aea19250-12fa-4113-f701-60924db84ab3"
      },
      "execution_count": null,
      "outputs": [
        {
          "output_type": "execute_result",
          "data": {
            "text/plain": [
              "Empty DataFrame\n",
              "Columns: [index, continent, country, population, day, time, cases_new, cases_active, cases_critical, cases_recovered, cases_1M_pop, cases_total, deaths_new, deaths_1M_pop, deaths_total, tests_1M_pop, tests_total]\n",
              "Index: []"
            ],
            "text/html": [
              "\n",
              "  <div id=\"df-0a169751-5107-423c-b93e-f5c47d4e4021\">\n",
              "    <div class=\"colab-df-container\">\n",
              "      <div>\n",
              "<style scoped>\n",
              "    .dataframe tbody tr th:only-of-type {\n",
              "        vertical-align: middle;\n",
              "    }\n",
              "\n",
              "    .dataframe tbody tr th {\n",
              "        vertical-align: top;\n",
              "    }\n",
              "\n",
              "    .dataframe thead th {\n",
              "        text-align: right;\n",
              "    }\n",
              "</style>\n",
              "<table border=\"1\" class=\"dataframe\">\n",
              "  <thead>\n",
              "    <tr style=\"text-align: right;\">\n",
              "      <th></th>\n",
              "      <th>index</th>\n",
              "      <th>continent</th>\n",
              "      <th>country</th>\n",
              "      <th>population</th>\n",
              "      <th>day</th>\n",
              "      <th>time</th>\n",
              "      <th>cases_new</th>\n",
              "      <th>cases_active</th>\n",
              "      <th>cases_critical</th>\n",
              "      <th>cases_recovered</th>\n",
              "      <th>cases_1M_pop</th>\n",
              "      <th>cases_total</th>\n",
              "      <th>deaths_new</th>\n",
              "      <th>deaths_1M_pop</th>\n",
              "      <th>deaths_total</th>\n",
              "      <th>tests_1M_pop</th>\n",
              "      <th>tests_total</th>\n",
              "    </tr>\n",
              "  </thead>\n",
              "  <tbody>\n",
              "  </tbody>\n",
              "</table>\n",
              "</div>\n",
              "      <button class=\"colab-df-convert\" onclick=\"convertToInteractive('df-0a169751-5107-423c-b93e-f5c47d4e4021')\"\n",
              "              title=\"Convert this dataframe to an interactive table.\"\n",
              "              style=\"display:none;\">\n",
              "        \n",
              "  <svg xmlns=\"http://www.w3.org/2000/svg\" height=\"24px\"viewBox=\"0 0 24 24\"\n",
              "       width=\"24px\">\n",
              "    <path d=\"M0 0h24v24H0V0z\" fill=\"none\"/>\n",
              "    <path d=\"M18.56 5.44l.94 2.06.94-2.06 2.06-.94-2.06-.94-.94-2.06-.94 2.06-2.06.94zm-11 1L8.5 8.5l.94-2.06 2.06-.94-2.06-.94L8.5 2.5l-.94 2.06-2.06.94zm10 10l.94 2.06.94-2.06 2.06-.94-2.06-.94-.94-2.06-.94 2.06-2.06.94z\"/><path d=\"M17.41 7.96l-1.37-1.37c-.4-.4-.92-.59-1.43-.59-.52 0-1.04.2-1.43.59L10.3 9.45l-7.72 7.72c-.78.78-.78 2.05 0 2.83L4 21.41c.39.39.9.59 1.41.59.51 0 1.02-.2 1.41-.59l7.78-7.78 2.81-2.81c.8-.78.8-2.07 0-2.86zM5.41 20L4 18.59l7.72-7.72 1.47 1.35L5.41 20z\"/>\n",
              "  </svg>\n",
              "      </button>\n",
              "      \n",
              "  <style>\n",
              "    .colab-df-container {\n",
              "      display:flex;\n",
              "      flex-wrap:wrap;\n",
              "      gap: 12px;\n",
              "    }\n",
              "\n",
              "    .colab-df-convert {\n",
              "      background-color: #E8F0FE;\n",
              "      border: none;\n",
              "      border-radius: 50%;\n",
              "      cursor: pointer;\n",
              "      display: none;\n",
              "      fill: #1967D2;\n",
              "      height: 32px;\n",
              "      padding: 0 0 0 0;\n",
              "      width: 32px;\n",
              "    }\n",
              "\n",
              "    .colab-df-convert:hover {\n",
              "      background-color: #E2EBFA;\n",
              "      box-shadow: 0px 1px 2px rgba(60, 64, 67, 0.3), 0px 1px 3px 1px rgba(60, 64, 67, 0.15);\n",
              "      fill: #174EA6;\n",
              "    }\n",
              "\n",
              "    [theme=dark] .colab-df-convert {\n",
              "      background-color: #3B4455;\n",
              "      fill: #D2E3FC;\n",
              "    }\n",
              "\n",
              "    [theme=dark] .colab-df-convert:hover {\n",
              "      background-color: #434B5C;\n",
              "      box-shadow: 0px 1px 3px 1px rgba(0, 0, 0, 0.15);\n",
              "      filter: drop-shadow(0px 1px 2px rgba(0, 0, 0, 0.3));\n",
              "      fill: #FFFFFF;\n",
              "    }\n",
              "  </style>\n",
              "\n",
              "      <script>\n",
              "        const buttonEl =\n",
              "          document.querySelector('#df-0a169751-5107-423c-b93e-f5c47d4e4021 button.colab-df-convert');\n",
              "        buttonEl.style.display =\n",
              "          google.colab.kernel.accessAllowed ? 'block' : 'none';\n",
              "\n",
              "        async function convertToInteractive(key) {\n",
              "          const element = document.querySelector('#df-0a169751-5107-423c-b93e-f5c47d4e4021');\n",
              "          const dataTable =\n",
              "            await google.colab.kernel.invokeFunction('convertToInteractive',\n",
              "                                                     [key], {});\n",
              "          if (!dataTable) return;\n",
              "\n",
              "          const docLinkHtml = 'Like what you see? Visit the ' +\n",
              "            '<a target=\"_blank\" href=https://colab.research.google.com/notebooks/data_table.ipynb>data table notebook</a>'\n",
              "            + ' to learn more about interactive tables.';\n",
              "          element.innerHTML = '';\n",
              "          dataTable['output_type'] = 'display_data';\n",
              "          await google.colab.output.renderOutput(dataTable, element);\n",
              "          const docLink = document.createElement('div');\n",
              "          docLink.innerHTML = docLinkHtml;\n",
              "          element.appendChild(docLink);\n",
              "        }\n",
              "      </script>\n",
              "    </div>\n",
              "  </div>\n",
              "  "
            ]
          },
          "metadata": {},
          "execution_count": 36
        }
      ]
    },
    {
      "cell_type": "markdown",
      "source": [
        "En esta seccion deberiamos ver la la lista con la condicion del pais asentado. Esto es productivo para poder visualizar el pais en interes a visualizar los datos, o tambien se puede realizar el mismo filtro por 'continent' si se desa visualizar el continente."
      ],
      "metadata": {
        "id": "7CHGBlrcnlIV"
      }
    },
    {
      "cell_type": "code",
      "source": [
        "columnas_nulos = datos.columns[datos.isnull().any()]\n",
        "datos[columnas_nulos].isnull().sum()"
      ],
      "metadata": {
        "colab": {
          "base_uri": "https://localhost:8080/"
        },
        "id": "3_YSabWgpgjb",
        "outputId": "b28ffcd8-08f4-4b9f-a246-077b567c9049"
      },
      "execution_count": null,
      "outputs": [
        {
          "output_type": "execute_result",
          "data": {
            "text/plain": [
              "continent           1064\n",
              "population         24001\n",
              "cases_new          30481\n",
              "cases_active        2773\n",
              "cases_critical     44612\n",
              "cases_recovered     3722\n",
              "cases_1M_pop          22\n",
              "deaths_new         81668\n",
              "deaths_1M_pop      27503\n",
              "deaths_total        5678\n",
              "tests_1M_pop       27965\n",
              "tests_total        10654\n",
              "dtype: int64"
            ]
          },
          "metadata": {},
          "execution_count": 37
        }
      ]
    },
    {
      "cell_type": "markdown",
      "source": [
        "Podemos visualizar la cantidad de valores nulos hay en cada columna."
      ],
      "metadata": {
        "id": "kB6kZqF9p2GM"
      }
    },
    {
      "cell_type": "code",
      "source": [
        "datos.isnull().sum()"
      ],
      "metadata": {
        "colab": {
          "base_uri": "https://localhost:8080/"
        },
        "id": "MPNB8FRJqJR2",
        "outputId": "fe280489-d003-42d2-d47d-ec3e6449888a"
      },
      "execution_count": null,
      "outputs": [
        {
          "output_type": "execute_result",
          "data": {
            "text/plain": [
              "index                  0\n",
              "continent           1064\n",
              "country                0\n",
              "population         24001\n",
              "day                    0\n",
              "time                   0\n",
              "cases_new          30481\n",
              "cases_active        2773\n",
              "cases_critical     44612\n",
              "cases_recovered     3722\n",
              "cases_1M_pop          22\n",
              "cases_total            0\n",
              "deaths_new         81668\n",
              "deaths_1M_pop      27503\n",
              "deaths_total        5678\n",
              "tests_1M_pop       27965\n",
              "tests_total        10654\n",
              "dtype: int64"
            ]
          },
          "metadata": {},
          "execution_count": 38
        }
      ]
    },
    {
      "cell_type": "markdown",
      "source": [
        "El mismo recuento pero agregando ademas los que no tienen nulos."
      ],
      "metadata": {
        "id": "vJKJ1_FPqb-t"
      }
    },
    {
      "cell_type": "code",
      "source": [
        "datos.isnull().any()"
      ],
      "metadata": {
        "colab": {
          "base_uri": "https://localhost:8080/"
        },
        "id": "cur5m3neqhdd",
        "outputId": "ebabdc2d-59df-45bd-c6f2-cbc40277fbd9"
      },
      "execution_count": null,
      "outputs": [
        {
          "output_type": "execute_result",
          "data": {
            "text/plain": [
              "index              False\n",
              "continent           True\n",
              "country            False\n",
              "population          True\n",
              "day                False\n",
              "time               False\n",
              "cases_new           True\n",
              "cases_active        True\n",
              "cases_critical      True\n",
              "cases_recovered     True\n",
              "cases_1M_pop        True\n",
              "cases_total        False\n",
              "deaths_new          True\n",
              "deaths_1M_pop       True\n",
              "deaths_total        True\n",
              "tests_1M_pop        True\n",
              "tests_total         True\n",
              "dtype: bool"
            ]
          },
          "metadata": {},
          "execution_count": 39
        }
      ]
    },
    {
      "cell_type": "markdown",
      "source": [
        "Indica si hay datos nulos en booleano."
      ],
      "metadata": {
        "id": "3CvJHETBqlUc"
      }
    },
    {
      "cell_type": "code",
      "source": [
        "datos_sin_nulos = datos.dropna(how='any')"
      ],
      "metadata": {
        "id": "Fw6tzP9eqpdE"
      },
      "execution_count": null,
      "outputs": []
    },
    {
      "cell_type": "markdown",
      "source": [
        "Borramos los los nulos. "
      ],
      "metadata": {
        "id": "73yGU2Fmq1KG"
      }
    },
    {
      "cell_type": "code",
      "source": [
        "datos_sin_nulos.isnull().sum()"
      ],
      "metadata": {
        "colab": {
          "base_uri": "https://localhost:8080/"
        },
        "id": "VW0o_nxXq8aE",
        "outputId": "9f3d376c-1544-46f4-8b04-a54c345cc7c3"
      },
      "execution_count": null,
      "outputs": [
        {
          "output_type": "execute_result",
          "data": {
            "text/plain": [
              "index              0\n",
              "continent          0\n",
              "country            0\n",
              "population         0\n",
              "day                0\n",
              "time               0\n",
              "cases_new          0\n",
              "cases_active       0\n",
              "cases_critical     0\n",
              "cases_recovered    0\n",
              "cases_1M_pop       0\n",
              "cases_total        0\n",
              "deaths_new         0\n",
              "deaths_1M_pop      0\n",
              "deaths_total       0\n",
              "tests_1M_pop       0\n",
              "tests_total        0\n",
              "dtype: int64"
            ]
          },
          "metadata": {},
          "execution_count": 44
        }
      ]
    },
    {
      "cell_type": "markdown",
      "source": [
        "Se comprueba que exactamente no contenga nulos."
      ],
      "metadata": {
        "id": "QrDkzWcVrRvc"
      }
    },
    {
      "cell_type": "code",
      "source": [
        "datos.shape"
      ],
      "metadata": {
        "colab": {
          "base_uri": "https://localhost:8080/"
        },
        "id": "BwWicz6NrkZM",
        "outputId": "0bfa80a7-2d13-42af-8d58-0722f59a3f91"
      },
      "execution_count": null,
      "outputs": [
        {
          "output_type": "execute_result",
          "data": {
            "text/plain": [
              "(232220, 17)"
            ]
          },
          "metadata": {},
          "execution_count": 45
        }
      ]
    },
    {
      "cell_type": "code",
      "source": [
        "datos_sin_nulos.shape"
      ],
      "metadata": {
        "colab": {
          "base_uri": "https://localhost:8080/"
        },
        "id": "luXUbm6zrokE",
        "outputId": "78df483d-4836-493d-8bc6-775711ff3614"
      },
      "execution_count": null,
      "outputs": [
        {
          "output_type": "execute_result",
          "data": {
            "text/plain": [
              "(117295, 17)"
            ]
          },
          "metadata": {},
          "execution_count": 46
        }
      ]
    },
    {
      "cell_type": "markdown",
      "source": [
        "Comparativa de disminucion de filas sacando los nulos."
      ],
      "metadata": {
        "id": "-7PnpAbprsVD"
      }
    },
    {
      "cell_type": "code",
      "source": [
        "datos.country.unique()"
      ],
      "metadata": {
        "colab": {
          "base_uri": "https://localhost:8080/"
        },
        "id": "ETH9AlymsDCk",
        "outputId": "189a79d1-c804-4074-cd1c-f42b0d4912c6"
      },
      "execution_count": null,
      "outputs": [
        {
          "output_type": "execute_result",
          "data": {
            "text/plain": [
              "array(['Afghanistan', 'Albania', 'Algeria', 'Andorra', 'Angola',\n",
              "       'Anguilla', 'Antigua-and-Barbuda', 'Argentina', 'Armenia', 'Aruba',\n",
              "       'Australia', 'Austria', 'Azerbaijan', 'Bahamas', 'Bahrain',\n",
              "       'Bangladesh', 'Barbados', 'Belarus', 'Belgium', 'Belize', 'Benin',\n",
              "       'Bermuda', 'Bhutan', 'Bolivia', 'Bosnia-and-Herzegovina',\n",
              "       'Botswana', 'Brazil', 'British-Virgin-Islands', 'Brunei',\n",
              "       'Bulgaria', 'Burkina-Faso', 'Burundi', 'Cabo-Verde', 'Cambodia',\n",
              "       'Cameroon', 'Canada', 'CAR', 'Caribbean-Netherlands',\n",
              "       'Cayman-Islands', 'Chad', 'Channel-Islands', 'Chile', 'China',\n",
              "       'Colombia', 'Comoros', 'Congo', 'Cook-Islands', 'Costa-Rica',\n",
              "       'Croatia', 'Cuba', 'Cyprus', 'Czechia', 'Denmark',\n",
              "       'Diamond-Princess', 'Diamond-Princess-', 'Djibouti', 'Dominica',\n",
              "       'Dominican-Republic', 'DRC', 'Ecuador', 'Egypt', 'El-Salvador',\n",
              "       'Equatorial-Guinea', 'Eritrea', 'Estonia', 'Eswatini', 'Ethiopia',\n",
              "       'Faeroe-Islands', 'Falkland-Islands', 'Fiji', 'Finland', 'France',\n",
              "       'French-Guiana', 'French-Polynesia', 'Gabon', 'Gambia', 'Georgia',\n",
              "       'Germany', 'Ghana', 'Gibraltar', 'Greece', 'Greenland', 'Grenada',\n",
              "       'Guadeloupe', 'Guam', 'Guatemala', 'Guinea', 'Guinea-Bissau',\n",
              "       'Guyana', 'Haiti', 'Honduras', 'Hong-Kong', 'Hungary', 'Iceland',\n",
              "       'India', 'Indonesia', 'Iran', 'Iraq', 'Ireland', 'Isle-of-Man',\n",
              "       'Israel', 'Italy', 'Ivory-Coast', 'Jamaica', 'Japan', 'Jordan',\n",
              "       'Kazakhstan', 'Kenya', 'Kiribati', 'Kuwait', 'Kyrgyzstan', 'Laos',\n",
              "       'Latvia', 'Lebanon', 'Lesotho', 'Liberia', 'Libya',\n",
              "       'Liechtenstein', 'Lithuania', 'Luxembourg', 'Macao', 'Madagascar',\n",
              "       'Malawi', 'Malaysia', 'Maldives', 'Mali', 'Malta',\n",
              "       'Marshall-Islands', 'Martinique', 'Mauritania', 'Mauritius',\n",
              "       'Mayotte', 'Mexico', 'Micronesia', 'Moldova', 'Monaco', 'Mongolia',\n",
              "       'Montenegro', 'Montserrat', 'Morocco', 'Mozambique', 'MS-Zaandam',\n",
              "       'MS-Zaandam-', 'Myanmar', 'Namibia', 'Nepal', 'Netherlands',\n",
              "       'New-Caledonia', 'New-Zealand', 'Nicaragua', 'Niger', 'Nigeria',\n",
              "       'North-Macedonia', 'Norway', 'Oman', 'Pakistan', 'Palau',\n",
              "       'Palestine', 'Panama', 'Papua-New-Guinea', 'Paraguay', 'Peru',\n",
              "       'Philippines', 'Poland', 'Portugal', 'Puerto-Rico', 'Qatar',\n",
              "       'Romania', 'Russia', 'Rwanda', 'S-Korea', 'Saint-Helena',\n",
              "       'Saint-Kitts-and-Nevis', 'Saint-Lucia', 'Saint-Martin',\n",
              "       'Saint-Pierre-Miquelon', 'Samoa', 'San-Marino',\n",
              "       'Sao-Tome-and-Principe', 'Saudi-Arabia', 'Senegal', 'Serbia',\n",
              "       'Seychelles', 'Sierra-Leone', 'Singapore', 'Sint-Maarten',\n",
              "       'Slovakia', 'Slovenia', 'Solomon-Islands', 'Somalia',\n",
              "       'South-Africa', 'South-Sudan', 'Spain', 'Sri-Lanka', 'St-Barth',\n",
              "       'St-Vincent-Grenadines', 'Sudan', 'Suriname', 'Sweden',\n",
              "       'Switzerland', 'Syria', 'Taiwan', 'Tajikistan', 'Tanzania',\n",
              "       'Thailand', 'Timor-Leste', 'Togo', 'Tonga', 'Trinidad-and-Tobago',\n",
              "       'Tunisia', 'Turkey', 'Turks-and-Caicos', 'UAE', 'Uganda', 'UK',\n",
              "       'Ukraine', 'Uruguay', 'US-Virgin-Islands', 'USA', 'Uzbekistan',\n",
              "       'Vanuatu', 'Vatican-City', 'Venezuela', 'Vietnam',\n",
              "       'Wallis-and-Futuna', 'Western-Sahara', 'Yemen', 'Zambia',\n",
              "       'Zimbabwe'], dtype=object)"
            ]
          },
          "metadata": {},
          "execution_count": 47
        }
      ]
    },
    {
      "cell_type": "markdown",
      "source": [
        "Visualizamos los valores unicos para previsualizar los paises a los cuales se listaron en dicho dataset."
      ],
      "metadata": {
        "id": "qKPKqrgJsIpM"
      }
    },
    {
      "cell_type": "code",
      "source": [
        "datos.continent.unique()"
      ],
      "metadata": {
        "colab": {
          "base_uri": "https://localhost:8080/"
        },
        "id": "teg8ieC6sQJl",
        "outputId": "cdf1ea1e-373d-4b0d-b71c-c66eb7c3a383"
      },
      "execution_count": null,
      "outputs": [
        {
          "output_type": "execute_result",
          "data": {
            "text/plain": [
              "array(['Asia', '38807744', 'Europe', '2878189', 'Africa', '77249', nan,\n",
              "       'North-America', '97824', 'South-America', '45141794', '2962544',\n",
              "       '106708', 'Oceania', 'Australia/Oceania', '25460983', '8999806',\n",
              "       '10127290', '1693017', '164475123', '9449712', '11583189', '62306',\n",
              "       '770494', '11651907', '3283308', '212364444', '30205', '436933',\n",
              "       '6954790', '555195', '16688259', '26454069', '37699156', '65620',\n",
              "       '173654', '19094896', '50811863', '4108356', '1206224', '10706473',\n",
              "       '5789609', '986088', '10833701', '89174452', '17607301', '6482018',\n",
              "       '1396368', '1326423', '114568201', '48839', '3466', '5539635',\n",
              "       '65255252', '297602', '2218477', '3990118', '83749935', '13082852',\n",
              "       '1961573', '9883522', '7489099', '9663390', '340958', '1378233611',\n",
              "       '273144953', '83850893', '4930547', '84975', '8637437', '60472892',\n",
              "       '10189909', '18747133', '4262156', '6509752', '7261510', '1888690',\n",
              "       '6829201', '2726772', '624613', '32311201', '539261', '20168486',\n",
              "       '441394', '4632582', '271903', '128755457', '4035126', '39206',\n",
              "       '3271218', '36852978', '2534689', '29066056', '17130079',\n",
              "       '2083385', '5415755', '5088544', '220309834', '4305682',\n",
              "       '32910878', '109387948', '37851778', '10200387', '2874514',\n",
              "       '19253316', '145926611', '38577', '33922', '218608', '34741400',\n",
              "       '16682261', '8741704', '5844386', '42812', '5459310', '2078902',\n",
              "       '11176461', '46752506', '21401804', '9873', '110895', '43707940',\n",
              "       '10091169', '8646448', '23811335', '9508183', '69777809',\n",
              "       '1315040', '84220162', '9874659', '45534716', '67840351',\n",
              "       '43765842', '3472200', '330753490', '33404657', '29735785'],\n",
              "      dtype=object)"
            ]
          },
          "metadata": {},
          "execution_count": 48
        }
      ]
    },
    {
      "cell_type": "markdown",
      "source": [
        "Visualizamos los valores unicos para previsualizar los continentes a los cuales se listaron en dicho dataset."
      ],
      "metadata": {
        "id": "9myDl7jKs2JP"
      }
    },
    {
      "cell_type": "code",
      "source": [
        "agrupados=datos.groupby('country').deaths_total.count()\n",
        "agrupados"
      ],
      "metadata": {
        "colab": {
          "base_uri": "https://localhost:8080/"
        },
        "id": "cTo6wvlOujcj",
        "outputId": "1f07896c-09cd-4e9f-e1cd-c09c23550a48"
      },
      "execution_count": null,
      "outputs": [
        {
          "output_type": "execute_result",
          "data": {
            "text/plain": [
              "country\n",
              "Afghanistan          958\n",
              "Albania              908\n",
              "Algeria              870\n",
              "Andorra              716\n",
              "Angola               782\n",
              "                    ... \n",
              "Wallis-and-Futuna    231\n",
              "Western-Sahara         6\n",
              "Yemen                646\n",
              "Zambia               965\n",
              "Zimbabwe             881\n",
              "Name: deaths_total, Length: 229, dtype: int64"
            ]
          },
          "metadata": {},
          "execution_count": 54
        }
      ]
    },
    {
      "cell_type": "markdown",
      "source": [
        "Podriamos visualizar una lista de paises contando cantidad de muertes totales."
      ],
      "metadata": {
        "id": "jcalJtsHvFor"
      }
    },
    {
      "cell_type": "code",
      "source": [
        "agrupados=datos.groupby('country').deaths_total.min()\n",
        "agrupados"
      ],
      "metadata": {
        "colab": {
          "base_uri": "https://localhost:8080/"
        },
        "id": "ljYPoc82vPCz",
        "outputId": "ddffa820-7e1c-4046-88eb-485ca4e873b6"
      },
      "execution_count": null,
      "outputs": [
        {
          "output_type": "execute_result",
          "data": {
            "text/plain": [
              "country\n",
              "Afghanistan           1.0\n",
              "Albania               2.0\n",
              "Algeria              15.0\n",
              "Andorra               1.0\n",
              "Angola                2.0\n",
              "                     ... \n",
              "Wallis-and-Futuna     1.0\n",
              "Western-Sahara        1.0\n",
              "Yemen                 2.0\n",
              "Zambia                1.0\n",
              "Zimbabwe              3.0\n",
              "Name: deaths_total, Length: 229, dtype: float64"
            ]
          },
          "metadata": {},
          "execution_count": 55
        }
      ]
    },
    {
      "cell_type": "markdown",
      "source": [
        "Podemos visualizar las muertes minimas por pais."
      ],
      "metadata": {
        "id": "vD0jZBggvYDK"
      }
    },
    {
      "cell_type": "code",
      "source": [
        "datos.groupby(['country','deaths_total']).deaths_total.agg([min,max])"
      ],
      "metadata": {
        "colab": {
          "base_uri": "https://localhost:8080/",
          "height": 455
        },
        "id": "Atpssm_7vb-6",
        "outputId": "5787ea35-66cb-450a-a9ad-9c84a45590a0"
      },
      "execution_count": null,
      "outputs": [
        {
          "output_type": "execute_result",
          "data": {
            "text/plain": [
              "                             min     max\n",
              "country     deaths_total                \n",
              "Afghanistan 1.0              1.0     1.0\n",
              "            2.0              2.0     2.0\n",
              "            4.0              4.0     4.0\n",
              "            6.0              6.0     6.0\n",
              "            7.0              7.0     7.0\n",
              "...                          ...     ...\n",
              "Zimbabwe    5412.0        5412.0  5412.0\n",
              "            5414.0        5414.0  5414.0\n",
              "            5416.0        5416.0  5416.0\n",
              "            5417.0        5417.0  5417.0\n",
              "            5418.0        5418.0  5418.0\n",
              "\n",
              "[108361 rows x 2 columns]"
            ],
            "text/html": [
              "\n",
              "  <div id=\"df-f0cb1929-6b3e-4b15-be9b-879a982b72c4\">\n",
              "    <div class=\"colab-df-container\">\n",
              "      <div>\n",
              "<style scoped>\n",
              "    .dataframe tbody tr th:only-of-type {\n",
              "        vertical-align: middle;\n",
              "    }\n",
              "\n",
              "    .dataframe tbody tr th {\n",
              "        vertical-align: top;\n",
              "    }\n",
              "\n",
              "    .dataframe thead th {\n",
              "        text-align: right;\n",
              "    }\n",
              "</style>\n",
              "<table border=\"1\" class=\"dataframe\">\n",
              "  <thead>\n",
              "    <tr style=\"text-align: right;\">\n",
              "      <th></th>\n",
              "      <th></th>\n",
              "      <th>min</th>\n",
              "      <th>max</th>\n",
              "    </tr>\n",
              "    <tr>\n",
              "      <th>country</th>\n",
              "      <th>deaths_total</th>\n",
              "      <th></th>\n",
              "      <th></th>\n",
              "    </tr>\n",
              "  </thead>\n",
              "  <tbody>\n",
              "    <tr>\n",
              "      <th rowspan=\"5\" valign=\"top\">Afghanistan</th>\n",
              "      <th>1.0</th>\n",
              "      <td>1.0</td>\n",
              "      <td>1.0</td>\n",
              "    </tr>\n",
              "    <tr>\n",
              "      <th>2.0</th>\n",
              "      <td>2.0</td>\n",
              "      <td>2.0</td>\n",
              "    </tr>\n",
              "    <tr>\n",
              "      <th>4.0</th>\n",
              "      <td>4.0</td>\n",
              "      <td>4.0</td>\n",
              "    </tr>\n",
              "    <tr>\n",
              "      <th>6.0</th>\n",
              "      <td>6.0</td>\n",
              "      <td>6.0</td>\n",
              "    </tr>\n",
              "    <tr>\n",
              "      <th>7.0</th>\n",
              "      <td>7.0</td>\n",
              "      <td>7.0</td>\n",
              "    </tr>\n",
              "    <tr>\n",
              "      <th>...</th>\n",
              "      <th>...</th>\n",
              "      <td>...</td>\n",
              "      <td>...</td>\n",
              "    </tr>\n",
              "    <tr>\n",
              "      <th rowspan=\"5\" valign=\"top\">Zimbabwe</th>\n",
              "      <th>5412.0</th>\n",
              "      <td>5412.0</td>\n",
              "      <td>5412.0</td>\n",
              "    </tr>\n",
              "    <tr>\n",
              "      <th>5414.0</th>\n",
              "      <td>5414.0</td>\n",
              "      <td>5414.0</td>\n",
              "    </tr>\n",
              "    <tr>\n",
              "      <th>5416.0</th>\n",
              "      <td>5416.0</td>\n",
              "      <td>5416.0</td>\n",
              "    </tr>\n",
              "    <tr>\n",
              "      <th>5417.0</th>\n",
              "      <td>5417.0</td>\n",
              "      <td>5417.0</td>\n",
              "    </tr>\n",
              "    <tr>\n",
              "      <th>5418.0</th>\n",
              "      <td>5418.0</td>\n",
              "      <td>5418.0</td>\n",
              "    </tr>\n",
              "  </tbody>\n",
              "</table>\n",
              "<p>108361 rows × 2 columns</p>\n",
              "</div>\n",
              "      <button class=\"colab-df-convert\" onclick=\"convertToInteractive('df-f0cb1929-6b3e-4b15-be9b-879a982b72c4')\"\n",
              "              title=\"Convert this dataframe to an interactive table.\"\n",
              "              style=\"display:none;\">\n",
              "        \n",
              "  <svg xmlns=\"http://www.w3.org/2000/svg\" height=\"24px\"viewBox=\"0 0 24 24\"\n",
              "       width=\"24px\">\n",
              "    <path d=\"M0 0h24v24H0V0z\" fill=\"none\"/>\n",
              "    <path d=\"M18.56 5.44l.94 2.06.94-2.06 2.06-.94-2.06-.94-.94-2.06-.94 2.06-2.06.94zm-11 1L8.5 8.5l.94-2.06 2.06-.94-2.06-.94L8.5 2.5l-.94 2.06-2.06.94zm10 10l.94 2.06.94-2.06 2.06-.94-2.06-.94-.94-2.06-.94 2.06-2.06.94z\"/><path d=\"M17.41 7.96l-1.37-1.37c-.4-.4-.92-.59-1.43-.59-.52 0-1.04.2-1.43.59L10.3 9.45l-7.72 7.72c-.78.78-.78 2.05 0 2.83L4 21.41c.39.39.9.59 1.41.59.51 0 1.02-.2 1.41-.59l7.78-7.78 2.81-2.81c.8-.78.8-2.07 0-2.86zM5.41 20L4 18.59l7.72-7.72 1.47 1.35L5.41 20z\"/>\n",
              "  </svg>\n",
              "      </button>\n",
              "      \n",
              "  <style>\n",
              "    .colab-df-container {\n",
              "      display:flex;\n",
              "      flex-wrap:wrap;\n",
              "      gap: 12px;\n",
              "    }\n",
              "\n",
              "    .colab-df-convert {\n",
              "      background-color: #E8F0FE;\n",
              "      border: none;\n",
              "      border-radius: 50%;\n",
              "      cursor: pointer;\n",
              "      display: none;\n",
              "      fill: #1967D2;\n",
              "      height: 32px;\n",
              "      padding: 0 0 0 0;\n",
              "      width: 32px;\n",
              "    }\n",
              "\n",
              "    .colab-df-convert:hover {\n",
              "      background-color: #E2EBFA;\n",
              "      box-shadow: 0px 1px 2px rgba(60, 64, 67, 0.3), 0px 1px 3px 1px rgba(60, 64, 67, 0.15);\n",
              "      fill: #174EA6;\n",
              "    }\n",
              "\n",
              "    [theme=dark] .colab-df-convert {\n",
              "      background-color: #3B4455;\n",
              "      fill: #D2E3FC;\n",
              "    }\n",
              "\n",
              "    [theme=dark] .colab-df-convert:hover {\n",
              "      background-color: #434B5C;\n",
              "      box-shadow: 0px 1px 3px 1px rgba(0, 0, 0, 0.15);\n",
              "      filter: drop-shadow(0px 1px 2px rgba(0, 0, 0, 0.3));\n",
              "      fill: #FFFFFF;\n",
              "    }\n",
              "  </style>\n",
              "\n",
              "      <script>\n",
              "        const buttonEl =\n",
              "          document.querySelector('#df-f0cb1929-6b3e-4b15-be9b-879a982b72c4 button.colab-df-convert');\n",
              "        buttonEl.style.display =\n",
              "          google.colab.kernel.accessAllowed ? 'block' : 'none';\n",
              "\n",
              "        async function convertToInteractive(key) {\n",
              "          const element = document.querySelector('#df-f0cb1929-6b3e-4b15-be9b-879a982b72c4');\n",
              "          const dataTable =\n",
              "            await google.colab.kernel.invokeFunction('convertToInteractive',\n",
              "                                                     [key], {});\n",
              "          if (!dataTable) return;\n",
              "\n",
              "          const docLinkHtml = 'Like what you see? Visit the ' +\n",
              "            '<a target=\"_blank\" href=https://colab.research.google.com/notebooks/data_table.ipynb>data table notebook</a>'\n",
              "            + ' to learn more about interactive tables.';\n",
              "          element.innerHTML = '';\n",
              "          dataTable['output_type'] = 'display_data';\n",
              "          await google.colab.output.renderOutput(dataTable, element);\n",
              "          const docLink = document.createElement('div');\n",
              "          docLink.innerHTML = docLinkHtml;\n",
              "          element.appendChild(docLink);\n",
              "        }\n",
              "      </script>\n",
              "    </div>\n",
              "  </div>\n",
              "  "
            ]
          },
          "metadata": {},
          "execution_count": 56
        }
      ]
    },
    {
      "cell_type": "markdown",
      "source": [
        "Podemos diferenciar la lista con el minimo y maximo de muertes."
      ],
      "metadata": {
        "id": "uuXXtAVVv1m7"
      }
    },
    {
      "cell_type": "markdown",
      "source": [
        "***Carga del correspondiente dataset Nº2.***"
      ],
      "metadata": {
        "id": "jt0JRn5bxtV7"
      }
    },
    {
      "cell_type": "markdown",
      "source": [
        "Introduccion:Este dataset corresponde al ultimo censo realizado en la argentina, donde en las columnas vemos el diferencial de rango de edad con su respectivo indicador de genero y en la filas visualizamos el diferencial por comuna/sector. Entiendo que no cumple con la cantidad de filas demandadas pero me interesa la informacion de dicho dataset."
      ],
      "metadata": {
        "id": "ZN8nsF8gx1hz"
      }
    },
    {
      "cell_type": "code",
      "source": [
        "datos = pd.read_csv('/content/drive/MyDrive/Data science- Datasets/Poblacion ArgentinaDb/poblacion_ar_dpto.csv',index_col=0,sep=';')\n",
        "datos.head(5)"
      ],
      "metadata": {
        "colab": {
          "base_uri": "https://localhost:8080/",
          "height": 267
        },
        "id": "uQ9cS_3Cx21r",
        "outputId": "ac205c80-df45-4f91-9db6-980169d837d8"
      },
      "execution_count": null,
      "outputs": [
        {
          "output_type": "execute_result",
          "data": {
            "text/plain": [
              "           name  0-4_m  0-4_f  5-9_m  5-9_f  10-14_m  10-14_f  15-19_m  \\\n",
              "in1                                                                      \n",
              "2001  Comuna 01   5926   5743   5079   5070     4973     4940     5737   \n",
              "2002  Comuna 02   3206   3014   2879   2817     2765     2721     3786   \n",
              "2003  Comuna 03   5078   4811   4723   4504     4570     4416     5023   \n",
              "2004  Comuna 04   8013   7576   7613   7439     7696     7410     7880   \n",
              "2005  Comuna 05   4594   4412   4469   4190     4198     4097     4696   \n",
              "\n",
              "      15-19_f  20-24_m  ...  75-79_m  75-79_f  80-84_m  80-84_f  85-89_m  \\\n",
              "in1                     ...                                                \n",
              "2001     5845     9721  ...     2040     3457     1564     2948      821   \n",
              "2002     4453     7457  ...     2103     3598     1529     3436      951   \n",
              "2003     5188     7945  ...     2060     3874     1613     3458      803   \n",
              "2004     7948     9079  ...     2182     3504     1381     3098      752   \n",
              "2005     4694     6489  ...     2152     3785     1639     3570      833   \n",
              "\n",
              "      85-89_f  90-94_m  90-94_f  >95_m  >95_f  \n",
              "in1                                            \n",
              "2001     1990      285      888     66    301  \n",
              "2002     2399      347     1164     81    440  \n",
              "2003     2073      242      830     62    298  \n",
              "2004     1674      177      658     37    176  \n",
              "2005     2299      237      981     58    292  \n",
              "\n",
              "[5 rows x 41 columns]"
            ],
            "text/html": [
              "\n",
              "  <div id=\"df-0dd8995a-3f18-4b5b-9448-b4a3b0fb49eb\">\n",
              "    <div class=\"colab-df-container\">\n",
              "      <div>\n",
              "<style scoped>\n",
              "    .dataframe tbody tr th:only-of-type {\n",
              "        vertical-align: middle;\n",
              "    }\n",
              "\n",
              "    .dataframe tbody tr th {\n",
              "        vertical-align: top;\n",
              "    }\n",
              "\n",
              "    .dataframe thead th {\n",
              "        text-align: right;\n",
              "    }\n",
              "</style>\n",
              "<table border=\"1\" class=\"dataframe\">\n",
              "  <thead>\n",
              "    <tr style=\"text-align: right;\">\n",
              "      <th></th>\n",
              "      <th>name</th>\n",
              "      <th>0-4_m</th>\n",
              "      <th>0-4_f</th>\n",
              "      <th>5-9_m</th>\n",
              "      <th>5-9_f</th>\n",
              "      <th>10-14_m</th>\n",
              "      <th>10-14_f</th>\n",
              "      <th>15-19_m</th>\n",
              "      <th>15-19_f</th>\n",
              "      <th>20-24_m</th>\n",
              "      <th>...</th>\n",
              "      <th>75-79_m</th>\n",
              "      <th>75-79_f</th>\n",
              "      <th>80-84_m</th>\n",
              "      <th>80-84_f</th>\n",
              "      <th>85-89_m</th>\n",
              "      <th>85-89_f</th>\n",
              "      <th>90-94_m</th>\n",
              "      <th>90-94_f</th>\n",
              "      <th>&gt;95_m</th>\n",
              "      <th>&gt;95_f</th>\n",
              "    </tr>\n",
              "    <tr>\n",
              "      <th>in1</th>\n",
              "      <th></th>\n",
              "      <th></th>\n",
              "      <th></th>\n",
              "      <th></th>\n",
              "      <th></th>\n",
              "      <th></th>\n",
              "      <th></th>\n",
              "      <th></th>\n",
              "      <th></th>\n",
              "      <th></th>\n",
              "      <th></th>\n",
              "      <th></th>\n",
              "      <th></th>\n",
              "      <th></th>\n",
              "      <th></th>\n",
              "      <th></th>\n",
              "      <th></th>\n",
              "      <th></th>\n",
              "      <th></th>\n",
              "      <th></th>\n",
              "      <th></th>\n",
              "    </tr>\n",
              "  </thead>\n",
              "  <tbody>\n",
              "    <tr>\n",
              "      <th>2001</th>\n",
              "      <td>Comuna 01</td>\n",
              "      <td>5926</td>\n",
              "      <td>5743</td>\n",
              "      <td>5079</td>\n",
              "      <td>5070</td>\n",
              "      <td>4973</td>\n",
              "      <td>4940</td>\n",
              "      <td>5737</td>\n",
              "      <td>5845</td>\n",
              "      <td>9721</td>\n",
              "      <td>...</td>\n",
              "      <td>2040</td>\n",
              "      <td>3457</td>\n",
              "      <td>1564</td>\n",
              "      <td>2948</td>\n",
              "      <td>821</td>\n",
              "      <td>1990</td>\n",
              "      <td>285</td>\n",
              "      <td>888</td>\n",
              "      <td>66</td>\n",
              "      <td>301</td>\n",
              "    </tr>\n",
              "    <tr>\n",
              "      <th>2002</th>\n",
              "      <td>Comuna 02</td>\n",
              "      <td>3206</td>\n",
              "      <td>3014</td>\n",
              "      <td>2879</td>\n",
              "      <td>2817</td>\n",
              "      <td>2765</td>\n",
              "      <td>2721</td>\n",
              "      <td>3786</td>\n",
              "      <td>4453</td>\n",
              "      <td>7457</td>\n",
              "      <td>...</td>\n",
              "      <td>2103</td>\n",
              "      <td>3598</td>\n",
              "      <td>1529</td>\n",
              "      <td>3436</td>\n",
              "      <td>951</td>\n",
              "      <td>2399</td>\n",
              "      <td>347</td>\n",
              "      <td>1164</td>\n",
              "      <td>81</td>\n",
              "      <td>440</td>\n",
              "    </tr>\n",
              "    <tr>\n",
              "      <th>2003</th>\n",
              "      <td>Comuna 03</td>\n",
              "      <td>5078</td>\n",
              "      <td>4811</td>\n",
              "      <td>4723</td>\n",
              "      <td>4504</td>\n",
              "      <td>4570</td>\n",
              "      <td>4416</td>\n",
              "      <td>5023</td>\n",
              "      <td>5188</td>\n",
              "      <td>7945</td>\n",
              "      <td>...</td>\n",
              "      <td>2060</td>\n",
              "      <td>3874</td>\n",
              "      <td>1613</td>\n",
              "      <td>3458</td>\n",
              "      <td>803</td>\n",
              "      <td>2073</td>\n",
              "      <td>242</td>\n",
              "      <td>830</td>\n",
              "      <td>62</td>\n",
              "      <td>298</td>\n",
              "    </tr>\n",
              "    <tr>\n",
              "      <th>2004</th>\n",
              "      <td>Comuna 04</td>\n",
              "      <td>8013</td>\n",
              "      <td>7576</td>\n",
              "      <td>7613</td>\n",
              "      <td>7439</td>\n",
              "      <td>7696</td>\n",
              "      <td>7410</td>\n",
              "      <td>7880</td>\n",
              "      <td>7948</td>\n",
              "      <td>9079</td>\n",
              "      <td>...</td>\n",
              "      <td>2182</td>\n",
              "      <td>3504</td>\n",
              "      <td>1381</td>\n",
              "      <td>3098</td>\n",
              "      <td>752</td>\n",
              "      <td>1674</td>\n",
              "      <td>177</td>\n",
              "      <td>658</td>\n",
              "      <td>37</td>\n",
              "      <td>176</td>\n",
              "    </tr>\n",
              "    <tr>\n",
              "      <th>2005</th>\n",
              "      <td>Comuna 05</td>\n",
              "      <td>4594</td>\n",
              "      <td>4412</td>\n",
              "      <td>4469</td>\n",
              "      <td>4190</td>\n",
              "      <td>4198</td>\n",
              "      <td>4097</td>\n",
              "      <td>4696</td>\n",
              "      <td>4694</td>\n",
              "      <td>6489</td>\n",
              "      <td>...</td>\n",
              "      <td>2152</td>\n",
              "      <td>3785</td>\n",
              "      <td>1639</td>\n",
              "      <td>3570</td>\n",
              "      <td>833</td>\n",
              "      <td>2299</td>\n",
              "      <td>237</td>\n",
              "      <td>981</td>\n",
              "      <td>58</td>\n",
              "      <td>292</td>\n",
              "    </tr>\n",
              "  </tbody>\n",
              "</table>\n",
              "<p>5 rows × 41 columns</p>\n",
              "</div>\n",
              "      <button class=\"colab-df-convert\" onclick=\"convertToInteractive('df-0dd8995a-3f18-4b5b-9448-b4a3b0fb49eb')\"\n",
              "              title=\"Convert this dataframe to an interactive table.\"\n",
              "              style=\"display:none;\">\n",
              "        \n",
              "  <svg xmlns=\"http://www.w3.org/2000/svg\" height=\"24px\"viewBox=\"0 0 24 24\"\n",
              "       width=\"24px\">\n",
              "    <path d=\"M0 0h24v24H0V0z\" fill=\"none\"/>\n",
              "    <path d=\"M18.56 5.44l.94 2.06.94-2.06 2.06-.94-2.06-.94-.94-2.06-.94 2.06-2.06.94zm-11 1L8.5 8.5l.94-2.06 2.06-.94-2.06-.94L8.5 2.5l-.94 2.06-2.06.94zm10 10l.94 2.06.94-2.06 2.06-.94-2.06-.94-.94-2.06-.94 2.06-2.06.94z\"/><path d=\"M17.41 7.96l-1.37-1.37c-.4-.4-.92-.59-1.43-.59-.52 0-1.04.2-1.43.59L10.3 9.45l-7.72 7.72c-.78.78-.78 2.05 0 2.83L4 21.41c.39.39.9.59 1.41.59.51 0 1.02-.2 1.41-.59l7.78-7.78 2.81-2.81c.8-.78.8-2.07 0-2.86zM5.41 20L4 18.59l7.72-7.72 1.47 1.35L5.41 20z\"/>\n",
              "  </svg>\n",
              "      </button>\n",
              "      \n",
              "  <style>\n",
              "    .colab-df-container {\n",
              "      display:flex;\n",
              "      flex-wrap:wrap;\n",
              "      gap: 12px;\n",
              "    }\n",
              "\n",
              "    .colab-df-convert {\n",
              "      background-color: #E8F0FE;\n",
              "      border: none;\n",
              "      border-radius: 50%;\n",
              "      cursor: pointer;\n",
              "      display: none;\n",
              "      fill: #1967D2;\n",
              "      height: 32px;\n",
              "      padding: 0 0 0 0;\n",
              "      width: 32px;\n",
              "    }\n",
              "\n",
              "    .colab-df-convert:hover {\n",
              "      background-color: #E2EBFA;\n",
              "      box-shadow: 0px 1px 2px rgba(60, 64, 67, 0.3), 0px 1px 3px 1px rgba(60, 64, 67, 0.15);\n",
              "      fill: #174EA6;\n",
              "    }\n",
              "\n",
              "    [theme=dark] .colab-df-convert {\n",
              "      background-color: #3B4455;\n",
              "      fill: #D2E3FC;\n",
              "    }\n",
              "\n",
              "    [theme=dark] .colab-df-convert:hover {\n",
              "      background-color: #434B5C;\n",
              "      box-shadow: 0px 1px 3px 1px rgba(0, 0, 0, 0.15);\n",
              "      filter: drop-shadow(0px 1px 2px rgba(0, 0, 0, 0.3));\n",
              "      fill: #FFFFFF;\n",
              "    }\n",
              "  </style>\n",
              "\n",
              "      <script>\n",
              "        const buttonEl =\n",
              "          document.querySelector('#df-0dd8995a-3f18-4b5b-9448-b4a3b0fb49eb button.colab-df-convert');\n",
              "        buttonEl.style.display =\n",
              "          google.colab.kernel.accessAllowed ? 'block' : 'none';\n",
              "\n",
              "        async function convertToInteractive(key) {\n",
              "          const element = document.querySelector('#df-0dd8995a-3f18-4b5b-9448-b4a3b0fb49eb');\n",
              "          const dataTable =\n",
              "            await google.colab.kernel.invokeFunction('convertToInteractive',\n",
              "                                                     [key], {});\n",
              "          if (!dataTable) return;\n",
              "\n",
              "          const docLinkHtml = 'Like what you see? Visit the ' +\n",
              "            '<a target=\"_blank\" href=https://colab.research.google.com/notebooks/data_table.ipynb>data table notebook</a>'\n",
              "            + ' to learn more about interactive tables.';\n",
              "          element.innerHTML = '';\n",
              "          dataTable['output_type'] = 'display_data';\n",
              "          await google.colab.output.renderOutput(dataTable, element);\n",
              "          const docLink = document.createElement('div');\n",
              "          docLink.innerHTML = docLinkHtml;\n",
              "          element.appendChild(docLink);\n",
              "        }\n",
              "      </script>\n",
              "    </div>\n",
              "  </div>\n",
              "  "
            ]
          },
          "metadata": {},
          "execution_count": 57
        }
      ]
    },
    {
      "cell_type": "code",
      "source": [
        "datos.shape"
      ],
      "metadata": {
        "colab": {
          "base_uri": "https://localhost:8080/"
        },
        "id": "n_pcYBWw0RCj",
        "outputId": "63d85e7c-18dc-438f-ea4a-1d3279870188"
      },
      "execution_count": null,
      "outputs": [
        {
          "output_type": "execute_result",
          "data": {
            "text/plain": [
              "(527, 41)"
            ]
          },
          "metadata": {},
          "execution_count": 58
        }
      ]
    },
    {
      "cell_type": "markdown",
      "source": [
        "Podemos visualizar 527 filas y 41 columnas."
      ],
      "metadata": {
        "id": "7x7FH99w0Vn5"
      }
    },
    {
      "cell_type": "code",
      "source": [
        "datos.info()"
      ],
      "metadata": {
        "colab": {
          "base_uri": "https://localhost:8080/"
        },
        "id": "C5_jhIPF0cVL",
        "outputId": "716a4b73-dda2-415c-e5ea-78496932a7c2"
      },
      "execution_count": null,
      "outputs": [
        {
          "output_type": "stream",
          "name": "stdout",
          "text": [
            "<class 'pandas.core.frame.DataFrame'>\n",
            "Int64Index: 527 entries, 2001 to 94028\n",
            "Data columns (total 41 columns):\n",
            " #   Column   Non-Null Count  Dtype \n",
            "---  ------   --------------  ----- \n",
            " 0   name     527 non-null    object\n",
            " 1   0-4_m    527 non-null    int64 \n",
            " 2   0-4_f    527 non-null    int64 \n",
            " 3   5-9_m    527 non-null    int64 \n",
            " 4   5-9_f    527 non-null    int64 \n",
            " 5   10-14_m  527 non-null    int64 \n",
            " 6   10-14_f  527 non-null    int64 \n",
            " 7   15-19_m  527 non-null    int64 \n",
            " 8   15-19_f  527 non-null    int64 \n",
            " 9   20-24_m  527 non-null    int64 \n",
            " 10  20-24_f  527 non-null    int64 \n",
            " 11  25-29_m  527 non-null    int64 \n",
            " 12  25-29_f  527 non-null    int64 \n",
            " 13  30-34_m  527 non-null    int64 \n",
            " 14  30-34_f  527 non-null    int64 \n",
            " 15  35-39_m  527 non-null    int64 \n",
            " 16  35-39_f  527 non-null    int64 \n",
            " 17  40-44_m  527 non-null    int64 \n",
            " 18  40-44_f  527 non-null    int64 \n",
            " 19  45-49_m  527 non-null    int64 \n",
            " 20  45-49_f  527 non-null    int64 \n",
            " 21  50-54_m  527 non-null    int64 \n",
            " 22  50-54_f  527 non-null    int64 \n",
            " 23  55-59_m  527 non-null    int64 \n",
            " 24  55-59_f  527 non-null    int64 \n",
            " 25  60-64_m  527 non-null    int64 \n",
            " 26  60-64_f  527 non-null    int64 \n",
            " 27  65-69_m  527 non-null    int64 \n",
            " 28  65-69_f  527 non-null    int64 \n",
            " 29  70-74_m  527 non-null    int64 \n",
            " 30  70-74_f  527 non-null    int64 \n",
            " 31  75-79_m  527 non-null    int64 \n",
            " 32  75-79_f  527 non-null    int64 \n",
            " 33  80-84_m  527 non-null    int64 \n",
            " 34  80-84_f  527 non-null    int64 \n",
            " 35  85-89_m  527 non-null    int64 \n",
            " 36  85-89_f  527 non-null    int64 \n",
            " 37  90-94_m  527 non-null    int64 \n",
            " 38  90-94_f  527 non-null    int64 \n",
            " 39  >95_m    527 non-null    int64 \n",
            " 40  >95_f    527 non-null    int64 \n",
            "dtypes: int64(40), object(1)\n",
            "memory usage: 172.9+ KB\n"
          ]
        }
      ]
    },
    {
      "cell_type": "markdown",
      "source": [
        "Podemos visualizar una tabla que indica el indice de numeros de columnas a la izquierda, nombre de todas la columnas en la seguna columna vertical, el numero de datos non-null y ademas el tipo de dato en la ultima columna de la derecha. Ademas en la parte final la memoria utilizada."
      ],
      "metadata": {
        "id": "J1VGJ4wb0m0K"
      }
    },
    {
      "cell_type": "code",
      "source": [
        "datos.describe()"
      ],
      "metadata": {
        "colab": {
          "base_uri": "https://localhost:8080/",
          "height": 394
        },
        "id": "7PSvDz360o-5",
        "outputId": "2e3b4a61-a903-45ce-b455-59d764667e87"
      },
      "execution_count": null,
      "outputs": [
        {
          "output_type": "execute_result",
          "data": {
            "text/plain": [
              "              0-4_m         0-4_f         5-9_m         5-9_f       10-14_m  \\\n",
              "count    527.000000    527.000000    527.000000    527.000000    527.000000   \n",
              "mean    3221.958254   3111.347249   3259.491461   3156.483871   3376.417457   \n",
              "std     6274.017369   6069.628933   6118.009449   5925.933746   6273.431059   \n",
              "min        0.000000      0.000000      0.000000      0.000000      0.000000   \n",
              "25%      484.500000    464.000000    512.500000    493.500000    547.500000   \n",
              "50%     1260.000000   1210.000000   1326.000000   1269.000000   1391.000000   \n",
              "75%     3222.000000   3113.500000   3444.000000   3283.500000   3610.500000   \n",
              "max    81900.000000  79331.000000  78587.000000  76355.000000  79938.000000   \n",
              "\n",
              "            10-14_f       15-19_m       15-19_f       20-24_m       20-24_f  \\\n",
              "count    527.000000    527.000000    527.000000    527.000000    527.000000   \n",
              "mean    3271.487666   3387.212524   3333.977230   3128.000000   3134.142315   \n",
              "std     6120.539060   6511.039973   6473.927454   6462.707384   6613.791680   \n",
              "min        0.000000      0.000000      0.000000      0.000000      0.000000   \n",
              "25%      528.000000    529.000000    514.500000    399.500000    386.500000   \n",
              "50%     1345.000000   1329.000000   1232.000000   1016.000000   1006.000000   \n",
              "75%     3461.500000   3559.000000   3419.000000   2862.000000   2894.500000   \n",
              "max    78925.000000  81812.000000  80971.000000  76270.000000  78600.000000   \n",
              "\n",
              "       ...       75-79_m       75-79_f      80-84_m       80-84_f  \\\n",
              "count  ...    527.000000    527.000000   527.000000    527.000000   \n",
              "mean   ...    610.020873    911.155598   380.918406    692.927894   \n",
              "std    ...   1183.875693   1898.057397   749.731870   1477.619923   \n",
              "min    ...      0.000000      0.000000     0.000000      0.000000   \n",
              "25%    ...     80.000000     96.000000    50.500000     68.000000   \n",
              "50%    ...    198.000000    257.000000   123.000000    185.000000   \n",
              "75%    ...    546.000000    728.000000   328.500000    544.500000   \n",
              "max    ...  11453.000000  18189.000000  7159.000000  14809.000000   \n",
              "\n",
              "           85-89_m      85-89_f     90-94_m      90-94_f       >95_m  \\\n",
              "count   527.000000   527.000000  527.000000   527.000000  527.000000   \n",
              "mean    176.182163   389.922201   50.425047   144.658444   10.413662   \n",
              "std     352.451136   845.439396   96.809118   306.485005   19.956694   \n",
              "min       0.000000     0.000000    0.000000     0.000000    0.000000   \n",
              "25%      23.000000    35.000000    7.000000    14.000000    1.000000   \n",
              "50%      52.000000    98.000000   17.000000    38.000000    3.000000   \n",
              "75%     154.000000   304.000000   46.000000   112.500000    9.000000   \n",
              "max    3337.000000  8690.000000  902.000000  3046.000000  192.000000   \n",
              "\n",
              "            >95_f  \n",
              "count  527.000000  \n",
              "mean    40.757116  \n",
              "std     88.650475  \n",
              "min      0.000000  \n",
              "25%      4.000000  \n",
              "50%     11.000000  \n",
              "75%     30.000000  \n",
              "max    864.000000  \n",
              "\n",
              "[8 rows x 40 columns]"
            ],
            "text/html": [
              "\n",
              "  <div id=\"df-452e82f0-b82f-441d-909e-625d080464a6\">\n",
              "    <div class=\"colab-df-container\">\n",
              "      <div>\n",
              "<style scoped>\n",
              "    .dataframe tbody tr th:only-of-type {\n",
              "        vertical-align: middle;\n",
              "    }\n",
              "\n",
              "    .dataframe tbody tr th {\n",
              "        vertical-align: top;\n",
              "    }\n",
              "\n",
              "    .dataframe thead th {\n",
              "        text-align: right;\n",
              "    }\n",
              "</style>\n",
              "<table border=\"1\" class=\"dataframe\">\n",
              "  <thead>\n",
              "    <tr style=\"text-align: right;\">\n",
              "      <th></th>\n",
              "      <th>0-4_m</th>\n",
              "      <th>0-4_f</th>\n",
              "      <th>5-9_m</th>\n",
              "      <th>5-9_f</th>\n",
              "      <th>10-14_m</th>\n",
              "      <th>10-14_f</th>\n",
              "      <th>15-19_m</th>\n",
              "      <th>15-19_f</th>\n",
              "      <th>20-24_m</th>\n",
              "      <th>20-24_f</th>\n",
              "      <th>...</th>\n",
              "      <th>75-79_m</th>\n",
              "      <th>75-79_f</th>\n",
              "      <th>80-84_m</th>\n",
              "      <th>80-84_f</th>\n",
              "      <th>85-89_m</th>\n",
              "      <th>85-89_f</th>\n",
              "      <th>90-94_m</th>\n",
              "      <th>90-94_f</th>\n",
              "      <th>&gt;95_m</th>\n",
              "      <th>&gt;95_f</th>\n",
              "    </tr>\n",
              "  </thead>\n",
              "  <tbody>\n",
              "    <tr>\n",
              "      <th>count</th>\n",
              "      <td>527.000000</td>\n",
              "      <td>527.000000</td>\n",
              "      <td>527.000000</td>\n",
              "      <td>527.000000</td>\n",
              "      <td>527.000000</td>\n",
              "      <td>527.000000</td>\n",
              "      <td>527.000000</td>\n",
              "      <td>527.000000</td>\n",
              "      <td>527.000000</td>\n",
              "      <td>527.000000</td>\n",
              "      <td>...</td>\n",
              "      <td>527.000000</td>\n",
              "      <td>527.000000</td>\n",
              "      <td>527.000000</td>\n",
              "      <td>527.000000</td>\n",
              "      <td>527.000000</td>\n",
              "      <td>527.000000</td>\n",
              "      <td>527.000000</td>\n",
              "      <td>527.000000</td>\n",
              "      <td>527.000000</td>\n",
              "      <td>527.000000</td>\n",
              "    </tr>\n",
              "    <tr>\n",
              "      <th>mean</th>\n",
              "      <td>3221.958254</td>\n",
              "      <td>3111.347249</td>\n",
              "      <td>3259.491461</td>\n",
              "      <td>3156.483871</td>\n",
              "      <td>3376.417457</td>\n",
              "      <td>3271.487666</td>\n",
              "      <td>3387.212524</td>\n",
              "      <td>3333.977230</td>\n",
              "      <td>3128.000000</td>\n",
              "      <td>3134.142315</td>\n",
              "      <td>...</td>\n",
              "      <td>610.020873</td>\n",
              "      <td>911.155598</td>\n",
              "      <td>380.918406</td>\n",
              "      <td>692.927894</td>\n",
              "      <td>176.182163</td>\n",
              "      <td>389.922201</td>\n",
              "      <td>50.425047</td>\n",
              "      <td>144.658444</td>\n",
              "      <td>10.413662</td>\n",
              "      <td>40.757116</td>\n",
              "    </tr>\n",
              "    <tr>\n",
              "      <th>std</th>\n",
              "      <td>6274.017369</td>\n",
              "      <td>6069.628933</td>\n",
              "      <td>6118.009449</td>\n",
              "      <td>5925.933746</td>\n",
              "      <td>6273.431059</td>\n",
              "      <td>6120.539060</td>\n",
              "      <td>6511.039973</td>\n",
              "      <td>6473.927454</td>\n",
              "      <td>6462.707384</td>\n",
              "      <td>6613.791680</td>\n",
              "      <td>...</td>\n",
              "      <td>1183.875693</td>\n",
              "      <td>1898.057397</td>\n",
              "      <td>749.731870</td>\n",
              "      <td>1477.619923</td>\n",
              "      <td>352.451136</td>\n",
              "      <td>845.439396</td>\n",
              "      <td>96.809118</td>\n",
              "      <td>306.485005</td>\n",
              "      <td>19.956694</td>\n",
              "      <td>88.650475</td>\n",
              "    </tr>\n",
              "    <tr>\n",
              "      <th>min</th>\n",
              "      <td>0.000000</td>\n",
              "      <td>0.000000</td>\n",
              "      <td>0.000000</td>\n",
              "      <td>0.000000</td>\n",
              "      <td>0.000000</td>\n",
              "      <td>0.000000</td>\n",
              "      <td>0.000000</td>\n",
              "      <td>0.000000</td>\n",
              "      <td>0.000000</td>\n",
              "      <td>0.000000</td>\n",
              "      <td>...</td>\n",
              "      <td>0.000000</td>\n",
              "      <td>0.000000</td>\n",
              "      <td>0.000000</td>\n",
              "      <td>0.000000</td>\n",
              "      <td>0.000000</td>\n",
              "      <td>0.000000</td>\n",
              "      <td>0.000000</td>\n",
              "      <td>0.000000</td>\n",
              "      <td>0.000000</td>\n",
              "      <td>0.000000</td>\n",
              "    </tr>\n",
              "    <tr>\n",
              "      <th>25%</th>\n",
              "      <td>484.500000</td>\n",
              "      <td>464.000000</td>\n",
              "      <td>512.500000</td>\n",
              "      <td>493.500000</td>\n",
              "      <td>547.500000</td>\n",
              "      <td>528.000000</td>\n",
              "      <td>529.000000</td>\n",
              "      <td>514.500000</td>\n",
              "      <td>399.500000</td>\n",
              "      <td>386.500000</td>\n",
              "      <td>...</td>\n",
              "      <td>80.000000</td>\n",
              "      <td>96.000000</td>\n",
              "      <td>50.500000</td>\n",
              "      <td>68.000000</td>\n",
              "      <td>23.000000</td>\n",
              "      <td>35.000000</td>\n",
              "      <td>7.000000</td>\n",
              "      <td>14.000000</td>\n",
              "      <td>1.000000</td>\n",
              "      <td>4.000000</td>\n",
              "    </tr>\n",
              "    <tr>\n",
              "      <th>50%</th>\n",
              "      <td>1260.000000</td>\n",
              "      <td>1210.000000</td>\n",
              "      <td>1326.000000</td>\n",
              "      <td>1269.000000</td>\n",
              "      <td>1391.000000</td>\n",
              "      <td>1345.000000</td>\n",
              "      <td>1329.000000</td>\n",
              "      <td>1232.000000</td>\n",
              "      <td>1016.000000</td>\n",
              "      <td>1006.000000</td>\n",
              "      <td>...</td>\n",
              "      <td>198.000000</td>\n",
              "      <td>257.000000</td>\n",
              "      <td>123.000000</td>\n",
              "      <td>185.000000</td>\n",
              "      <td>52.000000</td>\n",
              "      <td>98.000000</td>\n",
              "      <td>17.000000</td>\n",
              "      <td>38.000000</td>\n",
              "      <td>3.000000</td>\n",
              "      <td>11.000000</td>\n",
              "    </tr>\n",
              "    <tr>\n",
              "      <th>75%</th>\n",
              "      <td>3222.000000</td>\n",
              "      <td>3113.500000</td>\n",
              "      <td>3444.000000</td>\n",
              "      <td>3283.500000</td>\n",
              "      <td>3610.500000</td>\n",
              "      <td>3461.500000</td>\n",
              "      <td>3559.000000</td>\n",
              "      <td>3419.000000</td>\n",
              "      <td>2862.000000</td>\n",
              "      <td>2894.500000</td>\n",
              "      <td>...</td>\n",
              "      <td>546.000000</td>\n",
              "      <td>728.000000</td>\n",
              "      <td>328.500000</td>\n",
              "      <td>544.500000</td>\n",
              "      <td>154.000000</td>\n",
              "      <td>304.000000</td>\n",
              "      <td>46.000000</td>\n",
              "      <td>112.500000</td>\n",
              "      <td>9.000000</td>\n",
              "      <td>30.000000</td>\n",
              "    </tr>\n",
              "    <tr>\n",
              "      <th>max</th>\n",
              "      <td>81900.000000</td>\n",
              "      <td>79331.000000</td>\n",
              "      <td>78587.000000</td>\n",
              "      <td>76355.000000</td>\n",
              "      <td>79938.000000</td>\n",
              "      <td>78925.000000</td>\n",
              "      <td>81812.000000</td>\n",
              "      <td>80971.000000</td>\n",
              "      <td>76270.000000</td>\n",
              "      <td>78600.000000</td>\n",
              "      <td>...</td>\n",
              "      <td>11453.000000</td>\n",
              "      <td>18189.000000</td>\n",
              "      <td>7159.000000</td>\n",
              "      <td>14809.000000</td>\n",
              "      <td>3337.000000</td>\n",
              "      <td>8690.000000</td>\n",
              "      <td>902.000000</td>\n",
              "      <td>3046.000000</td>\n",
              "      <td>192.000000</td>\n",
              "      <td>864.000000</td>\n",
              "    </tr>\n",
              "  </tbody>\n",
              "</table>\n",
              "<p>8 rows × 40 columns</p>\n",
              "</div>\n",
              "      <button class=\"colab-df-convert\" onclick=\"convertToInteractive('df-452e82f0-b82f-441d-909e-625d080464a6')\"\n",
              "              title=\"Convert this dataframe to an interactive table.\"\n",
              "              style=\"display:none;\">\n",
              "        \n",
              "  <svg xmlns=\"http://www.w3.org/2000/svg\" height=\"24px\"viewBox=\"0 0 24 24\"\n",
              "       width=\"24px\">\n",
              "    <path d=\"M0 0h24v24H0V0z\" fill=\"none\"/>\n",
              "    <path d=\"M18.56 5.44l.94 2.06.94-2.06 2.06-.94-2.06-.94-.94-2.06-.94 2.06-2.06.94zm-11 1L8.5 8.5l.94-2.06 2.06-.94-2.06-.94L8.5 2.5l-.94 2.06-2.06.94zm10 10l.94 2.06.94-2.06 2.06-.94-2.06-.94-.94-2.06-.94 2.06-2.06.94z\"/><path d=\"M17.41 7.96l-1.37-1.37c-.4-.4-.92-.59-1.43-.59-.52 0-1.04.2-1.43.59L10.3 9.45l-7.72 7.72c-.78.78-.78 2.05 0 2.83L4 21.41c.39.39.9.59 1.41.59.51 0 1.02-.2 1.41-.59l7.78-7.78 2.81-2.81c.8-.78.8-2.07 0-2.86zM5.41 20L4 18.59l7.72-7.72 1.47 1.35L5.41 20z\"/>\n",
              "  </svg>\n",
              "      </button>\n",
              "      \n",
              "  <style>\n",
              "    .colab-df-container {\n",
              "      display:flex;\n",
              "      flex-wrap:wrap;\n",
              "      gap: 12px;\n",
              "    }\n",
              "\n",
              "    .colab-df-convert {\n",
              "      background-color: #E8F0FE;\n",
              "      border: none;\n",
              "      border-radius: 50%;\n",
              "      cursor: pointer;\n",
              "      display: none;\n",
              "      fill: #1967D2;\n",
              "      height: 32px;\n",
              "      padding: 0 0 0 0;\n",
              "      width: 32px;\n",
              "    }\n",
              "\n",
              "    .colab-df-convert:hover {\n",
              "      background-color: #E2EBFA;\n",
              "      box-shadow: 0px 1px 2px rgba(60, 64, 67, 0.3), 0px 1px 3px 1px rgba(60, 64, 67, 0.15);\n",
              "      fill: #174EA6;\n",
              "    }\n",
              "\n",
              "    [theme=dark] .colab-df-convert {\n",
              "      background-color: #3B4455;\n",
              "      fill: #D2E3FC;\n",
              "    }\n",
              "\n",
              "    [theme=dark] .colab-df-convert:hover {\n",
              "      background-color: #434B5C;\n",
              "      box-shadow: 0px 1px 3px 1px rgba(0, 0, 0, 0.15);\n",
              "      filter: drop-shadow(0px 1px 2px rgba(0, 0, 0, 0.3));\n",
              "      fill: #FFFFFF;\n",
              "    }\n",
              "  </style>\n",
              "\n",
              "      <script>\n",
              "        const buttonEl =\n",
              "          document.querySelector('#df-452e82f0-b82f-441d-909e-625d080464a6 button.colab-df-convert');\n",
              "        buttonEl.style.display =\n",
              "          google.colab.kernel.accessAllowed ? 'block' : 'none';\n",
              "\n",
              "        async function convertToInteractive(key) {\n",
              "          const element = document.querySelector('#df-452e82f0-b82f-441d-909e-625d080464a6');\n",
              "          const dataTable =\n",
              "            await google.colab.kernel.invokeFunction('convertToInteractive',\n",
              "                                                     [key], {});\n",
              "          if (!dataTable) return;\n",
              "\n",
              "          const docLinkHtml = 'Like what you see? Visit the ' +\n",
              "            '<a target=\"_blank\" href=https://colab.research.google.com/notebooks/data_table.ipynb>data table notebook</a>'\n",
              "            + ' to learn more about interactive tables.';\n",
              "          element.innerHTML = '';\n",
              "          dataTable['output_type'] = 'display_data';\n",
              "          await google.colab.output.renderOutput(dataTable, element);\n",
              "          const docLink = document.createElement('div');\n",
              "          docLink.innerHTML = docLinkHtml;\n",
              "          element.appendChild(docLink);\n",
              "        }\n",
              "      </script>\n",
              "    </div>\n",
              "  </div>\n",
              "  "
            ]
          },
          "metadata": {},
          "execution_count": 60
        }
      ]
    },
    {
      "cell_type": "markdown",
      "source": [
        "Podemos ver lista de de columnas correscpondientes. Donde vemos cantidad de valores no nulos, la media, la desviacion, el valor minimo, lo que hay debajo del 25%, 50%, 75% y ademas el numero maximo."
      ],
      "metadata": {
        "id": "Bxk96bcL0tIR"
      }
    },
    {
      "cell_type": "code",
      "source": [
        "datos.index"
      ],
      "metadata": {
        "colab": {
          "base_uri": "https://localhost:8080/"
        },
        "id": "3XFOzATy0t4J",
        "outputId": "b597ec3b-2903-41f4-cbfc-fa64cf69057c"
      },
      "execution_count": null,
      "outputs": [
        {
          "output_type": "execute_result",
          "data": {
            "text/plain": [
              "Int64Index([ 2001,  2002,  2003,  2004,  2005,  2006,  2007,  2008,  2009,\n",
              "             2010,\n",
              "            ...\n",
              "            90084, 90091, 90098, 90105, 90112, 90119, 94007, 94014, 94021,\n",
              "            94028],\n",
              "           dtype='int64', name='in1', length=527)"
            ]
          },
          "metadata": {},
          "execution_count": 61
        }
      ]
    },
    {
      "cell_type": "code",
      "source": [
        "datos.columns"
      ],
      "metadata": {
        "colab": {
          "base_uri": "https://localhost:8080/"
        },
        "id": "dnFpbTpu0zX6",
        "outputId": "f28e8f76-a333-4448-e5c6-f6faaea32522"
      },
      "execution_count": null,
      "outputs": [
        {
          "output_type": "execute_result",
          "data": {
            "text/plain": [
              "Index(['name', '0-4_m', '0-4_f', '5-9_m', '5-9_f', '10-14_m', '10-14_f',\n",
              "       '15-19_m', '15-19_f', '20-24_m', '20-24_f', '25-29_m', '25-29_f',\n",
              "       '30-34_m', '30-34_f', '35-39_m', '35-39_f', '40-44_m', '40-44_f',\n",
              "       '45-49_m', '45-49_f', '50-54_m', '50-54_f', '55-59_m', '55-59_f',\n",
              "       '60-64_m', '60-64_f', '65-69_m', '65-69_f', '70-74_m', '70-74_f',\n",
              "       '75-79_m', '75-79_f', '80-84_m', '80-84_f', '85-89_m', '85-89_f',\n",
              "       '90-94_m', '90-94_f', '>95_m', '>95_f'],\n",
              "      dtype='object')"
            ]
          },
          "metadata": {},
          "execution_count": 62
        }
      ]
    },
    {
      "cell_type": "markdown",
      "source": [
        "Se confirma con dichos datos lo estipulado anteriormente para mostrar las 527 filas y 47 columnas."
      ],
      "metadata": {
        "id": "hVadtNGm040A"
      }
    },
    {
      "cell_type": "code",
      "source": [
        "columnas1 = datos.columns\n",
        "columnas1\n"
      ],
      "metadata": {
        "colab": {
          "base_uri": "https://localhost:8080/"
        },
        "id": "3eMjn1t51A75",
        "outputId": "5241751f-4a4e-402c-8719-c68d785b9f82"
      },
      "execution_count": null,
      "outputs": [
        {
          "output_type": "execute_result",
          "data": {
            "text/plain": [
              "Index(['name', '0-4_m', '0-4_f', '5-9_m', '5-9_f', '10-14_m', '10-14_f',\n",
              "       '15-19_m', '15-19_f', '20-24_m', '20-24_f', '25-29_m', '25-29_f',\n",
              "       '30-34_m', '30-34_f', '35-39_m', '35-39_f', '40-44_m', '40-44_f',\n",
              "       '45-49_m', '45-49_f', '50-54_m', '50-54_f', '55-59_m', '55-59_f',\n",
              "       '60-64_m', '60-64_f', '65-69_m', '65-69_f', '70-74_m', '70-74_f',\n",
              "       '75-79_m', '75-79_f', '80-84_m', '80-84_f', '85-89_m', '85-89_f',\n",
              "       '90-94_m', '90-94_f', '>95_m', '>95_f'],\n",
              "      dtype='object')"
            ]
          },
          "metadata": {},
          "execution_count": 63
        }
      ]
    },
    {
      "cell_type": "markdown",
      "source": [
        "Guardo la info de columnas."
      ],
      "metadata": {
        "id": "V4cULHFV1Fbz"
      }
    },
    {
      "cell_type": "code",
      "source": [
        "type(columnas1)"
      ],
      "metadata": {
        "colab": {
          "base_uri": "https://localhost:8080/"
        },
        "id": "ngfSWdiS1F95",
        "outputId": "0ae77a33-06a9-4092-acf7-469dd975541b"
      },
      "execution_count": null,
      "outputs": [
        {
          "output_type": "execute_result",
          "data": {
            "text/plain": [
              "pandas.core.indexes.base.Index"
            ]
          },
          "metadata": {},
          "execution_count": 64
        }
      ]
    },
    {
      "cell_type": "markdown",
      "source": [
        "Podemos visualizar el tipo de dato de las respectivas columnas."
      ],
      "metadata": {
        "id": "GaSBvzug1I16"
      }
    },
    {
      "cell_type": "code",
      "source": [
        "datos.tail(5)"
      ],
      "metadata": {
        "colab": {
          "base_uri": "https://localhost:8080/",
          "height": 346
        },
        "id": "bJ7kYd1S1JNy",
        "outputId": "1d74d5d1-32e2-4a43-f0d6-6d9a3c2eb635"
      },
      "execution_count": null,
      "outputs": [
        {
          "output_type": "execute_result",
          "data": {
            "text/plain": [
              "                          name  0-4_m  0-4_f  5-9_m  5-9_f  10-14_m  10-14_f  \\\n",
              "in1                                                                            \n",
              "90119              Yerba Buena   3182   3123   3666   3647     3972     3684   \n",
              "94007               R�o Grande   3379   3064   3396   3216     3379     3198   \n",
              "94014                  Ushuaia   2545   2490   2591   2389     2650     2533   \n",
              "94021  Islas del Atl�ntico sur      0      0      0      0        0        0   \n",
              "94028      Ant�rtida Argentina      2      0      4      3        1        4   \n",
              "\n",
              "       15-19_m  15-19_f  20-24_m  ...  75-79_m  75-79_f  80-84_m  80-84_f  \\\n",
              "in1                               ...                                       \n",
              "90119     3812     3780     3263  ...      327      474      191      324   \n",
              "94007     3373     3113     3249  ...      203      269       83      174   \n",
              "94014     2582     2535     2326  ...      140      184       77      138   \n",
              "94021        0        0        0  ...        0        0        0        0   \n",
              "94028        2        0        3  ...        0        0        0        0   \n",
              "\n",
              "       85-89_m  85-89_f  90-94_m  90-94_f  >95_m  >95_f  \n",
              "in1                                                      \n",
              "90119       82      175       22       53      4     22  \n",
              "94007       46       77        7       25      3      5  \n",
              "94014       30       71        5       22      2      4  \n",
              "94021        0        0        0        0      0      0  \n",
              "94028        0        0        0        0      0      0  \n",
              "\n",
              "[5 rows x 41 columns]"
            ],
            "text/html": [
              "\n",
              "  <div id=\"df-34fb21cd-76f8-41ed-8e7e-401cfd900731\">\n",
              "    <div class=\"colab-df-container\">\n",
              "      <div>\n",
              "<style scoped>\n",
              "    .dataframe tbody tr th:only-of-type {\n",
              "        vertical-align: middle;\n",
              "    }\n",
              "\n",
              "    .dataframe tbody tr th {\n",
              "        vertical-align: top;\n",
              "    }\n",
              "\n",
              "    .dataframe thead th {\n",
              "        text-align: right;\n",
              "    }\n",
              "</style>\n",
              "<table border=\"1\" class=\"dataframe\">\n",
              "  <thead>\n",
              "    <tr style=\"text-align: right;\">\n",
              "      <th></th>\n",
              "      <th>name</th>\n",
              "      <th>0-4_m</th>\n",
              "      <th>0-4_f</th>\n",
              "      <th>5-9_m</th>\n",
              "      <th>5-9_f</th>\n",
              "      <th>10-14_m</th>\n",
              "      <th>10-14_f</th>\n",
              "      <th>15-19_m</th>\n",
              "      <th>15-19_f</th>\n",
              "      <th>20-24_m</th>\n",
              "      <th>...</th>\n",
              "      <th>75-79_m</th>\n",
              "      <th>75-79_f</th>\n",
              "      <th>80-84_m</th>\n",
              "      <th>80-84_f</th>\n",
              "      <th>85-89_m</th>\n",
              "      <th>85-89_f</th>\n",
              "      <th>90-94_m</th>\n",
              "      <th>90-94_f</th>\n",
              "      <th>&gt;95_m</th>\n",
              "      <th>&gt;95_f</th>\n",
              "    </tr>\n",
              "    <tr>\n",
              "      <th>in1</th>\n",
              "      <th></th>\n",
              "      <th></th>\n",
              "      <th></th>\n",
              "      <th></th>\n",
              "      <th></th>\n",
              "      <th></th>\n",
              "      <th></th>\n",
              "      <th></th>\n",
              "      <th></th>\n",
              "      <th></th>\n",
              "      <th></th>\n",
              "      <th></th>\n",
              "      <th></th>\n",
              "      <th></th>\n",
              "      <th></th>\n",
              "      <th></th>\n",
              "      <th></th>\n",
              "      <th></th>\n",
              "      <th></th>\n",
              "      <th></th>\n",
              "      <th></th>\n",
              "    </tr>\n",
              "  </thead>\n",
              "  <tbody>\n",
              "    <tr>\n",
              "      <th>90119</th>\n",
              "      <td>Yerba Buena</td>\n",
              "      <td>3182</td>\n",
              "      <td>3123</td>\n",
              "      <td>3666</td>\n",
              "      <td>3647</td>\n",
              "      <td>3972</td>\n",
              "      <td>3684</td>\n",
              "      <td>3812</td>\n",
              "      <td>3780</td>\n",
              "      <td>3263</td>\n",
              "      <td>...</td>\n",
              "      <td>327</td>\n",
              "      <td>474</td>\n",
              "      <td>191</td>\n",
              "      <td>324</td>\n",
              "      <td>82</td>\n",
              "      <td>175</td>\n",
              "      <td>22</td>\n",
              "      <td>53</td>\n",
              "      <td>4</td>\n",
              "      <td>22</td>\n",
              "    </tr>\n",
              "    <tr>\n",
              "      <th>94007</th>\n",
              "      <td>R�o Grande</td>\n",
              "      <td>3379</td>\n",
              "      <td>3064</td>\n",
              "      <td>3396</td>\n",
              "      <td>3216</td>\n",
              "      <td>3379</td>\n",
              "      <td>3198</td>\n",
              "      <td>3373</td>\n",
              "      <td>3113</td>\n",
              "      <td>3249</td>\n",
              "      <td>...</td>\n",
              "      <td>203</td>\n",
              "      <td>269</td>\n",
              "      <td>83</td>\n",
              "      <td>174</td>\n",
              "      <td>46</td>\n",
              "      <td>77</td>\n",
              "      <td>7</td>\n",
              "      <td>25</td>\n",
              "      <td>3</td>\n",
              "      <td>5</td>\n",
              "    </tr>\n",
              "    <tr>\n",
              "      <th>94014</th>\n",
              "      <td>Ushuaia</td>\n",
              "      <td>2545</td>\n",
              "      <td>2490</td>\n",
              "      <td>2591</td>\n",
              "      <td>2389</td>\n",
              "      <td>2650</td>\n",
              "      <td>2533</td>\n",
              "      <td>2582</td>\n",
              "      <td>2535</td>\n",
              "      <td>2326</td>\n",
              "      <td>...</td>\n",
              "      <td>140</td>\n",
              "      <td>184</td>\n",
              "      <td>77</td>\n",
              "      <td>138</td>\n",
              "      <td>30</td>\n",
              "      <td>71</td>\n",
              "      <td>5</td>\n",
              "      <td>22</td>\n",
              "      <td>2</td>\n",
              "      <td>4</td>\n",
              "    </tr>\n",
              "    <tr>\n",
              "      <th>94021</th>\n",
              "      <td>Islas del Atl�ntico sur</td>\n",
              "      <td>0</td>\n",
              "      <td>0</td>\n",
              "      <td>0</td>\n",
              "      <td>0</td>\n",
              "      <td>0</td>\n",
              "      <td>0</td>\n",
              "      <td>0</td>\n",
              "      <td>0</td>\n",
              "      <td>0</td>\n",
              "      <td>...</td>\n",
              "      <td>0</td>\n",
              "      <td>0</td>\n",
              "      <td>0</td>\n",
              "      <td>0</td>\n",
              "      <td>0</td>\n",
              "      <td>0</td>\n",
              "      <td>0</td>\n",
              "      <td>0</td>\n",
              "      <td>0</td>\n",
              "      <td>0</td>\n",
              "    </tr>\n",
              "    <tr>\n",
              "      <th>94028</th>\n",
              "      <td>Ant�rtida Argentina</td>\n",
              "      <td>2</td>\n",
              "      <td>0</td>\n",
              "      <td>4</td>\n",
              "      <td>3</td>\n",
              "      <td>1</td>\n",
              "      <td>4</td>\n",
              "      <td>2</td>\n",
              "      <td>0</td>\n",
              "      <td>3</td>\n",
              "      <td>...</td>\n",
              "      <td>0</td>\n",
              "      <td>0</td>\n",
              "      <td>0</td>\n",
              "      <td>0</td>\n",
              "      <td>0</td>\n",
              "      <td>0</td>\n",
              "      <td>0</td>\n",
              "      <td>0</td>\n",
              "      <td>0</td>\n",
              "      <td>0</td>\n",
              "    </tr>\n",
              "  </tbody>\n",
              "</table>\n",
              "<p>5 rows × 41 columns</p>\n",
              "</div>\n",
              "      <button class=\"colab-df-convert\" onclick=\"convertToInteractive('df-34fb21cd-76f8-41ed-8e7e-401cfd900731')\"\n",
              "              title=\"Convert this dataframe to an interactive table.\"\n",
              "              style=\"display:none;\">\n",
              "        \n",
              "  <svg xmlns=\"http://www.w3.org/2000/svg\" height=\"24px\"viewBox=\"0 0 24 24\"\n",
              "       width=\"24px\">\n",
              "    <path d=\"M0 0h24v24H0V0z\" fill=\"none\"/>\n",
              "    <path d=\"M18.56 5.44l.94 2.06.94-2.06 2.06-.94-2.06-.94-.94-2.06-.94 2.06-2.06.94zm-11 1L8.5 8.5l.94-2.06 2.06-.94-2.06-.94L8.5 2.5l-.94 2.06-2.06.94zm10 10l.94 2.06.94-2.06 2.06-.94-2.06-.94-.94-2.06-.94 2.06-2.06.94z\"/><path d=\"M17.41 7.96l-1.37-1.37c-.4-.4-.92-.59-1.43-.59-.52 0-1.04.2-1.43.59L10.3 9.45l-7.72 7.72c-.78.78-.78 2.05 0 2.83L4 21.41c.39.39.9.59 1.41.59.51 0 1.02-.2 1.41-.59l7.78-7.78 2.81-2.81c.8-.78.8-2.07 0-2.86zM5.41 20L4 18.59l7.72-7.72 1.47 1.35L5.41 20z\"/>\n",
              "  </svg>\n",
              "      </button>\n",
              "      \n",
              "  <style>\n",
              "    .colab-df-container {\n",
              "      display:flex;\n",
              "      flex-wrap:wrap;\n",
              "      gap: 12px;\n",
              "    }\n",
              "\n",
              "    .colab-df-convert {\n",
              "      background-color: #E8F0FE;\n",
              "      border: none;\n",
              "      border-radius: 50%;\n",
              "      cursor: pointer;\n",
              "      display: none;\n",
              "      fill: #1967D2;\n",
              "      height: 32px;\n",
              "      padding: 0 0 0 0;\n",
              "      width: 32px;\n",
              "    }\n",
              "\n",
              "    .colab-df-convert:hover {\n",
              "      background-color: #E2EBFA;\n",
              "      box-shadow: 0px 1px 2px rgba(60, 64, 67, 0.3), 0px 1px 3px 1px rgba(60, 64, 67, 0.15);\n",
              "      fill: #174EA6;\n",
              "    }\n",
              "\n",
              "    [theme=dark] .colab-df-convert {\n",
              "      background-color: #3B4455;\n",
              "      fill: #D2E3FC;\n",
              "    }\n",
              "\n",
              "    [theme=dark] .colab-df-convert:hover {\n",
              "      background-color: #434B5C;\n",
              "      box-shadow: 0px 1px 3px 1px rgba(0, 0, 0, 0.15);\n",
              "      filter: drop-shadow(0px 1px 2px rgba(0, 0, 0, 0.3));\n",
              "      fill: #FFFFFF;\n",
              "    }\n",
              "  </style>\n",
              "\n",
              "      <script>\n",
              "        const buttonEl =\n",
              "          document.querySelector('#df-34fb21cd-76f8-41ed-8e7e-401cfd900731 button.colab-df-convert');\n",
              "        buttonEl.style.display =\n",
              "          google.colab.kernel.accessAllowed ? 'block' : 'none';\n",
              "\n",
              "        async function convertToInteractive(key) {\n",
              "          const element = document.querySelector('#df-34fb21cd-76f8-41ed-8e7e-401cfd900731');\n",
              "          const dataTable =\n",
              "            await google.colab.kernel.invokeFunction('convertToInteractive',\n",
              "                                                     [key], {});\n",
              "          if (!dataTable) return;\n",
              "\n",
              "          const docLinkHtml = 'Like what you see? Visit the ' +\n",
              "            '<a target=\"_blank\" href=https://colab.research.google.com/notebooks/data_table.ipynb>data table notebook</a>'\n",
              "            + ' to learn more about interactive tables.';\n",
              "          element.innerHTML = '';\n",
              "          dataTable['output_type'] = 'display_data';\n",
              "          await google.colab.output.renderOutput(dataTable, element);\n",
              "          const docLink = document.createElement('div');\n",
              "          docLink.innerHTML = docLinkHtml;\n",
              "          element.appendChild(docLink);\n",
              "        }\n",
              "      </script>\n",
              "    </div>\n",
              "  </div>\n",
              "  "
            ]
          },
          "metadata": {},
          "execution_count": 65
        }
      ]
    },
    {
      "cell_type": "markdown",
      "source": [
        "Podemos visualizar las ultimas 5 filas."
      ],
      "metadata": {
        "id": "rrhJXCMf1LYa"
      }
    },
    {
      "cell_type": "code",
      "source": [
        "datos.name"
      ],
      "metadata": {
        "colab": {
          "base_uri": "https://localhost:8080/"
        },
        "id": "vIjC2nOK1Msa",
        "outputId": "301283ca-d4ab-4f27-e08d-ec94808f1e86"
      },
      "execution_count": null,
      "outputs": [
        {
          "output_type": "execute_result",
          "data": {
            "text/plain": [
              "in1\n",
              "2001                   Comuna 01\n",
              "2002                   Comuna 02\n",
              "2003                   Comuna 03\n",
              "2004                   Comuna 04\n",
              "2005                   Comuna 05\n",
              "                  ...           \n",
              "90119                Yerba Buena\n",
              "94007                 R�o Grande\n",
              "94014                    Ushuaia\n",
              "94021    Islas del Atl�ntico sur\n",
              "94028        Ant�rtida Argentina\n",
              "Name: name, Length: 527, dtype: object"
            ]
          },
          "metadata": {},
          "execution_count": 67
        }
      ]
    },
    {
      "cell_type": "markdown",
      "source": [
        "Obtencion de valores de una columna en concreto. Se tomo de ejemplo la columna name(comunas/sector).Podemos visualizar los primeros 4 y ultimos 5 datos."
      ],
      "metadata": {
        "id": "zE1YRCsZ1Sfy"
      }
    },
    {
      "cell_type": "code",
      "source": [
        "datos.loc[datos.name=='Capital']"
      ],
      "metadata": {
        "colab": {
          "base_uri": "https://localhost:8080/",
          "height": 455
        },
        "id": "RIlTm_zr1Ztq",
        "outputId": "a46386f7-3e00-42ff-e6b0-42986797d1b8"
      },
      "execution_count": null,
      "outputs": [
        {
          "output_type": "execute_result",
          "data": {
            "text/plain": [
              "          name  0-4_m  0-4_f  5-9_m  5-9_f  10-14_m  10-14_f  15-19_m  \\\n",
              "in1                                                                     \n",
              "10049  Capital   6866   6845   7433   7332     7693     7827     7726   \n",
              "14014  Capital  53168  51845  52248  50455    53314    52153    56820   \n",
              "18021  Capital  14710  14238  15826  15307    16975    16501    18431   \n",
              "42021  Capital   4294   4103   4264   4202     4413     4314     4575   \n",
              "46014  Capital   8199   7710   8186   8113     8638     8421     9445   \n",
              "50007  Capital   3878   3814   3206   3189     3395     3379     4032   \n",
              "54028  Capital  14984  14515  15421  14893    16813    16521    16784   \n",
              "66028  Capital  24305  23525  25015  24250    26120    25209    27104   \n",
              "70028  Capital   4162   4034   4002   3847     3888     3735     4067   \n",
              "86049  Capital  11319  11026  12244  12011    13770    13479    13309   \n",
              "90084  Capital  22409  21973  23038  22449    24115    23502    24664   \n",
              "\n",
              "       15-19_f  20-24_m  ...  75-79_m  75-79_f  80-84_m  80-84_f  85-89_m  \\\n",
              "in1                      ...                                                \n",
              "10049     7792     6730  ...      857     1457      476     1002      200   \n",
              "14014    57227    61671  ...    10090    16634     6205    12609     2684   \n",
              "18021    18638    17200  ...     1829     3238     1089     2032      471   \n",
              "42021     4586     4280  ...      810     1218      504      968      232   \n",
              "46014     9638     8651  ...      857     1301      452      900      196   \n",
              "50007     4146     5644  ...     1245     2179      938     1870      498   \n",
              "54028    17151    13981  ...     1758     2613      991     1737      415   \n",
              "66028    27427    23054  ...     3323     4826     1944     3233      891   \n",
              "70028     4077     3997  ...     1155     2017      758     1636      392   \n",
              "86049    13516    10954  ...     1441     2501      969     1803      402   \n",
              "90084    24995    24605  ...     3845     6702     2387     4841     1052   \n",
              "\n",
              "       85-89_f  90-94_m  90-94_f  >95_m  >95_f  \n",
              "in1                                             \n",
              "10049      526       68      197     15     58  \n",
              "14014     6951      766     2461    128    703  \n",
              "18021     1115      183      411     34    116  \n",
              "42021      561       68      189      7     61  \n",
              "46014      448       58      168     32     75  \n",
              "50007     1093      151      429     27    105  \n",
              "54028      811      132      324     29     96  \n",
              "66028     1821      259      665     58    165  \n",
              "70028      838       95      276     26     82  \n",
              "86049      961      125      369     38    110  \n",
              "90084     2517      272      848     70    251  \n",
              "\n",
              "[11 rows x 41 columns]"
            ],
            "text/html": [
              "\n",
              "  <div id=\"df-d17016dc-93a1-4ab6-b8fa-fdf66aa98d40\">\n",
              "    <div class=\"colab-df-container\">\n",
              "      <div>\n",
              "<style scoped>\n",
              "    .dataframe tbody tr th:only-of-type {\n",
              "        vertical-align: middle;\n",
              "    }\n",
              "\n",
              "    .dataframe tbody tr th {\n",
              "        vertical-align: top;\n",
              "    }\n",
              "\n",
              "    .dataframe thead th {\n",
              "        text-align: right;\n",
              "    }\n",
              "</style>\n",
              "<table border=\"1\" class=\"dataframe\">\n",
              "  <thead>\n",
              "    <tr style=\"text-align: right;\">\n",
              "      <th></th>\n",
              "      <th>name</th>\n",
              "      <th>0-4_m</th>\n",
              "      <th>0-4_f</th>\n",
              "      <th>5-9_m</th>\n",
              "      <th>5-9_f</th>\n",
              "      <th>10-14_m</th>\n",
              "      <th>10-14_f</th>\n",
              "      <th>15-19_m</th>\n",
              "      <th>15-19_f</th>\n",
              "      <th>20-24_m</th>\n",
              "      <th>...</th>\n",
              "      <th>75-79_m</th>\n",
              "      <th>75-79_f</th>\n",
              "      <th>80-84_m</th>\n",
              "      <th>80-84_f</th>\n",
              "      <th>85-89_m</th>\n",
              "      <th>85-89_f</th>\n",
              "      <th>90-94_m</th>\n",
              "      <th>90-94_f</th>\n",
              "      <th>&gt;95_m</th>\n",
              "      <th>&gt;95_f</th>\n",
              "    </tr>\n",
              "    <tr>\n",
              "      <th>in1</th>\n",
              "      <th></th>\n",
              "      <th></th>\n",
              "      <th></th>\n",
              "      <th></th>\n",
              "      <th></th>\n",
              "      <th></th>\n",
              "      <th></th>\n",
              "      <th></th>\n",
              "      <th></th>\n",
              "      <th></th>\n",
              "      <th></th>\n",
              "      <th></th>\n",
              "      <th></th>\n",
              "      <th></th>\n",
              "      <th></th>\n",
              "      <th></th>\n",
              "      <th></th>\n",
              "      <th></th>\n",
              "      <th></th>\n",
              "      <th></th>\n",
              "      <th></th>\n",
              "    </tr>\n",
              "  </thead>\n",
              "  <tbody>\n",
              "    <tr>\n",
              "      <th>10049</th>\n",
              "      <td>Capital</td>\n",
              "      <td>6866</td>\n",
              "      <td>6845</td>\n",
              "      <td>7433</td>\n",
              "      <td>7332</td>\n",
              "      <td>7693</td>\n",
              "      <td>7827</td>\n",
              "      <td>7726</td>\n",
              "      <td>7792</td>\n",
              "      <td>6730</td>\n",
              "      <td>...</td>\n",
              "      <td>857</td>\n",
              "      <td>1457</td>\n",
              "      <td>476</td>\n",
              "      <td>1002</td>\n",
              "      <td>200</td>\n",
              "      <td>526</td>\n",
              "      <td>68</td>\n",
              "      <td>197</td>\n",
              "      <td>15</td>\n",
              "      <td>58</td>\n",
              "    </tr>\n",
              "    <tr>\n",
              "      <th>14014</th>\n",
              "      <td>Capital</td>\n",
              "      <td>53168</td>\n",
              "      <td>51845</td>\n",
              "      <td>52248</td>\n",
              "      <td>50455</td>\n",
              "      <td>53314</td>\n",
              "      <td>52153</td>\n",
              "      <td>56820</td>\n",
              "      <td>57227</td>\n",
              "      <td>61671</td>\n",
              "      <td>...</td>\n",
              "      <td>10090</td>\n",
              "      <td>16634</td>\n",
              "      <td>6205</td>\n",
              "      <td>12609</td>\n",
              "      <td>2684</td>\n",
              "      <td>6951</td>\n",
              "      <td>766</td>\n",
              "      <td>2461</td>\n",
              "      <td>128</td>\n",
              "      <td>703</td>\n",
              "    </tr>\n",
              "    <tr>\n",
              "      <th>18021</th>\n",
              "      <td>Capital</td>\n",
              "      <td>14710</td>\n",
              "      <td>14238</td>\n",
              "      <td>15826</td>\n",
              "      <td>15307</td>\n",
              "      <td>16975</td>\n",
              "      <td>16501</td>\n",
              "      <td>18431</td>\n",
              "      <td>18638</td>\n",
              "      <td>17200</td>\n",
              "      <td>...</td>\n",
              "      <td>1829</td>\n",
              "      <td>3238</td>\n",
              "      <td>1089</td>\n",
              "      <td>2032</td>\n",
              "      <td>471</td>\n",
              "      <td>1115</td>\n",
              "      <td>183</td>\n",
              "      <td>411</td>\n",
              "      <td>34</td>\n",
              "      <td>116</td>\n",
              "    </tr>\n",
              "    <tr>\n",
              "      <th>42021</th>\n",
              "      <td>Capital</td>\n",
              "      <td>4294</td>\n",
              "      <td>4103</td>\n",
              "      <td>4264</td>\n",
              "      <td>4202</td>\n",
              "      <td>4413</td>\n",
              "      <td>4314</td>\n",
              "      <td>4575</td>\n",
              "      <td>4586</td>\n",
              "      <td>4280</td>\n",
              "      <td>...</td>\n",
              "      <td>810</td>\n",
              "      <td>1218</td>\n",
              "      <td>504</td>\n",
              "      <td>968</td>\n",
              "      <td>232</td>\n",
              "      <td>561</td>\n",
              "      <td>68</td>\n",
              "      <td>189</td>\n",
              "      <td>7</td>\n",
              "      <td>61</td>\n",
              "    </tr>\n",
              "    <tr>\n",
              "      <th>46014</th>\n",
              "      <td>Capital</td>\n",
              "      <td>8199</td>\n",
              "      <td>7710</td>\n",
              "      <td>8186</td>\n",
              "      <td>8113</td>\n",
              "      <td>8638</td>\n",
              "      <td>8421</td>\n",
              "      <td>9445</td>\n",
              "      <td>9638</td>\n",
              "      <td>8651</td>\n",
              "      <td>...</td>\n",
              "      <td>857</td>\n",
              "      <td>1301</td>\n",
              "      <td>452</td>\n",
              "      <td>900</td>\n",
              "      <td>196</td>\n",
              "      <td>448</td>\n",
              "      <td>58</td>\n",
              "      <td>168</td>\n",
              "      <td>32</td>\n",
              "      <td>75</td>\n",
              "    </tr>\n",
              "    <tr>\n",
              "      <th>50007</th>\n",
              "      <td>Capital</td>\n",
              "      <td>3878</td>\n",
              "      <td>3814</td>\n",
              "      <td>3206</td>\n",
              "      <td>3189</td>\n",
              "      <td>3395</td>\n",
              "      <td>3379</td>\n",
              "      <td>4032</td>\n",
              "      <td>4146</td>\n",
              "      <td>5644</td>\n",
              "      <td>...</td>\n",
              "      <td>1245</td>\n",
              "      <td>2179</td>\n",
              "      <td>938</td>\n",
              "      <td>1870</td>\n",
              "      <td>498</td>\n",
              "      <td>1093</td>\n",
              "      <td>151</td>\n",
              "      <td>429</td>\n",
              "      <td>27</td>\n",
              "      <td>105</td>\n",
              "    </tr>\n",
              "    <tr>\n",
              "      <th>54028</th>\n",
              "      <td>Capital</td>\n",
              "      <td>14984</td>\n",
              "      <td>14515</td>\n",
              "      <td>15421</td>\n",
              "      <td>14893</td>\n",
              "      <td>16813</td>\n",
              "      <td>16521</td>\n",
              "      <td>16784</td>\n",
              "      <td>17151</td>\n",
              "      <td>13981</td>\n",
              "      <td>...</td>\n",
              "      <td>1758</td>\n",
              "      <td>2613</td>\n",
              "      <td>991</td>\n",
              "      <td>1737</td>\n",
              "      <td>415</td>\n",
              "      <td>811</td>\n",
              "      <td>132</td>\n",
              "      <td>324</td>\n",
              "      <td>29</td>\n",
              "      <td>96</td>\n",
              "    </tr>\n",
              "    <tr>\n",
              "      <th>66028</th>\n",
              "      <td>Capital</td>\n",
              "      <td>24305</td>\n",
              "      <td>23525</td>\n",
              "      <td>25015</td>\n",
              "      <td>24250</td>\n",
              "      <td>26120</td>\n",
              "      <td>25209</td>\n",
              "      <td>27104</td>\n",
              "      <td>27427</td>\n",
              "      <td>23054</td>\n",
              "      <td>...</td>\n",
              "      <td>3323</td>\n",
              "      <td>4826</td>\n",
              "      <td>1944</td>\n",
              "      <td>3233</td>\n",
              "      <td>891</td>\n",
              "      <td>1821</td>\n",
              "      <td>259</td>\n",
              "      <td>665</td>\n",
              "      <td>58</td>\n",
              "      <td>165</td>\n",
              "    </tr>\n",
              "    <tr>\n",
              "      <th>70028</th>\n",
              "      <td>Capital</td>\n",
              "      <td>4162</td>\n",
              "      <td>4034</td>\n",
              "      <td>4002</td>\n",
              "      <td>3847</td>\n",
              "      <td>3888</td>\n",
              "      <td>3735</td>\n",
              "      <td>4067</td>\n",
              "      <td>4077</td>\n",
              "      <td>3997</td>\n",
              "      <td>...</td>\n",
              "      <td>1155</td>\n",
              "      <td>2017</td>\n",
              "      <td>758</td>\n",
              "      <td>1636</td>\n",
              "      <td>392</td>\n",
              "      <td>838</td>\n",
              "      <td>95</td>\n",
              "      <td>276</td>\n",
              "      <td>26</td>\n",
              "      <td>82</td>\n",
              "    </tr>\n",
              "    <tr>\n",
              "      <th>86049</th>\n",
              "      <td>Capital</td>\n",
              "      <td>11319</td>\n",
              "      <td>11026</td>\n",
              "      <td>12244</td>\n",
              "      <td>12011</td>\n",
              "      <td>13770</td>\n",
              "      <td>13479</td>\n",
              "      <td>13309</td>\n",
              "      <td>13516</td>\n",
              "      <td>10954</td>\n",
              "      <td>...</td>\n",
              "      <td>1441</td>\n",
              "      <td>2501</td>\n",
              "      <td>969</td>\n",
              "      <td>1803</td>\n",
              "      <td>402</td>\n",
              "      <td>961</td>\n",
              "      <td>125</td>\n",
              "      <td>369</td>\n",
              "      <td>38</td>\n",
              "      <td>110</td>\n",
              "    </tr>\n",
              "    <tr>\n",
              "      <th>90084</th>\n",
              "      <td>Capital</td>\n",
              "      <td>22409</td>\n",
              "      <td>21973</td>\n",
              "      <td>23038</td>\n",
              "      <td>22449</td>\n",
              "      <td>24115</td>\n",
              "      <td>23502</td>\n",
              "      <td>24664</td>\n",
              "      <td>24995</td>\n",
              "      <td>24605</td>\n",
              "      <td>...</td>\n",
              "      <td>3845</td>\n",
              "      <td>6702</td>\n",
              "      <td>2387</td>\n",
              "      <td>4841</td>\n",
              "      <td>1052</td>\n",
              "      <td>2517</td>\n",
              "      <td>272</td>\n",
              "      <td>848</td>\n",
              "      <td>70</td>\n",
              "      <td>251</td>\n",
              "    </tr>\n",
              "  </tbody>\n",
              "</table>\n",
              "<p>11 rows × 41 columns</p>\n",
              "</div>\n",
              "      <button class=\"colab-df-convert\" onclick=\"convertToInteractive('df-d17016dc-93a1-4ab6-b8fa-fdf66aa98d40')\"\n",
              "              title=\"Convert this dataframe to an interactive table.\"\n",
              "              style=\"display:none;\">\n",
              "        \n",
              "  <svg xmlns=\"http://www.w3.org/2000/svg\" height=\"24px\"viewBox=\"0 0 24 24\"\n",
              "       width=\"24px\">\n",
              "    <path d=\"M0 0h24v24H0V0z\" fill=\"none\"/>\n",
              "    <path d=\"M18.56 5.44l.94 2.06.94-2.06 2.06-.94-2.06-.94-.94-2.06-.94 2.06-2.06.94zm-11 1L8.5 8.5l.94-2.06 2.06-.94-2.06-.94L8.5 2.5l-.94 2.06-2.06.94zm10 10l.94 2.06.94-2.06 2.06-.94-2.06-.94-.94-2.06-.94 2.06-2.06.94z\"/><path d=\"M17.41 7.96l-1.37-1.37c-.4-.4-.92-.59-1.43-.59-.52 0-1.04.2-1.43.59L10.3 9.45l-7.72 7.72c-.78.78-.78 2.05 0 2.83L4 21.41c.39.39.9.59 1.41.59.51 0 1.02-.2 1.41-.59l7.78-7.78 2.81-2.81c.8-.78.8-2.07 0-2.86zM5.41 20L4 18.59l7.72-7.72 1.47 1.35L5.41 20z\"/>\n",
              "  </svg>\n",
              "      </button>\n",
              "      \n",
              "  <style>\n",
              "    .colab-df-container {\n",
              "      display:flex;\n",
              "      flex-wrap:wrap;\n",
              "      gap: 12px;\n",
              "    }\n",
              "\n",
              "    .colab-df-convert {\n",
              "      background-color: #E8F0FE;\n",
              "      border: none;\n",
              "      border-radius: 50%;\n",
              "      cursor: pointer;\n",
              "      display: none;\n",
              "      fill: #1967D2;\n",
              "      height: 32px;\n",
              "      padding: 0 0 0 0;\n",
              "      width: 32px;\n",
              "    }\n",
              "\n",
              "    .colab-df-convert:hover {\n",
              "      background-color: #E2EBFA;\n",
              "      box-shadow: 0px 1px 2px rgba(60, 64, 67, 0.3), 0px 1px 3px 1px rgba(60, 64, 67, 0.15);\n",
              "      fill: #174EA6;\n",
              "    }\n",
              "\n",
              "    [theme=dark] .colab-df-convert {\n",
              "      background-color: #3B4455;\n",
              "      fill: #D2E3FC;\n",
              "    }\n",
              "\n",
              "    [theme=dark] .colab-df-convert:hover {\n",
              "      background-color: #434B5C;\n",
              "      box-shadow: 0px 1px 3px 1px rgba(0, 0, 0, 0.15);\n",
              "      filter: drop-shadow(0px 1px 2px rgba(0, 0, 0, 0.3));\n",
              "      fill: #FFFFFF;\n",
              "    }\n",
              "  </style>\n",
              "\n",
              "      <script>\n",
              "        const buttonEl =\n",
              "          document.querySelector('#df-d17016dc-93a1-4ab6-b8fa-fdf66aa98d40 button.colab-df-convert');\n",
              "        buttonEl.style.display =\n",
              "          google.colab.kernel.accessAllowed ? 'block' : 'none';\n",
              "\n",
              "        async function convertToInteractive(key) {\n",
              "          const element = document.querySelector('#df-d17016dc-93a1-4ab6-b8fa-fdf66aa98d40');\n",
              "          const dataTable =\n",
              "            await google.colab.kernel.invokeFunction('convertToInteractive',\n",
              "                                                     [key], {});\n",
              "          if (!dataTable) return;\n",
              "\n",
              "          const docLinkHtml = 'Like what you see? Visit the ' +\n",
              "            '<a target=\"_blank\" href=https://colab.research.google.com/notebooks/data_table.ipynb>data table notebook</a>'\n",
              "            + ' to learn more about interactive tables.';\n",
              "          element.innerHTML = '';\n",
              "          dataTable['output_type'] = 'display_data';\n",
              "          await google.colab.output.renderOutput(dataTable, element);\n",
              "          const docLink = document.createElement('div');\n",
              "          docLink.innerHTML = docLinkHtml;\n",
              "          element.appendChild(docLink);\n",
              "        }\n",
              "      </script>\n",
              "    </div>\n",
              "  </div>\n",
              "  "
            ]
          },
          "metadata": {},
          "execution_count": 70
        }
      ]
    },
    {
      "cell_type": "markdown",
      "source": [
        "En esta seccion deberiamos ver la la lista con la condicion de la comuna/sector asentado. Esto es productivo para poder visualizar sector en interes a visualizar los datos."
      ],
      "metadata": {
        "id": "QY7LiVXz1rYp"
      }
    },
    {
      "cell_type": "code",
      "source": [
        "columnas_nulos = datos.columns[datos.isnull().any()]\n",
        "datos[columnas_nulos].isnull().sum()"
      ],
      "metadata": {
        "colab": {
          "base_uri": "https://localhost:8080/"
        },
        "id": "KUYgRKJe12Ai",
        "outputId": "55473da4-5223-4a1f-cdc9-4950b676dfc2"
      },
      "execution_count": null,
      "outputs": [
        {
          "output_type": "execute_result",
          "data": {
            "text/plain": [
              "Series([], dtype: float64)"
            ]
          },
          "metadata": {},
          "execution_count": 71
        }
      ]
    },
    {
      "cell_type": "markdown",
      "source": [
        "Podemos visualizar la cantidad de valores nulos hay en cada columna. Donde casualmente visualizamos que el dataset no contiene valores nulos."
      ],
      "metadata": {
        "id": "xCpjLUlt16pJ"
      }
    },
    {
      "cell_type": "code",
      "source": [
        "datos.isnull().any()"
      ],
      "metadata": {
        "colab": {
          "base_uri": "https://localhost:8080/"
        },
        "id": "cFF3Qq7D2TLx",
        "outputId": "b1cfcc80-2098-47b5-e301-6490e0ec451e"
      },
      "execution_count": null,
      "outputs": [
        {
          "output_type": "execute_result",
          "data": {
            "text/plain": [
              "name       False\n",
              "0-4_m      False\n",
              "0-4_f      False\n",
              "5-9_m      False\n",
              "5-9_f      False\n",
              "10-14_m    False\n",
              "10-14_f    False\n",
              "15-19_m    False\n",
              "15-19_f    False\n",
              "20-24_m    False\n",
              "20-24_f    False\n",
              "25-29_m    False\n",
              "25-29_f    False\n",
              "30-34_m    False\n",
              "30-34_f    False\n",
              "35-39_m    False\n",
              "35-39_f    False\n",
              "40-44_m    False\n",
              "40-44_f    False\n",
              "45-49_m    False\n",
              "45-49_f    False\n",
              "50-54_m    False\n",
              "50-54_f    False\n",
              "55-59_m    False\n",
              "55-59_f    False\n",
              "60-64_m    False\n",
              "60-64_f    False\n",
              "65-69_m    False\n",
              "65-69_f    False\n",
              "70-74_m    False\n",
              "70-74_f    False\n",
              "75-79_m    False\n",
              "75-79_f    False\n",
              "80-84_m    False\n",
              "80-84_f    False\n",
              "85-89_m    False\n",
              "85-89_f    False\n",
              "90-94_m    False\n",
              "90-94_f    False\n",
              ">95_m      False\n",
              ">95_f      False\n",
              "dtype: bool"
            ]
          },
          "metadata": {},
          "execution_count": 72
        }
      ]
    },
    {
      "cell_type": "markdown",
      "source": [
        "Confirmamos con metodo booleano lo asentado previamente."
      ],
      "metadata": {
        "id": "dPyQydP12U4J"
      }
    },
    {
      "cell_type": "code",
      "source": [
        "datos.name.unique()"
      ],
      "metadata": {
        "colab": {
          "base_uri": "https://localhost:8080/"
        },
        "id": "3McOn68J2mrC",
        "outputId": "f08e8875-286c-4ce3-9e31-b5a7b2df1a92"
      },
      "execution_count": null,
      "outputs": [
        {
          "output_type": "execute_result",
          "data": {
            "text/plain": [
              "array(['Comuna 01', 'Comuna 02', 'Comuna 03', 'Comuna 04', 'Comuna 05',\n",
              "       'Comuna 06', 'Comuna 07', 'Comuna 08', 'Comuna 09', 'Comuna 10',\n",
              "       'Comuna 11', 'Comuna 12', 'Comuna 13', 'Comuna 14', 'Comuna 15',\n",
              "       'Almirante Brown', 'Avellaneda', 'Berazategui',\n",
              "       'Esteban Echeverr�a', 'Ezeiza', 'Florencio Varela',\n",
              "       'General San Mart�n', 'Hurlingham', 'Ituzaing�', 'Jos� C. Paz',\n",
              "       'La Matanza', 'Lan�s', 'Lomas de Zamora', 'Malvinas Argentinas',\n",
              "       'Merlo', 'Moreno', 'Mor�n', 'Quilmes', 'San Fernando',\n",
              "       'San Isidro', 'San Miguel', 'Tigre', 'Tres de Febrero',\n",
              "       'Vicente L�pez', 'Adolfo Alsina', 'Adolfo Gonz�les Chaves',\n",
              "       'Alberti', 'Ayacucho', 'Azul', 'Bah�a Blanca', 'Balcarce',\n",
              "       'Baradero', 'Arrecifes', 'Benito Ju�rez', 'Berisso', 'Bol�var',\n",
              "       'Bragado', 'Brandsen', 'Campana', 'Ca�uelas', 'Capit�n Sarmiento',\n",
              "       'Carlos Casares', 'Carlos Tejedor', 'Carmen de Areco', 'Castelli',\n",
              "       'Col�n', 'Coronel de Marina L. Rosales', 'Coronel Dorrego',\n",
              "       'Coronel Pringles', 'Coronel Su�rez', 'Chacabuco', 'Chascom�s',\n",
              "       'Chivilcoy', 'Daireaux', 'Dolores', 'Ensenada', 'Escobar',\n",
              "       'Exaltaci�n de la Cruz', 'Florentino Ameghino', 'General Alvarado',\n",
              "       'General Alvear', 'General Arenales', 'General Belgrano',\n",
              "       'General Guido', 'General Juan Madariaga', 'General La Madrid',\n",
              "       'General Las Heras', 'General Lavalle', 'General Paz',\n",
              "       'General Pinto', 'General Pueyrred�n', 'General Rodr�guez',\n",
              "       'General Viamonte', 'General Villegas', 'Guamin�',\n",
              "       'Hip�lito Yrigoyen', 'Jun�n', 'La Costa', 'La Plata', 'Laprida',\n",
              "       'Las Flores', 'Leandro N. Alem', 'Lincoln', 'Lober�a', 'Lobos',\n",
              "       'Luj�n', 'Magdalena', 'Maip�', 'Mar Chiquita', 'Marcos Paz',\n",
              "       'Mercedes', 'Monte', 'Monte Hermoso', 'Navarro', 'Necochea',\n",
              "       '9 de Julio', 'Olavarr�a', 'Patagones', 'Pehuaj�', 'Pellegrini',\n",
              "       'Pergamino', 'Pila', 'Pilar', 'Pinamar', 'Presidente Per�n',\n",
              "       'Pu�n', 'Punta Indio', 'Ramallo', 'Rauch', 'Rivadavia', 'Rojas',\n",
              "       'Roque P�rez', 'Saavedra', 'Saladillo', 'Salto', 'Salliquel�',\n",
              "       'San Andr�s de Giles', 'San Antonio de Areco', 'San Cayetano',\n",
              "       'San Nicol�s', 'San Pedro', 'San Vicente', 'Suipacha', 'Tandil',\n",
              "       'Tapalqu�', 'Tordillo', 'Tornquist', 'Trenque Lauquen',\n",
              "       'Tres Arroyos', 'Tres Lomas', '25 de Mayo', 'Villa Gesell',\n",
              "       'Villarino', 'Z�rate', 'Ambato', 'Ancasti', 'Andalgal�',\n",
              "       'Antofagasta de la Sierra', 'Bel�n', 'Capay�n', 'Capital',\n",
              "       'El Alto', 'Fray Mamerto Esqui�', 'La Paz', 'Paclin', 'Poman',\n",
              "       'Santa Mar�a', 'Santa Rosa', 'Tinogasta', 'Valle Viejo',\n",
              "       'Calamuchita', 'Cruz del Eje', 'General Roca', 'Ischil�n',\n",
              "       'Ju�rez Celman', 'Marcos Ju�rez', 'Minas', 'Pocho',\n",
              "       'Presidente Roque S�enz Pe�a', 'Punilla', 'R�o Cuarto',\n",
              "       'R�o Primero', 'R�o Seco', 'R�o Segundo', 'San Alberto',\n",
              "       'San Javier', 'San Justo', 'Sobremonte', 'Tercero Arriba',\n",
              "       'Totoral', 'Tulumba', 'Uni�n', 'Bella Vista', 'Ber�n de Astrada',\n",
              "       'Concepci�n', 'Curuz� Cuati�', 'Empedrado', 'Esquina', 'Goya',\n",
              "       'Itat�', 'Lavalle', 'Mburucuy�', 'Monte Caseros',\n",
              "       'Paso de los Libres', 'Saladas', 'San Cosme',\n",
              "       'San Luis del Palmar', 'San Mart�n', 'San Roque', 'Santo Tom�',\n",
              "       'Sauce', 'Bermejo', 'Comandante Fern�ndez', '12 de Octubre',\n",
              "       '2 de Abril', 'Fray Justo Santa Mar�a de Oro', 'General Donovan',\n",
              "       'General G�emes', 'Independencia', 'Libertad',\n",
              "       'Libertador General San Mart�n', 'Mayor Luis J. Fontana',\n",
              "       \"O'Higgins\", 'Presidencia de la Plaza', '1�  de Mayo', 'Quitilipi',\n",
              "       'San Lorenzo', 'Sargento Cabral', 'Tapenag�', 'Biedma', 'Cushamen',\n",
              "       'Escalante', 'Futaleuf�', 'Gaiman', 'Gastre', 'Langui�eo',\n",
              "       'Martires', 'Paso de los Indios', 'Rawson', 'R�o Senguer',\n",
              "       'Sarmiento', 'Tehuelches', 'Telsen', 'Concordia', 'Diamante',\n",
              "       'Federaci�n', 'Federal', 'Feliciano', 'Gualeguay', 'Gualeguaych�',\n",
              "       'Islas del Ibicuy', 'Nogoya', 'Paran�', 'San Salvador', 'Tala',\n",
              "       'Uruguay', 'Victoria', 'Villaguay', 'Formosa', 'Laishi', 'Matacos',\n",
              "       'Pati�o', 'Pilag�s', 'Pilcomayo', 'Pirane', 'Ram�n Lista',\n",
              "       'Cochinoca', 'El Carmen', 'Dr. Manuel Belgrano', 'Humahuaca',\n",
              "       'Ledesma', 'Palpal�', 'Rinconada', 'San Antonio', 'Santa B�rbara',\n",
              "       'Santa Catalina', 'Susques', 'Tilcara', 'Tumbaya', 'Valle Grande',\n",
              "       'Yav�', 'Atreuco', 'Caleu Caleu', 'Catril�', 'Conhelo', 'Curac�',\n",
              "       'Chalileo', 'Chapaleuf�', 'Chical C�', 'Guatrach�', 'Hucal',\n",
              "       'Lihuel Calel', 'Limay Mahuida', 'Loventu�', 'Marac�', 'Puel�n',\n",
              "       'Quem� Quem�', 'Rancul', 'Realic�', 'Toay', 'Trenel', 'Utrac�n',\n",
              "       'Arauco', 'Castro Barros', 'Coronel Felipe Varela', 'Chamical',\n",
              "       'Chilecito', 'Famatina', 'General Angel V. Pe�aloza',\n",
              "       'General Juan F.Quiroga', 'General Lamadrid', 'General Ocampo',\n",
              "       'Vinchina', 'Rosario Vera Pe�aloza', 'San Blas de los Sauces',\n",
              "       'Sanagasta', 'Godoy Cruz', 'Guaymall�n', 'Las Heras',\n",
              "       'Luj�n de Cuyo', 'Malarg�e', 'San Carlos', 'San Rafael', 'Tunuy�n',\n",
              "       'Tupungato', 'Ap�stoles', 'Caingu�s', 'Candelaria', 'El Dorado',\n",
              "       'General Manuel Belgrano', 'Guaran�', 'Iguaz�', 'Montecarlo',\n",
              "       'Ober�', 'San Ignacio', 'Alumin�', 'A�elo', 'Catan Lil',\n",
              "       'Coll�n Cur�', 'Confluencia', 'Chos Malal', 'Huiliches', 'Lacar',\n",
              "       'Loncopu�', 'Los Lagos', '�orqu�n', 'Pehuenches', 'Pic�n Leuf�',\n",
              "       'Picunches', 'Zapala', 'Bariloche', 'Conesa', 'El Cuy',\n",
              "       '�orquinco', 'Pichi Mahu�da', 'Pilnaniyeu', 'Valcheta', 'Anta',\n",
              "       'Cachi', 'Cafayate', 'Cerrillos', 'Chicoana',\n",
              "       'General Jos� de San Mart�n', 'Guachipas', 'Iruya', 'La Caldera',\n",
              "       'La Candelaria', 'La Poma', 'La Vi�a', 'Los Andes', 'Met�n',\n",
              "       'Molinos', 'Or�n', 'Rosario de la Frontera', 'Rosario de Lerma',\n",
              "       'Santa Victoria', 'Albard�n', 'Angaco', 'Calingasta', 'Caucete',\n",
              "       'Chimbas', 'Iglesia', 'J�chal', '9 de julio', 'Pocito',\n",
              "       'Santa Luc�a', 'Ullum', 'Valle F�rtil', 'Zonda', 'Belgrano',\n",
              "       'General Pedernera', 'Gobernador Dupuy', 'La Capital',\n",
              "       'Corpen Aike', 'Deseado', 'G�er Aike', 'Lago Argentino',\n",
              "       'Lago Buenos Aires', 'Magallanes', 'R�o Chico', 'Caseros',\n",
              "       'Castellanos', 'Constituci�n', 'Garay', 'General L�pez',\n",
              "       'General Obligado', 'Iriondo', 'Las Colonias', 'Rosario',\n",
              "       'San Cristobal', 'San Jer�nimo', 'Vera', 'Aguirre', 'Alberdi',\n",
              "       'Atamisqui', 'Banda', 'Copo', 'Choya', 'Figueroa',\n",
              "       'General Taboada', 'Guasay�n', 'Jim�nez', 'Juan F. Ibarra',\n",
              "       'Loreto', 'Mitre', 'Ojo de agua', 'Pelegrini', 'Quebrachos',\n",
              "       'R�o Hondo', 'Robles', 'Salavina', 'Sil�pica', 'Burruyac�',\n",
              "       'Cruz Alta', 'Chicligasta', 'Famall�', 'Graneros',\n",
              "       'Juan B. Alberdi', 'La Cocha', 'Leales', 'Lules', 'Monteros',\n",
              "       'Simoca', 'Taf� del Valle', 'Taf� Viejo', 'Trancas', 'Yerba Buena',\n",
              "       'R�o Grande', 'Ushuaia', 'Islas del Atl�ntico sur',\n",
              "       'Ant�rtida Argentina'], dtype=object)"
            ]
          },
          "metadata": {},
          "execution_count": 80
        }
      ]
    },
    {
      "cell_type": "markdown",
      "source": [
        "Podemos visualizar el listado de comunas/sectores asentados en el dataset."
      ],
      "metadata": {
        "id": "xO6H2tI52pwx"
      }
    },
    {
      "cell_type": "markdown",
      "source": [
        "***Carga del correspondiente dataset Nº3.***"
      ],
      "metadata": {
        "id": "3uph0UKw4jrY"
      }
    },
    {
      "cell_type": "markdown",
      "source": [
        "Introduccion:Este dataset corresponde a los valores de rentas correspondiente a ubicaciones mas solicitadas de la india. Tenemos mucha informacion bastante interesante como el dia de posteo, el valor, el tamaño el tipo, cantidad de pisos, la localidad,ciudad, numero de baños y si es publicado por una agencia o por el dueño directo."
      ],
      "metadata": {
        "id": "RNaeXd5h4sEY"
      }
    },
    {
      "cell_type": "code",
      "source": [
        "datos = pd.read_csv('/content/drive/MyDrive/Data science- Datasets/House rent dataset/House_Rent_Dataset.csv',index_col=0,sep=';')\n",
        "datos.head(5)"
      ],
      "metadata": {
        "id": "P2Er1UG_45KB"
      },
      "execution_count": null,
      "outputs": []
    },
    {
      "cell_type": "markdown",
      "source": [
        "La carga de datos ha sido exitosa, podemos visualizar las primeros 5 filas con sus respectivas columnas."
      ],
      "metadata": {
        "id": "SAJzdrss5Zq6"
      }
    },
    {
      "cell_type": "code",
      "source": [
        "datos.shape"
      ],
      "metadata": {
        "colab": {
          "base_uri": "https://localhost:8080/"
        },
        "id": "nz6H74455gXB",
        "outputId": "9681b00d-cbcf-4cd5-ab56-1dbc63f189ed"
      },
      "execution_count": null,
      "outputs": [
        {
          "output_type": "execute_result",
          "data": {
            "text/plain": [
              "(4746, 11)"
            ]
          },
          "metadata": {},
          "execution_count": 82
        }
      ]
    },
    {
      "cell_type": "markdown",
      "source": [
        "Podemos visualizar el numero de filas 4746 y columas 11"
      ],
      "metadata": {
        "id": "C_TMt5lw5jKq"
      }
    },
    {
      "cell_type": "code",
      "source": [
        "datos.info()"
      ],
      "metadata": {
        "colab": {
          "base_uri": "https://localhost:8080/"
        },
        "id": "uNnGcAY45oQb",
        "outputId": "db6e7226-ac07-457d-934f-1a38bed2d34c"
      },
      "execution_count": null,
      "outputs": [
        {
          "output_type": "stream",
          "name": "stdout",
          "text": [
            "<class 'pandas.core.frame.DataFrame'>\n",
            "Index: 4746 entries, 18/05/2022 to 04/05/2022\n",
            "Data columns (total 11 columns):\n",
            " #   Column             Non-Null Count  Dtype \n",
            "---  ------             --------------  ----- \n",
            " 0   BHK                4746 non-null   int64 \n",
            " 1   Rent               4746 non-null   int64 \n",
            " 2   Size               4746 non-null   int64 \n",
            " 3   Floor              4746 non-null   object\n",
            " 4   Area Type          4746 non-null   object\n",
            " 5   Area Locality      4746 non-null   object\n",
            " 6   City               4746 non-null   object\n",
            " 7   Furnishing Status  4746 non-null   object\n",
            " 8   Tenant Preferred   4746 non-null   object\n",
            " 9   Bathroom           4746 non-null   int64 \n",
            " 10  Point of Contact   4746 non-null   object\n",
            "dtypes: int64(4), object(7)\n",
            "memory usage: 444.9+ KB\n"
          ]
        }
      ]
    },
    {
      "cell_type": "markdown",
      "source": [
        "Podemos visualizar una tabla que indica el indice de numeros de columnas a la izquierda, nombre de todas la columnas en la seguna columna vertical, el numero de datos non-null y ademas el tipo de dato en la ultima columna de la derecha. Ademas en la parte final la memoria utilizada."
      ],
      "metadata": {
        "id": "dXVlWiek5srw"
      }
    },
    {
      "cell_type": "code",
      "source": [
        "datos.describe()"
      ],
      "metadata": {
        "colab": {
          "base_uri": "https://localhost:8080/",
          "height": 300
        },
        "id": "SvCRE1AB5w8q",
        "outputId": "57a2f434-c3b8-4332-efcd-2fd11c443140"
      },
      "execution_count": null,
      "outputs": [
        {
          "output_type": "execute_result",
          "data": {
            "text/plain": [
              "               BHK          Rent         Size     Bathroom\n",
              "count  4746.000000  4.746000e+03  4746.000000  4746.000000\n",
              "mean      2.083860  3.499345e+04   967.490729     1.965866\n",
              "std       0.832256  7.810641e+04   634.202328     0.884532\n",
              "min       1.000000  1.200000e+03    10.000000     1.000000\n",
              "25%       2.000000  1.000000e+04   550.000000     1.000000\n",
              "50%       2.000000  1.600000e+04   850.000000     2.000000\n",
              "75%       3.000000  3.300000e+04  1200.000000     2.000000\n",
              "max       6.000000  3.500000e+06  8000.000000    10.000000"
            ],
            "text/html": [
              "\n",
              "  <div id=\"df-41463c34-40b1-492c-874d-88af920fa4d8\">\n",
              "    <div class=\"colab-df-container\">\n",
              "      <div>\n",
              "<style scoped>\n",
              "    .dataframe tbody tr th:only-of-type {\n",
              "        vertical-align: middle;\n",
              "    }\n",
              "\n",
              "    .dataframe tbody tr th {\n",
              "        vertical-align: top;\n",
              "    }\n",
              "\n",
              "    .dataframe thead th {\n",
              "        text-align: right;\n",
              "    }\n",
              "</style>\n",
              "<table border=\"1\" class=\"dataframe\">\n",
              "  <thead>\n",
              "    <tr style=\"text-align: right;\">\n",
              "      <th></th>\n",
              "      <th>BHK</th>\n",
              "      <th>Rent</th>\n",
              "      <th>Size</th>\n",
              "      <th>Bathroom</th>\n",
              "    </tr>\n",
              "  </thead>\n",
              "  <tbody>\n",
              "    <tr>\n",
              "      <th>count</th>\n",
              "      <td>4746.000000</td>\n",
              "      <td>4.746000e+03</td>\n",
              "      <td>4746.000000</td>\n",
              "      <td>4746.000000</td>\n",
              "    </tr>\n",
              "    <tr>\n",
              "      <th>mean</th>\n",
              "      <td>2.083860</td>\n",
              "      <td>3.499345e+04</td>\n",
              "      <td>967.490729</td>\n",
              "      <td>1.965866</td>\n",
              "    </tr>\n",
              "    <tr>\n",
              "      <th>std</th>\n",
              "      <td>0.832256</td>\n",
              "      <td>7.810641e+04</td>\n",
              "      <td>634.202328</td>\n",
              "      <td>0.884532</td>\n",
              "    </tr>\n",
              "    <tr>\n",
              "      <th>min</th>\n",
              "      <td>1.000000</td>\n",
              "      <td>1.200000e+03</td>\n",
              "      <td>10.000000</td>\n",
              "      <td>1.000000</td>\n",
              "    </tr>\n",
              "    <tr>\n",
              "      <th>25%</th>\n",
              "      <td>2.000000</td>\n",
              "      <td>1.000000e+04</td>\n",
              "      <td>550.000000</td>\n",
              "      <td>1.000000</td>\n",
              "    </tr>\n",
              "    <tr>\n",
              "      <th>50%</th>\n",
              "      <td>2.000000</td>\n",
              "      <td>1.600000e+04</td>\n",
              "      <td>850.000000</td>\n",
              "      <td>2.000000</td>\n",
              "    </tr>\n",
              "    <tr>\n",
              "      <th>75%</th>\n",
              "      <td>3.000000</td>\n",
              "      <td>3.300000e+04</td>\n",
              "      <td>1200.000000</td>\n",
              "      <td>2.000000</td>\n",
              "    </tr>\n",
              "    <tr>\n",
              "      <th>max</th>\n",
              "      <td>6.000000</td>\n",
              "      <td>3.500000e+06</td>\n",
              "      <td>8000.000000</td>\n",
              "      <td>10.000000</td>\n",
              "    </tr>\n",
              "  </tbody>\n",
              "</table>\n",
              "</div>\n",
              "      <button class=\"colab-df-convert\" onclick=\"convertToInteractive('df-41463c34-40b1-492c-874d-88af920fa4d8')\"\n",
              "              title=\"Convert this dataframe to an interactive table.\"\n",
              "              style=\"display:none;\">\n",
              "        \n",
              "  <svg xmlns=\"http://www.w3.org/2000/svg\" height=\"24px\"viewBox=\"0 0 24 24\"\n",
              "       width=\"24px\">\n",
              "    <path d=\"M0 0h24v24H0V0z\" fill=\"none\"/>\n",
              "    <path d=\"M18.56 5.44l.94 2.06.94-2.06 2.06-.94-2.06-.94-.94-2.06-.94 2.06-2.06.94zm-11 1L8.5 8.5l.94-2.06 2.06-.94-2.06-.94L8.5 2.5l-.94 2.06-2.06.94zm10 10l.94 2.06.94-2.06 2.06-.94-2.06-.94-.94-2.06-.94 2.06-2.06.94z\"/><path d=\"M17.41 7.96l-1.37-1.37c-.4-.4-.92-.59-1.43-.59-.52 0-1.04.2-1.43.59L10.3 9.45l-7.72 7.72c-.78.78-.78 2.05 0 2.83L4 21.41c.39.39.9.59 1.41.59.51 0 1.02-.2 1.41-.59l7.78-7.78 2.81-2.81c.8-.78.8-2.07 0-2.86zM5.41 20L4 18.59l7.72-7.72 1.47 1.35L5.41 20z\"/>\n",
              "  </svg>\n",
              "      </button>\n",
              "      \n",
              "  <style>\n",
              "    .colab-df-container {\n",
              "      display:flex;\n",
              "      flex-wrap:wrap;\n",
              "      gap: 12px;\n",
              "    }\n",
              "\n",
              "    .colab-df-convert {\n",
              "      background-color: #E8F0FE;\n",
              "      border: none;\n",
              "      border-radius: 50%;\n",
              "      cursor: pointer;\n",
              "      display: none;\n",
              "      fill: #1967D2;\n",
              "      height: 32px;\n",
              "      padding: 0 0 0 0;\n",
              "      width: 32px;\n",
              "    }\n",
              "\n",
              "    .colab-df-convert:hover {\n",
              "      background-color: #E2EBFA;\n",
              "      box-shadow: 0px 1px 2px rgba(60, 64, 67, 0.3), 0px 1px 3px 1px rgba(60, 64, 67, 0.15);\n",
              "      fill: #174EA6;\n",
              "    }\n",
              "\n",
              "    [theme=dark] .colab-df-convert {\n",
              "      background-color: #3B4455;\n",
              "      fill: #D2E3FC;\n",
              "    }\n",
              "\n",
              "    [theme=dark] .colab-df-convert:hover {\n",
              "      background-color: #434B5C;\n",
              "      box-shadow: 0px 1px 3px 1px rgba(0, 0, 0, 0.15);\n",
              "      filter: drop-shadow(0px 1px 2px rgba(0, 0, 0, 0.3));\n",
              "      fill: #FFFFFF;\n",
              "    }\n",
              "  </style>\n",
              "\n",
              "      <script>\n",
              "        const buttonEl =\n",
              "          document.querySelector('#df-41463c34-40b1-492c-874d-88af920fa4d8 button.colab-df-convert');\n",
              "        buttonEl.style.display =\n",
              "          google.colab.kernel.accessAllowed ? 'block' : 'none';\n",
              "\n",
              "        async function convertToInteractive(key) {\n",
              "          const element = document.querySelector('#df-41463c34-40b1-492c-874d-88af920fa4d8');\n",
              "          const dataTable =\n",
              "            await google.colab.kernel.invokeFunction('convertToInteractive',\n",
              "                                                     [key], {});\n",
              "          if (!dataTable) return;\n",
              "\n",
              "          const docLinkHtml = 'Like what you see? Visit the ' +\n",
              "            '<a target=\"_blank\" href=https://colab.research.google.com/notebooks/data_table.ipynb>data table notebook</a>'\n",
              "            + ' to learn more about interactive tables.';\n",
              "          element.innerHTML = '';\n",
              "          dataTable['output_type'] = 'display_data';\n",
              "          await google.colab.output.renderOutput(dataTable, element);\n",
              "          const docLink = document.createElement('div');\n",
              "          docLink.innerHTML = docLinkHtml;\n",
              "          element.appendChild(docLink);\n",
              "        }\n",
              "      </script>\n",
              "    </div>\n",
              "  </div>\n",
              "  "
            ]
          },
          "metadata": {},
          "execution_count": 84
        }
      ]
    },
    {
      "cell_type": "markdown",
      "source": [
        "Podemos ver lista de de columnas correscpondientes. Donde vemos cantidad de valores no nulos, la media, la desviacion, el valor minimo, lo que hay debajo del 25%, 50%, 75% y ademas el numero maximo."
      ],
      "metadata": {
        "id": "HL6IRyvN5y8s"
      }
    },
    {
      "cell_type": "code",
      "source": [
        "datos.index"
      ],
      "metadata": {
        "colab": {
          "base_uri": "https://localhost:8080/"
        },
        "id": "WF_55JmV50c4",
        "outputId": "f43fec81-428a-485a-b625-698157abc055"
      },
      "execution_count": null,
      "outputs": [
        {
          "output_type": "execute_result",
          "data": {
            "text/plain": [
              "Index(['18/05/2022', '13/05/2022', '16/05/2022', '04/07/2022', '09/05/2022',\n",
              "       '29/04/2022', '21/06/2022', '21/06/2022', '07/06/2022', '20/06/2022',\n",
              "       ...\n",
              "       '28/06/2022', '07/07/2022', '06/07/2022', '06/07/2022', '02/06/2022',\n",
              "       '18/05/2022', '15/05/2022', '10/07/2022', '06/07/2022', '04/05/2022'],\n",
              "      dtype='object', name='Posted On', length=4746)"
            ]
          },
          "metadata": {},
          "execution_count": 85
        }
      ]
    },
    {
      "cell_type": "code",
      "source": [
        "datos.columns"
      ],
      "metadata": {
        "colab": {
          "base_uri": "https://localhost:8080/"
        },
        "id": "2-1iR1Ek55Fw",
        "outputId": "145043a0-24db-445b-ecfd-93ac8cdb0d57"
      },
      "execution_count": null,
      "outputs": [
        {
          "output_type": "execute_result",
          "data": {
            "text/plain": [
              "Index(['BHK', 'Rent', 'Size', 'Floor', 'Area Type', 'Area Locality', 'City',\n",
              "       'Furnishing Status', 'Tenant Preferred', 'Bathroom',\n",
              "       'Point of Contact'],\n",
              "      dtype='object')"
            ]
          },
          "metadata": {},
          "execution_count": 86
        }
      ]
    },
    {
      "cell_type": "markdown",
      "source": [
        "Podemos confirmar el numero de filas con el numero de columnas."
      ],
      "metadata": {
        "id": "v4Png2Ne56Fq"
      }
    },
    {
      "cell_type": "code",
      "source": [
        "columnas3 = datos.columns\n",
        "columnas3"
      ],
      "metadata": {
        "colab": {
          "base_uri": "https://localhost:8080/"
        },
        "id": "VP6fyscg59gB",
        "outputId": "b27a9151-d6b2-4552-b942-b69f026c846c"
      },
      "execution_count": null,
      "outputs": [
        {
          "output_type": "execute_result",
          "data": {
            "text/plain": [
              "Index(['BHK', 'Rent', 'Size', 'Floor', 'Area Type', 'Area Locality', 'City',\n",
              "       'Furnishing Status', 'Tenant Preferred', 'Bathroom',\n",
              "       'Point of Contact'],\n",
              "      dtype='object')"
            ]
          },
          "metadata": {},
          "execution_count": 87
        }
      ]
    },
    {
      "cell_type": "markdown",
      "source": [
        "Guardo la info de columnas."
      ],
      "metadata": {
        "id": "qIdwhCjg6C7R"
      }
    },
    {
      "cell_type": "code",
      "source": [
        "type(columnas3)"
      ],
      "metadata": {
        "colab": {
          "base_uri": "https://localhost:8080/"
        },
        "id": "q8maeRfy6DR4",
        "outputId": "a7832551-79ba-4045-bf12-813b3b058918"
      },
      "execution_count": null,
      "outputs": [
        {
          "output_type": "execute_result",
          "data": {
            "text/plain": [
              "pandas.core.indexes.base.Index"
            ]
          },
          "metadata": {},
          "execution_count": 88
        }
      ]
    },
    {
      "cell_type": "markdown",
      "source": [
        "Podemos visualizar el tipo de dato de las respectivas columnas."
      ],
      "metadata": {
        "id": "oSgcMGrY6GdQ"
      }
    },
    {
      "cell_type": "code",
      "source": [
        "datos.tail(5)"
      ],
      "metadata": {
        "colab": {
          "base_uri": "https://localhost:8080/",
          "height": 237
        },
        "id": "Majgt1B46HFJ",
        "outputId": "eb1a4b35-e2ef-4117-cc75-c87918fc21d3"
      },
      "execution_count": null,
      "outputs": [
        {
          "output_type": "execute_result",
          "data": {
            "text/plain": [
              "            BHK   Rent  Size         Floor    Area Type         Area Locality  \\\n",
              "Posted On                                                                       \n",
              "18/05/2022    2  15000  1000    3 out of 5  Carpet Area          Bandam Kommu   \n",
              "15/05/2022    3  29000  2000    1 out of 4   Super Area  Manikonda, Hyderabad   \n",
              "10/07/2022    3  35000  1750    3 out of 5  Carpet Area  Himayath Nagar, NH 7   \n",
              "06/07/2022    3  45000  1500  23 out of 34  Carpet Area            Gachibowli   \n",
              "04/05/2022    2  15000  1000    4 out of 5  Carpet Area       Suchitra Circle   \n",
              "\n",
              "                 City Furnishing Status  Tenant Preferred  Bathroom  \\\n",
              "Posted On                                                             \n",
              "18/05/2022  Hyderabad    Semi-Furnished  Bachelors/Family         2   \n",
              "15/05/2022  Hyderabad    Semi-Furnished  Bachelors/Family         3   \n",
              "10/07/2022  Hyderabad    Semi-Furnished  Bachelors/Family         3   \n",
              "06/07/2022  Hyderabad    Semi-Furnished            Family         2   \n",
              "04/05/2022  Hyderabad       Unfurnished         Bachelors         2   \n",
              "\n",
              "           Point of Contact  \n",
              "Posted On                    \n",
              "18/05/2022    Contact Owner  \n",
              "15/05/2022    Contact Owner  \n",
              "10/07/2022    Contact Agent  \n",
              "06/07/2022    Contact Agent  \n",
              "04/05/2022    Contact Owner  "
            ],
            "text/html": [
              "\n",
              "  <div id=\"df-e3cecfe2-82a2-4a38-bb36-af720297a6a1\">\n",
              "    <div class=\"colab-df-container\">\n",
              "      <div>\n",
              "<style scoped>\n",
              "    .dataframe tbody tr th:only-of-type {\n",
              "        vertical-align: middle;\n",
              "    }\n",
              "\n",
              "    .dataframe tbody tr th {\n",
              "        vertical-align: top;\n",
              "    }\n",
              "\n",
              "    .dataframe thead th {\n",
              "        text-align: right;\n",
              "    }\n",
              "</style>\n",
              "<table border=\"1\" class=\"dataframe\">\n",
              "  <thead>\n",
              "    <tr style=\"text-align: right;\">\n",
              "      <th></th>\n",
              "      <th>BHK</th>\n",
              "      <th>Rent</th>\n",
              "      <th>Size</th>\n",
              "      <th>Floor</th>\n",
              "      <th>Area Type</th>\n",
              "      <th>Area Locality</th>\n",
              "      <th>City</th>\n",
              "      <th>Furnishing Status</th>\n",
              "      <th>Tenant Preferred</th>\n",
              "      <th>Bathroom</th>\n",
              "      <th>Point of Contact</th>\n",
              "    </tr>\n",
              "    <tr>\n",
              "      <th>Posted On</th>\n",
              "      <th></th>\n",
              "      <th></th>\n",
              "      <th></th>\n",
              "      <th></th>\n",
              "      <th></th>\n",
              "      <th></th>\n",
              "      <th></th>\n",
              "      <th></th>\n",
              "      <th></th>\n",
              "      <th></th>\n",
              "      <th></th>\n",
              "    </tr>\n",
              "  </thead>\n",
              "  <tbody>\n",
              "    <tr>\n",
              "      <th>18/05/2022</th>\n",
              "      <td>2</td>\n",
              "      <td>15000</td>\n",
              "      <td>1000</td>\n",
              "      <td>3 out of 5</td>\n",
              "      <td>Carpet Area</td>\n",
              "      <td>Bandam Kommu</td>\n",
              "      <td>Hyderabad</td>\n",
              "      <td>Semi-Furnished</td>\n",
              "      <td>Bachelors/Family</td>\n",
              "      <td>2</td>\n",
              "      <td>Contact Owner</td>\n",
              "    </tr>\n",
              "    <tr>\n",
              "      <th>15/05/2022</th>\n",
              "      <td>3</td>\n",
              "      <td>29000</td>\n",
              "      <td>2000</td>\n",
              "      <td>1 out of 4</td>\n",
              "      <td>Super Area</td>\n",
              "      <td>Manikonda, Hyderabad</td>\n",
              "      <td>Hyderabad</td>\n",
              "      <td>Semi-Furnished</td>\n",
              "      <td>Bachelors/Family</td>\n",
              "      <td>3</td>\n",
              "      <td>Contact Owner</td>\n",
              "    </tr>\n",
              "    <tr>\n",
              "      <th>10/07/2022</th>\n",
              "      <td>3</td>\n",
              "      <td>35000</td>\n",
              "      <td>1750</td>\n",
              "      <td>3 out of 5</td>\n",
              "      <td>Carpet Area</td>\n",
              "      <td>Himayath Nagar, NH 7</td>\n",
              "      <td>Hyderabad</td>\n",
              "      <td>Semi-Furnished</td>\n",
              "      <td>Bachelors/Family</td>\n",
              "      <td>3</td>\n",
              "      <td>Contact Agent</td>\n",
              "    </tr>\n",
              "    <tr>\n",
              "      <th>06/07/2022</th>\n",
              "      <td>3</td>\n",
              "      <td>45000</td>\n",
              "      <td>1500</td>\n",
              "      <td>23 out of 34</td>\n",
              "      <td>Carpet Area</td>\n",
              "      <td>Gachibowli</td>\n",
              "      <td>Hyderabad</td>\n",
              "      <td>Semi-Furnished</td>\n",
              "      <td>Family</td>\n",
              "      <td>2</td>\n",
              "      <td>Contact Agent</td>\n",
              "    </tr>\n",
              "    <tr>\n",
              "      <th>04/05/2022</th>\n",
              "      <td>2</td>\n",
              "      <td>15000</td>\n",
              "      <td>1000</td>\n",
              "      <td>4 out of 5</td>\n",
              "      <td>Carpet Area</td>\n",
              "      <td>Suchitra Circle</td>\n",
              "      <td>Hyderabad</td>\n",
              "      <td>Unfurnished</td>\n",
              "      <td>Bachelors</td>\n",
              "      <td>2</td>\n",
              "      <td>Contact Owner</td>\n",
              "    </tr>\n",
              "  </tbody>\n",
              "</table>\n",
              "</div>\n",
              "      <button class=\"colab-df-convert\" onclick=\"convertToInteractive('df-e3cecfe2-82a2-4a38-bb36-af720297a6a1')\"\n",
              "              title=\"Convert this dataframe to an interactive table.\"\n",
              "              style=\"display:none;\">\n",
              "        \n",
              "  <svg xmlns=\"http://www.w3.org/2000/svg\" height=\"24px\"viewBox=\"0 0 24 24\"\n",
              "       width=\"24px\">\n",
              "    <path d=\"M0 0h24v24H0V0z\" fill=\"none\"/>\n",
              "    <path d=\"M18.56 5.44l.94 2.06.94-2.06 2.06-.94-2.06-.94-.94-2.06-.94 2.06-2.06.94zm-11 1L8.5 8.5l.94-2.06 2.06-.94-2.06-.94L8.5 2.5l-.94 2.06-2.06.94zm10 10l.94 2.06.94-2.06 2.06-.94-2.06-.94-.94-2.06-.94 2.06-2.06.94z\"/><path d=\"M17.41 7.96l-1.37-1.37c-.4-.4-.92-.59-1.43-.59-.52 0-1.04.2-1.43.59L10.3 9.45l-7.72 7.72c-.78.78-.78 2.05 0 2.83L4 21.41c.39.39.9.59 1.41.59.51 0 1.02-.2 1.41-.59l7.78-7.78 2.81-2.81c.8-.78.8-2.07 0-2.86zM5.41 20L4 18.59l7.72-7.72 1.47 1.35L5.41 20z\"/>\n",
              "  </svg>\n",
              "      </button>\n",
              "      \n",
              "  <style>\n",
              "    .colab-df-container {\n",
              "      display:flex;\n",
              "      flex-wrap:wrap;\n",
              "      gap: 12px;\n",
              "    }\n",
              "\n",
              "    .colab-df-convert {\n",
              "      background-color: #E8F0FE;\n",
              "      border: none;\n",
              "      border-radius: 50%;\n",
              "      cursor: pointer;\n",
              "      display: none;\n",
              "      fill: #1967D2;\n",
              "      height: 32px;\n",
              "      padding: 0 0 0 0;\n",
              "      width: 32px;\n",
              "    }\n",
              "\n",
              "    .colab-df-convert:hover {\n",
              "      background-color: #E2EBFA;\n",
              "      box-shadow: 0px 1px 2px rgba(60, 64, 67, 0.3), 0px 1px 3px 1px rgba(60, 64, 67, 0.15);\n",
              "      fill: #174EA6;\n",
              "    }\n",
              "\n",
              "    [theme=dark] .colab-df-convert {\n",
              "      background-color: #3B4455;\n",
              "      fill: #D2E3FC;\n",
              "    }\n",
              "\n",
              "    [theme=dark] .colab-df-convert:hover {\n",
              "      background-color: #434B5C;\n",
              "      box-shadow: 0px 1px 3px 1px rgba(0, 0, 0, 0.15);\n",
              "      filter: drop-shadow(0px 1px 2px rgba(0, 0, 0, 0.3));\n",
              "      fill: #FFFFFF;\n",
              "    }\n",
              "  </style>\n",
              "\n",
              "      <script>\n",
              "        const buttonEl =\n",
              "          document.querySelector('#df-e3cecfe2-82a2-4a38-bb36-af720297a6a1 button.colab-df-convert');\n",
              "        buttonEl.style.display =\n",
              "          google.colab.kernel.accessAllowed ? 'block' : 'none';\n",
              "\n",
              "        async function convertToInteractive(key) {\n",
              "          const element = document.querySelector('#df-e3cecfe2-82a2-4a38-bb36-af720297a6a1');\n",
              "          const dataTable =\n",
              "            await google.colab.kernel.invokeFunction('convertToInteractive',\n",
              "                                                     [key], {});\n",
              "          if (!dataTable) return;\n",
              "\n",
              "          const docLinkHtml = 'Like what you see? Visit the ' +\n",
              "            '<a target=\"_blank\" href=https://colab.research.google.com/notebooks/data_table.ipynb>data table notebook</a>'\n",
              "            + ' to learn more about interactive tables.';\n",
              "          element.innerHTML = '';\n",
              "          dataTable['output_type'] = 'display_data';\n",
              "          await google.colab.output.renderOutput(dataTable, element);\n",
              "          const docLink = document.createElement('div');\n",
              "          docLink.innerHTML = docLinkHtml;\n",
              "          element.appendChild(docLink);\n",
              "        }\n",
              "      </script>\n",
              "    </div>\n",
              "  </div>\n",
              "  "
            ]
          },
          "metadata": {},
          "execution_count": 89
        }
      ]
    },
    {
      "cell_type": "markdown",
      "source": [
        "Podemos visualizar las ultimas 5 filas."
      ],
      "metadata": {
        "id": "Vo-nYTCq6J4Q"
      }
    },
    {
      "cell_type": "code",
      "source": [
        "datos.City"
      ],
      "metadata": {
        "colab": {
          "base_uri": "https://localhost:8080/"
        },
        "id": "-5sY5oU46KLR",
        "outputId": "ee183a30-2f8d-41d4-f07a-d3a5d7878b9b"
      },
      "execution_count": null,
      "outputs": [
        {
          "output_type": "execute_result",
          "data": {
            "text/plain": [
              "Posted On\n",
              "18/05/2022      Kolkata\n",
              "13/05/2022      Kolkata\n",
              "16/05/2022      Kolkata\n",
              "04/07/2022      Kolkata\n",
              "09/05/2022      Kolkata\n",
              "                ...    \n",
              "18/05/2022    Hyderabad\n",
              "15/05/2022    Hyderabad\n",
              "10/07/2022    Hyderabad\n",
              "06/07/2022    Hyderabad\n",
              "04/05/2022    Hyderabad\n",
              "Name: City, Length: 4746, dtype: object"
            ]
          },
          "metadata": {},
          "execution_count": 92
        }
      ]
    },
    {
      "cell_type": "markdown",
      "source": [
        "Obtencion de valores de una columa en concreto. Se tomo de ejemplo la columna City.Podemos visualizar los primeros 4 y ultimos 5 datos."
      ],
      "metadata": {
        "id": "VypwBEyo6pLA"
      }
    },
    {
      "cell_type": "code",
      "source": [
        "datos.loc[datos.City=='Delhi']"
      ],
      "metadata": {
        "colab": {
          "base_uri": "https://localhost:8080/",
          "height": 455
        },
        "id": "EC-X6hwU6tu4",
        "outputId": "de0a72fe-d4e1-4e63-d1b8-c9080fb8d0e3"
      },
      "execution_count": null,
      "outputs": [
        {
          "output_type": "execute_result",
          "data": {
            "text/plain": [
              "            BHK   Rent  Size            Floor    Area Type  \\\n",
              "Posted On                                                    \n",
              "24/06/2022    2  14000   800       1 out of 3   Super Area   \n",
              "30/06/2022    1  20000   200  Ground out of 2   Super Area   \n",
              "26/06/2022    3  80000  1800       1 out of 3  Carpet Area   \n",
              "08/06/2022    1   9500   400       2 out of 4  Carpet Area   \n",
              "08/06/2022    3  14000   600       2 out of 4  Carpet Area   \n",
              "...         ...    ...   ...              ...          ...   \n",
              "13/06/2022    2  31000  1200       3 out of 4   Super Area   \n",
              "15/05/2022    1   9000   250  Ground out of 3   Super Area   \n",
              "04/06/2022    2   9000   700       4 out of 5   Super Area   \n",
              "01/07/2022    3  27000  1050  Ground out of 4  Carpet Area   \n",
              "05/07/2022    2  12500   500       2 out of 4  Carpet Area   \n",
              "\n",
              "                                                Area Locality   City  \\\n",
              "Posted On                                                              \n",
              "24/06/2022                            Keshav Puram, Tri Nagar  Delhi   \n",
              "30/06/2022                                          Hauz Khas  Delhi   \n",
              "26/06/2022                                  South Extension 1  Delhi   \n",
              "08/06/2022                                          Neb Sarai  Delhi   \n",
              "08/06/2022                          kst chattarpur Apartments  Delhi   \n",
              "...                                                       ...    ...   \n",
              "13/06/2022                                          Pitampura  Delhi   \n",
              "15/05/2022  Jai laxmi Apartments, Indraprastha Extension, ...  Delhi   \n",
              "04/06/2022                                         Sant Nagar  Delhi   \n",
              "01/07/2022                       Nalanda Apartment, Vikaspuri  Delhi   \n",
              "05/07/2022                                        Laxmi Nagar  Delhi   \n",
              "\n",
              "           Furnishing Status  Tenant Preferred  Bathroom Point of Contact  \n",
              "Posted On                                                                  \n",
              "24/06/2022    Semi-Furnished  Bachelors/Family         2    Contact Owner  \n",
              "30/06/2022         Furnished         Bachelors         1    Contact Owner  \n",
              "26/06/2022    Semi-Furnished  Bachelors/Family         3    Contact Owner  \n",
              "08/06/2022       Unfurnished  Bachelors/Family         1    Contact Agent  \n",
              "08/06/2022       Unfurnished         Bachelors         3    Contact Agent  \n",
              "...                      ...               ...       ...              ...  \n",
              "13/06/2022    Semi-Furnished  Bachelors/Family         2    Contact Owner  \n",
              "15/05/2022    Semi-Furnished  Bachelors/Family         1    Contact Owner  \n",
              "04/06/2022    Semi-Furnished  Bachelors/Family         1    Contact Owner  \n",
              "01/07/2022       Unfurnished            Family         2    Contact Agent  \n",
              "05/07/2022    Semi-Furnished  Bachelors/Family         2    Contact Agent  \n",
              "\n",
              "[605 rows x 11 columns]"
            ],
            "text/html": [
              "\n",
              "  <div id=\"df-d3283410-2ae4-4e49-8920-3d8bf4dcc480\">\n",
              "    <div class=\"colab-df-container\">\n",
              "      <div>\n",
              "<style scoped>\n",
              "    .dataframe tbody tr th:only-of-type {\n",
              "        vertical-align: middle;\n",
              "    }\n",
              "\n",
              "    .dataframe tbody tr th {\n",
              "        vertical-align: top;\n",
              "    }\n",
              "\n",
              "    .dataframe thead th {\n",
              "        text-align: right;\n",
              "    }\n",
              "</style>\n",
              "<table border=\"1\" class=\"dataframe\">\n",
              "  <thead>\n",
              "    <tr style=\"text-align: right;\">\n",
              "      <th></th>\n",
              "      <th>BHK</th>\n",
              "      <th>Rent</th>\n",
              "      <th>Size</th>\n",
              "      <th>Floor</th>\n",
              "      <th>Area Type</th>\n",
              "      <th>Area Locality</th>\n",
              "      <th>City</th>\n",
              "      <th>Furnishing Status</th>\n",
              "      <th>Tenant Preferred</th>\n",
              "      <th>Bathroom</th>\n",
              "      <th>Point of Contact</th>\n",
              "    </tr>\n",
              "    <tr>\n",
              "      <th>Posted On</th>\n",
              "      <th></th>\n",
              "      <th></th>\n",
              "      <th></th>\n",
              "      <th></th>\n",
              "      <th></th>\n",
              "      <th></th>\n",
              "      <th></th>\n",
              "      <th></th>\n",
              "      <th></th>\n",
              "      <th></th>\n",
              "      <th></th>\n",
              "    </tr>\n",
              "  </thead>\n",
              "  <tbody>\n",
              "    <tr>\n",
              "      <th>24/06/2022</th>\n",
              "      <td>2</td>\n",
              "      <td>14000</td>\n",
              "      <td>800</td>\n",
              "      <td>1 out of 3</td>\n",
              "      <td>Super Area</td>\n",
              "      <td>Keshav Puram, Tri Nagar</td>\n",
              "      <td>Delhi</td>\n",
              "      <td>Semi-Furnished</td>\n",
              "      <td>Bachelors/Family</td>\n",
              "      <td>2</td>\n",
              "      <td>Contact Owner</td>\n",
              "    </tr>\n",
              "    <tr>\n",
              "      <th>30/06/2022</th>\n",
              "      <td>1</td>\n",
              "      <td>20000</td>\n",
              "      <td>200</td>\n",
              "      <td>Ground out of 2</td>\n",
              "      <td>Super Area</td>\n",
              "      <td>Hauz Khas</td>\n",
              "      <td>Delhi</td>\n",
              "      <td>Furnished</td>\n",
              "      <td>Bachelors</td>\n",
              "      <td>1</td>\n",
              "      <td>Contact Owner</td>\n",
              "    </tr>\n",
              "    <tr>\n",
              "      <th>26/06/2022</th>\n",
              "      <td>3</td>\n",
              "      <td>80000</td>\n",
              "      <td>1800</td>\n",
              "      <td>1 out of 3</td>\n",
              "      <td>Carpet Area</td>\n",
              "      <td>South Extension 1</td>\n",
              "      <td>Delhi</td>\n",
              "      <td>Semi-Furnished</td>\n",
              "      <td>Bachelors/Family</td>\n",
              "      <td>3</td>\n",
              "      <td>Contact Owner</td>\n",
              "    </tr>\n",
              "    <tr>\n",
              "      <th>08/06/2022</th>\n",
              "      <td>1</td>\n",
              "      <td>9500</td>\n",
              "      <td>400</td>\n",
              "      <td>2 out of 4</td>\n",
              "      <td>Carpet Area</td>\n",
              "      <td>Neb Sarai</td>\n",
              "      <td>Delhi</td>\n",
              "      <td>Unfurnished</td>\n",
              "      <td>Bachelors/Family</td>\n",
              "      <td>1</td>\n",
              "      <td>Contact Agent</td>\n",
              "    </tr>\n",
              "    <tr>\n",
              "      <th>08/06/2022</th>\n",
              "      <td>3</td>\n",
              "      <td>14000</td>\n",
              "      <td>600</td>\n",
              "      <td>2 out of 4</td>\n",
              "      <td>Carpet Area</td>\n",
              "      <td>kst chattarpur Apartments</td>\n",
              "      <td>Delhi</td>\n",
              "      <td>Unfurnished</td>\n",
              "      <td>Bachelors</td>\n",
              "      <td>3</td>\n",
              "      <td>Contact Agent</td>\n",
              "    </tr>\n",
              "    <tr>\n",
              "      <th>...</th>\n",
              "      <td>...</td>\n",
              "      <td>...</td>\n",
              "      <td>...</td>\n",
              "      <td>...</td>\n",
              "      <td>...</td>\n",
              "      <td>...</td>\n",
              "      <td>...</td>\n",
              "      <td>...</td>\n",
              "      <td>...</td>\n",
              "      <td>...</td>\n",
              "      <td>...</td>\n",
              "    </tr>\n",
              "    <tr>\n",
              "      <th>13/06/2022</th>\n",
              "      <td>2</td>\n",
              "      <td>31000</td>\n",
              "      <td>1200</td>\n",
              "      <td>3 out of 4</td>\n",
              "      <td>Super Area</td>\n",
              "      <td>Pitampura</td>\n",
              "      <td>Delhi</td>\n",
              "      <td>Semi-Furnished</td>\n",
              "      <td>Bachelors/Family</td>\n",
              "      <td>2</td>\n",
              "      <td>Contact Owner</td>\n",
              "    </tr>\n",
              "    <tr>\n",
              "      <th>15/05/2022</th>\n",
              "      <td>1</td>\n",
              "      <td>9000</td>\n",
              "      <td>250</td>\n",
              "      <td>Ground out of 3</td>\n",
              "      <td>Super Area</td>\n",
              "      <td>Jai laxmi Apartments, Indraprastha Extension, ...</td>\n",
              "      <td>Delhi</td>\n",
              "      <td>Semi-Furnished</td>\n",
              "      <td>Bachelors/Family</td>\n",
              "      <td>1</td>\n",
              "      <td>Contact Owner</td>\n",
              "    </tr>\n",
              "    <tr>\n",
              "      <th>04/06/2022</th>\n",
              "      <td>2</td>\n",
              "      <td>9000</td>\n",
              "      <td>700</td>\n",
              "      <td>4 out of 5</td>\n",
              "      <td>Super Area</td>\n",
              "      <td>Sant Nagar</td>\n",
              "      <td>Delhi</td>\n",
              "      <td>Semi-Furnished</td>\n",
              "      <td>Bachelors/Family</td>\n",
              "      <td>1</td>\n",
              "      <td>Contact Owner</td>\n",
              "    </tr>\n",
              "    <tr>\n",
              "      <th>01/07/2022</th>\n",
              "      <td>3</td>\n",
              "      <td>27000</td>\n",
              "      <td>1050</td>\n",
              "      <td>Ground out of 4</td>\n",
              "      <td>Carpet Area</td>\n",
              "      <td>Nalanda Apartment, Vikaspuri</td>\n",
              "      <td>Delhi</td>\n",
              "      <td>Unfurnished</td>\n",
              "      <td>Family</td>\n",
              "      <td>2</td>\n",
              "      <td>Contact Agent</td>\n",
              "    </tr>\n",
              "    <tr>\n",
              "      <th>05/07/2022</th>\n",
              "      <td>2</td>\n",
              "      <td>12500</td>\n",
              "      <td>500</td>\n",
              "      <td>2 out of 4</td>\n",
              "      <td>Carpet Area</td>\n",
              "      <td>Laxmi Nagar</td>\n",
              "      <td>Delhi</td>\n",
              "      <td>Semi-Furnished</td>\n",
              "      <td>Bachelors/Family</td>\n",
              "      <td>2</td>\n",
              "      <td>Contact Agent</td>\n",
              "    </tr>\n",
              "  </tbody>\n",
              "</table>\n",
              "<p>605 rows × 11 columns</p>\n",
              "</div>\n",
              "      <button class=\"colab-df-convert\" onclick=\"convertToInteractive('df-d3283410-2ae4-4e49-8920-3d8bf4dcc480')\"\n",
              "              title=\"Convert this dataframe to an interactive table.\"\n",
              "              style=\"display:none;\">\n",
              "        \n",
              "  <svg xmlns=\"http://www.w3.org/2000/svg\" height=\"24px\"viewBox=\"0 0 24 24\"\n",
              "       width=\"24px\">\n",
              "    <path d=\"M0 0h24v24H0V0z\" fill=\"none\"/>\n",
              "    <path d=\"M18.56 5.44l.94 2.06.94-2.06 2.06-.94-2.06-.94-.94-2.06-.94 2.06-2.06.94zm-11 1L8.5 8.5l.94-2.06 2.06-.94-2.06-.94L8.5 2.5l-.94 2.06-2.06.94zm10 10l.94 2.06.94-2.06 2.06-.94-2.06-.94-.94-2.06-.94 2.06-2.06.94z\"/><path d=\"M17.41 7.96l-1.37-1.37c-.4-.4-.92-.59-1.43-.59-.52 0-1.04.2-1.43.59L10.3 9.45l-7.72 7.72c-.78.78-.78 2.05 0 2.83L4 21.41c.39.39.9.59 1.41.59.51 0 1.02-.2 1.41-.59l7.78-7.78 2.81-2.81c.8-.78.8-2.07 0-2.86zM5.41 20L4 18.59l7.72-7.72 1.47 1.35L5.41 20z\"/>\n",
              "  </svg>\n",
              "      </button>\n",
              "      \n",
              "  <style>\n",
              "    .colab-df-container {\n",
              "      display:flex;\n",
              "      flex-wrap:wrap;\n",
              "      gap: 12px;\n",
              "    }\n",
              "\n",
              "    .colab-df-convert {\n",
              "      background-color: #E8F0FE;\n",
              "      border: none;\n",
              "      border-radius: 50%;\n",
              "      cursor: pointer;\n",
              "      display: none;\n",
              "      fill: #1967D2;\n",
              "      height: 32px;\n",
              "      padding: 0 0 0 0;\n",
              "      width: 32px;\n",
              "    }\n",
              "\n",
              "    .colab-df-convert:hover {\n",
              "      background-color: #E2EBFA;\n",
              "      box-shadow: 0px 1px 2px rgba(60, 64, 67, 0.3), 0px 1px 3px 1px rgba(60, 64, 67, 0.15);\n",
              "      fill: #174EA6;\n",
              "    }\n",
              "\n",
              "    [theme=dark] .colab-df-convert {\n",
              "      background-color: #3B4455;\n",
              "      fill: #D2E3FC;\n",
              "    }\n",
              "\n",
              "    [theme=dark] .colab-df-convert:hover {\n",
              "      background-color: #434B5C;\n",
              "      box-shadow: 0px 1px 3px 1px rgba(0, 0, 0, 0.15);\n",
              "      filter: drop-shadow(0px 1px 2px rgba(0, 0, 0, 0.3));\n",
              "      fill: #FFFFFF;\n",
              "    }\n",
              "  </style>\n",
              "\n",
              "      <script>\n",
              "        const buttonEl =\n",
              "          document.querySelector('#df-d3283410-2ae4-4e49-8920-3d8bf4dcc480 button.colab-df-convert');\n",
              "        buttonEl.style.display =\n",
              "          google.colab.kernel.accessAllowed ? 'block' : 'none';\n",
              "\n",
              "        async function convertToInteractive(key) {\n",
              "          const element = document.querySelector('#df-d3283410-2ae4-4e49-8920-3d8bf4dcc480');\n",
              "          const dataTable =\n",
              "            await google.colab.kernel.invokeFunction('convertToInteractive',\n",
              "                                                     [key], {});\n",
              "          if (!dataTable) return;\n",
              "\n",
              "          const docLinkHtml = 'Like what you see? Visit the ' +\n",
              "            '<a target=\"_blank\" href=https://colab.research.google.com/notebooks/data_table.ipynb>data table notebook</a>'\n",
              "            + ' to learn more about interactive tables.';\n",
              "          element.innerHTML = '';\n",
              "          dataTable['output_type'] = 'display_data';\n",
              "          await google.colab.output.renderOutput(dataTable, element);\n",
              "          const docLink = document.createElement('div');\n",
              "          docLink.innerHTML = docLinkHtml;\n",
              "          element.appendChild(docLink);\n",
              "        }\n",
              "      </script>\n",
              "    </div>\n",
              "  </div>\n",
              "  "
            ]
          },
          "metadata": {},
          "execution_count": 93
        }
      ]
    },
    {
      "cell_type": "markdown",
      "source": [
        "En esta seccion deberiamos ver la la lista con la condicion del pais asentado. Esto es productivo para poder visualizar sector de la india en interes a visualizar los datos, o tambien se puede realizar el mismo filtro por Localidad si se desea visualizar lo dicho."
      ],
      "metadata": {
        "id": "-FY8rPGA62Eg"
      }
    },
    {
      "cell_type": "code",
      "source": [
        "columnas_nulos = datos.columns[datos.isnull().any()]\n",
        "datos[columnas_nulos].isnull().sum()"
      ],
      "metadata": {
        "colab": {
          "base_uri": "https://localhost:8080/"
        },
        "id": "xExtHnoQ7CSB",
        "outputId": "6467a023-d3e7-46c1-adb8-5b5f5aff92ef"
      },
      "execution_count": null,
      "outputs": [
        {
          "output_type": "execute_result",
          "data": {
            "text/plain": [
              "Series([], dtype: float64)"
            ]
          },
          "metadata": {},
          "execution_count": 94
        }
      ]
    },
    {
      "cell_type": "markdown",
      "source": [
        "Podemos visualizar la cantidad de valores nulos hay en cada columna. Donde casualmente visualizamos que el dataset no contiene valores nulos."
      ],
      "metadata": {
        "id": "PqKX3AMm7Rg3"
      }
    },
    {
      "cell_type": "code",
      "source": [
        "datos.isnull().any()"
      ],
      "metadata": {
        "colab": {
          "base_uri": "https://localhost:8080/"
        },
        "id": "sHpQBA9Z7VCQ",
        "outputId": "c5d09564-21ea-411c-9013-f1c16f9de565"
      },
      "execution_count": null,
      "outputs": [
        {
          "output_type": "execute_result",
          "data": {
            "text/plain": [
              "BHK                  False\n",
              "Rent                 False\n",
              "Size                 False\n",
              "Floor                False\n",
              "Area Type            False\n",
              "Area Locality        False\n",
              "City                 False\n",
              "Furnishing Status    False\n",
              "Tenant Preferred     False\n",
              "Bathroom             False\n",
              "Point of Contact     False\n",
              "dtype: bool"
            ]
          },
          "metadata": {},
          "execution_count": 95
        }
      ]
    },
    {
      "cell_type": "markdown",
      "source": [
        "Confirmamos con metodo booleano lo asentado previamente."
      ],
      "metadata": {
        "id": "gOUujE5F7ad4"
      }
    },
    {
      "cell_type": "code",
      "source": [
        "datos.City.unique()"
      ],
      "metadata": {
        "colab": {
          "base_uri": "https://localhost:8080/"
        },
        "id": "Ivv5k9Nx7hhQ",
        "outputId": "e3f4b2f9-7f6f-4d67-82e3-6ab691a28493"
      },
      "execution_count": null,
      "outputs": [
        {
          "output_type": "execute_result",
          "data": {
            "text/plain": [
              "array(['Kolkata', 'Mumbai', 'Bangalore', 'Delhi', 'Chennai', 'Hyderabad'],\n",
              "      dtype=object)"
            ]
          },
          "metadata": {},
          "execution_count": 96
        }
      ]
    },
    {
      "cell_type": "markdown",
      "source": [
        "Podemos visualizar las distintivas ciudades publicadas en el dataset."
      ],
      "metadata": {
        "id": "xlqwO0487lDQ"
      }
    },
    {
      "cell_type": "markdown",
      "source": [
        "***Carga del correspondiente dataset Nº4.***"
      ],
      "metadata": {
        "id": "FjPxujASreN4"
      }
    },
    {
      "cell_type": "markdown",
      "source": [
        "Introduccion: Agregare un Dataset mas debido a que uno de los visualizados previamente no cumplia con la cantidad de filas correspondientes. Por lo tanto, presento este Dataset de Telecom, una importante compañia de telefonica la cual el dataset secciona a los usuarios a partir de su localidad informacion varios datos redundantes como cantidad de llamadas, mensajes, consumos en lineas generales, etc."
      ],
      "metadata": {
        "id": "TkMeIvxYrnHU"
      }
    },
    {
      "cell_type": "code",
      "source": [
        "datos = pd.read_csv('/content/drive/MyDrive/Data science- Datasets/Telecom Dataset/telecom_churn.csv',index_col=0,sep=';')\n",
        "datos.head(5)"
      ],
      "metadata": {
        "id": "rx4nN_z3u3tc",
        "colab": {
          "base_uri": "https://localhost:8080/",
          "height": 423
        },
        "outputId": "2cc6c899-dbab-4d1a-b9ec-88c04ae393fb"
      },
      "execution_count": null,
      "outputs": [
        {
          "output_type": "execute_result",
          "data": {
            "text/plain": [
              "       account length  area code phone number international plan  \\\n",
              "state                                                              \n",
              "KS                128        415     382-4657                 no   \n",
              "OH                107        415     371-7191                 no   \n",
              "NJ                137        415     358-1921                 no   \n",
              "OH                 84        408     375-9999                yes   \n",
              "OK                 75        415     330-6626                yes   \n",
              "\n",
              "      voice mail plan  number vmail messages  total day minutes  \\\n",
              "state                                                             \n",
              "KS                yes                     25              265.1   \n",
              "OH                yes                     26              161.6   \n",
              "NJ                 no                      0              243.4   \n",
              "OH                 no                      0              299.4   \n",
              "OK                 no                      0              166.7   \n",
              "\n",
              "       total day calls  total day charge  total eve minutes  total eve calls  \\\n",
              "state                                                                          \n",
              "KS                 110             45.07              197.4               99   \n",
              "OH                 123             27.47              195.5              103   \n",
              "NJ                 114             41.38              121.2              110   \n",
              "OH                  71             50.90               61.9               88   \n",
              "OK                 113             28.34              148.3              122   \n",
              "\n",
              "       total eve charge  total night minutes  total night calls  \\\n",
              "state                                                             \n",
              "KS                16.78                244.7                 91   \n",
              "OH                16.62                254.4                103   \n",
              "NJ                10.30                162.6                104   \n",
              "OH                 5.26                196.9                 89   \n",
              "OK                12.61                186.9                121   \n",
              "\n",
              "       total night charge  total intl minutes  total intl calls  \\\n",
              "state                                                             \n",
              "KS                  11.01                10.0                 3   \n",
              "OH                  11.45                13.7                 3   \n",
              "NJ                   7.32                12.2                 5   \n",
              "OH                   8.86                 6.6                 7   \n",
              "OK                   8.41                10.1                 3   \n",
              "\n",
              "       total intl charge  customer service calls  churn  \n",
              "state                                                    \n",
              "KS                  2.70                       1  False  \n",
              "OH                  3.70                       1  False  \n",
              "NJ                  3.29                       0  False  \n",
              "OH                  1.78                       2  False  \n",
              "OK                  2.73                       3  False  "
            ],
            "text/html": [
              "\n",
              "  <div id=\"df-4c925191-6bcf-41fe-bc9d-ca5bc396f4c8\">\n",
              "    <div class=\"colab-df-container\">\n",
              "      <div>\n",
              "<style scoped>\n",
              "    .dataframe tbody tr th:only-of-type {\n",
              "        vertical-align: middle;\n",
              "    }\n",
              "\n",
              "    .dataframe tbody tr th {\n",
              "        vertical-align: top;\n",
              "    }\n",
              "\n",
              "    .dataframe thead th {\n",
              "        text-align: right;\n",
              "    }\n",
              "</style>\n",
              "<table border=\"1\" class=\"dataframe\">\n",
              "  <thead>\n",
              "    <tr style=\"text-align: right;\">\n",
              "      <th></th>\n",
              "      <th>account length</th>\n",
              "      <th>area code</th>\n",
              "      <th>phone number</th>\n",
              "      <th>international plan</th>\n",
              "      <th>voice mail plan</th>\n",
              "      <th>number vmail messages</th>\n",
              "      <th>total day minutes</th>\n",
              "      <th>total day calls</th>\n",
              "      <th>total day charge</th>\n",
              "      <th>total eve minutes</th>\n",
              "      <th>total eve calls</th>\n",
              "      <th>total eve charge</th>\n",
              "      <th>total night minutes</th>\n",
              "      <th>total night calls</th>\n",
              "      <th>total night charge</th>\n",
              "      <th>total intl minutes</th>\n",
              "      <th>total intl calls</th>\n",
              "      <th>total intl charge</th>\n",
              "      <th>customer service calls</th>\n",
              "      <th>churn</th>\n",
              "    </tr>\n",
              "    <tr>\n",
              "      <th>state</th>\n",
              "      <th></th>\n",
              "      <th></th>\n",
              "      <th></th>\n",
              "      <th></th>\n",
              "      <th></th>\n",
              "      <th></th>\n",
              "      <th></th>\n",
              "      <th></th>\n",
              "      <th></th>\n",
              "      <th></th>\n",
              "      <th></th>\n",
              "      <th></th>\n",
              "      <th></th>\n",
              "      <th></th>\n",
              "      <th></th>\n",
              "      <th></th>\n",
              "      <th></th>\n",
              "      <th></th>\n",
              "      <th></th>\n",
              "      <th></th>\n",
              "    </tr>\n",
              "  </thead>\n",
              "  <tbody>\n",
              "    <tr>\n",
              "      <th>KS</th>\n",
              "      <td>128</td>\n",
              "      <td>415</td>\n",
              "      <td>382-4657</td>\n",
              "      <td>no</td>\n",
              "      <td>yes</td>\n",
              "      <td>25</td>\n",
              "      <td>265.1</td>\n",
              "      <td>110</td>\n",
              "      <td>45.07</td>\n",
              "      <td>197.4</td>\n",
              "      <td>99</td>\n",
              "      <td>16.78</td>\n",
              "      <td>244.7</td>\n",
              "      <td>91</td>\n",
              "      <td>11.01</td>\n",
              "      <td>10.0</td>\n",
              "      <td>3</td>\n",
              "      <td>2.70</td>\n",
              "      <td>1</td>\n",
              "      <td>False</td>\n",
              "    </tr>\n",
              "    <tr>\n",
              "      <th>OH</th>\n",
              "      <td>107</td>\n",
              "      <td>415</td>\n",
              "      <td>371-7191</td>\n",
              "      <td>no</td>\n",
              "      <td>yes</td>\n",
              "      <td>26</td>\n",
              "      <td>161.6</td>\n",
              "      <td>123</td>\n",
              "      <td>27.47</td>\n",
              "      <td>195.5</td>\n",
              "      <td>103</td>\n",
              "      <td>16.62</td>\n",
              "      <td>254.4</td>\n",
              "      <td>103</td>\n",
              "      <td>11.45</td>\n",
              "      <td>13.7</td>\n",
              "      <td>3</td>\n",
              "      <td>3.70</td>\n",
              "      <td>1</td>\n",
              "      <td>False</td>\n",
              "    </tr>\n",
              "    <tr>\n",
              "      <th>NJ</th>\n",
              "      <td>137</td>\n",
              "      <td>415</td>\n",
              "      <td>358-1921</td>\n",
              "      <td>no</td>\n",
              "      <td>no</td>\n",
              "      <td>0</td>\n",
              "      <td>243.4</td>\n",
              "      <td>114</td>\n",
              "      <td>41.38</td>\n",
              "      <td>121.2</td>\n",
              "      <td>110</td>\n",
              "      <td>10.30</td>\n",
              "      <td>162.6</td>\n",
              "      <td>104</td>\n",
              "      <td>7.32</td>\n",
              "      <td>12.2</td>\n",
              "      <td>5</td>\n",
              "      <td>3.29</td>\n",
              "      <td>0</td>\n",
              "      <td>False</td>\n",
              "    </tr>\n",
              "    <tr>\n",
              "      <th>OH</th>\n",
              "      <td>84</td>\n",
              "      <td>408</td>\n",
              "      <td>375-9999</td>\n",
              "      <td>yes</td>\n",
              "      <td>no</td>\n",
              "      <td>0</td>\n",
              "      <td>299.4</td>\n",
              "      <td>71</td>\n",
              "      <td>50.90</td>\n",
              "      <td>61.9</td>\n",
              "      <td>88</td>\n",
              "      <td>5.26</td>\n",
              "      <td>196.9</td>\n",
              "      <td>89</td>\n",
              "      <td>8.86</td>\n",
              "      <td>6.6</td>\n",
              "      <td>7</td>\n",
              "      <td>1.78</td>\n",
              "      <td>2</td>\n",
              "      <td>False</td>\n",
              "    </tr>\n",
              "    <tr>\n",
              "      <th>OK</th>\n",
              "      <td>75</td>\n",
              "      <td>415</td>\n",
              "      <td>330-6626</td>\n",
              "      <td>yes</td>\n",
              "      <td>no</td>\n",
              "      <td>0</td>\n",
              "      <td>166.7</td>\n",
              "      <td>113</td>\n",
              "      <td>28.34</td>\n",
              "      <td>148.3</td>\n",
              "      <td>122</td>\n",
              "      <td>12.61</td>\n",
              "      <td>186.9</td>\n",
              "      <td>121</td>\n",
              "      <td>8.41</td>\n",
              "      <td>10.1</td>\n",
              "      <td>3</td>\n",
              "      <td>2.73</td>\n",
              "      <td>3</td>\n",
              "      <td>False</td>\n",
              "    </tr>\n",
              "  </tbody>\n",
              "</table>\n",
              "</div>\n",
              "      <button class=\"colab-df-convert\" onclick=\"convertToInteractive('df-4c925191-6bcf-41fe-bc9d-ca5bc396f4c8')\"\n",
              "              title=\"Convert this dataframe to an interactive table.\"\n",
              "              style=\"display:none;\">\n",
              "        \n",
              "  <svg xmlns=\"http://www.w3.org/2000/svg\" height=\"24px\"viewBox=\"0 0 24 24\"\n",
              "       width=\"24px\">\n",
              "    <path d=\"M0 0h24v24H0V0z\" fill=\"none\"/>\n",
              "    <path d=\"M18.56 5.44l.94 2.06.94-2.06 2.06-.94-2.06-.94-.94-2.06-.94 2.06-2.06.94zm-11 1L8.5 8.5l.94-2.06 2.06-.94-2.06-.94L8.5 2.5l-.94 2.06-2.06.94zm10 10l.94 2.06.94-2.06 2.06-.94-2.06-.94-.94-2.06-.94 2.06-2.06.94z\"/><path d=\"M17.41 7.96l-1.37-1.37c-.4-.4-.92-.59-1.43-.59-.52 0-1.04.2-1.43.59L10.3 9.45l-7.72 7.72c-.78.78-.78 2.05 0 2.83L4 21.41c.39.39.9.59 1.41.59.51 0 1.02-.2 1.41-.59l7.78-7.78 2.81-2.81c.8-.78.8-2.07 0-2.86zM5.41 20L4 18.59l7.72-7.72 1.47 1.35L5.41 20z\"/>\n",
              "  </svg>\n",
              "      </button>\n",
              "      \n",
              "  <style>\n",
              "    .colab-df-container {\n",
              "      display:flex;\n",
              "      flex-wrap:wrap;\n",
              "      gap: 12px;\n",
              "    }\n",
              "\n",
              "    .colab-df-convert {\n",
              "      background-color: #E8F0FE;\n",
              "      border: none;\n",
              "      border-radius: 50%;\n",
              "      cursor: pointer;\n",
              "      display: none;\n",
              "      fill: #1967D2;\n",
              "      height: 32px;\n",
              "      padding: 0 0 0 0;\n",
              "      width: 32px;\n",
              "    }\n",
              "\n",
              "    .colab-df-convert:hover {\n",
              "      background-color: #E2EBFA;\n",
              "      box-shadow: 0px 1px 2px rgba(60, 64, 67, 0.3), 0px 1px 3px 1px rgba(60, 64, 67, 0.15);\n",
              "      fill: #174EA6;\n",
              "    }\n",
              "\n",
              "    [theme=dark] .colab-df-convert {\n",
              "      background-color: #3B4455;\n",
              "      fill: #D2E3FC;\n",
              "    }\n",
              "\n",
              "    [theme=dark] .colab-df-convert:hover {\n",
              "      background-color: #434B5C;\n",
              "      box-shadow: 0px 1px 3px 1px rgba(0, 0, 0, 0.15);\n",
              "      filter: drop-shadow(0px 1px 2px rgba(0, 0, 0, 0.3));\n",
              "      fill: #FFFFFF;\n",
              "    }\n",
              "  </style>\n",
              "\n",
              "      <script>\n",
              "        const buttonEl =\n",
              "          document.querySelector('#df-4c925191-6bcf-41fe-bc9d-ca5bc396f4c8 button.colab-df-convert');\n",
              "        buttonEl.style.display =\n",
              "          google.colab.kernel.accessAllowed ? 'block' : 'none';\n",
              "\n",
              "        async function convertToInteractive(key) {\n",
              "          const element = document.querySelector('#df-4c925191-6bcf-41fe-bc9d-ca5bc396f4c8');\n",
              "          const dataTable =\n",
              "            await google.colab.kernel.invokeFunction('convertToInteractive',\n",
              "                                                     [key], {});\n",
              "          if (!dataTable) return;\n",
              "\n",
              "          const docLinkHtml = 'Like what you see? Visit the ' +\n",
              "            '<a target=\"_blank\" href=https://colab.research.google.com/notebooks/data_table.ipynb>data table notebook</a>'\n",
              "            + ' to learn more about interactive tables.';\n",
              "          element.innerHTML = '';\n",
              "          dataTable['output_type'] = 'display_data';\n",
              "          await google.colab.output.renderOutput(dataTable, element);\n",
              "          const docLink = document.createElement('div');\n",
              "          docLink.innerHTML = docLinkHtml;\n",
              "          element.appendChild(docLink);\n",
              "        }\n",
              "      </script>\n",
              "    </div>\n",
              "  </div>\n",
              "  "
            ]
          },
          "metadata": {},
          "execution_count": 4
        }
      ]
    },
    {
      "cell_type": "markdown",
      "source": [
        "La carga de datos ha sido exitosa."
      ],
      "metadata": {
        "id": "7Uaaody_-8sP"
      }
    },
    {
      "cell_type": "code",
      "source": [
        "datos.shape"
      ],
      "metadata": {
        "colab": {
          "base_uri": "https://localhost:8080/"
        },
        "id": "qZJ7kmMZ-_QN",
        "outputId": "b3dde62b-1a39-417c-d0da-84494bf80d1f"
      },
      "execution_count": null,
      "outputs": [
        {
          "output_type": "execute_result",
          "data": {
            "text/plain": [
              "(3333, 20)"
            ]
          },
          "metadata": {},
          "execution_count": 5
        }
      ]
    },
    {
      "cell_type": "markdown",
      "source": [
        "Podemos visualizar que el dataset contiene un total de 3333 filas y 20 columnas"
      ],
      "metadata": {
        "id": "HjT5gUSH_bd5"
      }
    },
    {
      "cell_type": "code",
      "source": [
        "datos.info()"
      ],
      "metadata": {
        "colab": {
          "base_uri": "https://localhost:8080/"
        },
        "id": "B70Vb4Wh_p-K",
        "outputId": "a9a21763-81e2-49ab-a024-8eb3c91dbd8b"
      },
      "execution_count": null,
      "outputs": [
        {
          "output_type": "stream",
          "name": "stdout",
          "text": [
            "<class 'pandas.core.frame.DataFrame'>\n",
            "Index: 3333 entries, KS to TN\n",
            "Data columns (total 20 columns):\n",
            " #   Column                  Non-Null Count  Dtype  \n",
            "---  ------                  --------------  -----  \n",
            " 0   account length          3333 non-null   int64  \n",
            " 1   area code               3333 non-null   int64  \n",
            " 2   phone number            3333 non-null   object \n",
            " 3   international plan      3333 non-null   object \n",
            " 4   voice mail plan         3333 non-null   object \n",
            " 5   number vmail messages   3333 non-null   int64  \n",
            " 6   total day minutes       3333 non-null   float64\n",
            " 7   total day calls         3333 non-null   int64  \n",
            " 8   total day charge        3333 non-null   float64\n",
            " 9   total eve minutes       3333 non-null   float64\n",
            " 10  total eve calls         3333 non-null   int64  \n",
            " 11  total eve charge        3333 non-null   float64\n",
            " 12  total night minutes     3333 non-null   float64\n",
            " 13  total night calls       3333 non-null   int64  \n",
            " 14  total night charge      3333 non-null   float64\n",
            " 15  total intl minutes      3333 non-null   float64\n",
            " 16  total intl calls        3333 non-null   int64  \n",
            " 17  total intl charge       3333 non-null   float64\n",
            " 18  customer service calls  3333 non-null   int64  \n",
            " 19  churn                   3333 non-null   bool   \n",
            "dtypes: bool(1), float64(8), int64(8), object(3)\n",
            "memory usage: 524.0+ KB\n"
          ]
        }
      ]
    },
    {
      "cell_type": "markdown",
      "source": [
        "Podemos visualizar una tabla que indica el indice de numeros de columnas a la izquierda, nombre de todas la columnas en la seguna columna vertical, el numero de datos non-null y ademas el tipo de dato en la ultima columna de la derecha. Ademas en la parte final la memoria utilizada."
      ],
      "metadata": {
        "id": "ONfdTqlX_voE"
      }
    },
    {
      "cell_type": "code",
      "source": [
        "datos.describe()"
      ],
      "metadata": {
        "colab": {
          "base_uri": "https://localhost:8080/",
          "height": 399
        },
        "id": "KQpGCmP__2NH",
        "outputId": "c83931c0-d31f-4a0c-d114-72cf1531ea8b"
      },
      "execution_count": null,
      "outputs": [
        {
          "output_type": "execute_result",
          "data": {
            "text/plain": [
              "       account length    area code  number vmail messages  total day minutes  \\\n",
              "count     3333.000000  3333.000000            3333.000000        3333.000000   \n",
              "mean       101.064806   437.182418               8.099010         179.775098   \n",
              "std         39.822106    42.371290              13.688365          54.467389   \n",
              "min          1.000000   408.000000               0.000000           0.000000   \n",
              "25%         74.000000   408.000000               0.000000         143.700000   \n",
              "50%        101.000000   415.000000               0.000000         179.400000   \n",
              "75%        127.000000   510.000000              20.000000         216.400000   \n",
              "max        243.000000   510.000000              51.000000         350.800000   \n",
              "\n",
              "       total day calls  total day charge  total eve minutes  total eve calls  \\\n",
              "count      3333.000000       3333.000000        3333.000000      3333.000000   \n",
              "mean        100.435644         30.562307         200.980348       100.114311   \n",
              "std          20.069084          9.259435          50.713844        19.922625   \n",
              "min           0.000000          0.000000           0.000000         0.000000   \n",
              "25%          87.000000         24.430000         166.600000        87.000000   \n",
              "50%         101.000000         30.500000         201.400000       100.000000   \n",
              "75%         114.000000         36.790000         235.300000       114.000000   \n",
              "max         165.000000         59.640000         363.700000       170.000000   \n",
              "\n",
              "       total eve charge  total night minutes  total night calls  \\\n",
              "count       3333.000000          3333.000000        3333.000000   \n",
              "mean          17.083540           200.872037         100.107711   \n",
              "std            4.310668            50.573847          19.568609   \n",
              "min            0.000000            23.200000          33.000000   \n",
              "25%           14.160000           167.000000          87.000000   \n",
              "50%           17.120000           201.200000         100.000000   \n",
              "75%           20.000000           235.300000         113.000000   \n",
              "max           30.910000           395.000000         175.000000   \n",
              "\n",
              "       total night charge  total intl minutes  total intl calls  \\\n",
              "count         3333.000000         3333.000000       3333.000000   \n",
              "mean             9.039325           10.237294          4.479448   \n",
              "std              2.275873            2.791840          2.461214   \n",
              "min              1.040000            0.000000          0.000000   \n",
              "25%              7.520000            8.500000          3.000000   \n",
              "50%              9.050000           10.300000          4.000000   \n",
              "75%             10.590000           12.100000          6.000000   \n",
              "max             17.770000           20.000000         20.000000   \n",
              "\n",
              "       total intl charge  customer service calls  \n",
              "count        3333.000000             3333.000000  \n",
              "mean            2.764581                1.562856  \n",
              "std             0.753773                1.315491  \n",
              "min             0.000000                0.000000  \n",
              "25%             2.300000                1.000000  \n",
              "50%             2.780000                1.000000  \n",
              "75%             3.270000                2.000000  \n",
              "max             5.400000                9.000000  "
            ],
            "text/html": [
              "\n",
              "  <div id=\"df-76092c0f-1002-4ef3-8adf-97eaf9d5ce32\">\n",
              "    <div class=\"colab-df-container\">\n",
              "      <div>\n",
              "<style scoped>\n",
              "    .dataframe tbody tr th:only-of-type {\n",
              "        vertical-align: middle;\n",
              "    }\n",
              "\n",
              "    .dataframe tbody tr th {\n",
              "        vertical-align: top;\n",
              "    }\n",
              "\n",
              "    .dataframe thead th {\n",
              "        text-align: right;\n",
              "    }\n",
              "</style>\n",
              "<table border=\"1\" class=\"dataframe\">\n",
              "  <thead>\n",
              "    <tr style=\"text-align: right;\">\n",
              "      <th></th>\n",
              "      <th>account length</th>\n",
              "      <th>area code</th>\n",
              "      <th>number vmail messages</th>\n",
              "      <th>total day minutes</th>\n",
              "      <th>total day calls</th>\n",
              "      <th>total day charge</th>\n",
              "      <th>total eve minutes</th>\n",
              "      <th>total eve calls</th>\n",
              "      <th>total eve charge</th>\n",
              "      <th>total night minutes</th>\n",
              "      <th>total night calls</th>\n",
              "      <th>total night charge</th>\n",
              "      <th>total intl minutes</th>\n",
              "      <th>total intl calls</th>\n",
              "      <th>total intl charge</th>\n",
              "      <th>customer service calls</th>\n",
              "    </tr>\n",
              "  </thead>\n",
              "  <tbody>\n",
              "    <tr>\n",
              "      <th>count</th>\n",
              "      <td>3333.000000</td>\n",
              "      <td>3333.000000</td>\n",
              "      <td>3333.000000</td>\n",
              "      <td>3333.000000</td>\n",
              "      <td>3333.000000</td>\n",
              "      <td>3333.000000</td>\n",
              "      <td>3333.000000</td>\n",
              "      <td>3333.000000</td>\n",
              "      <td>3333.000000</td>\n",
              "      <td>3333.000000</td>\n",
              "      <td>3333.000000</td>\n",
              "      <td>3333.000000</td>\n",
              "      <td>3333.000000</td>\n",
              "      <td>3333.000000</td>\n",
              "      <td>3333.000000</td>\n",
              "      <td>3333.000000</td>\n",
              "    </tr>\n",
              "    <tr>\n",
              "      <th>mean</th>\n",
              "      <td>101.064806</td>\n",
              "      <td>437.182418</td>\n",
              "      <td>8.099010</td>\n",
              "      <td>179.775098</td>\n",
              "      <td>100.435644</td>\n",
              "      <td>30.562307</td>\n",
              "      <td>200.980348</td>\n",
              "      <td>100.114311</td>\n",
              "      <td>17.083540</td>\n",
              "      <td>200.872037</td>\n",
              "      <td>100.107711</td>\n",
              "      <td>9.039325</td>\n",
              "      <td>10.237294</td>\n",
              "      <td>4.479448</td>\n",
              "      <td>2.764581</td>\n",
              "      <td>1.562856</td>\n",
              "    </tr>\n",
              "    <tr>\n",
              "      <th>std</th>\n",
              "      <td>39.822106</td>\n",
              "      <td>42.371290</td>\n",
              "      <td>13.688365</td>\n",
              "      <td>54.467389</td>\n",
              "      <td>20.069084</td>\n",
              "      <td>9.259435</td>\n",
              "      <td>50.713844</td>\n",
              "      <td>19.922625</td>\n",
              "      <td>4.310668</td>\n",
              "      <td>50.573847</td>\n",
              "      <td>19.568609</td>\n",
              "      <td>2.275873</td>\n",
              "      <td>2.791840</td>\n",
              "      <td>2.461214</td>\n",
              "      <td>0.753773</td>\n",
              "      <td>1.315491</td>\n",
              "    </tr>\n",
              "    <tr>\n",
              "      <th>min</th>\n",
              "      <td>1.000000</td>\n",
              "      <td>408.000000</td>\n",
              "      <td>0.000000</td>\n",
              "      <td>0.000000</td>\n",
              "      <td>0.000000</td>\n",
              "      <td>0.000000</td>\n",
              "      <td>0.000000</td>\n",
              "      <td>0.000000</td>\n",
              "      <td>0.000000</td>\n",
              "      <td>23.200000</td>\n",
              "      <td>33.000000</td>\n",
              "      <td>1.040000</td>\n",
              "      <td>0.000000</td>\n",
              "      <td>0.000000</td>\n",
              "      <td>0.000000</td>\n",
              "      <td>0.000000</td>\n",
              "    </tr>\n",
              "    <tr>\n",
              "      <th>25%</th>\n",
              "      <td>74.000000</td>\n",
              "      <td>408.000000</td>\n",
              "      <td>0.000000</td>\n",
              "      <td>143.700000</td>\n",
              "      <td>87.000000</td>\n",
              "      <td>24.430000</td>\n",
              "      <td>166.600000</td>\n",
              "      <td>87.000000</td>\n",
              "      <td>14.160000</td>\n",
              "      <td>167.000000</td>\n",
              "      <td>87.000000</td>\n",
              "      <td>7.520000</td>\n",
              "      <td>8.500000</td>\n",
              "      <td>3.000000</td>\n",
              "      <td>2.300000</td>\n",
              "      <td>1.000000</td>\n",
              "    </tr>\n",
              "    <tr>\n",
              "      <th>50%</th>\n",
              "      <td>101.000000</td>\n",
              "      <td>415.000000</td>\n",
              "      <td>0.000000</td>\n",
              "      <td>179.400000</td>\n",
              "      <td>101.000000</td>\n",
              "      <td>30.500000</td>\n",
              "      <td>201.400000</td>\n",
              "      <td>100.000000</td>\n",
              "      <td>17.120000</td>\n",
              "      <td>201.200000</td>\n",
              "      <td>100.000000</td>\n",
              "      <td>9.050000</td>\n",
              "      <td>10.300000</td>\n",
              "      <td>4.000000</td>\n",
              "      <td>2.780000</td>\n",
              "      <td>1.000000</td>\n",
              "    </tr>\n",
              "    <tr>\n",
              "      <th>75%</th>\n",
              "      <td>127.000000</td>\n",
              "      <td>510.000000</td>\n",
              "      <td>20.000000</td>\n",
              "      <td>216.400000</td>\n",
              "      <td>114.000000</td>\n",
              "      <td>36.790000</td>\n",
              "      <td>235.300000</td>\n",
              "      <td>114.000000</td>\n",
              "      <td>20.000000</td>\n",
              "      <td>235.300000</td>\n",
              "      <td>113.000000</td>\n",
              "      <td>10.590000</td>\n",
              "      <td>12.100000</td>\n",
              "      <td>6.000000</td>\n",
              "      <td>3.270000</td>\n",
              "      <td>2.000000</td>\n",
              "    </tr>\n",
              "    <tr>\n",
              "      <th>max</th>\n",
              "      <td>243.000000</td>\n",
              "      <td>510.000000</td>\n",
              "      <td>51.000000</td>\n",
              "      <td>350.800000</td>\n",
              "      <td>165.000000</td>\n",
              "      <td>59.640000</td>\n",
              "      <td>363.700000</td>\n",
              "      <td>170.000000</td>\n",
              "      <td>30.910000</td>\n",
              "      <td>395.000000</td>\n",
              "      <td>175.000000</td>\n",
              "      <td>17.770000</td>\n",
              "      <td>20.000000</td>\n",
              "      <td>20.000000</td>\n",
              "      <td>5.400000</td>\n",
              "      <td>9.000000</td>\n",
              "    </tr>\n",
              "  </tbody>\n",
              "</table>\n",
              "</div>\n",
              "      <button class=\"colab-df-convert\" onclick=\"convertToInteractive('df-76092c0f-1002-4ef3-8adf-97eaf9d5ce32')\"\n",
              "              title=\"Convert this dataframe to an interactive table.\"\n",
              "              style=\"display:none;\">\n",
              "        \n",
              "  <svg xmlns=\"http://www.w3.org/2000/svg\" height=\"24px\"viewBox=\"0 0 24 24\"\n",
              "       width=\"24px\">\n",
              "    <path d=\"M0 0h24v24H0V0z\" fill=\"none\"/>\n",
              "    <path d=\"M18.56 5.44l.94 2.06.94-2.06 2.06-.94-2.06-.94-.94-2.06-.94 2.06-2.06.94zm-11 1L8.5 8.5l.94-2.06 2.06-.94-2.06-.94L8.5 2.5l-.94 2.06-2.06.94zm10 10l.94 2.06.94-2.06 2.06-.94-2.06-.94-.94-2.06-.94 2.06-2.06.94z\"/><path d=\"M17.41 7.96l-1.37-1.37c-.4-.4-.92-.59-1.43-.59-.52 0-1.04.2-1.43.59L10.3 9.45l-7.72 7.72c-.78.78-.78 2.05 0 2.83L4 21.41c.39.39.9.59 1.41.59.51 0 1.02-.2 1.41-.59l7.78-7.78 2.81-2.81c.8-.78.8-2.07 0-2.86zM5.41 20L4 18.59l7.72-7.72 1.47 1.35L5.41 20z\"/>\n",
              "  </svg>\n",
              "      </button>\n",
              "      \n",
              "  <style>\n",
              "    .colab-df-container {\n",
              "      display:flex;\n",
              "      flex-wrap:wrap;\n",
              "      gap: 12px;\n",
              "    }\n",
              "\n",
              "    .colab-df-convert {\n",
              "      background-color: #E8F0FE;\n",
              "      border: none;\n",
              "      border-radius: 50%;\n",
              "      cursor: pointer;\n",
              "      display: none;\n",
              "      fill: #1967D2;\n",
              "      height: 32px;\n",
              "      padding: 0 0 0 0;\n",
              "      width: 32px;\n",
              "    }\n",
              "\n",
              "    .colab-df-convert:hover {\n",
              "      background-color: #E2EBFA;\n",
              "      box-shadow: 0px 1px 2px rgba(60, 64, 67, 0.3), 0px 1px 3px 1px rgba(60, 64, 67, 0.15);\n",
              "      fill: #174EA6;\n",
              "    }\n",
              "\n",
              "    [theme=dark] .colab-df-convert {\n",
              "      background-color: #3B4455;\n",
              "      fill: #D2E3FC;\n",
              "    }\n",
              "\n",
              "    [theme=dark] .colab-df-convert:hover {\n",
              "      background-color: #434B5C;\n",
              "      box-shadow: 0px 1px 3px 1px rgba(0, 0, 0, 0.15);\n",
              "      filter: drop-shadow(0px 1px 2px rgba(0, 0, 0, 0.3));\n",
              "      fill: #FFFFFF;\n",
              "    }\n",
              "  </style>\n",
              "\n",
              "      <script>\n",
              "        const buttonEl =\n",
              "          document.querySelector('#df-76092c0f-1002-4ef3-8adf-97eaf9d5ce32 button.colab-df-convert');\n",
              "        buttonEl.style.display =\n",
              "          google.colab.kernel.accessAllowed ? 'block' : 'none';\n",
              "\n",
              "        async function convertToInteractive(key) {\n",
              "          const element = document.querySelector('#df-76092c0f-1002-4ef3-8adf-97eaf9d5ce32');\n",
              "          const dataTable =\n",
              "            await google.colab.kernel.invokeFunction('convertToInteractive',\n",
              "                                                     [key], {});\n",
              "          if (!dataTable) return;\n",
              "\n",
              "          const docLinkHtml = 'Like what you see? Visit the ' +\n",
              "            '<a target=\"_blank\" href=https://colab.research.google.com/notebooks/data_table.ipynb>data table notebook</a>'\n",
              "            + ' to learn more about interactive tables.';\n",
              "          element.innerHTML = '';\n",
              "          dataTable['output_type'] = 'display_data';\n",
              "          await google.colab.output.renderOutput(dataTable, element);\n",
              "          const docLink = document.createElement('div');\n",
              "          docLink.innerHTML = docLinkHtml;\n",
              "          element.appendChild(docLink);\n",
              "        }\n",
              "      </script>\n",
              "    </div>\n",
              "  </div>\n",
              "  "
            ]
          },
          "metadata": {},
          "execution_count": 7
        }
      ]
    },
    {
      "cell_type": "markdown",
      "source": [
        "Podemos ver lista de de columnas correscpondientes. Donde vemos cantidad de valores no nulos, la media, la desviacion, el valor minimo, lo que hay debajo del 25%, 50%, 75% y ademas el numero maximo."
      ],
      "metadata": {
        "id": "EX-yxPus__Vw"
      }
    },
    {
      "cell_type": "code",
      "source": [
        "datos.index"
      ],
      "metadata": {
        "colab": {
          "base_uri": "https://localhost:8080/"
        },
        "id": "YFe4QC75AIlm",
        "outputId": "b3fc82e8-7506-4131-ef02-0103d81bbc77"
      },
      "execution_count": null,
      "outputs": [
        {
          "output_type": "execute_result",
          "data": {
            "text/plain": [
              "Index(['KS', 'OH', 'NJ', 'OH', 'OK', 'AL', 'MA', 'MO', 'LA', 'WV',\n",
              "       ...\n",
              "       'IN', 'WV', 'OH', 'OH', 'SC', 'AZ', 'WV', 'RI', 'CT', 'TN'],\n",
              "      dtype='object', name='state', length=3333)"
            ]
          },
          "metadata": {},
          "execution_count": 8
        }
      ]
    },
    {
      "cell_type": "code",
      "source": [
        "datos.columns"
      ],
      "metadata": {
        "colab": {
          "base_uri": "https://localhost:8080/"
        },
        "id": "3mtCHjjNAPX-",
        "outputId": "154c2759-20f7-478a-92ad-279baadc7c27"
      },
      "execution_count": null,
      "outputs": [
        {
          "output_type": "execute_result",
          "data": {
            "text/plain": [
              "Index(['account length', 'area code', 'phone number', 'international plan',\n",
              "       'voice mail plan', 'number vmail messages', 'total day minutes',\n",
              "       'total day calls', 'total day charge', 'total eve minutes',\n",
              "       'total eve calls', 'total eve charge', 'total night minutes',\n",
              "       'total night calls', 'total night charge', 'total intl minutes',\n",
              "       'total intl calls', 'total intl charge', 'customer service calls',\n",
              "       'churn'],\n",
              "      dtype='object')"
            ]
          },
          "metadata": {},
          "execution_count": 9
        }
      ]
    },
    {
      "cell_type": "markdown",
      "source": [
        "Podemos confirmar el numero de filas con el numero de columnas."
      ],
      "metadata": {
        "id": "7GGSxulzAW0W"
      }
    },
    {
      "cell_type": "code",
      "source": [
        "datos.tail(5)"
      ],
      "metadata": {
        "colab": {
          "base_uri": "https://localhost:8080/",
          "height": 423
        },
        "id": "IP6GwJWuAxeB",
        "outputId": "3b865655-c75b-4cf6-a3d5-014f86a98f97"
      },
      "execution_count": null,
      "outputs": [
        {
          "output_type": "execute_result",
          "data": {
            "text/plain": [
              "       account length  area code phone number international plan  \\\n",
              "state                                                              \n",
              "AZ                192        415     414-4276                 no   \n",
              "WV                 68        415     370-3271                 no   \n",
              "RI                 28        510     328-8230                 no   \n",
              "CT                184        510     364-6381                yes   \n",
              "TN                 74        415     400-4344                 no   \n",
              "\n",
              "      voice mail plan  number vmail messages  total day minutes  \\\n",
              "state                                                             \n",
              "AZ                yes                     36              156.2   \n",
              "WV                 no                      0              231.1   \n",
              "RI                 no                      0              180.8   \n",
              "CT                 no                      0              213.8   \n",
              "TN                yes                     25              234.4   \n",
              "\n",
              "       total day calls  total day charge  total eve minutes  total eve calls  \\\n",
              "state                                                                          \n",
              "AZ                  77             26.55              215.5              126   \n",
              "WV                  57             39.29              153.4               55   \n",
              "RI                 109             30.74              288.8               58   \n",
              "CT                 105             36.35              159.6               84   \n",
              "TN                 113             39.85              265.9               82   \n",
              "\n",
              "       total eve charge  total night minutes  total night calls  \\\n",
              "state                                                             \n",
              "AZ                18.32                279.1                 83   \n",
              "WV                13.04                191.3                123   \n",
              "RI                24.55                191.9                 91   \n",
              "CT                13.57                139.2                137   \n",
              "TN                22.60                241.4                 77   \n",
              "\n",
              "       total night charge  total intl minutes  total intl calls  \\\n",
              "state                                                             \n",
              "AZ                  12.56                 9.9                 6   \n",
              "WV                   8.61                 9.6                 4   \n",
              "RI                   8.64                14.1                 6   \n",
              "CT                   6.26                 5.0                10   \n",
              "TN                  10.86                13.7                 4   \n",
              "\n",
              "       total intl charge  customer service calls  churn  \n",
              "state                                                    \n",
              "AZ                  2.67                       2  False  \n",
              "WV                  2.59                       3  False  \n",
              "RI                  3.81                       2  False  \n",
              "CT                  1.35                       2  False  \n",
              "TN                  3.70                       0  False  "
            ],
            "text/html": [
              "\n",
              "  <div id=\"df-42840db3-7341-4374-ad03-f40c0d40289f\">\n",
              "    <div class=\"colab-df-container\">\n",
              "      <div>\n",
              "<style scoped>\n",
              "    .dataframe tbody tr th:only-of-type {\n",
              "        vertical-align: middle;\n",
              "    }\n",
              "\n",
              "    .dataframe tbody tr th {\n",
              "        vertical-align: top;\n",
              "    }\n",
              "\n",
              "    .dataframe thead th {\n",
              "        text-align: right;\n",
              "    }\n",
              "</style>\n",
              "<table border=\"1\" class=\"dataframe\">\n",
              "  <thead>\n",
              "    <tr style=\"text-align: right;\">\n",
              "      <th></th>\n",
              "      <th>account length</th>\n",
              "      <th>area code</th>\n",
              "      <th>phone number</th>\n",
              "      <th>international plan</th>\n",
              "      <th>voice mail plan</th>\n",
              "      <th>number vmail messages</th>\n",
              "      <th>total day minutes</th>\n",
              "      <th>total day calls</th>\n",
              "      <th>total day charge</th>\n",
              "      <th>total eve minutes</th>\n",
              "      <th>total eve calls</th>\n",
              "      <th>total eve charge</th>\n",
              "      <th>total night minutes</th>\n",
              "      <th>total night calls</th>\n",
              "      <th>total night charge</th>\n",
              "      <th>total intl minutes</th>\n",
              "      <th>total intl calls</th>\n",
              "      <th>total intl charge</th>\n",
              "      <th>customer service calls</th>\n",
              "      <th>churn</th>\n",
              "    </tr>\n",
              "    <tr>\n",
              "      <th>state</th>\n",
              "      <th></th>\n",
              "      <th></th>\n",
              "      <th></th>\n",
              "      <th></th>\n",
              "      <th></th>\n",
              "      <th></th>\n",
              "      <th></th>\n",
              "      <th></th>\n",
              "      <th></th>\n",
              "      <th></th>\n",
              "      <th></th>\n",
              "      <th></th>\n",
              "      <th></th>\n",
              "      <th></th>\n",
              "      <th></th>\n",
              "      <th></th>\n",
              "      <th></th>\n",
              "      <th></th>\n",
              "      <th></th>\n",
              "      <th></th>\n",
              "    </tr>\n",
              "  </thead>\n",
              "  <tbody>\n",
              "    <tr>\n",
              "      <th>AZ</th>\n",
              "      <td>192</td>\n",
              "      <td>415</td>\n",
              "      <td>414-4276</td>\n",
              "      <td>no</td>\n",
              "      <td>yes</td>\n",
              "      <td>36</td>\n",
              "      <td>156.2</td>\n",
              "      <td>77</td>\n",
              "      <td>26.55</td>\n",
              "      <td>215.5</td>\n",
              "      <td>126</td>\n",
              "      <td>18.32</td>\n",
              "      <td>279.1</td>\n",
              "      <td>83</td>\n",
              "      <td>12.56</td>\n",
              "      <td>9.9</td>\n",
              "      <td>6</td>\n",
              "      <td>2.67</td>\n",
              "      <td>2</td>\n",
              "      <td>False</td>\n",
              "    </tr>\n",
              "    <tr>\n",
              "      <th>WV</th>\n",
              "      <td>68</td>\n",
              "      <td>415</td>\n",
              "      <td>370-3271</td>\n",
              "      <td>no</td>\n",
              "      <td>no</td>\n",
              "      <td>0</td>\n",
              "      <td>231.1</td>\n",
              "      <td>57</td>\n",
              "      <td>39.29</td>\n",
              "      <td>153.4</td>\n",
              "      <td>55</td>\n",
              "      <td>13.04</td>\n",
              "      <td>191.3</td>\n",
              "      <td>123</td>\n",
              "      <td>8.61</td>\n",
              "      <td>9.6</td>\n",
              "      <td>4</td>\n",
              "      <td>2.59</td>\n",
              "      <td>3</td>\n",
              "      <td>False</td>\n",
              "    </tr>\n",
              "    <tr>\n",
              "      <th>RI</th>\n",
              "      <td>28</td>\n",
              "      <td>510</td>\n",
              "      <td>328-8230</td>\n",
              "      <td>no</td>\n",
              "      <td>no</td>\n",
              "      <td>0</td>\n",
              "      <td>180.8</td>\n",
              "      <td>109</td>\n",
              "      <td>30.74</td>\n",
              "      <td>288.8</td>\n",
              "      <td>58</td>\n",
              "      <td>24.55</td>\n",
              "      <td>191.9</td>\n",
              "      <td>91</td>\n",
              "      <td>8.64</td>\n",
              "      <td>14.1</td>\n",
              "      <td>6</td>\n",
              "      <td>3.81</td>\n",
              "      <td>2</td>\n",
              "      <td>False</td>\n",
              "    </tr>\n",
              "    <tr>\n",
              "      <th>CT</th>\n",
              "      <td>184</td>\n",
              "      <td>510</td>\n",
              "      <td>364-6381</td>\n",
              "      <td>yes</td>\n",
              "      <td>no</td>\n",
              "      <td>0</td>\n",
              "      <td>213.8</td>\n",
              "      <td>105</td>\n",
              "      <td>36.35</td>\n",
              "      <td>159.6</td>\n",
              "      <td>84</td>\n",
              "      <td>13.57</td>\n",
              "      <td>139.2</td>\n",
              "      <td>137</td>\n",
              "      <td>6.26</td>\n",
              "      <td>5.0</td>\n",
              "      <td>10</td>\n",
              "      <td>1.35</td>\n",
              "      <td>2</td>\n",
              "      <td>False</td>\n",
              "    </tr>\n",
              "    <tr>\n",
              "      <th>TN</th>\n",
              "      <td>74</td>\n",
              "      <td>415</td>\n",
              "      <td>400-4344</td>\n",
              "      <td>no</td>\n",
              "      <td>yes</td>\n",
              "      <td>25</td>\n",
              "      <td>234.4</td>\n",
              "      <td>113</td>\n",
              "      <td>39.85</td>\n",
              "      <td>265.9</td>\n",
              "      <td>82</td>\n",
              "      <td>22.60</td>\n",
              "      <td>241.4</td>\n",
              "      <td>77</td>\n",
              "      <td>10.86</td>\n",
              "      <td>13.7</td>\n",
              "      <td>4</td>\n",
              "      <td>3.70</td>\n",
              "      <td>0</td>\n",
              "      <td>False</td>\n",
              "    </tr>\n",
              "  </tbody>\n",
              "</table>\n",
              "</div>\n",
              "      <button class=\"colab-df-convert\" onclick=\"convertToInteractive('df-42840db3-7341-4374-ad03-f40c0d40289f')\"\n",
              "              title=\"Convert this dataframe to an interactive table.\"\n",
              "              style=\"display:none;\">\n",
              "        \n",
              "  <svg xmlns=\"http://www.w3.org/2000/svg\" height=\"24px\"viewBox=\"0 0 24 24\"\n",
              "       width=\"24px\">\n",
              "    <path d=\"M0 0h24v24H0V0z\" fill=\"none\"/>\n",
              "    <path d=\"M18.56 5.44l.94 2.06.94-2.06 2.06-.94-2.06-.94-.94-2.06-.94 2.06-2.06.94zm-11 1L8.5 8.5l.94-2.06 2.06-.94-2.06-.94L8.5 2.5l-.94 2.06-2.06.94zm10 10l.94 2.06.94-2.06 2.06-.94-2.06-.94-.94-2.06-.94 2.06-2.06.94z\"/><path d=\"M17.41 7.96l-1.37-1.37c-.4-.4-.92-.59-1.43-.59-.52 0-1.04.2-1.43.59L10.3 9.45l-7.72 7.72c-.78.78-.78 2.05 0 2.83L4 21.41c.39.39.9.59 1.41.59.51 0 1.02-.2 1.41-.59l7.78-7.78 2.81-2.81c.8-.78.8-2.07 0-2.86zM5.41 20L4 18.59l7.72-7.72 1.47 1.35L5.41 20z\"/>\n",
              "  </svg>\n",
              "      </button>\n",
              "      \n",
              "  <style>\n",
              "    .colab-df-container {\n",
              "      display:flex;\n",
              "      flex-wrap:wrap;\n",
              "      gap: 12px;\n",
              "    }\n",
              "\n",
              "    .colab-df-convert {\n",
              "      background-color: #E8F0FE;\n",
              "      border: none;\n",
              "      border-radius: 50%;\n",
              "      cursor: pointer;\n",
              "      display: none;\n",
              "      fill: #1967D2;\n",
              "      height: 32px;\n",
              "      padding: 0 0 0 0;\n",
              "      width: 32px;\n",
              "    }\n",
              "\n",
              "    .colab-df-convert:hover {\n",
              "      background-color: #E2EBFA;\n",
              "      box-shadow: 0px 1px 2px rgba(60, 64, 67, 0.3), 0px 1px 3px 1px rgba(60, 64, 67, 0.15);\n",
              "      fill: #174EA6;\n",
              "    }\n",
              "\n",
              "    [theme=dark] .colab-df-convert {\n",
              "      background-color: #3B4455;\n",
              "      fill: #D2E3FC;\n",
              "    }\n",
              "\n",
              "    [theme=dark] .colab-df-convert:hover {\n",
              "      background-color: #434B5C;\n",
              "      box-shadow: 0px 1px 3px 1px rgba(0, 0, 0, 0.15);\n",
              "      filter: drop-shadow(0px 1px 2px rgba(0, 0, 0, 0.3));\n",
              "      fill: #FFFFFF;\n",
              "    }\n",
              "  </style>\n",
              "\n",
              "      <script>\n",
              "        const buttonEl =\n",
              "          document.querySelector('#df-42840db3-7341-4374-ad03-f40c0d40289f button.colab-df-convert');\n",
              "        buttonEl.style.display =\n",
              "          google.colab.kernel.accessAllowed ? 'block' : 'none';\n",
              "\n",
              "        async function convertToInteractive(key) {\n",
              "          const element = document.querySelector('#df-42840db3-7341-4374-ad03-f40c0d40289f');\n",
              "          const dataTable =\n",
              "            await google.colab.kernel.invokeFunction('convertToInteractive',\n",
              "                                                     [key], {});\n",
              "          if (!dataTable) return;\n",
              "\n",
              "          const docLinkHtml = 'Like what you see? Visit the ' +\n",
              "            '<a target=\"_blank\" href=https://colab.research.google.com/notebooks/data_table.ipynb>data table notebook</a>'\n",
              "            + ' to learn more about interactive tables.';\n",
              "          element.innerHTML = '';\n",
              "          dataTable['output_type'] = 'display_data';\n",
              "          await google.colab.output.renderOutput(dataTable, element);\n",
              "          const docLink = document.createElement('div');\n",
              "          docLink.innerHTML = docLinkHtml;\n",
              "          element.appendChild(docLink);\n",
              "        }\n",
              "      </script>\n",
              "    </div>\n",
              "  </div>\n",
              "  "
            ]
          },
          "metadata": {},
          "execution_count": 10
        }
      ]
    },
    {
      "cell_type": "markdown",
      "source": [
        "Podemos visualizar las ultimas 5 filas correspondientes al dataset."
      ],
      "metadata": {
        "id": "XW7opOaHAymM"
      }
    },
    {
      "cell_type": "code",
      "source": [
        "datos.churn"
      ],
      "metadata": {
        "colab": {
          "base_uri": "https://localhost:8080/"
        },
        "id": "uHREE-9aA4PR",
        "outputId": "33c4b442-1f82-42f5-f956-2336ca458162"
      },
      "execution_count": null,
      "outputs": [
        {
          "output_type": "execute_result",
          "data": {
            "text/plain": [
              "state\n",
              "KS    False\n",
              "OH    False\n",
              "NJ    False\n",
              "OH    False\n",
              "OK    False\n",
              "      ...  \n",
              "AZ    False\n",
              "WV    False\n",
              "RI    False\n",
              "CT    False\n",
              "TN    False\n",
              "Name: churn, Length: 3333, dtype: bool"
            ]
          },
          "metadata": {},
          "execution_count": 15
        }
      ]
    },
    {
      "cell_type": "markdown",
      "source": [
        "Obtencion de valores de una columa en concreto. Se tomo de ejemplo la columna Churn ya que vtuve dificultad al tomar otra columna por como esta escrito el titulo de las columnas..Podemos visualizar los primeros 4 y ultimos 5 datos.\n"
      ],
      "metadata": {
        "id": "DUOiDK3zBuR4"
      }
    },
    {
      "cell_type": "code",
      "source": [
        "columnas_nulos = datos.columns[datos.isnull().any()]\n",
        "datos[columnas_nulos].isnull().sum()"
      ],
      "metadata": {
        "colab": {
          "base_uri": "https://localhost:8080/"
        },
        "id": "7ZTf-_CZCDOM",
        "outputId": "82518d95-1a78-4a4c-98ea-b92d06b75f25"
      },
      "execution_count": null,
      "outputs": [
        {
          "output_type": "execute_result",
          "data": {
            "text/plain": [
              "Series([], dtype: float64)"
            ]
          },
          "metadata": {},
          "execution_count": 19
        }
      ]
    },
    {
      "cell_type": "markdown",
      "source": [
        "Podemos visualizar la cantidad de valores nulos hay en cada columna. Donde casualmente visualizamos que el dataset no contiene valores nulos."
      ],
      "metadata": {
        "id": "e3WWy4i9ChbN"
      }
    },
    {
      "cell_type": "code",
      "source": [
        "datos.isnull().any()"
      ],
      "metadata": {
        "colab": {
          "base_uri": "https://localhost:8080/"
        },
        "id": "xke1lwS6ClJM",
        "outputId": "33bafccf-e71d-4923-86a4-accad1807e64"
      },
      "execution_count": null,
      "outputs": [
        {
          "output_type": "execute_result",
          "data": {
            "text/plain": [
              "account length            False\n",
              "area code                 False\n",
              "phone number              False\n",
              "international plan        False\n",
              "voice mail plan           False\n",
              "number vmail messages     False\n",
              "total day minutes         False\n",
              "total day calls           False\n",
              "total day charge          False\n",
              "total eve minutes         False\n",
              "total eve calls           False\n",
              "total eve charge          False\n",
              "total night minutes       False\n",
              "total night calls         False\n",
              "total night charge        False\n",
              "total intl minutes        False\n",
              "total intl calls          False\n",
              "total intl charge         False\n",
              "customer service calls    False\n",
              "churn                     False\n",
              "dtype: bool"
            ]
          },
          "metadata": {},
          "execution_count": 20
        }
      ]
    },
    {
      "cell_type": "markdown",
      "source": [
        "Confirmamos con metodo booleano lo asentado previamente."
      ],
      "metadata": {
        "id": "LsEvt-RIC4IM"
      }
    }
  ]
}